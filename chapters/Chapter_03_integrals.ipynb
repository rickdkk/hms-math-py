{
 "cells": [
  {
   "cell_type": "markdown",
   "id": "349a2680",
   "metadata": {},
   "source": [
    "# Chapter 3: integrals"
   ]
  },
  {
   "cell_type": "code",
   "execution_count": 1,
   "id": "b858554d",
   "metadata": {},
   "outputs": [],
   "source": [
    "import sympy as smp\n",
    "from IPython.core.display import display\n",
    "from sympy import cos, sin, tan, root, ln, E, pi"
   ]
  },
  {
   "cell_type": "code",
   "execution_count": 2,
   "id": "5261bd62",
   "metadata": {},
   "outputs": [],
   "source": [
    "x, y, t, α, ϕ, r, z = smp.symbols(\"x y t α ϕ r z\")"
   ]
  },
  {
   "cell_type": "markdown",
   "id": "204d28bb",
   "metadata": {},
   "source": [
    "## Exercise 3.1: the primitive"
   ]
  },
  {
   "cell_type": "code",
   "execution_count": 3,
   "id": "50986c9b",
   "metadata": {},
   "outputs": [],
   "source": [
    "def display_and_integrate(func, *, symbols=None, unpack: bool = False):\n",
    "    \"\"\"Convenience function that takes an equation and displays it and its integrals\"\"\"\n",
    "    print(\"The equation given is:\")\n",
    "    display(func)\n",
    "    if symbols is not None and not unpack:\n",
    "        integral = smp.integrate(func, symbols)\n",
    "    elif symbols is not None and unpack:\n",
    "        integral = smp.integrate(func, *symbols)\n",
    "    else:\n",
    "        integral = smp.integrate(func)\n",
    "    \n",
    "    print(\"Its integral is equal to:\")\n",
    "    display(integral)\n",
    "    return integral"
   ]
  },
  {
   "cell_type": "code",
   "execution_count": 4,
   "id": "67386c8c",
   "metadata": {},
   "outputs": [],
   "source": [
    "equations = [(2 * x, x),\n",
    "             (6, x),\n",
    "             (cos(t), t),\n",
    "             (3/x**3, x),\n",
    "             (2*sin(α), α),\n",
    "             (7*t**4, t),\n",
    "             (3 - x**3, x),\n",
    "             (5*t**2 + 4*t - 9, t),\n",
    "             (1/root(y, 2), y),\n",
    "             (7*cos(x) + 7*E**x, x),\n",
    "             (root(y**5, 3), y),\n",
    "             (1/(2*root(y**3, 2)), y),\n",
    "             (3/x + x, x)]"
   ]
  },
  {
   "cell_type": "code",
   "execution_count": 5,
   "id": "eab787ea",
   "metadata": {},
   "outputs": [
    {
     "name": "stdout",
     "output_type": "stream",
     "text": [
      "Exercise 3.1.a:\n",
      "The equation given is:\n"
     ]
    },
    {
     "data": {
      "text/latex": [
       "$\\displaystyle 2 x$"
      ],
      "text/plain": [
       "2*x"
      ]
     },
     "metadata": {},
     "output_type": "display_data"
    },
    {
     "name": "stdout",
     "output_type": "stream",
     "text": [
      "Its integral is equal to:\n"
     ]
    },
    {
     "data": {
      "text/latex": [
       "$\\displaystyle x^{2}$"
      ],
      "text/plain": [
       "x**2"
      ]
     },
     "metadata": {},
     "output_type": "display_data"
    },
    {
     "name": "stdout",
     "output_type": "stream",
     "text": [
      "\n",
      "Exercise 3.1.b:\n",
      "The equation given is:\n"
     ]
    },
    {
     "data": {
      "text/plain": [
       "6"
      ]
     },
     "metadata": {},
     "output_type": "display_data"
    },
    {
     "name": "stdout",
     "output_type": "stream",
     "text": [
      "Its integral is equal to:\n"
     ]
    },
    {
     "data": {
      "text/latex": [
       "$\\displaystyle 6 x$"
      ],
      "text/plain": [
       "6*x"
      ]
     },
     "metadata": {},
     "output_type": "display_data"
    },
    {
     "name": "stdout",
     "output_type": "stream",
     "text": [
      "\n",
      "Exercise 3.1.c:\n",
      "The equation given is:\n"
     ]
    },
    {
     "data": {
      "text/latex": [
       "$\\displaystyle \\cos{\\left(t \\right)}$"
      ],
      "text/plain": [
       "cos(t)"
      ]
     },
     "metadata": {},
     "output_type": "display_data"
    },
    {
     "name": "stdout",
     "output_type": "stream",
     "text": [
      "Its integral is equal to:\n"
     ]
    },
    {
     "data": {
      "text/latex": [
       "$\\displaystyle \\sin{\\left(t \\right)}$"
      ],
      "text/plain": [
       "sin(t)"
      ]
     },
     "metadata": {},
     "output_type": "display_data"
    },
    {
     "name": "stdout",
     "output_type": "stream",
     "text": [
      "\n",
      "Exercise 3.1.d:\n",
      "The equation given is:\n"
     ]
    },
    {
     "data": {
      "text/latex": [
       "$\\displaystyle \\frac{3}{x^{3}}$"
      ],
      "text/plain": [
       "3/x**3"
      ]
     },
     "metadata": {},
     "output_type": "display_data"
    },
    {
     "name": "stdout",
     "output_type": "stream",
     "text": [
      "Its integral is equal to:\n"
     ]
    },
    {
     "data": {
      "text/latex": [
       "$\\displaystyle - \\frac{3}{2 x^{2}}$"
      ],
      "text/plain": [
       "-3/(2*x**2)"
      ]
     },
     "metadata": {},
     "output_type": "display_data"
    },
    {
     "name": "stdout",
     "output_type": "stream",
     "text": [
      "\n",
      "Exercise 3.1.e:\n",
      "The equation given is:\n"
     ]
    },
    {
     "data": {
      "text/latex": [
       "$\\displaystyle 2 \\sin{\\left(α \\right)}$"
      ],
      "text/plain": [
       "2*sin(α)"
      ]
     },
     "metadata": {},
     "output_type": "display_data"
    },
    {
     "name": "stdout",
     "output_type": "stream",
     "text": [
      "Its integral is equal to:\n"
     ]
    },
    {
     "data": {
      "text/latex": [
       "$\\displaystyle - 2 \\cos{\\left(α \\right)}$"
      ],
      "text/plain": [
       "-2*cos(α)"
      ]
     },
     "metadata": {},
     "output_type": "display_data"
    },
    {
     "name": "stdout",
     "output_type": "stream",
     "text": [
      "\n",
      "Exercise 3.1.f:\n",
      "The equation given is:\n"
     ]
    },
    {
     "data": {
      "text/latex": [
       "$\\displaystyle 7 t^{4}$"
      ],
      "text/plain": [
       "7*t**4"
      ]
     },
     "metadata": {},
     "output_type": "display_data"
    },
    {
     "name": "stdout",
     "output_type": "stream",
     "text": [
      "Its integral is equal to:\n"
     ]
    },
    {
     "data": {
      "text/latex": [
       "$\\displaystyle \\frac{7 t^{5}}{5}$"
      ],
      "text/plain": [
       "7*t**5/5"
      ]
     },
     "metadata": {},
     "output_type": "display_data"
    },
    {
     "name": "stdout",
     "output_type": "stream",
     "text": [
      "\n",
      "Exercise 3.1.g:\n",
      "The equation given is:\n"
     ]
    },
    {
     "data": {
      "text/latex": [
       "$\\displaystyle 3 - x^{3}$"
      ],
      "text/plain": [
       "3 - x**3"
      ]
     },
     "metadata": {},
     "output_type": "display_data"
    },
    {
     "name": "stdout",
     "output_type": "stream",
     "text": [
      "Its integral is equal to:\n"
     ]
    },
    {
     "data": {
      "text/latex": [
       "$\\displaystyle - \\frac{x^{4}}{4} + 3 x$"
      ],
      "text/plain": [
       "-x**4/4 + 3*x"
      ]
     },
     "metadata": {},
     "output_type": "display_data"
    },
    {
     "name": "stdout",
     "output_type": "stream",
     "text": [
      "\n",
      "Exercise 3.1.h:\n",
      "The equation given is:\n"
     ]
    },
    {
     "data": {
      "text/latex": [
       "$\\displaystyle 5 t^{2} + 4 t - 9$"
      ],
      "text/plain": [
       "5*t**2 + 4*t - 9"
      ]
     },
     "metadata": {},
     "output_type": "display_data"
    },
    {
     "name": "stdout",
     "output_type": "stream",
     "text": [
      "Its integral is equal to:\n"
     ]
    },
    {
     "data": {
      "text/latex": [
       "$\\displaystyle \\frac{5 t^{3}}{3} + 2 t^{2} - 9 t$"
      ],
      "text/plain": [
       "5*t**3/3 + 2*t**2 - 9*t"
      ]
     },
     "metadata": {},
     "output_type": "display_data"
    },
    {
     "name": "stdout",
     "output_type": "stream",
     "text": [
      "\n",
      "Exercise 3.1.i:\n",
      "The equation given is:\n"
     ]
    },
    {
     "data": {
      "text/latex": [
       "$\\displaystyle \\frac{1}{\\sqrt{y}}$"
      ],
      "text/plain": [
       "1/sqrt(y)"
      ]
     },
     "metadata": {},
     "output_type": "display_data"
    },
    {
     "name": "stdout",
     "output_type": "stream",
     "text": [
      "Its integral is equal to:\n"
     ]
    },
    {
     "data": {
      "text/latex": [
       "$\\displaystyle 2 \\sqrt{y}$"
      ],
      "text/plain": [
       "2*sqrt(y)"
      ]
     },
     "metadata": {},
     "output_type": "display_data"
    },
    {
     "name": "stdout",
     "output_type": "stream",
     "text": [
      "\n",
      "Exercise 3.1.j:\n",
      "The equation given is:\n"
     ]
    },
    {
     "data": {
      "text/latex": [
       "$\\displaystyle 7 e^{x} + 7 \\cos{\\left(x \\right)}$"
      ],
      "text/plain": [
       "7*exp(x) + 7*cos(x)"
      ]
     },
     "metadata": {},
     "output_type": "display_data"
    },
    {
     "name": "stdout",
     "output_type": "stream",
     "text": [
      "Its integral is equal to:\n"
     ]
    },
    {
     "data": {
      "text/latex": [
       "$\\displaystyle 7 e^{x} + 7 \\sin{\\left(x \\right)}$"
      ],
      "text/plain": [
       "7*exp(x) + 7*sin(x)"
      ]
     },
     "metadata": {},
     "output_type": "display_data"
    },
    {
     "name": "stdout",
     "output_type": "stream",
     "text": [
      "\n",
      "Exercise 3.1.k:\n",
      "The equation given is:\n"
     ]
    },
    {
     "data": {
      "text/latex": [
       "$\\displaystyle \\sqrt[3]{y^{5}}$"
      ],
      "text/plain": [
       "(y**5)**(1/3)"
      ]
     },
     "metadata": {},
     "output_type": "display_data"
    },
    {
     "name": "stdout",
     "output_type": "stream",
     "text": [
      "Its integral is equal to:\n"
     ]
    },
    {
     "data": {
      "text/latex": [
       "$\\displaystyle \\frac{3 y \\sqrt[3]{y^{5}}}{8}$"
      ],
      "text/plain": [
       "3*y*(y**5)**(1/3)/8"
      ]
     },
     "metadata": {},
     "output_type": "display_data"
    },
    {
     "name": "stdout",
     "output_type": "stream",
     "text": [
      "\n",
      "Exercise 3.1.l:\n",
      "The equation given is:\n"
     ]
    },
    {
     "data": {
      "text/latex": [
       "$\\displaystyle \\frac{1}{2 \\sqrt{y^{3}}}$"
      ],
      "text/plain": [
       "1/(2*sqrt(y**3))"
      ]
     },
     "metadata": {},
     "output_type": "display_data"
    },
    {
     "name": "stdout",
     "output_type": "stream",
     "text": [
      "Its integral is equal to:\n"
     ]
    },
    {
     "data": {
      "text/latex": [
       "$\\displaystyle - \\frac{y}{\\sqrt{y^{3}}}$"
      ],
      "text/plain": [
       "-y/sqrt(y**3)"
      ]
     },
     "metadata": {},
     "output_type": "display_data"
    },
    {
     "name": "stdout",
     "output_type": "stream",
     "text": [
      "\n",
      "Exercise 3.1.m:\n",
      "The equation given is:\n"
     ]
    },
    {
     "data": {
      "text/latex": [
       "$\\displaystyle x + \\frac{3}{x}$"
      ],
      "text/plain": [
       "x + 3/x"
      ]
     },
     "metadata": {},
     "output_type": "display_data"
    },
    {
     "name": "stdout",
     "output_type": "stream",
     "text": [
      "Its integral is equal to:\n"
     ]
    },
    {
     "data": {
      "text/latex": [
       "$\\displaystyle \\frac{x^{2}}{2} + 3 \\log{\\left(x \\right)}$"
      ],
      "text/plain": [
       "x**2/2 + 3*log(x)"
      ]
     },
     "metadata": {},
     "output_type": "display_data"
    },
    {
     "name": "stdout",
     "output_type": "stream",
     "text": [
      "\n"
     ]
    }
   ],
   "source": [
    "from string import ascii_lowercase\n",
    "\n",
    "for letter, eq in zip(ascii_lowercase, equations):\n",
    "    print(f\"Exercise 3.1.{letter}:\")\n",
    "    display_and_integrate(eq[0], symbols=eq[1])\n",
    "    print()"
   ]
  },
  {
   "cell_type": "markdown",
   "id": "1b6a2cfc",
   "metadata": {},
   "source": [
    "## Exercise 3.2: definite integrals"
   ]
  },
  {
   "cell_type": "markdown",
   "id": "6a8203c2",
   "metadata": {},
   "source": [
    "Here we're asked to give the solution to a few definite integrals. If we pass a tuple to the integrate function we can specify the range of the integral, as such: `integrate(f, (x, a, b))` returns the definite integral $\\int_{a}^{b} f\\,dx$. In most cases sympy will give us a nice formula that we'll need to convert to a float with the `.evalf` method."
   ]
  },
  {
   "cell_type": "code",
   "execution_count": 6,
   "id": "037f2327",
   "metadata": {},
   "outputs": [
    {
     "name": "stdout",
     "output_type": "stream",
     "text": [
      "The equation given is:\n"
     ]
    },
    {
     "data": {
      "text/latex": [
       "$\\displaystyle 2 x - 3$"
      ],
      "text/plain": [
       "2*x - 3"
      ]
     },
     "metadata": {},
     "output_type": "display_data"
    },
    {
     "name": "stdout",
     "output_type": "stream",
     "text": [
      "Its integral is equal to:\n"
     ]
    },
    {
     "data": {
      "text/latex": [
       "$\\displaystyle 12$"
      ],
      "text/plain": [
       "12"
      ]
     },
     "metadata": {},
     "output_type": "display_data"
    }
   ],
   "source": [
    "display_and_integrate(2*x - 3, symbols=(x, 2, 5));"
   ]
  },
  {
   "cell_type": "code",
   "execution_count": 7,
   "id": "83686efa",
   "metadata": {},
   "outputs": [
    {
     "name": "stdout",
     "output_type": "stream",
     "text": [
      "The equation given is:\n"
     ]
    },
    {
     "data": {
      "text/latex": [
       "$\\displaystyle \\frac{1}{2 x}$"
      ],
      "text/plain": [
       "1/(2*x)"
      ]
     },
     "metadata": {},
     "output_type": "display_data"
    },
    {
     "name": "stdout",
     "output_type": "stream",
     "text": [
      "Its integral is equal to:\n"
     ]
    },
    {
     "data": {
      "text/latex": [
       "$\\displaystyle - \\frac{\\log{\\left(3 \\right)}}{2} + \\frac{\\log{\\left(7 \\right)}}{2}$"
      ],
      "text/plain": [
       "-log(3)/2 + log(7)/2"
      ]
     },
     "metadata": {},
     "output_type": "display_data"
    },
    {
     "data": {
      "text/latex": [
       "$\\displaystyle 0.424$"
      ],
      "text/plain": [
       "0.424"
      ]
     },
     "execution_count": 7,
     "metadata": {},
     "output_type": "execute_result"
    }
   ],
   "source": [
    "display_and_integrate(1/(2*x), symbols=(x, 3, 7)).evalf(3)"
   ]
  },
  {
   "cell_type": "code",
   "execution_count": 8,
   "id": "1a3f8f63",
   "metadata": {},
   "outputs": [
    {
     "name": "stdout",
     "output_type": "stream",
     "text": [
      "The equation given is:\n"
     ]
    },
    {
     "data": {
      "text/latex": [
       "$\\displaystyle 3 \\cos{\\left(ϕ \\right)}$"
      ],
      "text/plain": [
       "3*cos(ϕ)"
      ]
     },
     "metadata": {},
     "output_type": "display_data"
    },
    {
     "name": "stdout",
     "output_type": "stream",
     "text": [
      "Its integral is equal to:\n"
     ]
    },
    {
     "data": {
      "text/latex": [
       "$\\displaystyle 6 \\sin{\\left(1 \\right)}$"
      ],
      "text/plain": [
       "6*sin(1)"
      ]
     },
     "metadata": {},
     "output_type": "display_data"
    },
    {
     "data": {
      "text/latex": [
       "$\\displaystyle 5.05$"
      ],
      "text/plain": [
       "5.05"
      ]
     },
     "execution_count": 8,
     "metadata": {},
     "output_type": "execute_result"
    }
   ],
   "source": [
    "display_and_integrate(3 * cos(ϕ), symbols=(ϕ, -1, 1)).evalf(3)"
   ]
  },
  {
   "cell_type": "code",
   "execution_count": 9,
   "id": "b33f3ef1",
   "metadata": {},
   "outputs": [
    {
     "name": "stdout",
     "output_type": "stream",
     "text": [
      "The equation given is:\n"
     ]
    },
    {
     "data": {
      "text/latex": [
       "$\\displaystyle e^{t}$"
      ],
      "text/plain": [
       "exp(t)"
      ]
     },
     "metadata": {},
     "output_type": "display_data"
    },
    {
     "name": "stdout",
     "output_type": "stream",
     "text": [
      "Its integral is equal to:\n"
     ]
    },
    {
     "data": {
      "text/latex": [
       "$\\displaystyle -1 + e^{2}$"
      ],
      "text/plain": [
       "-1 + exp(2)"
      ]
     },
     "metadata": {},
     "output_type": "display_data"
    },
    {
     "data": {
      "text/latex": [
       "$\\displaystyle 6.39$"
      ],
      "text/plain": [
       "6.39"
      ]
     },
     "execution_count": 9,
     "metadata": {},
     "output_type": "execute_result"
    }
   ],
   "source": [
    "display_and_integrate(E**t, symbols=(t, 0, 2)).evalf(3)"
   ]
  },
  {
   "cell_type": "code",
   "execution_count": 10,
   "id": "f438f17e",
   "metadata": {},
   "outputs": [
    {
     "name": "stdout",
     "output_type": "stream",
     "text": [
      "The equation given is:\n"
     ]
    },
    {
     "data": {
      "text/latex": [
       "$\\displaystyle \\sqrt{2} \\sqrt{t}$"
      ],
      "text/plain": [
       "sqrt(2)*sqrt(t)"
      ]
     },
     "metadata": {},
     "output_type": "display_data"
    },
    {
     "name": "stdout",
     "output_type": "stream",
     "text": [
      "Its integral is equal to:\n"
     ]
    },
    {
     "data": {
      "text/latex": [
       "$\\displaystyle - \\frac{2 \\sqrt{2}}{3} + 2 \\sqrt{6}$"
      ],
      "text/plain": [
       "-2*sqrt(2)/3 + 2*sqrt(6)"
      ]
     },
     "metadata": {},
     "output_type": "display_data"
    },
    {
     "data": {
      "text/latex": [
       "$\\displaystyle 3.96$"
      ],
      "text/plain": [
       "3.96"
      ]
     },
     "execution_count": 10,
     "metadata": {},
     "output_type": "execute_result"
    }
   ],
   "source": [
    "display_and_integrate(root(2*t, 2), symbols=(t, 1, 3)).evalf(3)"
   ]
  },
  {
   "cell_type": "markdown",
   "id": "f2eb31cc",
   "metadata": {},
   "source": [
    "## Exercise 3.3: numerical integration"
   ]
  },
  {
   "cell_type": "markdown",
   "id": "72f96e79",
   "metadata": {},
   "source": [
    "### Exercise 3.3.1"
   ]
  },
  {
   "cell_type": "code",
   "execution_count": 11,
   "id": "7ca370f2",
   "metadata": {},
   "outputs": [],
   "source": [
    "import numpy as np\n",
    "import matplotlib.pyplot as plt\n",
    "\n",
    "plt.style.use([\"science\", \"notebook\", \"grid\"])  # style from SciencePlots library\n",
    "%config InlineBackend.figure_formats = ['svg']"
   ]
  },
  {
   "cell_type": "code",
   "execution_count": 12,
   "id": "22c678fa",
   "metadata": {},
   "outputs": [],
   "source": [
    "time = np.array([0, 0.5, 1, 1.5, 2, 2.5, 3.])\n",
    "speed = np.array([2., 5.5, 8., 9.5, 10., 9.5, 8.])"
   ]
  },
  {
   "cell_type": "code",
   "execution_count": 13,
   "id": "9e9efeff",
   "metadata": {},
   "outputs": [
    {
     "data": {
      "image/svg+xml": [
       "<?xml version=\"1.0\" encoding=\"utf-8\" standalone=\"no\"?>\n",
       "<!DOCTYPE svg PUBLIC \"-//W3C//DTD SVG 1.1//EN\"\n",
       "  \"http://www.w3.org/Graphics/SVG/1.1/DTD/svg11.dtd\">\n",
       "<!-- Created with matplotlib (https://matplotlib.org/) -->\n",
       "<svg height=\"371.83pt\" version=\"1.1\" viewBox=\"0 0 509.6675 371.83\" width=\"509.6675pt\" xmlns=\"http://www.w3.org/2000/svg\" xmlns:xlink=\"http://www.w3.org/1999/xlink\">\n",
       " <metadata>\n",
       "  <rdf:RDF xmlns:cc=\"http://creativecommons.org/ns#\" xmlns:dc=\"http://purl.org/dc/elements/1.1/\" xmlns:rdf=\"http://www.w3.org/1999/02/22-rdf-syntax-ns#\">\n",
       "   <cc:Work>\n",
       "    <dc:type rdf:resource=\"http://purl.org/dc/dcmitype/StillImage\"/>\n",
       "    <dc:date>2021-08-28T15:45:52.970295</dc:date>\n",
       "    <dc:format>image/svg+xml</dc:format>\n",
       "    <dc:creator>\n",
       "     <cc:Agent>\n",
       "      <dc:title>Matplotlib v3.3.4, https://matplotlib.org/</dc:title>\n",
       "     </cc:Agent>\n",
       "    </dc:creator>\n",
       "   </cc:Work>\n",
       "  </rdf:RDF>\n",
       " </metadata>\n",
       " <defs>\n",
       "  <style type=\"text/css\">*{stroke-linecap:butt;stroke-linejoin:round;}</style>\n",
       " </defs>\n",
       " <g id=\"figure_1\">\n",
       "  <g id=\"patch_1\">\n",
       "   <path d=\"M 0 371.83 \n",
       "L 509.6675 371.83 \n",
       "L 509.6675 0 \n",
       "L 0 0 \n",
       "z\n",
       "\" style=\"fill:none;\"/>\n",
       "  </g>\n",
       "  <g id=\"axes_1\">\n",
       "   <g id=\"patch_2\">\n",
       "    <path d=\"M 46.945 329.76 \n",
       "L 493.345 329.76 \n",
       "L 493.345 3.6 \n",
       "L 46.945 3.6 \n",
       "z\n",
       "\" style=\"fill:#ffffff;\"/>\n",
       "   </g>\n",
       "   <g id=\"matplotlib.axis_1\">\n",
       "    <g id=\"xtick_1\">\n",
       "     <g id=\"line2d_1\">\n",
       "      <path clip-path=\"url(#p5d31a50733)\" d=\"M 46.945 329.76 \n",
       "L 46.945 3.6 \n",
       "\" style=\"fill:none;stroke:#000000;stroke-dasharray:1.85,0.8;stroke-dashoffset:0;stroke-opacity:0.5;stroke-width:0.5;\"/>\n",
       "     </g>\n",
       "     <g id=\"line2d_2\">\n",
       "      <defs>\n",
       "       <path d=\"M 0 0 \n",
       "L 0 -6 \n",
       "\" id=\"m6a82c8ad4e\" style=\"stroke:#000000;\"/>\n",
       "      </defs>\n",
       "      <g>\n",
       "       <use style=\"stroke:#000000;\" x=\"46.945\" xlink:href=\"#m6a82c8ad4e\" y=\"329.76\"/>\n",
       "      </g>\n",
       "     </g>\n",
       "     <g id=\"line2d_3\">\n",
       "      <defs>\n",
       "       <path d=\"M 0 0 \n",
       "L 0 6 \n",
       "\" id=\"ma8e752550f\" style=\"stroke:#000000;\"/>\n",
       "      </defs>\n",
       "      <g>\n",
       "       <use style=\"stroke:#000000;\" x=\"46.945\" xlink:href=\"#ma8e752550f\" y=\"3.6\"/>\n",
       "      </g>\n",
       "     </g>\n",
       "     <g id=\"text_1\">\n",
       "      <!-- 0.0 -->\n",
       "      <g transform=\"translate(34.2225 345.4175)scale(0.16 -0.16)\">\n",
       "       <defs>\n",
       "        <path d=\"M 31.78125 66.40625 \n",
       "Q 24.171875 66.40625 20.328125 58.90625 \n",
       "Q 16.5 51.421875 16.5 36.375 \n",
       "Q 16.5 21.390625 20.328125 13.890625 \n",
       "Q 24.171875 6.390625 31.78125 6.390625 \n",
       "Q 39.453125 6.390625 43.28125 13.890625 \n",
       "Q 47.125 21.390625 47.125 36.375 \n",
       "Q 47.125 51.421875 43.28125 58.90625 \n",
       "Q 39.453125 66.40625 31.78125 66.40625 \n",
       "z\n",
       "M 31.78125 74.21875 \n",
       "Q 44.046875 74.21875 50.515625 64.515625 \n",
       "Q 56.984375 54.828125 56.984375 36.375 \n",
       "Q 56.984375 17.96875 50.515625 8.265625 \n",
       "Q 44.046875 -1.421875 31.78125 -1.421875 \n",
       "Q 19.53125 -1.421875 13.0625 8.265625 \n",
       "Q 6.59375 17.96875 6.59375 36.375 \n",
       "Q 6.59375 54.828125 13.0625 64.515625 \n",
       "Q 19.53125 74.21875 31.78125 74.21875 \n",
       "z\n",
       "\" id=\"DejaVuSans-48\"/>\n",
       "        <path d=\"M 10.6875 12.40625 \n",
       "L 21 12.40625 \n",
       "L 21 0 \n",
       "L 10.6875 0 \n",
       "z\n",
       "\" id=\"DejaVuSans-46\"/>\n",
       "       </defs>\n",
       "       <use xlink:href=\"#DejaVuSans-48\"/>\n",
       "       <use x=\"63.623047\" xlink:href=\"#DejaVuSans-46\"/>\n",
       "       <use x=\"95.410156\" xlink:href=\"#DejaVuSans-48\"/>\n",
       "      </g>\n",
       "     </g>\n",
       "    </g>\n",
       "    <g id=\"xtick_2\">\n",
       "     <g id=\"line2d_4\">\n",
       "      <path clip-path=\"url(#p5d31a50733)\" d=\"M 121.345 329.76 \n",
       "L 121.345 3.6 \n",
       "\" style=\"fill:none;stroke:#000000;stroke-dasharray:1.85,0.8;stroke-dashoffset:0;stroke-opacity:0.5;stroke-width:0.5;\"/>\n",
       "     </g>\n",
       "     <g id=\"line2d_5\">\n",
       "      <g>\n",
       "       <use style=\"stroke:#000000;\" x=\"121.345\" xlink:href=\"#m6a82c8ad4e\" y=\"329.76\"/>\n",
       "      </g>\n",
       "     </g>\n",
       "     <g id=\"line2d_6\">\n",
       "      <g>\n",
       "       <use style=\"stroke:#000000;\" x=\"121.345\" xlink:href=\"#ma8e752550f\" y=\"3.6\"/>\n",
       "      </g>\n",
       "     </g>\n",
       "     <g id=\"text_2\">\n",
       "      <!-- 0.5 -->\n",
       "      <g transform=\"translate(108.6225 345.4175)scale(0.16 -0.16)\">\n",
       "       <defs>\n",
       "        <path d=\"M 10.796875 72.90625 \n",
       "L 49.515625 72.90625 \n",
       "L 49.515625 64.59375 \n",
       "L 19.828125 64.59375 \n",
       "L 19.828125 46.734375 \n",
       "Q 21.96875 47.46875 24.109375 47.828125 \n",
       "Q 26.265625 48.1875 28.421875 48.1875 \n",
       "Q 40.625 48.1875 47.75 41.5 \n",
       "Q 54.890625 34.8125 54.890625 23.390625 \n",
       "Q 54.890625 11.625 47.5625 5.09375 \n",
       "Q 40.234375 -1.421875 26.90625 -1.421875 \n",
       "Q 22.3125 -1.421875 17.546875 -0.640625 \n",
       "Q 12.796875 0.140625 7.71875 1.703125 \n",
       "L 7.71875 11.625 \n",
       "Q 12.109375 9.234375 16.796875 8.0625 \n",
       "Q 21.484375 6.890625 26.703125 6.890625 \n",
       "Q 35.15625 6.890625 40.078125 11.328125 \n",
       "Q 45.015625 15.765625 45.015625 23.390625 \n",
       "Q 45.015625 31 40.078125 35.4375 \n",
       "Q 35.15625 39.890625 26.703125 39.890625 \n",
       "Q 22.75 39.890625 18.8125 39.015625 \n",
       "Q 14.890625 38.140625 10.796875 36.28125 \n",
       "z\n",
       "\" id=\"DejaVuSans-53\"/>\n",
       "       </defs>\n",
       "       <use xlink:href=\"#DejaVuSans-48\"/>\n",
       "       <use x=\"63.623047\" xlink:href=\"#DejaVuSans-46\"/>\n",
       "       <use x=\"95.410156\" xlink:href=\"#DejaVuSans-53\"/>\n",
       "      </g>\n",
       "     </g>\n",
       "    </g>\n",
       "    <g id=\"xtick_3\">\n",
       "     <g id=\"line2d_7\">\n",
       "      <path clip-path=\"url(#p5d31a50733)\" d=\"M 195.745 329.76 \n",
       "L 195.745 3.6 \n",
       "\" style=\"fill:none;stroke:#000000;stroke-dasharray:1.85,0.8;stroke-dashoffset:0;stroke-opacity:0.5;stroke-width:0.5;\"/>\n",
       "     </g>\n",
       "     <g id=\"line2d_8\">\n",
       "      <g>\n",
       "       <use style=\"stroke:#000000;\" x=\"195.745\" xlink:href=\"#m6a82c8ad4e\" y=\"329.76\"/>\n",
       "      </g>\n",
       "     </g>\n",
       "     <g id=\"line2d_9\">\n",
       "      <g>\n",
       "       <use style=\"stroke:#000000;\" x=\"195.745\" xlink:href=\"#ma8e752550f\" y=\"3.6\"/>\n",
       "      </g>\n",
       "     </g>\n",
       "     <g id=\"text_3\">\n",
       "      <!-- 1.0 -->\n",
       "      <g transform=\"translate(183.0225 345.4175)scale(0.16 -0.16)\">\n",
       "       <defs>\n",
       "        <path d=\"M 12.40625 8.296875 \n",
       "L 28.515625 8.296875 \n",
       "L 28.515625 63.921875 \n",
       "L 10.984375 60.40625 \n",
       "L 10.984375 69.390625 \n",
       "L 28.421875 72.90625 \n",
       "L 38.28125 72.90625 \n",
       "L 38.28125 8.296875 \n",
       "L 54.390625 8.296875 \n",
       "L 54.390625 0 \n",
       "L 12.40625 0 \n",
       "z\n",
       "\" id=\"DejaVuSans-49\"/>\n",
       "       </defs>\n",
       "       <use xlink:href=\"#DejaVuSans-49\"/>\n",
       "       <use x=\"63.623047\" xlink:href=\"#DejaVuSans-46\"/>\n",
       "       <use x=\"95.410156\" xlink:href=\"#DejaVuSans-48\"/>\n",
       "      </g>\n",
       "     </g>\n",
       "    </g>\n",
       "    <g id=\"xtick_4\">\n",
       "     <g id=\"line2d_10\">\n",
       "      <path clip-path=\"url(#p5d31a50733)\" d=\"M 270.145 329.76 \n",
       "L 270.145 3.6 \n",
       "\" style=\"fill:none;stroke:#000000;stroke-dasharray:1.85,0.8;stroke-dashoffset:0;stroke-opacity:0.5;stroke-width:0.5;\"/>\n",
       "     </g>\n",
       "     <g id=\"line2d_11\">\n",
       "      <g>\n",
       "       <use style=\"stroke:#000000;\" x=\"270.145\" xlink:href=\"#m6a82c8ad4e\" y=\"329.76\"/>\n",
       "      </g>\n",
       "     </g>\n",
       "     <g id=\"line2d_12\">\n",
       "      <g>\n",
       "       <use style=\"stroke:#000000;\" x=\"270.145\" xlink:href=\"#ma8e752550f\" y=\"3.6\"/>\n",
       "      </g>\n",
       "     </g>\n",
       "     <g id=\"text_4\">\n",
       "      <!-- 1.5 -->\n",
       "      <g transform=\"translate(257.4225 345.4175)scale(0.16 -0.16)\">\n",
       "       <use xlink:href=\"#DejaVuSans-49\"/>\n",
       "       <use x=\"63.623047\" xlink:href=\"#DejaVuSans-46\"/>\n",
       "       <use x=\"95.410156\" xlink:href=\"#DejaVuSans-53\"/>\n",
       "      </g>\n",
       "     </g>\n",
       "    </g>\n",
       "    <g id=\"xtick_5\">\n",
       "     <g id=\"line2d_13\">\n",
       "      <path clip-path=\"url(#p5d31a50733)\" d=\"M 344.545 329.76 \n",
       "L 344.545 3.6 \n",
       "\" style=\"fill:none;stroke:#000000;stroke-dasharray:1.85,0.8;stroke-dashoffset:0;stroke-opacity:0.5;stroke-width:0.5;\"/>\n",
       "     </g>\n",
       "     <g id=\"line2d_14\">\n",
       "      <g>\n",
       "       <use style=\"stroke:#000000;\" x=\"344.545\" xlink:href=\"#m6a82c8ad4e\" y=\"329.76\"/>\n",
       "      </g>\n",
       "     </g>\n",
       "     <g id=\"line2d_15\">\n",
       "      <g>\n",
       "       <use style=\"stroke:#000000;\" x=\"344.545\" xlink:href=\"#ma8e752550f\" y=\"3.6\"/>\n",
       "      </g>\n",
       "     </g>\n",
       "     <g id=\"text_5\">\n",
       "      <!-- 2.0 -->\n",
       "      <g transform=\"translate(331.8225 345.4175)scale(0.16 -0.16)\">\n",
       "       <defs>\n",
       "        <path d=\"M 19.1875 8.296875 \n",
       "L 53.609375 8.296875 \n",
       "L 53.609375 0 \n",
       "L 7.328125 0 \n",
       "L 7.328125 8.296875 \n",
       "Q 12.9375 14.109375 22.625 23.890625 \n",
       "Q 32.328125 33.6875 34.8125 36.53125 \n",
       "Q 39.546875 41.84375 41.421875 45.53125 \n",
       "Q 43.3125 49.21875 43.3125 52.78125 \n",
       "Q 43.3125 58.59375 39.234375 62.25 \n",
       "Q 35.15625 65.921875 28.609375 65.921875 \n",
       "Q 23.96875 65.921875 18.8125 64.3125 \n",
       "Q 13.671875 62.703125 7.8125 59.421875 \n",
       "L 7.8125 69.390625 \n",
       "Q 13.765625 71.78125 18.9375 73 \n",
       "Q 24.125 74.21875 28.421875 74.21875 \n",
       "Q 39.75 74.21875 46.484375 68.546875 \n",
       "Q 53.21875 62.890625 53.21875 53.421875 \n",
       "Q 53.21875 48.921875 51.53125 44.890625 \n",
       "Q 49.859375 40.875 45.40625 35.40625 \n",
       "Q 44.1875 33.984375 37.640625 27.21875 \n",
       "Q 31.109375 20.453125 19.1875 8.296875 \n",
       "z\n",
       "\" id=\"DejaVuSans-50\"/>\n",
       "       </defs>\n",
       "       <use xlink:href=\"#DejaVuSans-50\"/>\n",
       "       <use x=\"63.623047\" xlink:href=\"#DejaVuSans-46\"/>\n",
       "       <use x=\"95.410156\" xlink:href=\"#DejaVuSans-48\"/>\n",
       "      </g>\n",
       "     </g>\n",
       "    </g>\n",
       "    <g id=\"xtick_6\">\n",
       "     <g id=\"line2d_16\">\n",
       "      <path clip-path=\"url(#p5d31a50733)\" d=\"M 418.945 329.76 \n",
       "L 418.945 3.6 \n",
       "\" style=\"fill:none;stroke:#000000;stroke-dasharray:1.85,0.8;stroke-dashoffset:0;stroke-opacity:0.5;stroke-width:0.5;\"/>\n",
       "     </g>\n",
       "     <g id=\"line2d_17\">\n",
       "      <g>\n",
       "       <use style=\"stroke:#000000;\" x=\"418.945\" xlink:href=\"#m6a82c8ad4e\" y=\"329.76\"/>\n",
       "      </g>\n",
       "     </g>\n",
       "     <g id=\"line2d_18\">\n",
       "      <g>\n",
       "       <use style=\"stroke:#000000;\" x=\"418.945\" xlink:href=\"#ma8e752550f\" y=\"3.6\"/>\n",
       "      </g>\n",
       "     </g>\n",
       "     <g id=\"text_6\">\n",
       "      <!-- 2.5 -->\n",
       "      <g transform=\"translate(406.2225 345.4175)scale(0.16 -0.16)\">\n",
       "       <use xlink:href=\"#DejaVuSans-50\"/>\n",
       "       <use x=\"63.623047\" xlink:href=\"#DejaVuSans-46\"/>\n",
       "       <use x=\"95.410156\" xlink:href=\"#DejaVuSans-53\"/>\n",
       "      </g>\n",
       "     </g>\n",
       "    </g>\n",
       "    <g id=\"xtick_7\">\n",
       "     <g id=\"line2d_19\">\n",
       "      <path clip-path=\"url(#p5d31a50733)\" d=\"M 493.345 329.76 \n",
       "L 493.345 3.6 \n",
       "\" style=\"fill:none;stroke:#000000;stroke-dasharray:1.85,0.8;stroke-dashoffset:0;stroke-opacity:0.5;stroke-width:0.5;\"/>\n",
       "     </g>\n",
       "     <g id=\"line2d_20\">\n",
       "      <g>\n",
       "       <use style=\"stroke:#000000;\" x=\"493.345\" xlink:href=\"#m6a82c8ad4e\" y=\"329.76\"/>\n",
       "      </g>\n",
       "     </g>\n",
       "     <g id=\"line2d_21\">\n",
       "      <g>\n",
       "       <use style=\"stroke:#000000;\" x=\"493.345\" xlink:href=\"#ma8e752550f\" y=\"3.6\"/>\n",
       "      </g>\n",
       "     </g>\n",
       "     <g id=\"text_7\">\n",
       "      <!-- 3.0 -->\n",
       "      <g transform=\"translate(480.6225 345.4175)scale(0.16 -0.16)\">\n",
       "       <defs>\n",
       "        <path d=\"M 40.578125 39.3125 \n",
       "Q 47.65625 37.796875 51.625 33 \n",
       "Q 55.609375 28.21875 55.609375 21.1875 \n",
       "Q 55.609375 10.40625 48.1875 4.484375 \n",
       "Q 40.765625 -1.421875 27.09375 -1.421875 \n",
       "Q 22.515625 -1.421875 17.65625 -0.515625 \n",
       "Q 12.796875 0.390625 7.625 2.203125 \n",
       "L 7.625 11.71875 \n",
       "Q 11.71875 9.328125 16.59375 8.109375 \n",
       "Q 21.484375 6.890625 26.8125 6.890625 \n",
       "Q 36.078125 6.890625 40.9375 10.546875 \n",
       "Q 45.796875 14.203125 45.796875 21.1875 \n",
       "Q 45.796875 27.640625 41.28125 31.265625 \n",
       "Q 36.765625 34.90625 28.71875 34.90625 \n",
       "L 20.21875 34.90625 \n",
       "L 20.21875 43.015625 \n",
       "L 29.109375 43.015625 \n",
       "Q 36.375 43.015625 40.234375 45.921875 \n",
       "Q 44.09375 48.828125 44.09375 54.296875 \n",
       "Q 44.09375 59.90625 40.109375 62.90625 \n",
       "Q 36.140625 65.921875 28.71875 65.921875 \n",
       "Q 24.65625 65.921875 20.015625 65.03125 \n",
       "Q 15.375 64.15625 9.8125 62.3125 \n",
       "L 9.8125 71.09375 \n",
       "Q 15.4375 72.65625 20.34375 73.4375 \n",
       "Q 25.25 74.21875 29.59375 74.21875 \n",
       "Q 40.828125 74.21875 47.359375 69.109375 \n",
       "Q 53.90625 64.015625 53.90625 55.328125 \n",
       "Q 53.90625 49.265625 50.4375 45.09375 \n",
       "Q 46.96875 40.921875 40.578125 39.3125 \n",
       "z\n",
       "\" id=\"DejaVuSans-51\"/>\n",
       "       </defs>\n",
       "       <use xlink:href=\"#DejaVuSans-51\"/>\n",
       "       <use x=\"63.623047\" xlink:href=\"#DejaVuSans-46\"/>\n",
       "       <use x=\"95.410156\" xlink:href=\"#DejaVuSans-48\"/>\n",
       "      </g>\n",
       "     </g>\n",
       "    </g>\n",
       "    <g id=\"xtick_8\">\n",
       "     <g id=\"line2d_22\">\n",
       "      <defs>\n",
       "       <path d=\"M 0 0 \n",
       "L 0 -3 \n",
       "\" id=\"mcee01c41e6\" style=\"stroke:#000000;\"/>\n",
       "      </defs>\n",
       "      <g>\n",
       "       <use style=\"stroke:#000000;\" x=\"61.825\" xlink:href=\"#mcee01c41e6\" y=\"329.76\"/>\n",
       "      </g>\n",
       "     </g>\n",
       "     <g id=\"line2d_23\">\n",
       "      <defs>\n",
       "       <path d=\"M 0 0 \n",
       "L 0 3 \n",
       "\" id=\"mbb16ec99be\" style=\"stroke:#000000;\"/>\n",
       "      </defs>\n",
       "      <g>\n",
       "       <use style=\"stroke:#000000;\" x=\"61.825\" xlink:href=\"#mbb16ec99be\" y=\"3.6\"/>\n",
       "      </g>\n",
       "     </g>\n",
       "    </g>\n",
       "    <g id=\"xtick_9\">\n",
       "     <g id=\"line2d_24\">\n",
       "      <g>\n",
       "       <use style=\"stroke:#000000;\" x=\"76.705\" xlink:href=\"#mcee01c41e6\" y=\"329.76\"/>\n",
       "      </g>\n",
       "     </g>\n",
       "     <g id=\"line2d_25\">\n",
       "      <g>\n",
       "       <use style=\"stroke:#000000;\" x=\"76.705\" xlink:href=\"#mbb16ec99be\" y=\"3.6\"/>\n",
       "      </g>\n",
       "     </g>\n",
       "    </g>\n",
       "    <g id=\"xtick_10\">\n",
       "     <g id=\"line2d_26\">\n",
       "      <g>\n",
       "       <use style=\"stroke:#000000;\" x=\"91.585\" xlink:href=\"#mcee01c41e6\" y=\"329.76\"/>\n",
       "      </g>\n",
       "     </g>\n",
       "     <g id=\"line2d_27\">\n",
       "      <g>\n",
       "       <use style=\"stroke:#000000;\" x=\"91.585\" xlink:href=\"#mbb16ec99be\" y=\"3.6\"/>\n",
       "      </g>\n",
       "     </g>\n",
       "    </g>\n",
       "    <g id=\"xtick_11\">\n",
       "     <g id=\"line2d_28\">\n",
       "      <g>\n",
       "       <use style=\"stroke:#000000;\" x=\"106.465\" xlink:href=\"#mcee01c41e6\" y=\"329.76\"/>\n",
       "      </g>\n",
       "     </g>\n",
       "     <g id=\"line2d_29\">\n",
       "      <g>\n",
       "       <use style=\"stroke:#000000;\" x=\"106.465\" xlink:href=\"#mbb16ec99be\" y=\"3.6\"/>\n",
       "      </g>\n",
       "     </g>\n",
       "    </g>\n",
       "    <g id=\"xtick_12\">\n",
       "     <g id=\"line2d_30\">\n",
       "      <g>\n",
       "       <use style=\"stroke:#000000;\" x=\"136.225\" xlink:href=\"#mcee01c41e6\" y=\"329.76\"/>\n",
       "      </g>\n",
       "     </g>\n",
       "     <g id=\"line2d_31\">\n",
       "      <g>\n",
       "       <use style=\"stroke:#000000;\" x=\"136.225\" xlink:href=\"#mbb16ec99be\" y=\"3.6\"/>\n",
       "      </g>\n",
       "     </g>\n",
       "    </g>\n",
       "    <g id=\"xtick_13\">\n",
       "     <g id=\"line2d_32\">\n",
       "      <g>\n",
       "       <use style=\"stroke:#000000;\" x=\"151.105\" xlink:href=\"#mcee01c41e6\" y=\"329.76\"/>\n",
       "      </g>\n",
       "     </g>\n",
       "     <g id=\"line2d_33\">\n",
       "      <g>\n",
       "       <use style=\"stroke:#000000;\" x=\"151.105\" xlink:href=\"#mbb16ec99be\" y=\"3.6\"/>\n",
       "      </g>\n",
       "     </g>\n",
       "    </g>\n",
       "    <g id=\"xtick_14\">\n",
       "     <g id=\"line2d_34\">\n",
       "      <g>\n",
       "       <use style=\"stroke:#000000;\" x=\"165.985\" xlink:href=\"#mcee01c41e6\" y=\"329.76\"/>\n",
       "      </g>\n",
       "     </g>\n",
       "     <g id=\"line2d_35\">\n",
       "      <g>\n",
       "       <use style=\"stroke:#000000;\" x=\"165.985\" xlink:href=\"#mbb16ec99be\" y=\"3.6\"/>\n",
       "      </g>\n",
       "     </g>\n",
       "    </g>\n",
       "    <g id=\"xtick_15\">\n",
       "     <g id=\"line2d_36\">\n",
       "      <g>\n",
       "       <use style=\"stroke:#000000;\" x=\"180.865\" xlink:href=\"#mcee01c41e6\" y=\"329.76\"/>\n",
       "      </g>\n",
       "     </g>\n",
       "     <g id=\"line2d_37\">\n",
       "      <g>\n",
       "       <use style=\"stroke:#000000;\" x=\"180.865\" xlink:href=\"#mbb16ec99be\" y=\"3.6\"/>\n",
       "      </g>\n",
       "     </g>\n",
       "    </g>\n",
       "    <g id=\"xtick_16\">\n",
       "     <g id=\"line2d_38\">\n",
       "      <g>\n",
       "       <use style=\"stroke:#000000;\" x=\"210.625\" xlink:href=\"#mcee01c41e6\" y=\"329.76\"/>\n",
       "      </g>\n",
       "     </g>\n",
       "     <g id=\"line2d_39\">\n",
       "      <g>\n",
       "       <use style=\"stroke:#000000;\" x=\"210.625\" xlink:href=\"#mbb16ec99be\" y=\"3.6\"/>\n",
       "      </g>\n",
       "     </g>\n",
       "    </g>\n",
       "    <g id=\"xtick_17\">\n",
       "     <g id=\"line2d_40\">\n",
       "      <g>\n",
       "       <use style=\"stroke:#000000;\" x=\"225.505\" xlink:href=\"#mcee01c41e6\" y=\"329.76\"/>\n",
       "      </g>\n",
       "     </g>\n",
       "     <g id=\"line2d_41\">\n",
       "      <g>\n",
       "       <use style=\"stroke:#000000;\" x=\"225.505\" xlink:href=\"#mbb16ec99be\" y=\"3.6\"/>\n",
       "      </g>\n",
       "     </g>\n",
       "    </g>\n",
       "    <g id=\"xtick_18\">\n",
       "     <g id=\"line2d_42\">\n",
       "      <g>\n",
       "       <use style=\"stroke:#000000;\" x=\"240.385\" xlink:href=\"#mcee01c41e6\" y=\"329.76\"/>\n",
       "      </g>\n",
       "     </g>\n",
       "     <g id=\"line2d_43\">\n",
       "      <g>\n",
       "       <use style=\"stroke:#000000;\" x=\"240.385\" xlink:href=\"#mbb16ec99be\" y=\"3.6\"/>\n",
       "      </g>\n",
       "     </g>\n",
       "    </g>\n",
       "    <g id=\"xtick_19\">\n",
       "     <g id=\"line2d_44\">\n",
       "      <g>\n",
       "       <use style=\"stroke:#000000;\" x=\"255.265\" xlink:href=\"#mcee01c41e6\" y=\"329.76\"/>\n",
       "      </g>\n",
       "     </g>\n",
       "     <g id=\"line2d_45\">\n",
       "      <g>\n",
       "       <use style=\"stroke:#000000;\" x=\"255.265\" xlink:href=\"#mbb16ec99be\" y=\"3.6\"/>\n",
       "      </g>\n",
       "     </g>\n",
       "    </g>\n",
       "    <g id=\"xtick_20\">\n",
       "     <g id=\"line2d_46\">\n",
       "      <g>\n",
       "       <use style=\"stroke:#000000;\" x=\"285.025\" xlink:href=\"#mcee01c41e6\" y=\"329.76\"/>\n",
       "      </g>\n",
       "     </g>\n",
       "     <g id=\"line2d_47\">\n",
       "      <g>\n",
       "       <use style=\"stroke:#000000;\" x=\"285.025\" xlink:href=\"#mbb16ec99be\" y=\"3.6\"/>\n",
       "      </g>\n",
       "     </g>\n",
       "    </g>\n",
       "    <g id=\"xtick_21\">\n",
       "     <g id=\"line2d_48\">\n",
       "      <g>\n",
       "       <use style=\"stroke:#000000;\" x=\"299.905\" xlink:href=\"#mcee01c41e6\" y=\"329.76\"/>\n",
       "      </g>\n",
       "     </g>\n",
       "     <g id=\"line2d_49\">\n",
       "      <g>\n",
       "       <use style=\"stroke:#000000;\" x=\"299.905\" xlink:href=\"#mbb16ec99be\" y=\"3.6\"/>\n",
       "      </g>\n",
       "     </g>\n",
       "    </g>\n",
       "    <g id=\"xtick_22\">\n",
       "     <g id=\"line2d_50\">\n",
       "      <g>\n",
       "       <use style=\"stroke:#000000;\" x=\"314.785\" xlink:href=\"#mcee01c41e6\" y=\"329.76\"/>\n",
       "      </g>\n",
       "     </g>\n",
       "     <g id=\"line2d_51\">\n",
       "      <g>\n",
       "       <use style=\"stroke:#000000;\" x=\"314.785\" xlink:href=\"#mbb16ec99be\" y=\"3.6\"/>\n",
       "      </g>\n",
       "     </g>\n",
       "    </g>\n",
       "    <g id=\"xtick_23\">\n",
       "     <g id=\"line2d_52\">\n",
       "      <g>\n",
       "       <use style=\"stroke:#000000;\" x=\"329.665\" xlink:href=\"#mcee01c41e6\" y=\"329.76\"/>\n",
       "      </g>\n",
       "     </g>\n",
       "     <g id=\"line2d_53\">\n",
       "      <g>\n",
       "       <use style=\"stroke:#000000;\" x=\"329.665\" xlink:href=\"#mbb16ec99be\" y=\"3.6\"/>\n",
       "      </g>\n",
       "     </g>\n",
       "    </g>\n",
       "    <g id=\"xtick_24\">\n",
       "     <g id=\"line2d_54\">\n",
       "      <g>\n",
       "       <use style=\"stroke:#000000;\" x=\"359.425\" xlink:href=\"#mcee01c41e6\" y=\"329.76\"/>\n",
       "      </g>\n",
       "     </g>\n",
       "     <g id=\"line2d_55\">\n",
       "      <g>\n",
       "       <use style=\"stroke:#000000;\" x=\"359.425\" xlink:href=\"#mbb16ec99be\" y=\"3.6\"/>\n",
       "      </g>\n",
       "     </g>\n",
       "    </g>\n",
       "    <g id=\"xtick_25\">\n",
       "     <g id=\"line2d_56\">\n",
       "      <g>\n",
       "       <use style=\"stroke:#000000;\" x=\"374.305\" xlink:href=\"#mcee01c41e6\" y=\"329.76\"/>\n",
       "      </g>\n",
       "     </g>\n",
       "     <g id=\"line2d_57\">\n",
       "      <g>\n",
       "       <use style=\"stroke:#000000;\" x=\"374.305\" xlink:href=\"#mbb16ec99be\" y=\"3.6\"/>\n",
       "      </g>\n",
       "     </g>\n",
       "    </g>\n",
       "    <g id=\"xtick_26\">\n",
       "     <g id=\"line2d_58\">\n",
       "      <g>\n",
       "       <use style=\"stroke:#000000;\" x=\"389.185\" xlink:href=\"#mcee01c41e6\" y=\"329.76\"/>\n",
       "      </g>\n",
       "     </g>\n",
       "     <g id=\"line2d_59\">\n",
       "      <g>\n",
       "       <use style=\"stroke:#000000;\" x=\"389.185\" xlink:href=\"#mbb16ec99be\" y=\"3.6\"/>\n",
       "      </g>\n",
       "     </g>\n",
       "    </g>\n",
       "    <g id=\"xtick_27\">\n",
       "     <g id=\"line2d_60\">\n",
       "      <g>\n",
       "       <use style=\"stroke:#000000;\" x=\"404.065\" xlink:href=\"#mcee01c41e6\" y=\"329.76\"/>\n",
       "      </g>\n",
       "     </g>\n",
       "     <g id=\"line2d_61\">\n",
       "      <g>\n",
       "       <use style=\"stroke:#000000;\" x=\"404.065\" xlink:href=\"#mbb16ec99be\" y=\"3.6\"/>\n",
       "      </g>\n",
       "     </g>\n",
       "    </g>\n",
       "    <g id=\"xtick_28\">\n",
       "     <g id=\"line2d_62\">\n",
       "      <g>\n",
       "       <use style=\"stroke:#000000;\" x=\"433.825\" xlink:href=\"#mcee01c41e6\" y=\"329.76\"/>\n",
       "      </g>\n",
       "     </g>\n",
       "     <g id=\"line2d_63\">\n",
       "      <g>\n",
       "       <use style=\"stroke:#000000;\" x=\"433.825\" xlink:href=\"#mbb16ec99be\" y=\"3.6\"/>\n",
       "      </g>\n",
       "     </g>\n",
       "    </g>\n",
       "    <g id=\"xtick_29\">\n",
       "     <g id=\"line2d_64\">\n",
       "      <g>\n",
       "       <use style=\"stroke:#000000;\" x=\"448.705\" xlink:href=\"#mcee01c41e6\" y=\"329.76\"/>\n",
       "      </g>\n",
       "     </g>\n",
       "     <g id=\"line2d_65\">\n",
       "      <g>\n",
       "       <use style=\"stroke:#000000;\" x=\"448.705\" xlink:href=\"#mbb16ec99be\" y=\"3.6\"/>\n",
       "      </g>\n",
       "     </g>\n",
       "    </g>\n",
       "    <g id=\"xtick_30\">\n",
       "     <g id=\"line2d_66\">\n",
       "      <g>\n",
       "       <use style=\"stroke:#000000;\" x=\"463.585\" xlink:href=\"#mcee01c41e6\" y=\"329.76\"/>\n",
       "      </g>\n",
       "     </g>\n",
       "     <g id=\"line2d_67\">\n",
       "      <g>\n",
       "       <use style=\"stroke:#000000;\" x=\"463.585\" xlink:href=\"#mbb16ec99be\" y=\"3.6\"/>\n",
       "      </g>\n",
       "     </g>\n",
       "    </g>\n",
       "    <g id=\"xtick_31\">\n",
       "     <g id=\"line2d_68\">\n",
       "      <g>\n",
       "       <use style=\"stroke:#000000;\" x=\"478.465\" xlink:href=\"#mcee01c41e6\" y=\"329.76\"/>\n",
       "      </g>\n",
       "     </g>\n",
       "     <g id=\"line2d_69\">\n",
       "      <g>\n",
       "       <use style=\"stroke:#000000;\" x=\"478.465\" xlink:href=\"#mbb16ec99be\" y=\"3.6\"/>\n",
       "      </g>\n",
       "     </g>\n",
       "    </g>\n",
       "    <g id=\"text_8\">\n",
       "     <!-- Time [s] -->\n",
       "     <g transform=\"translate(237.61875 364.9025)scale(0.16 -0.16)\">\n",
       "      <defs>\n",
       "       <path d=\"M -0.296875 72.90625 \n",
       "L 61.375 72.90625 \n",
       "L 61.375 64.59375 \n",
       "L 35.5 64.59375 \n",
       "L 35.5 0 \n",
       "L 25.59375 0 \n",
       "L 25.59375 64.59375 \n",
       "L -0.296875 64.59375 \n",
       "z\n",
       "\" id=\"DejaVuSans-84\"/>\n",
       "       <path d=\"M 9.421875 54.6875 \n",
       "L 18.40625 54.6875 \n",
       "L 18.40625 0 \n",
       "L 9.421875 0 \n",
       "z\n",
       "M 9.421875 75.984375 \n",
       "L 18.40625 75.984375 \n",
       "L 18.40625 64.59375 \n",
       "L 9.421875 64.59375 \n",
       "z\n",
       "\" id=\"DejaVuSans-105\"/>\n",
       "       <path d=\"M 52 44.1875 \n",
       "Q 55.375 50.25 60.0625 53.125 \n",
       "Q 64.75 56 71.09375 56 \n",
       "Q 79.640625 56 84.28125 50.015625 \n",
       "Q 88.921875 44.046875 88.921875 33.015625 \n",
       "L 88.921875 0 \n",
       "L 79.890625 0 \n",
       "L 79.890625 32.71875 \n",
       "Q 79.890625 40.578125 77.09375 44.375 \n",
       "Q 74.3125 48.1875 68.609375 48.1875 \n",
       "Q 61.625 48.1875 57.5625 43.546875 \n",
       "Q 53.515625 38.921875 53.515625 30.90625 \n",
       "L 53.515625 0 \n",
       "L 44.484375 0 \n",
       "L 44.484375 32.71875 \n",
       "Q 44.484375 40.625 41.703125 44.40625 \n",
       "Q 38.921875 48.1875 33.109375 48.1875 \n",
       "Q 26.21875 48.1875 22.15625 43.53125 \n",
       "Q 18.109375 38.875 18.109375 30.90625 \n",
       "L 18.109375 0 \n",
       "L 9.078125 0 \n",
       "L 9.078125 54.6875 \n",
       "L 18.109375 54.6875 \n",
       "L 18.109375 46.1875 \n",
       "Q 21.1875 51.21875 25.484375 53.609375 \n",
       "Q 29.78125 56 35.6875 56 \n",
       "Q 41.65625 56 45.828125 52.96875 \n",
       "Q 50 49.953125 52 44.1875 \n",
       "z\n",
       "\" id=\"DejaVuSans-109\"/>\n",
       "       <path d=\"M 56.203125 29.59375 \n",
       "L 56.203125 25.203125 \n",
       "L 14.890625 25.203125 \n",
       "Q 15.484375 15.921875 20.484375 11.0625 \n",
       "Q 25.484375 6.203125 34.421875 6.203125 \n",
       "Q 39.59375 6.203125 44.453125 7.46875 \n",
       "Q 49.3125 8.734375 54.109375 11.28125 \n",
       "L 54.109375 2.78125 \n",
       "Q 49.265625 0.734375 44.1875 -0.34375 \n",
       "Q 39.109375 -1.421875 33.890625 -1.421875 \n",
       "Q 20.796875 -1.421875 13.15625 6.1875 \n",
       "Q 5.515625 13.8125 5.515625 26.8125 \n",
       "Q 5.515625 40.234375 12.765625 48.109375 \n",
       "Q 20.015625 56 32.328125 56 \n",
       "Q 43.359375 56 49.78125 48.890625 \n",
       "Q 56.203125 41.796875 56.203125 29.59375 \n",
       "z\n",
       "M 47.21875 32.234375 \n",
       "Q 47.125 39.59375 43.09375 43.984375 \n",
       "Q 39.0625 48.390625 32.421875 48.390625 \n",
       "Q 24.90625 48.390625 20.390625 44.140625 \n",
       "Q 15.875 39.890625 15.1875 32.171875 \n",
       "z\n",
       "\" id=\"DejaVuSans-101\"/>\n",
       "       <path id=\"DejaVuSans-32\"/>\n",
       "       <path d=\"M 8.59375 75.984375 \n",
       "L 29.296875 75.984375 \n",
       "L 29.296875 69 \n",
       "L 17.578125 69 \n",
       "L 17.578125 -6.203125 \n",
       "L 29.296875 -6.203125 \n",
       "L 29.296875 -13.1875 \n",
       "L 8.59375 -13.1875 \n",
       "z\n",
       "\" id=\"DejaVuSans-91\"/>\n",
       "       <path d=\"M 44.28125 53.078125 \n",
       "L 44.28125 44.578125 \n",
       "Q 40.484375 46.53125 36.375 47.5 \n",
       "Q 32.28125 48.484375 27.875 48.484375 \n",
       "Q 21.1875 48.484375 17.84375 46.4375 \n",
       "Q 14.5 44.390625 14.5 40.28125 \n",
       "Q 14.5 37.15625 16.890625 35.375 \n",
       "Q 19.28125 33.59375 26.515625 31.984375 \n",
       "L 29.59375 31.296875 \n",
       "Q 39.15625 29.25 43.1875 25.515625 \n",
       "Q 47.21875 21.78125 47.21875 15.09375 \n",
       "Q 47.21875 7.46875 41.1875 3.015625 \n",
       "Q 35.15625 -1.421875 24.609375 -1.421875 \n",
       "Q 20.21875 -1.421875 15.453125 -0.5625 \n",
       "Q 10.6875 0.296875 5.421875 2 \n",
       "L 5.421875 11.28125 \n",
       "Q 10.40625 8.6875 15.234375 7.390625 \n",
       "Q 20.0625 6.109375 24.8125 6.109375 \n",
       "Q 31.15625 6.109375 34.5625 8.28125 \n",
       "Q 37.984375 10.453125 37.984375 14.40625 \n",
       "Q 37.984375 18.0625 35.515625 20.015625 \n",
       "Q 33.0625 21.96875 24.703125 23.78125 \n",
       "L 21.578125 24.515625 \n",
       "Q 13.234375 26.265625 9.515625 29.90625 \n",
       "Q 5.8125 33.546875 5.8125 39.890625 \n",
       "Q 5.8125 47.609375 11.28125 51.796875 \n",
       "Q 16.75 56 26.8125 56 \n",
       "Q 31.78125 56 36.171875 55.265625 \n",
       "Q 40.578125 54.546875 44.28125 53.078125 \n",
       "z\n",
       "\" id=\"DejaVuSans-115\"/>\n",
       "       <path d=\"M 30.421875 75.984375 \n",
       "L 30.421875 -13.1875 \n",
       "L 9.71875 -13.1875 \n",
       "L 9.71875 -6.203125 \n",
       "L 21.390625 -6.203125 \n",
       "L 21.390625 69 \n",
       "L 9.71875 69 \n",
       "L 9.71875 75.984375 \n",
       "z\n",
       "\" id=\"DejaVuSans-93\"/>\n",
       "      </defs>\n",
       "      <use xlink:href=\"#DejaVuSans-84\"/>\n",
       "      <use x=\"57.958984\" xlink:href=\"#DejaVuSans-105\"/>\n",
       "      <use x=\"85.742188\" xlink:href=\"#DejaVuSans-109\"/>\n",
       "      <use x=\"183.154297\" xlink:href=\"#DejaVuSans-101\"/>\n",
       "      <use x=\"244.677734\" xlink:href=\"#DejaVuSans-32\"/>\n",
       "      <use x=\"276.464844\" xlink:href=\"#DejaVuSans-91\"/>\n",
       "      <use x=\"315.478516\" xlink:href=\"#DejaVuSans-115\"/>\n",
       "      <use x=\"367.578125\" xlink:href=\"#DejaVuSans-93\"/>\n",
       "     </g>\n",
       "    </g>\n",
       "   </g>\n",
       "   <g id=\"matplotlib.axis_2\">\n",
       "    <g id=\"ytick_1\">\n",
       "     <g id=\"line2d_70\">\n",
       "      <path clip-path=\"url(#p5d31a50733)\" d=\"M 46.945 302.58 \n",
       "L 493.345 302.58 \n",
       "\" style=\"fill:none;stroke:#000000;stroke-dasharray:1.85,0.8;stroke-dashoffset:0;stroke-opacity:0.5;stroke-width:0.5;\"/>\n",
       "     </g>\n",
       "     <g id=\"line2d_71\">\n",
       "      <defs>\n",
       "       <path d=\"M 0 0 \n",
       "L 6 0 \n",
       "\" id=\"m1bd8a9885e\" style=\"stroke:#000000;\"/>\n",
       "      </defs>\n",
       "      <g>\n",
       "       <use style=\"stroke:#000000;\" x=\"46.945\" xlink:href=\"#m1bd8a9885e\" y=\"302.58\"/>\n",
       "      </g>\n",
       "     </g>\n",
       "     <g id=\"line2d_72\">\n",
       "      <defs>\n",
       "       <path d=\"M 0 0 \n",
       "L -6 0 \n",
       "\" id=\"m4dd5096ac8\" style=\"stroke:#000000;\"/>\n",
       "      </defs>\n",
       "      <g>\n",
       "       <use style=\"stroke:#000000;\" x=\"493.345\" xlink:href=\"#m4dd5096ac8\" y=\"302.58\"/>\n",
       "      </g>\n",
       "     </g>\n",
       "     <g id=\"text_9\">\n",
       "      <!-- 2 -->\n",
       "      <g transform=\"translate(33.265 308.65875)scale(0.16 -0.16)\">\n",
       "       <use xlink:href=\"#DejaVuSans-50\"/>\n",
       "      </g>\n",
       "     </g>\n",
       "    </g>\n",
       "    <g id=\"ytick_2\">\n",
       "     <g id=\"line2d_73\">\n",
       "      <path clip-path=\"url(#p5d31a50733)\" d=\"M 46.945 234.63 \n",
       "L 493.345 234.63 \n",
       "\" style=\"fill:none;stroke:#000000;stroke-dasharray:1.85,0.8;stroke-dashoffset:0;stroke-opacity:0.5;stroke-width:0.5;\"/>\n",
       "     </g>\n",
       "     <g id=\"line2d_74\">\n",
       "      <g>\n",
       "       <use style=\"stroke:#000000;\" x=\"46.945\" xlink:href=\"#m1bd8a9885e\" y=\"234.63\"/>\n",
       "      </g>\n",
       "     </g>\n",
       "     <g id=\"line2d_75\">\n",
       "      <g>\n",
       "       <use style=\"stroke:#000000;\" x=\"493.345\" xlink:href=\"#m4dd5096ac8\" y=\"234.63\"/>\n",
       "      </g>\n",
       "     </g>\n",
       "     <g id=\"text_10\">\n",
       "      <!-- 4 -->\n",
       "      <g transform=\"translate(33.265 240.70875)scale(0.16 -0.16)\">\n",
       "       <defs>\n",
       "        <path d=\"M 37.796875 64.3125 \n",
       "L 12.890625 25.390625 \n",
       "L 37.796875 25.390625 \n",
       "z\n",
       "M 35.203125 72.90625 \n",
       "L 47.609375 72.90625 \n",
       "L 47.609375 25.390625 \n",
       "L 58.015625 25.390625 \n",
       "L 58.015625 17.1875 \n",
       "L 47.609375 17.1875 \n",
       "L 47.609375 0 \n",
       "L 37.796875 0 \n",
       "L 37.796875 17.1875 \n",
       "L 4.890625 17.1875 \n",
       "L 4.890625 26.703125 \n",
       "z\n",
       "\" id=\"DejaVuSans-52\"/>\n",
       "       </defs>\n",
       "       <use xlink:href=\"#DejaVuSans-52\"/>\n",
       "      </g>\n",
       "     </g>\n",
       "    </g>\n",
       "    <g id=\"ytick_3\">\n",
       "     <g id=\"line2d_76\">\n",
       "      <path clip-path=\"url(#p5d31a50733)\" d=\"M 46.945 166.68 \n",
       "L 493.345 166.68 \n",
       "\" style=\"fill:none;stroke:#000000;stroke-dasharray:1.85,0.8;stroke-dashoffset:0;stroke-opacity:0.5;stroke-width:0.5;\"/>\n",
       "     </g>\n",
       "     <g id=\"line2d_77\">\n",
       "      <g>\n",
       "       <use style=\"stroke:#000000;\" x=\"46.945\" xlink:href=\"#m1bd8a9885e\" y=\"166.68\"/>\n",
       "      </g>\n",
       "     </g>\n",
       "     <g id=\"line2d_78\">\n",
       "      <g>\n",
       "       <use style=\"stroke:#000000;\" x=\"493.345\" xlink:href=\"#m4dd5096ac8\" y=\"166.68\"/>\n",
       "      </g>\n",
       "     </g>\n",
       "     <g id=\"text_11\">\n",
       "      <!-- 6 -->\n",
       "      <g transform=\"translate(33.265 172.75875)scale(0.16 -0.16)\">\n",
       "       <defs>\n",
       "        <path d=\"M 33.015625 40.375 \n",
       "Q 26.375 40.375 22.484375 35.828125 \n",
       "Q 18.609375 31.296875 18.609375 23.390625 \n",
       "Q 18.609375 15.53125 22.484375 10.953125 \n",
       "Q 26.375 6.390625 33.015625 6.390625 \n",
       "Q 39.65625 6.390625 43.53125 10.953125 \n",
       "Q 47.40625 15.53125 47.40625 23.390625 \n",
       "Q 47.40625 31.296875 43.53125 35.828125 \n",
       "Q 39.65625 40.375 33.015625 40.375 \n",
       "z\n",
       "M 52.59375 71.296875 \n",
       "L 52.59375 62.3125 \n",
       "Q 48.875 64.0625 45.09375 64.984375 \n",
       "Q 41.3125 65.921875 37.59375 65.921875 \n",
       "Q 27.828125 65.921875 22.671875 59.328125 \n",
       "Q 17.53125 52.734375 16.796875 39.40625 \n",
       "Q 19.671875 43.65625 24.015625 45.921875 \n",
       "Q 28.375 48.1875 33.59375 48.1875 \n",
       "Q 44.578125 48.1875 50.953125 41.515625 \n",
       "Q 57.328125 34.859375 57.328125 23.390625 \n",
       "Q 57.328125 12.15625 50.6875 5.359375 \n",
       "Q 44.046875 -1.421875 33.015625 -1.421875 \n",
       "Q 20.359375 -1.421875 13.671875 8.265625 \n",
       "Q 6.984375 17.96875 6.984375 36.375 \n",
       "Q 6.984375 53.65625 15.1875 63.9375 \n",
       "Q 23.390625 74.21875 37.203125 74.21875 \n",
       "Q 40.921875 74.21875 44.703125 73.484375 \n",
       "Q 48.484375 72.75 52.59375 71.296875 \n",
       "z\n",
       "\" id=\"DejaVuSans-54\"/>\n",
       "       </defs>\n",
       "       <use xlink:href=\"#DejaVuSans-54\"/>\n",
       "      </g>\n",
       "     </g>\n",
       "    </g>\n",
       "    <g id=\"ytick_4\">\n",
       "     <g id=\"line2d_79\">\n",
       "      <path clip-path=\"url(#p5d31a50733)\" d=\"M 46.945 98.73 \n",
       "L 493.345 98.73 \n",
       "\" style=\"fill:none;stroke:#000000;stroke-dasharray:1.85,0.8;stroke-dashoffset:0;stroke-opacity:0.5;stroke-width:0.5;\"/>\n",
       "     </g>\n",
       "     <g id=\"line2d_80\">\n",
       "      <g>\n",
       "       <use style=\"stroke:#000000;\" x=\"46.945\" xlink:href=\"#m1bd8a9885e\" y=\"98.73\"/>\n",
       "      </g>\n",
       "     </g>\n",
       "     <g id=\"line2d_81\">\n",
       "      <g>\n",
       "       <use style=\"stroke:#000000;\" x=\"493.345\" xlink:href=\"#m4dd5096ac8\" y=\"98.73\"/>\n",
       "      </g>\n",
       "     </g>\n",
       "     <g id=\"text_12\">\n",
       "      <!-- 8 -->\n",
       "      <g transform=\"translate(33.265 104.80875)scale(0.16 -0.16)\">\n",
       "       <defs>\n",
       "        <path d=\"M 31.78125 34.625 \n",
       "Q 24.75 34.625 20.71875 30.859375 \n",
       "Q 16.703125 27.09375 16.703125 20.515625 \n",
       "Q 16.703125 13.921875 20.71875 10.15625 \n",
       "Q 24.75 6.390625 31.78125 6.390625 \n",
       "Q 38.8125 6.390625 42.859375 10.171875 \n",
       "Q 46.921875 13.96875 46.921875 20.515625 \n",
       "Q 46.921875 27.09375 42.890625 30.859375 \n",
       "Q 38.875 34.625 31.78125 34.625 \n",
       "z\n",
       "M 21.921875 38.8125 \n",
       "Q 15.578125 40.375 12.03125 44.71875 \n",
       "Q 8.5 49.078125 8.5 55.328125 \n",
       "Q 8.5 64.0625 14.71875 69.140625 \n",
       "Q 20.953125 74.21875 31.78125 74.21875 \n",
       "Q 42.671875 74.21875 48.875 69.140625 \n",
       "Q 55.078125 64.0625 55.078125 55.328125 \n",
       "Q 55.078125 49.078125 51.53125 44.71875 \n",
       "Q 48 40.375 41.703125 38.8125 \n",
       "Q 48.828125 37.15625 52.796875 32.3125 \n",
       "Q 56.78125 27.484375 56.78125 20.515625 \n",
       "Q 56.78125 9.90625 50.3125 4.234375 \n",
       "Q 43.84375 -1.421875 31.78125 -1.421875 \n",
       "Q 19.734375 -1.421875 13.25 4.234375 \n",
       "Q 6.78125 9.90625 6.78125 20.515625 \n",
       "Q 6.78125 27.484375 10.78125 32.3125 \n",
       "Q 14.796875 37.15625 21.921875 38.8125 \n",
       "z\n",
       "M 18.3125 54.390625 \n",
       "Q 18.3125 48.734375 21.84375 45.5625 \n",
       "Q 25.390625 42.390625 31.78125 42.390625 \n",
       "Q 38.140625 42.390625 41.71875 45.5625 \n",
       "Q 45.3125 48.734375 45.3125 54.390625 \n",
       "Q 45.3125 60.0625 41.71875 63.234375 \n",
       "Q 38.140625 66.40625 31.78125 66.40625 \n",
       "Q 25.390625 66.40625 21.84375 63.234375 \n",
       "Q 18.3125 60.0625 18.3125 54.390625 \n",
       "z\n",
       "\" id=\"DejaVuSans-56\"/>\n",
       "       </defs>\n",
       "       <use xlink:href=\"#DejaVuSans-56\"/>\n",
       "      </g>\n",
       "     </g>\n",
       "    </g>\n",
       "    <g id=\"ytick_5\">\n",
       "     <g id=\"line2d_82\">\n",
       "      <path clip-path=\"url(#p5d31a50733)\" d=\"M 46.945 30.78 \n",
       "L 493.345 30.78 \n",
       "\" style=\"fill:none;stroke:#000000;stroke-dasharray:1.85,0.8;stroke-dashoffset:0;stroke-opacity:0.5;stroke-width:0.5;\"/>\n",
       "     </g>\n",
       "     <g id=\"line2d_83\">\n",
       "      <g>\n",
       "       <use style=\"stroke:#000000;\" x=\"46.945\" xlink:href=\"#m1bd8a9885e\" y=\"30.78\"/>\n",
       "      </g>\n",
       "     </g>\n",
       "     <g id=\"line2d_84\">\n",
       "      <g>\n",
       "       <use style=\"stroke:#000000;\" x=\"493.345\" xlink:href=\"#m4dd5096ac8\" y=\"30.78\"/>\n",
       "      </g>\n",
       "     </g>\n",
       "     <g id=\"text_13\">\n",
       "      <!-- 10 -->\n",
       "      <g transform=\"translate(23.085 36.85875)scale(0.16 -0.16)\">\n",
       "       <use xlink:href=\"#DejaVuSans-49\"/>\n",
       "       <use x=\"63.623047\" xlink:href=\"#DejaVuSans-48\"/>\n",
       "      </g>\n",
       "     </g>\n",
       "    </g>\n",
       "    <g id=\"ytick_6\">\n",
       "     <g id=\"line2d_85\">\n",
       "      <defs>\n",
       "       <path d=\"M 0 0 \n",
       "L 3 0 \n",
       "\" id=\"m1eb75e7d53\" style=\"stroke:#000000;\"/>\n",
       "      </defs>\n",
       "      <g>\n",
       "       <use style=\"stroke:#000000;\" x=\"46.945\" xlink:href=\"#m1eb75e7d53\" y=\"319.5675\"/>\n",
       "      </g>\n",
       "     </g>\n",
       "     <g id=\"line2d_86\">\n",
       "      <defs>\n",
       "       <path d=\"M 0 0 \n",
       "L -3 0 \n",
       "\" id=\"m078360ec91\" style=\"stroke:#000000;\"/>\n",
       "      </defs>\n",
       "      <g>\n",
       "       <use style=\"stroke:#000000;\" x=\"493.345\" xlink:href=\"#m078360ec91\" y=\"319.5675\"/>\n",
       "      </g>\n",
       "     </g>\n",
       "    </g>\n",
       "    <g id=\"ytick_7\">\n",
       "     <g id=\"line2d_87\">\n",
       "      <g>\n",
       "       <use style=\"stroke:#000000;\" x=\"46.945\" xlink:href=\"#m1eb75e7d53\" y=\"285.5925\"/>\n",
       "      </g>\n",
       "     </g>\n",
       "     <g id=\"line2d_88\">\n",
       "      <g>\n",
       "       <use style=\"stroke:#000000;\" x=\"493.345\" xlink:href=\"#m078360ec91\" y=\"285.5925\"/>\n",
       "      </g>\n",
       "     </g>\n",
       "    </g>\n",
       "    <g id=\"ytick_8\">\n",
       "     <g id=\"line2d_89\">\n",
       "      <g>\n",
       "       <use style=\"stroke:#000000;\" x=\"46.945\" xlink:href=\"#m1eb75e7d53\" y=\"268.605\"/>\n",
       "      </g>\n",
       "     </g>\n",
       "     <g id=\"line2d_90\">\n",
       "      <g>\n",
       "       <use style=\"stroke:#000000;\" x=\"493.345\" xlink:href=\"#m078360ec91\" y=\"268.605\"/>\n",
       "      </g>\n",
       "     </g>\n",
       "    </g>\n",
       "    <g id=\"ytick_9\">\n",
       "     <g id=\"line2d_91\">\n",
       "      <g>\n",
       "       <use style=\"stroke:#000000;\" x=\"46.945\" xlink:href=\"#m1eb75e7d53\" y=\"251.6175\"/>\n",
       "      </g>\n",
       "     </g>\n",
       "     <g id=\"line2d_92\">\n",
       "      <g>\n",
       "       <use style=\"stroke:#000000;\" x=\"493.345\" xlink:href=\"#m078360ec91\" y=\"251.6175\"/>\n",
       "      </g>\n",
       "     </g>\n",
       "    </g>\n",
       "    <g id=\"ytick_10\">\n",
       "     <g id=\"line2d_93\">\n",
       "      <g>\n",
       "       <use style=\"stroke:#000000;\" x=\"46.945\" xlink:href=\"#m1eb75e7d53\" y=\"217.6425\"/>\n",
       "      </g>\n",
       "     </g>\n",
       "     <g id=\"line2d_94\">\n",
       "      <g>\n",
       "       <use style=\"stroke:#000000;\" x=\"493.345\" xlink:href=\"#m078360ec91\" y=\"217.6425\"/>\n",
       "      </g>\n",
       "     </g>\n",
       "    </g>\n",
       "    <g id=\"ytick_11\">\n",
       "     <g id=\"line2d_95\">\n",
       "      <g>\n",
       "       <use style=\"stroke:#000000;\" x=\"46.945\" xlink:href=\"#m1eb75e7d53\" y=\"200.655\"/>\n",
       "      </g>\n",
       "     </g>\n",
       "     <g id=\"line2d_96\">\n",
       "      <g>\n",
       "       <use style=\"stroke:#000000;\" x=\"493.345\" xlink:href=\"#m078360ec91\" y=\"200.655\"/>\n",
       "      </g>\n",
       "     </g>\n",
       "    </g>\n",
       "    <g id=\"ytick_12\">\n",
       "     <g id=\"line2d_97\">\n",
       "      <g>\n",
       "       <use style=\"stroke:#000000;\" x=\"46.945\" xlink:href=\"#m1eb75e7d53\" y=\"183.6675\"/>\n",
       "      </g>\n",
       "     </g>\n",
       "     <g id=\"line2d_98\">\n",
       "      <g>\n",
       "       <use style=\"stroke:#000000;\" x=\"493.345\" xlink:href=\"#m078360ec91\" y=\"183.6675\"/>\n",
       "      </g>\n",
       "     </g>\n",
       "    </g>\n",
       "    <g id=\"ytick_13\">\n",
       "     <g id=\"line2d_99\">\n",
       "      <g>\n",
       "       <use style=\"stroke:#000000;\" x=\"46.945\" xlink:href=\"#m1eb75e7d53\" y=\"149.6925\"/>\n",
       "      </g>\n",
       "     </g>\n",
       "     <g id=\"line2d_100\">\n",
       "      <g>\n",
       "       <use style=\"stroke:#000000;\" x=\"493.345\" xlink:href=\"#m078360ec91\" y=\"149.6925\"/>\n",
       "      </g>\n",
       "     </g>\n",
       "    </g>\n",
       "    <g id=\"ytick_14\">\n",
       "     <g id=\"line2d_101\">\n",
       "      <g>\n",
       "       <use style=\"stroke:#000000;\" x=\"46.945\" xlink:href=\"#m1eb75e7d53\" y=\"132.705\"/>\n",
       "      </g>\n",
       "     </g>\n",
       "     <g id=\"line2d_102\">\n",
       "      <g>\n",
       "       <use style=\"stroke:#000000;\" x=\"493.345\" xlink:href=\"#m078360ec91\" y=\"132.705\"/>\n",
       "      </g>\n",
       "     </g>\n",
       "    </g>\n",
       "    <g id=\"ytick_15\">\n",
       "     <g id=\"line2d_103\">\n",
       "      <g>\n",
       "       <use style=\"stroke:#000000;\" x=\"46.945\" xlink:href=\"#m1eb75e7d53\" y=\"115.7175\"/>\n",
       "      </g>\n",
       "     </g>\n",
       "     <g id=\"line2d_104\">\n",
       "      <g>\n",
       "       <use style=\"stroke:#000000;\" x=\"493.345\" xlink:href=\"#m078360ec91\" y=\"115.7175\"/>\n",
       "      </g>\n",
       "     </g>\n",
       "    </g>\n",
       "    <g id=\"ytick_16\">\n",
       "     <g id=\"line2d_105\">\n",
       "      <g>\n",
       "       <use style=\"stroke:#000000;\" x=\"46.945\" xlink:href=\"#m1eb75e7d53\" y=\"81.7425\"/>\n",
       "      </g>\n",
       "     </g>\n",
       "     <g id=\"line2d_106\">\n",
       "      <g>\n",
       "       <use style=\"stroke:#000000;\" x=\"493.345\" xlink:href=\"#m078360ec91\" y=\"81.7425\"/>\n",
       "      </g>\n",
       "     </g>\n",
       "    </g>\n",
       "    <g id=\"ytick_17\">\n",
       "     <g id=\"line2d_107\">\n",
       "      <g>\n",
       "       <use style=\"stroke:#000000;\" x=\"46.945\" xlink:href=\"#m1eb75e7d53\" y=\"64.755\"/>\n",
       "      </g>\n",
       "     </g>\n",
       "     <g id=\"line2d_108\">\n",
       "      <g>\n",
       "       <use style=\"stroke:#000000;\" x=\"493.345\" xlink:href=\"#m078360ec91\" y=\"64.755\"/>\n",
       "      </g>\n",
       "     </g>\n",
       "    </g>\n",
       "    <g id=\"ytick_18\">\n",
       "     <g id=\"line2d_109\">\n",
       "      <g>\n",
       "       <use style=\"stroke:#000000;\" x=\"46.945\" xlink:href=\"#m1eb75e7d53\" y=\"47.7675\"/>\n",
       "      </g>\n",
       "     </g>\n",
       "     <g id=\"line2d_110\">\n",
       "      <g>\n",
       "       <use style=\"stroke:#000000;\" x=\"493.345\" xlink:href=\"#m078360ec91\" y=\"47.7675\"/>\n",
       "      </g>\n",
       "     </g>\n",
       "    </g>\n",
       "    <g id=\"ytick_19\">\n",
       "     <g id=\"line2d_111\">\n",
       "      <g>\n",
       "       <use style=\"stroke:#000000;\" x=\"46.945\" xlink:href=\"#m1eb75e7d53\" y=\"13.7925\"/>\n",
       "      </g>\n",
       "     </g>\n",
       "     <g id=\"line2d_112\">\n",
       "      <g>\n",
       "       <use style=\"stroke:#000000;\" x=\"493.345\" xlink:href=\"#m078360ec91\" y=\"13.7925\"/>\n",
       "      </g>\n",
       "     </g>\n",
       "    </g>\n",
       "    <g id=\"text_14\">\n",
       "     <!-- Speed [m/s] -->\n",
       "     <g transform=\"translate(15.7575 215.20125)rotate(-90)scale(0.16 -0.16)\">\n",
       "      <defs>\n",
       "       <path d=\"M 53.515625 70.515625 \n",
       "L 53.515625 60.890625 \n",
       "Q 47.90625 63.578125 42.921875 64.890625 \n",
       "Q 37.9375 66.21875 33.296875 66.21875 \n",
       "Q 25.25 66.21875 20.875 63.09375 \n",
       "Q 16.5 59.96875 16.5 54.203125 \n",
       "Q 16.5 49.359375 19.40625 46.890625 \n",
       "Q 22.3125 44.4375 30.421875 42.921875 \n",
       "L 36.375 41.703125 \n",
       "Q 47.40625 39.59375 52.65625 34.296875 \n",
       "Q 57.90625 29 57.90625 20.125 \n",
       "Q 57.90625 9.515625 50.796875 4.046875 \n",
       "Q 43.703125 -1.421875 29.984375 -1.421875 \n",
       "Q 24.8125 -1.421875 18.96875 -0.25 \n",
       "Q 13.140625 0.921875 6.890625 3.21875 \n",
       "L 6.890625 13.375 \n",
       "Q 12.890625 10.015625 18.65625 8.296875 \n",
       "Q 24.421875 6.59375 29.984375 6.59375 \n",
       "Q 38.421875 6.59375 43.015625 9.90625 \n",
       "Q 47.609375 13.234375 47.609375 19.390625 \n",
       "Q 47.609375 24.75 44.3125 27.78125 \n",
       "Q 41.015625 30.8125 33.5 32.328125 \n",
       "L 27.484375 33.5 \n",
       "Q 16.453125 35.6875 11.515625 40.375 \n",
       "Q 6.59375 45.0625 6.59375 53.421875 \n",
       "Q 6.59375 63.09375 13.40625 68.65625 \n",
       "Q 20.21875 74.21875 32.171875 74.21875 \n",
       "Q 37.3125 74.21875 42.625 73.28125 \n",
       "Q 47.953125 72.359375 53.515625 70.515625 \n",
       "z\n",
       "\" id=\"DejaVuSans-83\"/>\n",
       "       <path d=\"M 18.109375 8.203125 \n",
       "L 18.109375 -20.796875 \n",
       "L 9.078125 -20.796875 \n",
       "L 9.078125 54.6875 \n",
       "L 18.109375 54.6875 \n",
       "L 18.109375 46.390625 \n",
       "Q 20.953125 51.265625 25.265625 53.625 \n",
       "Q 29.59375 56 35.59375 56 \n",
       "Q 45.5625 56 51.78125 48.09375 \n",
       "Q 58.015625 40.1875 58.015625 27.296875 \n",
       "Q 58.015625 14.40625 51.78125 6.484375 \n",
       "Q 45.5625 -1.421875 35.59375 -1.421875 \n",
       "Q 29.59375 -1.421875 25.265625 0.953125 \n",
       "Q 20.953125 3.328125 18.109375 8.203125 \n",
       "z\n",
       "M 48.6875 27.296875 \n",
       "Q 48.6875 37.203125 44.609375 42.84375 \n",
       "Q 40.53125 48.484375 33.40625 48.484375 \n",
       "Q 26.265625 48.484375 22.1875 42.84375 \n",
       "Q 18.109375 37.203125 18.109375 27.296875 \n",
       "Q 18.109375 17.390625 22.1875 11.75 \n",
       "Q 26.265625 6.109375 33.40625 6.109375 \n",
       "Q 40.53125 6.109375 44.609375 11.75 \n",
       "Q 48.6875 17.390625 48.6875 27.296875 \n",
       "z\n",
       "\" id=\"DejaVuSans-112\"/>\n",
       "       <path d=\"M 45.40625 46.390625 \n",
       "L 45.40625 75.984375 \n",
       "L 54.390625 75.984375 \n",
       "L 54.390625 0 \n",
       "L 45.40625 0 \n",
       "L 45.40625 8.203125 \n",
       "Q 42.578125 3.328125 38.25 0.953125 \n",
       "Q 33.9375 -1.421875 27.875 -1.421875 \n",
       "Q 17.96875 -1.421875 11.734375 6.484375 \n",
       "Q 5.515625 14.40625 5.515625 27.296875 \n",
       "Q 5.515625 40.1875 11.734375 48.09375 \n",
       "Q 17.96875 56 27.875 56 \n",
       "Q 33.9375 56 38.25 53.625 \n",
       "Q 42.578125 51.265625 45.40625 46.390625 \n",
       "z\n",
       "M 14.796875 27.296875 \n",
       "Q 14.796875 17.390625 18.875 11.75 \n",
       "Q 22.953125 6.109375 30.078125 6.109375 \n",
       "Q 37.203125 6.109375 41.296875 11.75 \n",
       "Q 45.40625 17.390625 45.40625 27.296875 \n",
       "Q 45.40625 37.203125 41.296875 42.84375 \n",
       "Q 37.203125 48.484375 30.078125 48.484375 \n",
       "Q 22.953125 48.484375 18.875 42.84375 \n",
       "Q 14.796875 37.203125 14.796875 27.296875 \n",
       "z\n",
       "\" id=\"DejaVuSans-100\"/>\n",
       "       <path d=\"M 25.390625 72.90625 \n",
       "L 33.6875 72.90625 \n",
       "L 8.296875 -9.28125 \n",
       "L 0 -9.28125 \n",
       "z\n",
       "\" id=\"DejaVuSans-47\"/>\n",
       "      </defs>\n",
       "      <use xlink:href=\"#DejaVuSans-83\"/>\n",
       "      <use x=\"63.476562\" xlink:href=\"#DejaVuSans-112\"/>\n",
       "      <use x=\"126.953125\" xlink:href=\"#DejaVuSans-101\"/>\n",
       "      <use x=\"188.476562\" xlink:href=\"#DejaVuSans-101\"/>\n",
       "      <use x=\"250\" xlink:href=\"#DejaVuSans-100\"/>\n",
       "      <use x=\"313.476562\" xlink:href=\"#DejaVuSans-32\"/>\n",
       "      <use x=\"345.263672\" xlink:href=\"#DejaVuSans-91\"/>\n",
       "      <use x=\"384.277344\" xlink:href=\"#DejaVuSans-109\"/>\n",
       "      <use x=\"481.689453\" xlink:href=\"#DejaVuSans-47\"/>\n",
       "      <use x=\"515.380859\" xlink:href=\"#DejaVuSans-115\"/>\n",
       "      <use x=\"567.480469\" xlink:href=\"#DejaVuSans-93\"/>\n",
       "     </g>\n",
       "    </g>\n",
       "   </g>\n",
       "   <g id=\"line2d_113\">\n",
       "    <path clip-path=\"url(#p5d31a50733)\" d=\"M 46.945 302.58 \n",
       "L 121.345 183.6675 \n",
       "L 195.745 98.73 \n",
       "L 270.145 47.7675 \n",
       "L 344.545 30.78 \n",
       "L 418.945 47.7675 \n",
       "L 493.345 98.73 \n",
       "\" style=\"fill:none;stroke:#0c5da5;stroke-linecap:square;stroke-width:2;\"/>\n",
       "   </g>\n",
       "   <g id=\"patch_3\">\n",
       "    <path d=\"M 46.945 329.76 \n",
       "L 46.945 3.6 \n",
       "\" style=\"fill:none;stroke:#000000;stroke-linecap:square;stroke-linejoin:miter;\"/>\n",
       "   </g>\n",
       "   <g id=\"patch_4\">\n",
       "    <path d=\"M 493.345 329.76 \n",
       "L 493.345 3.6 \n",
       "\" style=\"fill:none;stroke:#000000;stroke-linecap:square;stroke-linejoin:miter;\"/>\n",
       "   </g>\n",
       "   <g id=\"patch_5\">\n",
       "    <path d=\"M 46.945 329.76 \n",
       "L 493.345 329.76 \n",
       "\" style=\"fill:none;stroke:#000000;stroke-linecap:square;stroke-linejoin:miter;\"/>\n",
       "   </g>\n",
       "   <g id=\"patch_6\">\n",
       "    <path d=\"M 46.945 3.6 \n",
       "L 493.345 3.6 \n",
       "\" style=\"fill:none;stroke:#000000;stroke-linecap:square;stroke-linejoin:miter;\"/>\n",
       "   </g>\n",
       "  </g>\n",
       " </g>\n",
       " <defs>\n",
       "  <clipPath id=\"p5d31a50733\">\n",
       "   <rect height=\"326.16\" width=\"446.4\" x=\"46.945\" y=\"3.6\"/>\n",
       "  </clipPath>\n",
       " </defs>\n",
       "</svg>\n"
      ],
      "text/plain": [
       "<Figure size 576x432 with 1 Axes>"
      ]
     },
     "metadata": {
      "needs_background": "light"
     },
     "output_type": "display_data"
    }
   ],
   "source": [
    "plt.plot(time, speed)\n",
    "plt.xlabel(\"Time [s]\")\n",
    "plt.ylabel(\"Speed [m/s]\")\n",
    "plt.margins(0, 0.1)\n",
    "plt.show();"
   ]
  },
  {
   "cell_type": "code",
   "execution_count": 14,
   "id": "19e2e473",
   "metadata": {},
   "outputs": [
    {
     "data": {
      "text/plain": [
       "array([ 2.,  8., 10.])"
      ]
     },
     "execution_count": 14,
     "metadata": {},
     "output_type": "execute_result"
    }
   ],
   "source": [
    "interval = len(time) // 3\n",
    "last_index = len(time) - len(time) % interval\n",
    "\n",
    "time_slice = time[:last_index + 1:interval]\n",
    "speed_slice = speed[:last_index:interval]\n",
    "\n",
    "distance = speed_slice * np.diff(time_slice)\n",
    "distance"
   ]
  },
  {
   "cell_type": "code",
   "execution_count": 15,
   "id": "ffc5a98c",
   "metadata": {},
   "outputs": [
    {
     "data": {
      "image/svg+xml": [
       "<?xml version=\"1.0\" encoding=\"utf-8\" standalone=\"no\"?>\n",
       "<!DOCTYPE svg PUBLIC \"-//W3C//DTD SVG 1.1//EN\"\n",
       "  \"http://www.w3.org/Graphics/SVG/1.1/DTD/svg11.dtd\">\n",
       "<!-- Created with matplotlib (https://matplotlib.org/) -->\n",
       "<svg height=\"371.83pt\" version=\"1.1\" viewBox=\"0 0 530.0225 371.83\" width=\"530.0225pt\" xmlns=\"http://www.w3.org/2000/svg\" xmlns:xlink=\"http://www.w3.org/1999/xlink\">\n",
       " <metadata>\n",
       "  <rdf:RDF xmlns:cc=\"http://creativecommons.org/ns#\" xmlns:dc=\"http://purl.org/dc/elements/1.1/\" xmlns:rdf=\"http://www.w3.org/1999/02/22-rdf-syntax-ns#\">\n",
       "   <cc:Work>\n",
       "    <dc:type rdf:resource=\"http://purl.org/dc/dcmitype/StillImage\"/>\n",
       "    <dc:date>2021-08-28T15:45:53.328430</dc:date>\n",
       "    <dc:format>image/svg+xml</dc:format>\n",
       "    <dc:creator>\n",
       "     <cc:Agent>\n",
       "      <dc:title>Matplotlib v3.3.4, https://matplotlib.org/</dc:title>\n",
       "     </cc:Agent>\n",
       "    </dc:creator>\n",
       "   </cc:Work>\n",
       "  </rdf:RDF>\n",
       " </metadata>\n",
       " <defs>\n",
       "  <style type=\"text/css\">*{stroke-linecap:butt;stroke-linejoin:round;}</style>\n",
       " </defs>\n",
       " <g id=\"figure_1\">\n",
       "  <g id=\"patch_1\">\n",
       "   <path d=\"M 0 371.83 \n",
       "L 530.0225 371.83 \n",
       "L 530.0225 0 \n",
       "L 0 0 \n",
       "z\n",
       "\" style=\"fill:none;\"/>\n",
       "  </g>\n",
       "  <g id=\"axes_1\">\n",
       "   <g id=\"patch_2\">\n",
       "    <path d=\"M 62.21 329.76 \n",
       "L 508.61 329.76 \n",
       "L 508.61 3.6 \n",
       "L 62.21 3.6 \n",
       "z\n",
       "\" style=\"fill:#ffffff;\"/>\n",
       "   </g>\n",
       "   <g id=\"matplotlib.axis_1\">\n",
       "    <g id=\"xtick_1\">\n",
       "     <g id=\"line2d_1\">\n",
       "      <path clip-path=\"url(#pd718d0bbc7)\" d=\"M 62.21 329.76 \n",
       "L 62.21 3.6 \n",
       "\" style=\"fill:none;stroke:#000000;stroke-dasharray:1.85,0.8;stroke-dashoffset:0;stroke-opacity:0.5;stroke-width:0.5;\"/>\n",
       "     </g>\n",
       "     <g id=\"line2d_2\">\n",
       "      <defs>\n",
       "       <path d=\"M 0 0 \n",
       "L 0 -6 \n",
       "\" id=\"m750c77112c\" style=\"stroke:#000000;\"/>\n",
       "      </defs>\n",
       "      <g>\n",
       "       <use style=\"stroke:#000000;\" x=\"62.21\" xlink:href=\"#m750c77112c\" y=\"329.76\"/>\n",
       "      </g>\n",
       "     </g>\n",
       "     <g id=\"line2d_3\">\n",
       "      <defs>\n",
       "       <path d=\"M 0 0 \n",
       "L 0 6 \n",
       "\" id=\"m6d58723539\" style=\"stroke:#000000;\"/>\n",
       "      </defs>\n",
       "      <g>\n",
       "       <use style=\"stroke:#000000;\" x=\"62.21\" xlink:href=\"#m6d58723539\" y=\"3.6\"/>\n",
       "      </g>\n",
       "     </g>\n",
       "     <g id=\"text_1\">\n",
       "      <!-- 0.00 -->\n",
       "      <g transform=\"translate(44.3975 345.4175)scale(0.16 -0.16)\">\n",
       "       <defs>\n",
       "        <path d=\"M 31.78125 66.40625 \n",
       "Q 24.171875 66.40625 20.328125 58.90625 \n",
       "Q 16.5 51.421875 16.5 36.375 \n",
       "Q 16.5 21.390625 20.328125 13.890625 \n",
       "Q 24.171875 6.390625 31.78125 6.390625 \n",
       "Q 39.453125 6.390625 43.28125 13.890625 \n",
       "Q 47.125 21.390625 47.125 36.375 \n",
       "Q 47.125 51.421875 43.28125 58.90625 \n",
       "Q 39.453125 66.40625 31.78125 66.40625 \n",
       "z\n",
       "M 31.78125 74.21875 \n",
       "Q 44.046875 74.21875 50.515625 64.515625 \n",
       "Q 56.984375 54.828125 56.984375 36.375 \n",
       "Q 56.984375 17.96875 50.515625 8.265625 \n",
       "Q 44.046875 -1.421875 31.78125 -1.421875 \n",
       "Q 19.53125 -1.421875 13.0625 8.265625 \n",
       "Q 6.59375 17.96875 6.59375 36.375 \n",
       "Q 6.59375 54.828125 13.0625 64.515625 \n",
       "Q 19.53125 74.21875 31.78125 74.21875 \n",
       "z\n",
       "\" id=\"DejaVuSans-48\"/>\n",
       "        <path d=\"M 10.6875 12.40625 \n",
       "L 21 12.40625 \n",
       "L 21 0 \n",
       "L 10.6875 0 \n",
       "z\n",
       "\" id=\"DejaVuSans-46\"/>\n",
       "       </defs>\n",
       "       <use xlink:href=\"#DejaVuSans-48\"/>\n",
       "       <use x=\"63.623047\" xlink:href=\"#DejaVuSans-46\"/>\n",
       "       <use x=\"95.410156\" xlink:href=\"#DejaVuSans-48\"/>\n",
       "       <use x=\"159.033203\" xlink:href=\"#DejaVuSans-48\"/>\n",
       "      </g>\n",
       "     </g>\n",
       "    </g>\n",
       "    <g id=\"xtick_2\">\n",
       "     <g id=\"line2d_4\">\n",
       "      <path clip-path=\"url(#pd718d0bbc7)\" d=\"M 118.01 329.76 \n",
       "L 118.01 3.6 \n",
       "\" style=\"fill:none;stroke:#000000;stroke-dasharray:1.85,0.8;stroke-dashoffset:0;stroke-opacity:0.5;stroke-width:0.5;\"/>\n",
       "     </g>\n",
       "     <g id=\"line2d_5\">\n",
       "      <g>\n",
       "       <use style=\"stroke:#000000;\" x=\"118.01\" xlink:href=\"#m750c77112c\" y=\"329.76\"/>\n",
       "      </g>\n",
       "     </g>\n",
       "     <g id=\"line2d_6\">\n",
       "      <g>\n",
       "       <use style=\"stroke:#000000;\" x=\"118.01\" xlink:href=\"#m6d58723539\" y=\"3.6\"/>\n",
       "      </g>\n",
       "     </g>\n",
       "     <g id=\"text_2\">\n",
       "      <!-- 0.25 -->\n",
       "      <g transform=\"translate(100.1975 345.4175)scale(0.16 -0.16)\">\n",
       "       <defs>\n",
       "        <path d=\"M 19.1875 8.296875 \n",
       "L 53.609375 8.296875 \n",
       "L 53.609375 0 \n",
       "L 7.328125 0 \n",
       "L 7.328125 8.296875 \n",
       "Q 12.9375 14.109375 22.625 23.890625 \n",
       "Q 32.328125 33.6875 34.8125 36.53125 \n",
       "Q 39.546875 41.84375 41.421875 45.53125 \n",
       "Q 43.3125 49.21875 43.3125 52.78125 \n",
       "Q 43.3125 58.59375 39.234375 62.25 \n",
       "Q 35.15625 65.921875 28.609375 65.921875 \n",
       "Q 23.96875 65.921875 18.8125 64.3125 \n",
       "Q 13.671875 62.703125 7.8125 59.421875 \n",
       "L 7.8125 69.390625 \n",
       "Q 13.765625 71.78125 18.9375 73 \n",
       "Q 24.125 74.21875 28.421875 74.21875 \n",
       "Q 39.75 74.21875 46.484375 68.546875 \n",
       "Q 53.21875 62.890625 53.21875 53.421875 \n",
       "Q 53.21875 48.921875 51.53125 44.890625 \n",
       "Q 49.859375 40.875 45.40625 35.40625 \n",
       "Q 44.1875 33.984375 37.640625 27.21875 \n",
       "Q 31.109375 20.453125 19.1875 8.296875 \n",
       "z\n",
       "\" id=\"DejaVuSans-50\"/>\n",
       "        <path d=\"M 10.796875 72.90625 \n",
       "L 49.515625 72.90625 \n",
       "L 49.515625 64.59375 \n",
       "L 19.828125 64.59375 \n",
       "L 19.828125 46.734375 \n",
       "Q 21.96875 47.46875 24.109375 47.828125 \n",
       "Q 26.265625 48.1875 28.421875 48.1875 \n",
       "Q 40.625 48.1875 47.75 41.5 \n",
       "Q 54.890625 34.8125 54.890625 23.390625 \n",
       "Q 54.890625 11.625 47.5625 5.09375 \n",
       "Q 40.234375 -1.421875 26.90625 -1.421875 \n",
       "Q 22.3125 -1.421875 17.546875 -0.640625 \n",
       "Q 12.796875 0.140625 7.71875 1.703125 \n",
       "L 7.71875 11.625 \n",
       "Q 12.109375 9.234375 16.796875 8.0625 \n",
       "Q 21.484375 6.890625 26.703125 6.890625 \n",
       "Q 35.15625 6.890625 40.078125 11.328125 \n",
       "Q 45.015625 15.765625 45.015625 23.390625 \n",
       "Q 45.015625 31 40.078125 35.4375 \n",
       "Q 35.15625 39.890625 26.703125 39.890625 \n",
       "Q 22.75 39.890625 18.8125 39.015625 \n",
       "Q 14.890625 38.140625 10.796875 36.28125 \n",
       "z\n",
       "\" id=\"DejaVuSans-53\"/>\n",
       "       </defs>\n",
       "       <use xlink:href=\"#DejaVuSans-48\"/>\n",
       "       <use x=\"63.623047\" xlink:href=\"#DejaVuSans-46\"/>\n",
       "       <use x=\"95.410156\" xlink:href=\"#DejaVuSans-50\"/>\n",
       "       <use x=\"159.033203\" xlink:href=\"#DejaVuSans-53\"/>\n",
       "      </g>\n",
       "     </g>\n",
       "    </g>\n",
       "    <g id=\"xtick_3\">\n",
       "     <g id=\"line2d_7\">\n",
       "      <path clip-path=\"url(#pd718d0bbc7)\" d=\"M 173.81 329.76 \n",
       "L 173.81 3.6 \n",
       "\" style=\"fill:none;stroke:#000000;stroke-dasharray:1.85,0.8;stroke-dashoffset:0;stroke-opacity:0.5;stroke-width:0.5;\"/>\n",
       "     </g>\n",
       "     <g id=\"line2d_8\">\n",
       "      <g>\n",
       "       <use style=\"stroke:#000000;\" x=\"173.81\" xlink:href=\"#m750c77112c\" y=\"329.76\"/>\n",
       "      </g>\n",
       "     </g>\n",
       "     <g id=\"line2d_9\">\n",
       "      <g>\n",
       "       <use style=\"stroke:#000000;\" x=\"173.81\" xlink:href=\"#m6d58723539\" y=\"3.6\"/>\n",
       "      </g>\n",
       "     </g>\n",
       "     <g id=\"text_3\">\n",
       "      <!-- 0.50 -->\n",
       "      <g transform=\"translate(155.9975 345.4175)scale(0.16 -0.16)\">\n",
       "       <use xlink:href=\"#DejaVuSans-48\"/>\n",
       "       <use x=\"63.623047\" xlink:href=\"#DejaVuSans-46\"/>\n",
       "       <use x=\"95.410156\" xlink:href=\"#DejaVuSans-53\"/>\n",
       "       <use x=\"159.033203\" xlink:href=\"#DejaVuSans-48\"/>\n",
       "      </g>\n",
       "     </g>\n",
       "    </g>\n",
       "    <g id=\"xtick_4\">\n",
       "     <g id=\"line2d_10\">\n",
       "      <path clip-path=\"url(#pd718d0bbc7)\" d=\"M 229.61 329.76 \n",
       "L 229.61 3.6 \n",
       "\" style=\"fill:none;stroke:#000000;stroke-dasharray:1.85,0.8;stroke-dashoffset:0;stroke-opacity:0.5;stroke-width:0.5;\"/>\n",
       "     </g>\n",
       "     <g id=\"line2d_11\">\n",
       "      <g>\n",
       "       <use style=\"stroke:#000000;\" x=\"229.61\" xlink:href=\"#m750c77112c\" y=\"329.76\"/>\n",
       "      </g>\n",
       "     </g>\n",
       "     <g id=\"line2d_12\">\n",
       "      <g>\n",
       "       <use style=\"stroke:#000000;\" x=\"229.61\" xlink:href=\"#m6d58723539\" y=\"3.6\"/>\n",
       "      </g>\n",
       "     </g>\n",
       "     <g id=\"text_4\">\n",
       "      <!-- 0.75 -->\n",
       "      <g transform=\"translate(211.7975 345.4175)scale(0.16 -0.16)\">\n",
       "       <defs>\n",
       "        <path d=\"M 8.203125 72.90625 \n",
       "L 55.078125 72.90625 \n",
       "L 55.078125 68.703125 \n",
       "L 28.609375 0 \n",
       "L 18.3125 0 \n",
       "L 43.21875 64.59375 \n",
       "L 8.203125 64.59375 \n",
       "z\n",
       "\" id=\"DejaVuSans-55\"/>\n",
       "       </defs>\n",
       "       <use xlink:href=\"#DejaVuSans-48\"/>\n",
       "       <use x=\"63.623047\" xlink:href=\"#DejaVuSans-46\"/>\n",
       "       <use x=\"95.410156\" xlink:href=\"#DejaVuSans-55\"/>\n",
       "       <use x=\"159.033203\" xlink:href=\"#DejaVuSans-53\"/>\n",
       "      </g>\n",
       "     </g>\n",
       "    </g>\n",
       "    <g id=\"xtick_5\">\n",
       "     <g id=\"line2d_13\">\n",
       "      <path clip-path=\"url(#pd718d0bbc7)\" d=\"M 285.41 329.76 \n",
       "L 285.41 3.6 \n",
       "\" style=\"fill:none;stroke:#000000;stroke-dasharray:1.85,0.8;stroke-dashoffset:0;stroke-opacity:0.5;stroke-width:0.5;\"/>\n",
       "     </g>\n",
       "     <g id=\"line2d_14\">\n",
       "      <g>\n",
       "       <use style=\"stroke:#000000;\" x=\"285.41\" xlink:href=\"#m750c77112c\" y=\"329.76\"/>\n",
       "      </g>\n",
       "     </g>\n",
       "     <g id=\"line2d_15\">\n",
       "      <g>\n",
       "       <use style=\"stroke:#000000;\" x=\"285.41\" xlink:href=\"#m6d58723539\" y=\"3.6\"/>\n",
       "      </g>\n",
       "     </g>\n",
       "     <g id=\"text_5\">\n",
       "      <!-- 1.00 -->\n",
       "      <g transform=\"translate(267.5975 345.4175)scale(0.16 -0.16)\">\n",
       "       <defs>\n",
       "        <path d=\"M 12.40625 8.296875 \n",
       "L 28.515625 8.296875 \n",
       "L 28.515625 63.921875 \n",
       "L 10.984375 60.40625 \n",
       "L 10.984375 69.390625 \n",
       "L 28.421875 72.90625 \n",
       "L 38.28125 72.90625 \n",
       "L 38.28125 8.296875 \n",
       "L 54.390625 8.296875 \n",
       "L 54.390625 0 \n",
       "L 12.40625 0 \n",
       "z\n",
       "\" id=\"DejaVuSans-49\"/>\n",
       "       </defs>\n",
       "       <use xlink:href=\"#DejaVuSans-49\"/>\n",
       "       <use x=\"63.623047\" xlink:href=\"#DejaVuSans-46\"/>\n",
       "       <use x=\"95.410156\" xlink:href=\"#DejaVuSans-48\"/>\n",
       "       <use x=\"159.033203\" xlink:href=\"#DejaVuSans-48\"/>\n",
       "      </g>\n",
       "     </g>\n",
       "    </g>\n",
       "    <g id=\"xtick_6\">\n",
       "     <g id=\"line2d_16\">\n",
       "      <path clip-path=\"url(#pd718d0bbc7)\" d=\"M 341.21 329.76 \n",
       "L 341.21 3.6 \n",
       "\" style=\"fill:none;stroke:#000000;stroke-dasharray:1.85,0.8;stroke-dashoffset:0;stroke-opacity:0.5;stroke-width:0.5;\"/>\n",
       "     </g>\n",
       "     <g id=\"line2d_17\">\n",
       "      <g>\n",
       "       <use style=\"stroke:#000000;\" x=\"341.21\" xlink:href=\"#m750c77112c\" y=\"329.76\"/>\n",
       "      </g>\n",
       "     </g>\n",
       "     <g id=\"line2d_18\">\n",
       "      <g>\n",
       "       <use style=\"stroke:#000000;\" x=\"341.21\" xlink:href=\"#m6d58723539\" y=\"3.6\"/>\n",
       "      </g>\n",
       "     </g>\n",
       "     <g id=\"text_6\">\n",
       "      <!-- 1.25 -->\n",
       "      <g transform=\"translate(323.3975 345.4175)scale(0.16 -0.16)\">\n",
       "       <use xlink:href=\"#DejaVuSans-49\"/>\n",
       "       <use x=\"63.623047\" xlink:href=\"#DejaVuSans-46\"/>\n",
       "       <use x=\"95.410156\" xlink:href=\"#DejaVuSans-50\"/>\n",
       "       <use x=\"159.033203\" xlink:href=\"#DejaVuSans-53\"/>\n",
       "      </g>\n",
       "     </g>\n",
       "    </g>\n",
       "    <g id=\"xtick_7\">\n",
       "     <g id=\"line2d_19\">\n",
       "      <path clip-path=\"url(#pd718d0bbc7)\" d=\"M 397.01 329.76 \n",
       "L 397.01 3.6 \n",
       "\" style=\"fill:none;stroke:#000000;stroke-dasharray:1.85,0.8;stroke-dashoffset:0;stroke-opacity:0.5;stroke-width:0.5;\"/>\n",
       "     </g>\n",
       "     <g id=\"line2d_20\">\n",
       "      <g>\n",
       "       <use style=\"stroke:#000000;\" x=\"397.01\" xlink:href=\"#m750c77112c\" y=\"329.76\"/>\n",
       "      </g>\n",
       "     </g>\n",
       "     <g id=\"line2d_21\">\n",
       "      <g>\n",
       "       <use style=\"stroke:#000000;\" x=\"397.01\" xlink:href=\"#m6d58723539\" y=\"3.6\"/>\n",
       "      </g>\n",
       "     </g>\n",
       "     <g id=\"text_7\">\n",
       "      <!-- 1.50 -->\n",
       "      <g transform=\"translate(379.1975 345.4175)scale(0.16 -0.16)\">\n",
       "       <use xlink:href=\"#DejaVuSans-49\"/>\n",
       "       <use x=\"63.623047\" xlink:href=\"#DejaVuSans-46\"/>\n",
       "       <use x=\"95.410156\" xlink:href=\"#DejaVuSans-53\"/>\n",
       "       <use x=\"159.033203\" xlink:href=\"#DejaVuSans-48\"/>\n",
       "      </g>\n",
       "     </g>\n",
       "    </g>\n",
       "    <g id=\"xtick_8\">\n",
       "     <g id=\"line2d_22\">\n",
       "      <path clip-path=\"url(#pd718d0bbc7)\" d=\"M 452.81 329.76 \n",
       "L 452.81 3.6 \n",
       "\" style=\"fill:none;stroke:#000000;stroke-dasharray:1.85,0.8;stroke-dashoffset:0;stroke-opacity:0.5;stroke-width:0.5;\"/>\n",
       "     </g>\n",
       "     <g id=\"line2d_23\">\n",
       "      <g>\n",
       "       <use style=\"stroke:#000000;\" x=\"452.81\" xlink:href=\"#m750c77112c\" y=\"329.76\"/>\n",
       "      </g>\n",
       "     </g>\n",
       "     <g id=\"line2d_24\">\n",
       "      <g>\n",
       "       <use style=\"stroke:#000000;\" x=\"452.81\" xlink:href=\"#m6d58723539\" y=\"3.6\"/>\n",
       "      </g>\n",
       "     </g>\n",
       "     <g id=\"text_8\">\n",
       "      <!-- 1.75 -->\n",
       "      <g transform=\"translate(434.9975 345.4175)scale(0.16 -0.16)\">\n",
       "       <use xlink:href=\"#DejaVuSans-49\"/>\n",
       "       <use x=\"63.623047\" xlink:href=\"#DejaVuSans-46\"/>\n",
       "       <use x=\"95.410156\" xlink:href=\"#DejaVuSans-55\"/>\n",
       "       <use x=\"159.033203\" xlink:href=\"#DejaVuSans-53\"/>\n",
       "      </g>\n",
       "     </g>\n",
       "    </g>\n",
       "    <g id=\"xtick_9\">\n",
       "     <g id=\"line2d_25\">\n",
       "      <path clip-path=\"url(#pd718d0bbc7)\" d=\"M 508.61 329.76 \n",
       "L 508.61 3.6 \n",
       "\" style=\"fill:none;stroke:#000000;stroke-dasharray:1.85,0.8;stroke-dashoffset:0;stroke-opacity:0.5;stroke-width:0.5;\"/>\n",
       "     </g>\n",
       "     <g id=\"line2d_26\">\n",
       "      <g>\n",
       "       <use style=\"stroke:#000000;\" x=\"508.61\" xlink:href=\"#m750c77112c\" y=\"329.76\"/>\n",
       "      </g>\n",
       "     </g>\n",
       "     <g id=\"line2d_27\">\n",
       "      <g>\n",
       "       <use style=\"stroke:#000000;\" x=\"508.61\" xlink:href=\"#m6d58723539\" y=\"3.6\"/>\n",
       "      </g>\n",
       "     </g>\n",
       "     <g id=\"text_9\">\n",
       "      <!-- 2.00 -->\n",
       "      <g transform=\"translate(490.7975 345.4175)scale(0.16 -0.16)\">\n",
       "       <use xlink:href=\"#DejaVuSans-50\"/>\n",
       "       <use x=\"63.623047\" xlink:href=\"#DejaVuSans-46\"/>\n",
       "       <use x=\"95.410156\" xlink:href=\"#DejaVuSans-48\"/>\n",
       "       <use x=\"159.033203\" xlink:href=\"#DejaVuSans-48\"/>\n",
       "      </g>\n",
       "     </g>\n",
       "    </g>\n",
       "    <g id=\"xtick_10\">\n",
       "     <g id=\"line2d_28\">\n",
       "      <defs>\n",
       "       <path d=\"M 0 0 \n",
       "L 0 -3 \n",
       "\" id=\"m56b9f74641\" style=\"stroke:#000000;\"/>\n",
       "      </defs>\n",
       "      <g>\n",
       "       <use style=\"stroke:#000000;\" x=\"73.37\" xlink:href=\"#m56b9f74641\" y=\"329.76\"/>\n",
       "      </g>\n",
       "     </g>\n",
       "     <g id=\"line2d_29\">\n",
       "      <defs>\n",
       "       <path d=\"M 0 0 \n",
       "L 0 3 \n",
       "\" id=\"m768d7ed26b\" style=\"stroke:#000000;\"/>\n",
       "      </defs>\n",
       "      <g>\n",
       "       <use style=\"stroke:#000000;\" x=\"73.37\" xlink:href=\"#m768d7ed26b\" y=\"3.6\"/>\n",
       "      </g>\n",
       "     </g>\n",
       "    </g>\n",
       "    <g id=\"xtick_11\">\n",
       "     <g id=\"line2d_30\">\n",
       "      <g>\n",
       "       <use style=\"stroke:#000000;\" x=\"84.53\" xlink:href=\"#m56b9f74641\" y=\"329.76\"/>\n",
       "      </g>\n",
       "     </g>\n",
       "     <g id=\"line2d_31\">\n",
       "      <g>\n",
       "       <use style=\"stroke:#000000;\" x=\"84.53\" xlink:href=\"#m768d7ed26b\" y=\"3.6\"/>\n",
       "      </g>\n",
       "     </g>\n",
       "    </g>\n",
       "    <g id=\"xtick_12\">\n",
       "     <g id=\"line2d_32\">\n",
       "      <g>\n",
       "       <use style=\"stroke:#000000;\" x=\"95.69\" xlink:href=\"#m56b9f74641\" y=\"329.76\"/>\n",
       "      </g>\n",
       "     </g>\n",
       "     <g id=\"line2d_33\">\n",
       "      <g>\n",
       "       <use style=\"stroke:#000000;\" x=\"95.69\" xlink:href=\"#m768d7ed26b\" y=\"3.6\"/>\n",
       "      </g>\n",
       "     </g>\n",
       "    </g>\n",
       "    <g id=\"xtick_13\">\n",
       "     <g id=\"line2d_34\">\n",
       "      <g>\n",
       "       <use style=\"stroke:#000000;\" x=\"106.85\" xlink:href=\"#m56b9f74641\" y=\"329.76\"/>\n",
       "      </g>\n",
       "     </g>\n",
       "     <g id=\"line2d_35\">\n",
       "      <g>\n",
       "       <use style=\"stroke:#000000;\" x=\"106.85\" xlink:href=\"#m768d7ed26b\" y=\"3.6\"/>\n",
       "      </g>\n",
       "     </g>\n",
       "    </g>\n",
       "    <g id=\"xtick_14\">\n",
       "     <g id=\"line2d_36\">\n",
       "      <g>\n",
       "       <use style=\"stroke:#000000;\" x=\"129.17\" xlink:href=\"#m56b9f74641\" y=\"329.76\"/>\n",
       "      </g>\n",
       "     </g>\n",
       "     <g id=\"line2d_37\">\n",
       "      <g>\n",
       "       <use style=\"stroke:#000000;\" x=\"129.17\" xlink:href=\"#m768d7ed26b\" y=\"3.6\"/>\n",
       "      </g>\n",
       "     </g>\n",
       "    </g>\n",
       "    <g id=\"xtick_15\">\n",
       "     <g id=\"line2d_38\">\n",
       "      <g>\n",
       "       <use style=\"stroke:#000000;\" x=\"140.33\" xlink:href=\"#m56b9f74641\" y=\"329.76\"/>\n",
       "      </g>\n",
       "     </g>\n",
       "     <g id=\"line2d_39\">\n",
       "      <g>\n",
       "       <use style=\"stroke:#000000;\" x=\"140.33\" xlink:href=\"#m768d7ed26b\" y=\"3.6\"/>\n",
       "      </g>\n",
       "     </g>\n",
       "    </g>\n",
       "    <g id=\"xtick_16\">\n",
       "     <g id=\"line2d_40\">\n",
       "      <g>\n",
       "       <use style=\"stroke:#000000;\" x=\"151.49\" xlink:href=\"#m56b9f74641\" y=\"329.76\"/>\n",
       "      </g>\n",
       "     </g>\n",
       "     <g id=\"line2d_41\">\n",
       "      <g>\n",
       "       <use style=\"stroke:#000000;\" x=\"151.49\" xlink:href=\"#m768d7ed26b\" y=\"3.6\"/>\n",
       "      </g>\n",
       "     </g>\n",
       "    </g>\n",
       "    <g id=\"xtick_17\">\n",
       "     <g id=\"line2d_42\">\n",
       "      <g>\n",
       "       <use style=\"stroke:#000000;\" x=\"162.65\" xlink:href=\"#m56b9f74641\" y=\"329.76\"/>\n",
       "      </g>\n",
       "     </g>\n",
       "     <g id=\"line2d_43\">\n",
       "      <g>\n",
       "       <use style=\"stroke:#000000;\" x=\"162.65\" xlink:href=\"#m768d7ed26b\" y=\"3.6\"/>\n",
       "      </g>\n",
       "     </g>\n",
       "    </g>\n",
       "    <g id=\"xtick_18\">\n",
       "     <g id=\"line2d_44\">\n",
       "      <g>\n",
       "       <use style=\"stroke:#000000;\" x=\"184.97\" xlink:href=\"#m56b9f74641\" y=\"329.76\"/>\n",
       "      </g>\n",
       "     </g>\n",
       "     <g id=\"line2d_45\">\n",
       "      <g>\n",
       "       <use style=\"stroke:#000000;\" x=\"184.97\" xlink:href=\"#m768d7ed26b\" y=\"3.6\"/>\n",
       "      </g>\n",
       "     </g>\n",
       "    </g>\n",
       "    <g id=\"xtick_19\">\n",
       "     <g id=\"line2d_46\">\n",
       "      <g>\n",
       "       <use style=\"stroke:#000000;\" x=\"196.13\" xlink:href=\"#m56b9f74641\" y=\"329.76\"/>\n",
       "      </g>\n",
       "     </g>\n",
       "     <g id=\"line2d_47\">\n",
       "      <g>\n",
       "       <use style=\"stroke:#000000;\" x=\"196.13\" xlink:href=\"#m768d7ed26b\" y=\"3.6\"/>\n",
       "      </g>\n",
       "     </g>\n",
       "    </g>\n",
       "    <g id=\"xtick_20\">\n",
       "     <g id=\"line2d_48\">\n",
       "      <g>\n",
       "       <use style=\"stroke:#000000;\" x=\"207.29\" xlink:href=\"#m56b9f74641\" y=\"329.76\"/>\n",
       "      </g>\n",
       "     </g>\n",
       "     <g id=\"line2d_49\">\n",
       "      <g>\n",
       "       <use style=\"stroke:#000000;\" x=\"207.29\" xlink:href=\"#m768d7ed26b\" y=\"3.6\"/>\n",
       "      </g>\n",
       "     </g>\n",
       "    </g>\n",
       "    <g id=\"xtick_21\">\n",
       "     <g id=\"line2d_50\">\n",
       "      <g>\n",
       "       <use style=\"stroke:#000000;\" x=\"218.45\" xlink:href=\"#m56b9f74641\" y=\"329.76\"/>\n",
       "      </g>\n",
       "     </g>\n",
       "     <g id=\"line2d_51\">\n",
       "      <g>\n",
       "       <use style=\"stroke:#000000;\" x=\"218.45\" xlink:href=\"#m768d7ed26b\" y=\"3.6\"/>\n",
       "      </g>\n",
       "     </g>\n",
       "    </g>\n",
       "    <g id=\"xtick_22\">\n",
       "     <g id=\"line2d_52\">\n",
       "      <g>\n",
       "       <use style=\"stroke:#000000;\" x=\"240.77\" xlink:href=\"#m56b9f74641\" y=\"329.76\"/>\n",
       "      </g>\n",
       "     </g>\n",
       "     <g id=\"line2d_53\">\n",
       "      <g>\n",
       "       <use style=\"stroke:#000000;\" x=\"240.77\" xlink:href=\"#m768d7ed26b\" y=\"3.6\"/>\n",
       "      </g>\n",
       "     </g>\n",
       "    </g>\n",
       "    <g id=\"xtick_23\">\n",
       "     <g id=\"line2d_54\">\n",
       "      <g>\n",
       "       <use style=\"stroke:#000000;\" x=\"251.93\" xlink:href=\"#m56b9f74641\" y=\"329.76\"/>\n",
       "      </g>\n",
       "     </g>\n",
       "     <g id=\"line2d_55\">\n",
       "      <g>\n",
       "       <use style=\"stroke:#000000;\" x=\"251.93\" xlink:href=\"#m768d7ed26b\" y=\"3.6\"/>\n",
       "      </g>\n",
       "     </g>\n",
       "    </g>\n",
       "    <g id=\"xtick_24\">\n",
       "     <g id=\"line2d_56\">\n",
       "      <g>\n",
       "       <use style=\"stroke:#000000;\" x=\"263.09\" xlink:href=\"#m56b9f74641\" y=\"329.76\"/>\n",
       "      </g>\n",
       "     </g>\n",
       "     <g id=\"line2d_57\">\n",
       "      <g>\n",
       "       <use style=\"stroke:#000000;\" x=\"263.09\" xlink:href=\"#m768d7ed26b\" y=\"3.6\"/>\n",
       "      </g>\n",
       "     </g>\n",
       "    </g>\n",
       "    <g id=\"xtick_25\">\n",
       "     <g id=\"line2d_58\">\n",
       "      <g>\n",
       "       <use style=\"stroke:#000000;\" x=\"274.25\" xlink:href=\"#m56b9f74641\" y=\"329.76\"/>\n",
       "      </g>\n",
       "     </g>\n",
       "     <g id=\"line2d_59\">\n",
       "      <g>\n",
       "       <use style=\"stroke:#000000;\" x=\"274.25\" xlink:href=\"#m768d7ed26b\" y=\"3.6\"/>\n",
       "      </g>\n",
       "     </g>\n",
       "    </g>\n",
       "    <g id=\"xtick_26\">\n",
       "     <g id=\"line2d_60\">\n",
       "      <g>\n",
       "       <use style=\"stroke:#000000;\" x=\"296.57\" xlink:href=\"#m56b9f74641\" y=\"329.76\"/>\n",
       "      </g>\n",
       "     </g>\n",
       "     <g id=\"line2d_61\">\n",
       "      <g>\n",
       "       <use style=\"stroke:#000000;\" x=\"296.57\" xlink:href=\"#m768d7ed26b\" y=\"3.6\"/>\n",
       "      </g>\n",
       "     </g>\n",
       "    </g>\n",
       "    <g id=\"xtick_27\">\n",
       "     <g id=\"line2d_62\">\n",
       "      <g>\n",
       "       <use style=\"stroke:#000000;\" x=\"307.73\" xlink:href=\"#m56b9f74641\" y=\"329.76\"/>\n",
       "      </g>\n",
       "     </g>\n",
       "     <g id=\"line2d_63\">\n",
       "      <g>\n",
       "       <use style=\"stroke:#000000;\" x=\"307.73\" xlink:href=\"#m768d7ed26b\" y=\"3.6\"/>\n",
       "      </g>\n",
       "     </g>\n",
       "    </g>\n",
       "    <g id=\"xtick_28\">\n",
       "     <g id=\"line2d_64\">\n",
       "      <g>\n",
       "       <use style=\"stroke:#000000;\" x=\"318.89\" xlink:href=\"#m56b9f74641\" y=\"329.76\"/>\n",
       "      </g>\n",
       "     </g>\n",
       "     <g id=\"line2d_65\">\n",
       "      <g>\n",
       "       <use style=\"stroke:#000000;\" x=\"318.89\" xlink:href=\"#m768d7ed26b\" y=\"3.6\"/>\n",
       "      </g>\n",
       "     </g>\n",
       "    </g>\n",
       "    <g id=\"xtick_29\">\n",
       "     <g id=\"line2d_66\">\n",
       "      <g>\n",
       "       <use style=\"stroke:#000000;\" x=\"330.05\" xlink:href=\"#m56b9f74641\" y=\"329.76\"/>\n",
       "      </g>\n",
       "     </g>\n",
       "     <g id=\"line2d_67\">\n",
       "      <g>\n",
       "       <use style=\"stroke:#000000;\" x=\"330.05\" xlink:href=\"#m768d7ed26b\" y=\"3.6\"/>\n",
       "      </g>\n",
       "     </g>\n",
       "    </g>\n",
       "    <g id=\"xtick_30\">\n",
       "     <g id=\"line2d_68\">\n",
       "      <g>\n",
       "       <use style=\"stroke:#000000;\" x=\"352.37\" xlink:href=\"#m56b9f74641\" y=\"329.76\"/>\n",
       "      </g>\n",
       "     </g>\n",
       "     <g id=\"line2d_69\">\n",
       "      <g>\n",
       "       <use style=\"stroke:#000000;\" x=\"352.37\" xlink:href=\"#m768d7ed26b\" y=\"3.6\"/>\n",
       "      </g>\n",
       "     </g>\n",
       "    </g>\n",
       "    <g id=\"xtick_31\">\n",
       "     <g id=\"line2d_70\">\n",
       "      <g>\n",
       "       <use style=\"stroke:#000000;\" x=\"363.53\" xlink:href=\"#m56b9f74641\" y=\"329.76\"/>\n",
       "      </g>\n",
       "     </g>\n",
       "     <g id=\"line2d_71\">\n",
       "      <g>\n",
       "       <use style=\"stroke:#000000;\" x=\"363.53\" xlink:href=\"#m768d7ed26b\" y=\"3.6\"/>\n",
       "      </g>\n",
       "     </g>\n",
       "    </g>\n",
       "    <g id=\"xtick_32\">\n",
       "     <g id=\"line2d_72\">\n",
       "      <g>\n",
       "       <use style=\"stroke:#000000;\" x=\"374.69\" xlink:href=\"#m56b9f74641\" y=\"329.76\"/>\n",
       "      </g>\n",
       "     </g>\n",
       "     <g id=\"line2d_73\">\n",
       "      <g>\n",
       "       <use style=\"stroke:#000000;\" x=\"374.69\" xlink:href=\"#m768d7ed26b\" y=\"3.6\"/>\n",
       "      </g>\n",
       "     </g>\n",
       "    </g>\n",
       "    <g id=\"xtick_33\">\n",
       "     <g id=\"line2d_74\">\n",
       "      <g>\n",
       "       <use style=\"stroke:#000000;\" x=\"385.85\" xlink:href=\"#m56b9f74641\" y=\"329.76\"/>\n",
       "      </g>\n",
       "     </g>\n",
       "     <g id=\"line2d_75\">\n",
       "      <g>\n",
       "       <use style=\"stroke:#000000;\" x=\"385.85\" xlink:href=\"#m768d7ed26b\" y=\"3.6\"/>\n",
       "      </g>\n",
       "     </g>\n",
       "    </g>\n",
       "    <g id=\"xtick_34\">\n",
       "     <g id=\"line2d_76\">\n",
       "      <g>\n",
       "       <use style=\"stroke:#000000;\" x=\"408.17\" xlink:href=\"#m56b9f74641\" y=\"329.76\"/>\n",
       "      </g>\n",
       "     </g>\n",
       "     <g id=\"line2d_77\">\n",
       "      <g>\n",
       "       <use style=\"stroke:#000000;\" x=\"408.17\" xlink:href=\"#m768d7ed26b\" y=\"3.6\"/>\n",
       "      </g>\n",
       "     </g>\n",
       "    </g>\n",
       "    <g id=\"xtick_35\">\n",
       "     <g id=\"line2d_78\">\n",
       "      <g>\n",
       "       <use style=\"stroke:#000000;\" x=\"419.33\" xlink:href=\"#m56b9f74641\" y=\"329.76\"/>\n",
       "      </g>\n",
       "     </g>\n",
       "     <g id=\"line2d_79\">\n",
       "      <g>\n",
       "       <use style=\"stroke:#000000;\" x=\"419.33\" xlink:href=\"#m768d7ed26b\" y=\"3.6\"/>\n",
       "      </g>\n",
       "     </g>\n",
       "    </g>\n",
       "    <g id=\"xtick_36\">\n",
       "     <g id=\"line2d_80\">\n",
       "      <g>\n",
       "       <use style=\"stroke:#000000;\" x=\"430.49\" xlink:href=\"#m56b9f74641\" y=\"329.76\"/>\n",
       "      </g>\n",
       "     </g>\n",
       "     <g id=\"line2d_81\">\n",
       "      <g>\n",
       "       <use style=\"stroke:#000000;\" x=\"430.49\" xlink:href=\"#m768d7ed26b\" y=\"3.6\"/>\n",
       "      </g>\n",
       "     </g>\n",
       "    </g>\n",
       "    <g id=\"xtick_37\">\n",
       "     <g id=\"line2d_82\">\n",
       "      <g>\n",
       "       <use style=\"stroke:#000000;\" x=\"441.65\" xlink:href=\"#m56b9f74641\" y=\"329.76\"/>\n",
       "      </g>\n",
       "     </g>\n",
       "     <g id=\"line2d_83\">\n",
       "      <g>\n",
       "       <use style=\"stroke:#000000;\" x=\"441.65\" xlink:href=\"#m768d7ed26b\" y=\"3.6\"/>\n",
       "      </g>\n",
       "     </g>\n",
       "    </g>\n",
       "    <g id=\"xtick_38\">\n",
       "     <g id=\"line2d_84\">\n",
       "      <g>\n",
       "       <use style=\"stroke:#000000;\" x=\"463.97\" xlink:href=\"#m56b9f74641\" y=\"329.76\"/>\n",
       "      </g>\n",
       "     </g>\n",
       "     <g id=\"line2d_85\">\n",
       "      <g>\n",
       "       <use style=\"stroke:#000000;\" x=\"463.97\" xlink:href=\"#m768d7ed26b\" y=\"3.6\"/>\n",
       "      </g>\n",
       "     </g>\n",
       "    </g>\n",
       "    <g id=\"xtick_39\">\n",
       "     <g id=\"line2d_86\">\n",
       "      <g>\n",
       "       <use style=\"stroke:#000000;\" x=\"475.13\" xlink:href=\"#m56b9f74641\" y=\"329.76\"/>\n",
       "      </g>\n",
       "     </g>\n",
       "     <g id=\"line2d_87\">\n",
       "      <g>\n",
       "       <use style=\"stroke:#000000;\" x=\"475.13\" xlink:href=\"#m768d7ed26b\" y=\"3.6\"/>\n",
       "      </g>\n",
       "     </g>\n",
       "    </g>\n",
       "    <g id=\"xtick_40\">\n",
       "     <g id=\"line2d_88\">\n",
       "      <g>\n",
       "       <use style=\"stroke:#000000;\" x=\"486.29\" xlink:href=\"#m56b9f74641\" y=\"329.76\"/>\n",
       "      </g>\n",
       "     </g>\n",
       "     <g id=\"line2d_89\">\n",
       "      <g>\n",
       "       <use style=\"stroke:#000000;\" x=\"486.29\" xlink:href=\"#m768d7ed26b\" y=\"3.6\"/>\n",
       "      </g>\n",
       "     </g>\n",
       "    </g>\n",
       "    <g id=\"xtick_41\">\n",
       "     <g id=\"line2d_90\">\n",
       "      <g>\n",
       "       <use style=\"stroke:#000000;\" x=\"497.45\" xlink:href=\"#m56b9f74641\" y=\"329.76\"/>\n",
       "      </g>\n",
       "     </g>\n",
       "     <g id=\"line2d_91\">\n",
       "      <g>\n",
       "       <use style=\"stroke:#000000;\" x=\"497.45\" xlink:href=\"#m768d7ed26b\" y=\"3.6\"/>\n",
       "      </g>\n",
       "     </g>\n",
       "    </g>\n",
       "    <g id=\"text_10\">\n",
       "     <!-- Time [s] -->\n",
       "     <g transform=\"translate(252.88375 364.9025)scale(0.16 -0.16)\">\n",
       "      <defs>\n",
       "       <path d=\"M -0.296875 72.90625 \n",
       "L 61.375 72.90625 \n",
       "L 61.375 64.59375 \n",
       "L 35.5 64.59375 \n",
       "L 35.5 0 \n",
       "L 25.59375 0 \n",
       "L 25.59375 64.59375 \n",
       "L -0.296875 64.59375 \n",
       "z\n",
       "\" id=\"DejaVuSans-84\"/>\n",
       "       <path d=\"M 9.421875 54.6875 \n",
       "L 18.40625 54.6875 \n",
       "L 18.40625 0 \n",
       "L 9.421875 0 \n",
       "z\n",
       "M 9.421875 75.984375 \n",
       "L 18.40625 75.984375 \n",
       "L 18.40625 64.59375 \n",
       "L 9.421875 64.59375 \n",
       "z\n",
       "\" id=\"DejaVuSans-105\"/>\n",
       "       <path d=\"M 52 44.1875 \n",
       "Q 55.375 50.25 60.0625 53.125 \n",
       "Q 64.75 56 71.09375 56 \n",
       "Q 79.640625 56 84.28125 50.015625 \n",
       "Q 88.921875 44.046875 88.921875 33.015625 \n",
       "L 88.921875 0 \n",
       "L 79.890625 0 \n",
       "L 79.890625 32.71875 \n",
       "Q 79.890625 40.578125 77.09375 44.375 \n",
       "Q 74.3125 48.1875 68.609375 48.1875 \n",
       "Q 61.625 48.1875 57.5625 43.546875 \n",
       "Q 53.515625 38.921875 53.515625 30.90625 \n",
       "L 53.515625 0 \n",
       "L 44.484375 0 \n",
       "L 44.484375 32.71875 \n",
       "Q 44.484375 40.625 41.703125 44.40625 \n",
       "Q 38.921875 48.1875 33.109375 48.1875 \n",
       "Q 26.21875 48.1875 22.15625 43.53125 \n",
       "Q 18.109375 38.875 18.109375 30.90625 \n",
       "L 18.109375 0 \n",
       "L 9.078125 0 \n",
       "L 9.078125 54.6875 \n",
       "L 18.109375 54.6875 \n",
       "L 18.109375 46.1875 \n",
       "Q 21.1875 51.21875 25.484375 53.609375 \n",
       "Q 29.78125 56 35.6875 56 \n",
       "Q 41.65625 56 45.828125 52.96875 \n",
       "Q 50 49.953125 52 44.1875 \n",
       "z\n",
       "\" id=\"DejaVuSans-109\"/>\n",
       "       <path d=\"M 56.203125 29.59375 \n",
       "L 56.203125 25.203125 \n",
       "L 14.890625 25.203125 \n",
       "Q 15.484375 15.921875 20.484375 11.0625 \n",
       "Q 25.484375 6.203125 34.421875 6.203125 \n",
       "Q 39.59375 6.203125 44.453125 7.46875 \n",
       "Q 49.3125 8.734375 54.109375 11.28125 \n",
       "L 54.109375 2.78125 \n",
       "Q 49.265625 0.734375 44.1875 -0.34375 \n",
       "Q 39.109375 -1.421875 33.890625 -1.421875 \n",
       "Q 20.796875 -1.421875 13.15625 6.1875 \n",
       "Q 5.515625 13.8125 5.515625 26.8125 \n",
       "Q 5.515625 40.234375 12.765625 48.109375 \n",
       "Q 20.015625 56 32.328125 56 \n",
       "Q 43.359375 56 49.78125 48.890625 \n",
       "Q 56.203125 41.796875 56.203125 29.59375 \n",
       "z\n",
       "M 47.21875 32.234375 \n",
       "Q 47.125 39.59375 43.09375 43.984375 \n",
       "Q 39.0625 48.390625 32.421875 48.390625 \n",
       "Q 24.90625 48.390625 20.390625 44.140625 \n",
       "Q 15.875 39.890625 15.1875 32.171875 \n",
       "z\n",
       "\" id=\"DejaVuSans-101\"/>\n",
       "       <path id=\"DejaVuSans-32\"/>\n",
       "       <path d=\"M 8.59375 75.984375 \n",
       "L 29.296875 75.984375 \n",
       "L 29.296875 69 \n",
       "L 17.578125 69 \n",
       "L 17.578125 -6.203125 \n",
       "L 29.296875 -6.203125 \n",
       "L 29.296875 -13.1875 \n",
       "L 8.59375 -13.1875 \n",
       "z\n",
       "\" id=\"DejaVuSans-91\"/>\n",
       "       <path d=\"M 44.28125 53.078125 \n",
       "L 44.28125 44.578125 \n",
       "Q 40.484375 46.53125 36.375 47.5 \n",
       "Q 32.28125 48.484375 27.875 48.484375 \n",
       "Q 21.1875 48.484375 17.84375 46.4375 \n",
       "Q 14.5 44.390625 14.5 40.28125 \n",
       "Q 14.5 37.15625 16.890625 35.375 \n",
       "Q 19.28125 33.59375 26.515625 31.984375 \n",
       "L 29.59375 31.296875 \n",
       "Q 39.15625 29.25 43.1875 25.515625 \n",
       "Q 47.21875 21.78125 47.21875 15.09375 \n",
       "Q 47.21875 7.46875 41.1875 3.015625 \n",
       "Q 35.15625 -1.421875 24.609375 -1.421875 \n",
       "Q 20.21875 -1.421875 15.453125 -0.5625 \n",
       "Q 10.6875 0.296875 5.421875 2 \n",
       "L 5.421875 11.28125 \n",
       "Q 10.40625 8.6875 15.234375 7.390625 \n",
       "Q 20.0625 6.109375 24.8125 6.109375 \n",
       "Q 31.15625 6.109375 34.5625 8.28125 \n",
       "Q 37.984375 10.453125 37.984375 14.40625 \n",
       "Q 37.984375 18.0625 35.515625 20.015625 \n",
       "Q 33.0625 21.96875 24.703125 23.78125 \n",
       "L 21.578125 24.515625 \n",
       "Q 13.234375 26.265625 9.515625 29.90625 \n",
       "Q 5.8125 33.546875 5.8125 39.890625 \n",
       "Q 5.8125 47.609375 11.28125 51.796875 \n",
       "Q 16.75 56 26.8125 56 \n",
       "Q 31.78125 56 36.171875 55.265625 \n",
       "Q 40.578125 54.546875 44.28125 53.078125 \n",
       "z\n",
       "\" id=\"DejaVuSans-115\"/>\n",
       "       <path d=\"M 30.421875 75.984375 \n",
       "L 30.421875 -13.1875 \n",
       "L 9.71875 -13.1875 \n",
       "L 9.71875 -6.203125 \n",
       "L 21.390625 -6.203125 \n",
       "L 21.390625 69 \n",
       "L 9.71875 69 \n",
       "L 9.71875 75.984375 \n",
       "z\n",
       "\" id=\"DejaVuSans-93\"/>\n",
       "      </defs>\n",
       "      <use xlink:href=\"#DejaVuSans-84\"/>\n",
       "      <use x=\"57.958984\" xlink:href=\"#DejaVuSans-105\"/>\n",
       "      <use x=\"85.742188\" xlink:href=\"#DejaVuSans-109\"/>\n",
       "      <use x=\"183.154297\" xlink:href=\"#DejaVuSans-101\"/>\n",
       "      <use x=\"244.677734\" xlink:href=\"#DejaVuSans-32\"/>\n",
       "      <use x=\"276.464844\" xlink:href=\"#DejaVuSans-91\"/>\n",
       "      <use x=\"315.478516\" xlink:href=\"#DejaVuSans-115\"/>\n",
       "      <use x=\"367.578125\" xlink:href=\"#DejaVuSans-93\"/>\n",
       "     </g>\n",
       "    </g>\n",
       "   </g>\n",
       "   <g id=\"matplotlib.axis_2\">\n",
       "    <g id=\"ytick_1\">\n",
       "     <g id=\"line2d_92\">\n",
       "      <path clip-path=\"url(#pd718d0bbc7)\" d=\"M 62.21 295.03 \n",
       "L 508.61 295.03 \n",
       "\" style=\"fill:none;stroke:#000000;stroke-dasharray:1.85,0.8;stroke-dashoffset:0;stroke-opacity:0.5;stroke-width:0.5;\"/>\n",
       "     </g>\n",
       "     <g id=\"line2d_93\">\n",
       "      <defs>\n",
       "       <path d=\"M 0 0 \n",
       "L 6 0 \n",
       "\" id=\"m3bd870fb64\" style=\"stroke:#000000;\"/>\n",
       "      </defs>\n",
       "      <g>\n",
       "       <use style=\"stroke:#000000;\" x=\"62.21\" xlink:href=\"#m3bd870fb64\" y=\"295.03\"/>\n",
       "      </g>\n",
       "     </g>\n",
       "     <g id=\"line2d_94\">\n",
       "      <defs>\n",
       "       <path d=\"M 0 0 \n",
       "L -6 0 \n",
       "\" id=\"m0411d2067d\" style=\"stroke:#000000;\"/>\n",
       "      </defs>\n",
       "      <g>\n",
       "       <use style=\"stroke:#000000;\" x=\"508.61\" xlink:href=\"#m0411d2067d\" y=\"295.03\"/>\n",
       "      </g>\n",
       "     </g>\n",
       "     <g id=\"text_11\">\n",
       "      <!-- 2.5 -->\n",
       "      <g transform=\"translate(33.265 301.10875)scale(0.16 -0.16)\">\n",
       "       <use xlink:href=\"#DejaVuSans-50\"/>\n",
       "       <use x=\"63.623047\" xlink:href=\"#DejaVuSans-46\"/>\n",
       "       <use x=\"95.410156\" xlink:href=\"#DejaVuSans-53\"/>\n",
       "      </g>\n",
       "     </g>\n",
       "    </g>\n",
       "    <g id=\"ytick_2\">\n",
       "     <g id=\"line2d_95\">\n",
       "      <path clip-path=\"url(#pd718d0bbc7)\" d=\"M 62.21 257.28 \n",
       "L 508.61 257.28 \n",
       "\" style=\"fill:none;stroke:#000000;stroke-dasharray:1.85,0.8;stroke-dashoffset:0;stroke-opacity:0.5;stroke-width:0.5;\"/>\n",
       "     </g>\n",
       "     <g id=\"line2d_96\">\n",
       "      <g>\n",
       "       <use style=\"stroke:#000000;\" x=\"62.21\" xlink:href=\"#m3bd870fb64\" y=\"257.28\"/>\n",
       "      </g>\n",
       "     </g>\n",
       "     <g id=\"line2d_97\">\n",
       "      <g>\n",
       "       <use style=\"stroke:#000000;\" x=\"508.61\" xlink:href=\"#m0411d2067d\" y=\"257.28\"/>\n",
       "      </g>\n",
       "     </g>\n",
       "     <g id=\"text_12\">\n",
       "      <!-- 5.0 -->\n",
       "      <g transform=\"translate(33.265 263.35875)scale(0.16 -0.16)\">\n",
       "       <use xlink:href=\"#DejaVuSans-53\"/>\n",
       "       <use x=\"63.623047\" xlink:href=\"#DejaVuSans-46\"/>\n",
       "       <use x=\"95.410156\" xlink:href=\"#DejaVuSans-48\"/>\n",
       "      </g>\n",
       "     </g>\n",
       "    </g>\n",
       "    <g id=\"ytick_3\">\n",
       "     <g id=\"line2d_98\">\n",
       "      <path clip-path=\"url(#pd718d0bbc7)\" d=\"M 62.21 219.53 \n",
       "L 508.61 219.53 \n",
       "\" style=\"fill:none;stroke:#000000;stroke-dasharray:1.85,0.8;stroke-dashoffset:0;stroke-opacity:0.5;stroke-width:0.5;\"/>\n",
       "     </g>\n",
       "     <g id=\"line2d_99\">\n",
       "      <g>\n",
       "       <use style=\"stroke:#000000;\" x=\"62.21\" xlink:href=\"#m3bd870fb64\" y=\"219.53\"/>\n",
       "      </g>\n",
       "     </g>\n",
       "     <g id=\"line2d_100\">\n",
       "      <g>\n",
       "       <use style=\"stroke:#000000;\" x=\"508.61\" xlink:href=\"#m0411d2067d\" y=\"219.53\"/>\n",
       "      </g>\n",
       "     </g>\n",
       "     <g id=\"text_13\">\n",
       "      <!-- 7.5 -->\n",
       "      <g transform=\"translate(33.265 225.60875)scale(0.16 -0.16)\">\n",
       "       <use xlink:href=\"#DejaVuSans-55\"/>\n",
       "       <use x=\"63.623047\" xlink:href=\"#DejaVuSans-46\"/>\n",
       "       <use x=\"95.410156\" xlink:href=\"#DejaVuSans-53\"/>\n",
       "      </g>\n",
       "     </g>\n",
       "    </g>\n",
       "    <g id=\"ytick_4\">\n",
       "     <g id=\"line2d_101\">\n",
       "      <path clip-path=\"url(#pd718d0bbc7)\" d=\"M 62.21 181.78 \n",
       "L 508.61 181.78 \n",
       "\" style=\"fill:none;stroke:#000000;stroke-dasharray:1.85,0.8;stroke-dashoffset:0;stroke-opacity:0.5;stroke-width:0.5;\"/>\n",
       "     </g>\n",
       "     <g id=\"line2d_102\">\n",
       "      <g>\n",
       "       <use style=\"stroke:#000000;\" x=\"62.21\" xlink:href=\"#m3bd870fb64\" y=\"181.78\"/>\n",
       "      </g>\n",
       "     </g>\n",
       "     <g id=\"line2d_103\">\n",
       "      <g>\n",
       "       <use style=\"stroke:#000000;\" x=\"508.61\" xlink:href=\"#m0411d2067d\" y=\"181.78\"/>\n",
       "      </g>\n",
       "     </g>\n",
       "     <g id=\"text_14\">\n",
       "      <!-- 10.0 -->\n",
       "      <g transform=\"translate(23.085 187.85875)scale(0.16 -0.16)\">\n",
       "       <use xlink:href=\"#DejaVuSans-49\"/>\n",
       "       <use x=\"63.623047\" xlink:href=\"#DejaVuSans-48\"/>\n",
       "       <use x=\"127.246094\" xlink:href=\"#DejaVuSans-46\"/>\n",
       "       <use x=\"159.033203\" xlink:href=\"#DejaVuSans-48\"/>\n",
       "      </g>\n",
       "     </g>\n",
       "    </g>\n",
       "    <g id=\"ytick_5\">\n",
       "     <g id=\"line2d_104\">\n",
       "      <path clip-path=\"url(#pd718d0bbc7)\" d=\"M 62.21 144.03 \n",
       "L 508.61 144.03 \n",
       "\" style=\"fill:none;stroke:#000000;stroke-dasharray:1.85,0.8;stroke-dashoffset:0;stroke-opacity:0.5;stroke-width:0.5;\"/>\n",
       "     </g>\n",
       "     <g id=\"line2d_105\">\n",
       "      <g>\n",
       "       <use style=\"stroke:#000000;\" x=\"62.21\" xlink:href=\"#m3bd870fb64\" y=\"144.03\"/>\n",
       "      </g>\n",
       "     </g>\n",
       "     <g id=\"line2d_106\">\n",
       "      <g>\n",
       "       <use style=\"stroke:#000000;\" x=\"508.61\" xlink:href=\"#m0411d2067d\" y=\"144.03\"/>\n",
       "      </g>\n",
       "     </g>\n",
       "     <g id=\"text_15\">\n",
       "      <!-- 12.5 -->\n",
       "      <g transform=\"translate(23.085 150.10875)scale(0.16 -0.16)\">\n",
       "       <use xlink:href=\"#DejaVuSans-49\"/>\n",
       "       <use x=\"63.623047\" xlink:href=\"#DejaVuSans-50\"/>\n",
       "       <use x=\"127.246094\" xlink:href=\"#DejaVuSans-46\"/>\n",
       "       <use x=\"159.033203\" xlink:href=\"#DejaVuSans-53\"/>\n",
       "      </g>\n",
       "     </g>\n",
       "    </g>\n",
       "    <g id=\"ytick_6\">\n",
       "     <g id=\"line2d_107\">\n",
       "      <path clip-path=\"url(#pd718d0bbc7)\" d=\"M 62.21 106.28 \n",
       "L 508.61 106.28 \n",
       "\" style=\"fill:none;stroke:#000000;stroke-dasharray:1.85,0.8;stroke-dashoffset:0;stroke-opacity:0.5;stroke-width:0.5;\"/>\n",
       "     </g>\n",
       "     <g id=\"line2d_108\">\n",
       "      <g>\n",
       "       <use style=\"stroke:#000000;\" x=\"62.21\" xlink:href=\"#m3bd870fb64\" y=\"106.28\"/>\n",
       "      </g>\n",
       "     </g>\n",
       "     <g id=\"line2d_109\">\n",
       "      <g>\n",
       "       <use style=\"stroke:#000000;\" x=\"508.61\" xlink:href=\"#m0411d2067d\" y=\"106.28\"/>\n",
       "      </g>\n",
       "     </g>\n",
       "     <g id=\"text_16\">\n",
       "      <!-- 15.0 -->\n",
       "      <g transform=\"translate(23.085 112.35875)scale(0.16 -0.16)\">\n",
       "       <use xlink:href=\"#DejaVuSans-49\"/>\n",
       "       <use x=\"63.623047\" xlink:href=\"#DejaVuSans-53\"/>\n",
       "       <use x=\"127.246094\" xlink:href=\"#DejaVuSans-46\"/>\n",
       "       <use x=\"159.033203\" xlink:href=\"#DejaVuSans-48\"/>\n",
       "      </g>\n",
       "     </g>\n",
       "    </g>\n",
       "    <g id=\"ytick_7\">\n",
       "     <g id=\"line2d_110\">\n",
       "      <path clip-path=\"url(#pd718d0bbc7)\" d=\"M 62.21 68.53 \n",
       "L 508.61 68.53 \n",
       "\" style=\"fill:none;stroke:#000000;stroke-dasharray:1.85,0.8;stroke-dashoffset:0;stroke-opacity:0.5;stroke-width:0.5;\"/>\n",
       "     </g>\n",
       "     <g id=\"line2d_111\">\n",
       "      <g>\n",
       "       <use style=\"stroke:#000000;\" x=\"62.21\" xlink:href=\"#m3bd870fb64\" y=\"68.53\"/>\n",
       "      </g>\n",
       "     </g>\n",
       "     <g id=\"line2d_112\">\n",
       "      <g>\n",
       "       <use style=\"stroke:#000000;\" x=\"508.61\" xlink:href=\"#m0411d2067d\" y=\"68.53\"/>\n",
       "      </g>\n",
       "     </g>\n",
       "     <g id=\"text_17\">\n",
       "      <!-- 17.5 -->\n",
       "      <g transform=\"translate(23.085 74.60875)scale(0.16 -0.16)\">\n",
       "       <use xlink:href=\"#DejaVuSans-49\"/>\n",
       "       <use x=\"63.623047\" xlink:href=\"#DejaVuSans-55\"/>\n",
       "       <use x=\"127.246094\" xlink:href=\"#DejaVuSans-46\"/>\n",
       "       <use x=\"159.033203\" xlink:href=\"#DejaVuSans-53\"/>\n",
       "      </g>\n",
       "     </g>\n",
       "    </g>\n",
       "    <g id=\"ytick_8\">\n",
       "     <g id=\"line2d_113\">\n",
       "      <path clip-path=\"url(#pd718d0bbc7)\" d=\"M 62.21 30.78 \n",
       "L 508.61 30.78 \n",
       "\" style=\"fill:none;stroke:#000000;stroke-dasharray:1.85,0.8;stroke-dashoffset:0;stroke-opacity:0.5;stroke-width:0.5;\"/>\n",
       "     </g>\n",
       "     <g id=\"line2d_114\">\n",
       "      <g>\n",
       "       <use style=\"stroke:#000000;\" x=\"62.21\" xlink:href=\"#m3bd870fb64\" y=\"30.78\"/>\n",
       "      </g>\n",
       "     </g>\n",
       "     <g id=\"line2d_115\">\n",
       "      <g>\n",
       "       <use style=\"stroke:#000000;\" x=\"508.61\" xlink:href=\"#m0411d2067d\" y=\"30.78\"/>\n",
       "      </g>\n",
       "     </g>\n",
       "     <g id=\"text_18\">\n",
       "      <!-- 20.0 -->\n",
       "      <g transform=\"translate(23.085 36.85875)scale(0.16 -0.16)\">\n",
       "       <use xlink:href=\"#DejaVuSans-50\"/>\n",
       "       <use x=\"63.623047\" xlink:href=\"#DejaVuSans-48\"/>\n",
       "       <use x=\"127.246094\" xlink:href=\"#DejaVuSans-46\"/>\n",
       "       <use x=\"159.033203\" xlink:href=\"#DejaVuSans-48\"/>\n",
       "      </g>\n",
       "     </g>\n",
       "    </g>\n",
       "    <g id=\"ytick_9\">\n",
       "     <g id=\"line2d_116\">\n",
       "      <defs>\n",
       "       <path d=\"M 0 0 \n",
       "L 3 0 \n",
       "\" id=\"mde92cd70b1\" style=\"stroke:#000000;\"/>\n",
       "      </defs>\n",
       "      <g>\n",
       "       <use style=\"stroke:#000000;\" x=\"62.21\" xlink:href=\"#mde92cd70b1\" y=\"325.23\"/>\n",
       "      </g>\n",
       "     </g>\n",
       "     <g id=\"line2d_117\">\n",
       "      <defs>\n",
       "       <path d=\"M 0 0 \n",
       "L -3 0 \n",
       "\" id=\"md405e37bbe\" style=\"stroke:#000000;\"/>\n",
       "      </defs>\n",
       "      <g>\n",
       "       <use style=\"stroke:#000000;\" x=\"508.61\" xlink:href=\"#md405e37bbe\" y=\"325.23\"/>\n",
       "      </g>\n",
       "     </g>\n",
       "    </g>\n",
       "    <g id=\"ytick_10\">\n",
       "     <g id=\"line2d_118\">\n",
       "      <g>\n",
       "       <use style=\"stroke:#000000;\" x=\"62.21\" xlink:href=\"#mde92cd70b1\" y=\"317.68\"/>\n",
       "      </g>\n",
       "     </g>\n",
       "     <g id=\"line2d_119\">\n",
       "      <g>\n",
       "       <use style=\"stroke:#000000;\" x=\"508.61\" xlink:href=\"#md405e37bbe\" y=\"317.68\"/>\n",
       "      </g>\n",
       "     </g>\n",
       "    </g>\n",
       "    <g id=\"ytick_11\">\n",
       "     <g id=\"line2d_120\">\n",
       "      <g>\n",
       "       <use style=\"stroke:#000000;\" x=\"62.21\" xlink:href=\"#mde92cd70b1\" y=\"310.13\"/>\n",
       "      </g>\n",
       "     </g>\n",
       "     <g id=\"line2d_121\">\n",
       "      <g>\n",
       "       <use style=\"stroke:#000000;\" x=\"508.61\" xlink:href=\"#md405e37bbe\" y=\"310.13\"/>\n",
       "      </g>\n",
       "     </g>\n",
       "    </g>\n",
       "    <g id=\"ytick_12\">\n",
       "     <g id=\"line2d_122\">\n",
       "      <g>\n",
       "       <use style=\"stroke:#000000;\" x=\"62.21\" xlink:href=\"#mde92cd70b1\" y=\"302.58\"/>\n",
       "      </g>\n",
       "     </g>\n",
       "     <g id=\"line2d_123\">\n",
       "      <g>\n",
       "       <use style=\"stroke:#000000;\" x=\"508.61\" xlink:href=\"#md405e37bbe\" y=\"302.58\"/>\n",
       "      </g>\n",
       "     </g>\n",
       "    </g>\n",
       "    <g id=\"ytick_13\">\n",
       "     <g id=\"line2d_124\">\n",
       "      <g>\n",
       "       <use style=\"stroke:#000000;\" x=\"62.21\" xlink:href=\"#mde92cd70b1\" y=\"287.48\"/>\n",
       "      </g>\n",
       "     </g>\n",
       "     <g id=\"line2d_125\">\n",
       "      <g>\n",
       "       <use style=\"stroke:#000000;\" x=\"508.61\" xlink:href=\"#md405e37bbe\" y=\"287.48\"/>\n",
       "      </g>\n",
       "     </g>\n",
       "    </g>\n",
       "    <g id=\"ytick_14\">\n",
       "     <g id=\"line2d_126\">\n",
       "      <g>\n",
       "       <use style=\"stroke:#000000;\" x=\"62.21\" xlink:href=\"#mde92cd70b1\" y=\"279.93\"/>\n",
       "      </g>\n",
       "     </g>\n",
       "     <g id=\"line2d_127\">\n",
       "      <g>\n",
       "       <use style=\"stroke:#000000;\" x=\"508.61\" xlink:href=\"#md405e37bbe\" y=\"279.93\"/>\n",
       "      </g>\n",
       "     </g>\n",
       "    </g>\n",
       "    <g id=\"ytick_15\">\n",
       "     <g id=\"line2d_128\">\n",
       "      <g>\n",
       "       <use style=\"stroke:#000000;\" x=\"62.21\" xlink:href=\"#mde92cd70b1\" y=\"272.38\"/>\n",
       "      </g>\n",
       "     </g>\n",
       "     <g id=\"line2d_129\">\n",
       "      <g>\n",
       "       <use style=\"stroke:#000000;\" x=\"508.61\" xlink:href=\"#md405e37bbe\" y=\"272.38\"/>\n",
       "      </g>\n",
       "     </g>\n",
       "    </g>\n",
       "    <g id=\"ytick_16\">\n",
       "     <g id=\"line2d_130\">\n",
       "      <g>\n",
       "       <use style=\"stroke:#000000;\" x=\"62.21\" xlink:href=\"#mde92cd70b1\" y=\"264.83\"/>\n",
       "      </g>\n",
       "     </g>\n",
       "     <g id=\"line2d_131\">\n",
       "      <g>\n",
       "       <use style=\"stroke:#000000;\" x=\"508.61\" xlink:href=\"#md405e37bbe\" y=\"264.83\"/>\n",
       "      </g>\n",
       "     </g>\n",
       "    </g>\n",
       "    <g id=\"ytick_17\">\n",
       "     <g id=\"line2d_132\">\n",
       "      <g>\n",
       "       <use style=\"stroke:#000000;\" x=\"62.21\" xlink:href=\"#mde92cd70b1\" y=\"249.73\"/>\n",
       "      </g>\n",
       "     </g>\n",
       "     <g id=\"line2d_133\">\n",
       "      <g>\n",
       "       <use style=\"stroke:#000000;\" x=\"508.61\" xlink:href=\"#md405e37bbe\" y=\"249.73\"/>\n",
       "      </g>\n",
       "     </g>\n",
       "    </g>\n",
       "    <g id=\"ytick_18\">\n",
       "     <g id=\"line2d_134\">\n",
       "      <g>\n",
       "       <use style=\"stroke:#000000;\" x=\"62.21\" xlink:href=\"#mde92cd70b1\" y=\"242.18\"/>\n",
       "      </g>\n",
       "     </g>\n",
       "     <g id=\"line2d_135\">\n",
       "      <g>\n",
       "       <use style=\"stroke:#000000;\" x=\"508.61\" xlink:href=\"#md405e37bbe\" y=\"242.18\"/>\n",
       "      </g>\n",
       "     </g>\n",
       "    </g>\n",
       "    <g id=\"ytick_19\">\n",
       "     <g id=\"line2d_136\">\n",
       "      <g>\n",
       "       <use style=\"stroke:#000000;\" x=\"62.21\" xlink:href=\"#mde92cd70b1\" y=\"234.63\"/>\n",
       "      </g>\n",
       "     </g>\n",
       "     <g id=\"line2d_137\">\n",
       "      <g>\n",
       "       <use style=\"stroke:#000000;\" x=\"508.61\" xlink:href=\"#md405e37bbe\" y=\"234.63\"/>\n",
       "      </g>\n",
       "     </g>\n",
       "    </g>\n",
       "    <g id=\"ytick_20\">\n",
       "     <g id=\"line2d_138\">\n",
       "      <g>\n",
       "       <use style=\"stroke:#000000;\" x=\"62.21\" xlink:href=\"#mde92cd70b1\" y=\"227.08\"/>\n",
       "      </g>\n",
       "     </g>\n",
       "     <g id=\"line2d_139\">\n",
       "      <g>\n",
       "       <use style=\"stroke:#000000;\" x=\"508.61\" xlink:href=\"#md405e37bbe\" y=\"227.08\"/>\n",
       "      </g>\n",
       "     </g>\n",
       "    </g>\n",
       "    <g id=\"ytick_21\">\n",
       "     <g id=\"line2d_140\">\n",
       "      <g>\n",
       "       <use style=\"stroke:#000000;\" x=\"62.21\" xlink:href=\"#mde92cd70b1\" y=\"211.98\"/>\n",
       "      </g>\n",
       "     </g>\n",
       "     <g id=\"line2d_141\">\n",
       "      <g>\n",
       "       <use style=\"stroke:#000000;\" x=\"508.61\" xlink:href=\"#md405e37bbe\" y=\"211.98\"/>\n",
       "      </g>\n",
       "     </g>\n",
       "    </g>\n",
       "    <g id=\"ytick_22\">\n",
       "     <g id=\"line2d_142\">\n",
       "      <g>\n",
       "       <use style=\"stroke:#000000;\" x=\"62.21\" xlink:href=\"#mde92cd70b1\" y=\"204.43\"/>\n",
       "      </g>\n",
       "     </g>\n",
       "     <g id=\"line2d_143\">\n",
       "      <g>\n",
       "       <use style=\"stroke:#000000;\" x=\"508.61\" xlink:href=\"#md405e37bbe\" y=\"204.43\"/>\n",
       "      </g>\n",
       "     </g>\n",
       "    </g>\n",
       "    <g id=\"ytick_23\">\n",
       "     <g id=\"line2d_144\">\n",
       "      <g>\n",
       "       <use style=\"stroke:#000000;\" x=\"62.21\" xlink:href=\"#mde92cd70b1\" y=\"196.88\"/>\n",
       "      </g>\n",
       "     </g>\n",
       "     <g id=\"line2d_145\">\n",
       "      <g>\n",
       "       <use style=\"stroke:#000000;\" x=\"508.61\" xlink:href=\"#md405e37bbe\" y=\"196.88\"/>\n",
       "      </g>\n",
       "     </g>\n",
       "    </g>\n",
       "    <g id=\"ytick_24\">\n",
       "     <g id=\"line2d_146\">\n",
       "      <g>\n",
       "       <use style=\"stroke:#000000;\" x=\"62.21\" xlink:href=\"#mde92cd70b1\" y=\"189.33\"/>\n",
       "      </g>\n",
       "     </g>\n",
       "     <g id=\"line2d_147\">\n",
       "      <g>\n",
       "       <use style=\"stroke:#000000;\" x=\"508.61\" xlink:href=\"#md405e37bbe\" y=\"189.33\"/>\n",
       "      </g>\n",
       "     </g>\n",
       "    </g>\n",
       "    <g id=\"ytick_25\">\n",
       "     <g id=\"line2d_148\">\n",
       "      <g>\n",
       "       <use style=\"stroke:#000000;\" x=\"62.21\" xlink:href=\"#mde92cd70b1\" y=\"174.23\"/>\n",
       "      </g>\n",
       "     </g>\n",
       "     <g id=\"line2d_149\">\n",
       "      <g>\n",
       "       <use style=\"stroke:#000000;\" x=\"508.61\" xlink:href=\"#md405e37bbe\" y=\"174.23\"/>\n",
       "      </g>\n",
       "     </g>\n",
       "    </g>\n",
       "    <g id=\"ytick_26\">\n",
       "     <g id=\"line2d_150\">\n",
       "      <g>\n",
       "       <use style=\"stroke:#000000;\" x=\"62.21\" xlink:href=\"#mde92cd70b1\" y=\"166.68\"/>\n",
       "      </g>\n",
       "     </g>\n",
       "     <g id=\"line2d_151\">\n",
       "      <g>\n",
       "       <use style=\"stroke:#000000;\" x=\"508.61\" xlink:href=\"#md405e37bbe\" y=\"166.68\"/>\n",
       "      </g>\n",
       "     </g>\n",
       "    </g>\n",
       "    <g id=\"ytick_27\">\n",
       "     <g id=\"line2d_152\">\n",
       "      <g>\n",
       "       <use style=\"stroke:#000000;\" x=\"62.21\" xlink:href=\"#mde92cd70b1\" y=\"159.13\"/>\n",
       "      </g>\n",
       "     </g>\n",
       "     <g id=\"line2d_153\">\n",
       "      <g>\n",
       "       <use style=\"stroke:#000000;\" x=\"508.61\" xlink:href=\"#md405e37bbe\" y=\"159.13\"/>\n",
       "      </g>\n",
       "     </g>\n",
       "    </g>\n",
       "    <g id=\"ytick_28\">\n",
       "     <g id=\"line2d_154\">\n",
       "      <g>\n",
       "       <use style=\"stroke:#000000;\" x=\"62.21\" xlink:href=\"#mde92cd70b1\" y=\"151.58\"/>\n",
       "      </g>\n",
       "     </g>\n",
       "     <g id=\"line2d_155\">\n",
       "      <g>\n",
       "       <use style=\"stroke:#000000;\" x=\"508.61\" xlink:href=\"#md405e37bbe\" y=\"151.58\"/>\n",
       "      </g>\n",
       "     </g>\n",
       "    </g>\n",
       "    <g id=\"ytick_29\">\n",
       "     <g id=\"line2d_156\">\n",
       "      <g>\n",
       "       <use style=\"stroke:#000000;\" x=\"62.21\" xlink:href=\"#mde92cd70b1\" y=\"136.48\"/>\n",
       "      </g>\n",
       "     </g>\n",
       "     <g id=\"line2d_157\">\n",
       "      <g>\n",
       "       <use style=\"stroke:#000000;\" x=\"508.61\" xlink:href=\"#md405e37bbe\" y=\"136.48\"/>\n",
       "      </g>\n",
       "     </g>\n",
       "    </g>\n",
       "    <g id=\"ytick_30\">\n",
       "     <g id=\"line2d_158\">\n",
       "      <g>\n",
       "       <use style=\"stroke:#000000;\" x=\"62.21\" xlink:href=\"#mde92cd70b1\" y=\"128.93\"/>\n",
       "      </g>\n",
       "     </g>\n",
       "     <g id=\"line2d_159\">\n",
       "      <g>\n",
       "       <use style=\"stroke:#000000;\" x=\"508.61\" xlink:href=\"#md405e37bbe\" y=\"128.93\"/>\n",
       "      </g>\n",
       "     </g>\n",
       "    </g>\n",
       "    <g id=\"ytick_31\">\n",
       "     <g id=\"line2d_160\">\n",
       "      <g>\n",
       "       <use style=\"stroke:#000000;\" x=\"62.21\" xlink:href=\"#mde92cd70b1\" y=\"121.38\"/>\n",
       "      </g>\n",
       "     </g>\n",
       "     <g id=\"line2d_161\">\n",
       "      <g>\n",
       "       <use style=\"stroke:#000000;\" x=\"508.61\" xlink:href=\"#md405e37bbe\" y=\"121.38\"/>\n",
       "      </g>\n",
       "     </g>\n",
       "    </g>\n",
       "    <g id=\"ytick_32\">\n",
       "     <g id=\"line2d_162\">\n",
       "      <g>\n",
       "       <use style=\"stroke:#000000;\" x=\"62.21\" xlink:href=\"#mde92cd70b1\" y=\"113.83\"/>\n",
       "      </g>\n",
       "     </g>\n",
       "     <g id=\"line2d_163\">\n",
       "      <g>\n",
       "       <use style=\"stroke:#000000;\" x=\"508.61\" xlink:href=\"#md405e37bbe\" y=\"113.83\"/>\n",
       "      </g>\n",
       "     </g>\n",
       "    </g>\n",
       "    <g id=\"ytick_33\">\n",
       "     <g id=\"line2d_164\">\n",
       "      <g>\n",
       "       <use style=\"stroke:#000000;\" x=\"62.21\" xlink:href=\"#mde92cd70b1\" y=\"98.73\"/>\n",
       "      </g>\n",
       "     </g>\n",
       "     <g id=\"line2d_165\">\n",
       "      <g>\n",
       "       <use style=\"stroke:#000000;\" x=\"508.61\" xlink:href=\"#md405e37bbe\" y=\"98.73\"/>\n",
       "      </g>\n",
       "     </g>\n",
       "    </g>\n",
       "    <g id=\"ytick_34\">\n",
       "     <g id=\"line2d_166\">\n",
       "      <g>\n",
       "       <use style=\"stroke:#000000;\" x=\"62.21\" xlink:href=\"#mde92cd70b1\" y=\"91.18\"/>\n",
       "      </g>\n",
       "     </g>\n",
       "     <g id=\"line2d_167\">\n",
       "      <g>\n",
       "       <use style=\"stroke:#000000;\" x=\"508.61\" xlink:href=\"#md405e37bbe\" y=\"91.18\"/>\n",
       "      </g>\n",
       "     </g>\n",
       "    </g>\n",
       "    <g id=\"ytick_35\">\n",
       "     <g id=\"line2d_168\">\n",
       "      <g>\n",
       "       <use style=\"stroke:#000000;\" x=\"62.21\" xlink:href=\"#mde92cd70b1\" y=\"83.63\"/>\n",
       "      </g>\n",
       "     </g>\n",
       "     <g id=\"line2d_169\">\n",
       "      <g>\n",
       "       <use style=\"stroke:#000000;\" x=\"508.61\" xlink:href=\"#md405e37bbe\" y=\"83.63\"/>\n",
       "      </g>\n",
       "     </g>\n",
       "    </g>\n",
       "    <g id=\"ytick_36\">\n",
       "     <g id=\"line2d_170\">\n",
       "      <g>\n",
       "       <use style=\"stroke:#000000;\" x=\"62.21\" xlink:href=\"#mde92cd70b1\" y=\"76.08\"/>\n",
       "      </g>\n",
       "     </g>\n",
       "     <g id=\"line2d_171\">\n",
       "      <g>\n",
       "       <use style=\"stroke:#000000;\" x=\"508.61\" xlink:href=\"#md405e37bbe\" y=\"76.08\"/>\n",
       "      </g>\n",
       "     </g>\n",
       "    </g>\n",
       "    <g id=\"ytick_37\">\n",
       "     <g id=\"line2d_172\">\n",
       "      <g>\n",
       "       <use style=\"stroke:#000000;\" x=\"62.21\" xlink:href=\"#mde92cd70b1\" y=\"60.98\"/>\n",
       "      </g>\n",
       "     </g>\n",
       "     <g id=\"line2d_173\">\n",
       "      <g>\n",
       "       <use style=\"stroke:#000000;\" x=\"508.61\" xlink:href=\"#md405e37bbe\" y=\"60.98\"/>\n",
       "      </g>\n",
       "     </g>\n",
       "    </g>\n",
       "    <g id=\"ytick_38\">\n",
       "     <g id=\"line2d_174\">\n",
       "      <g>\n",
       "       <use style=\"stroke:#000000;\" x=\"62.21\" xlink:href=\"#mde92cd70b1\" y=\"53.43\"/>\n",
       "      </g>\n",
       "     </g>\n",
       "     <g id=\"line2d_175\">\n",
       "      <g>\n",
       "       <use style=\"stroke:#000000;\" x=\"508.61\" xlink:href=\"#md405e37bbe\" y=\"53.43\"/>\n",
       "      </g>\n",
       "     </g>\n",
       "    </g>\n",
       "    <g id=\"ytick_39\">\n",
       "     <g id=\"line2d_176\">\n",
       "      <g>\n",
       "       <use style=\"stroke:#000000;\" x=\"62.21\" xlink:href=\"#mde92cd70b1\" y=\"45.88\"/>\n",
       "      </g>\n",
       "     </g>\n",
       "     <g id=\"line2d_177\">\n",
       "      <g>\n",
       "       <use style=\"stroke:#000000;\" x=\"508.61\" xlink:href=\"#md405e37bbe\" y=\"45.88\"/>\n",
       "      </g>\n",
       "     </g>\n",
       "    </g>\n",
       "    <g id=\"ytick_40\">\n",
       "     <g id=\"line2d_178\">\n",
       "      <g>\n",
       "       <use style=\"stroke:#000000;\" x=\"62.21\" xlink:href=\"#mde92cd70b1\" y=\"38.33\"/>\n",
       "      </g>\n",
       "     </g>\n",
       "     <g id=\"line2d_179\">\n",
       "      <g>\n",
       "       <use style=\"stroke:#000000;\" x=\"508.61\" xlink:href=\"#md405e37bbe\" y=\"38.33\"/>\n",
       "      </g>\n",
       "     </g>\n",
       "    </g>\n",
       "    <g id=\"ytick_41\">\n",
       "     <g id=\"line2d_180\">\n",
       "      <g>\n",
       "       <use style=\"stroke:#000000;\" x=\"62.21\" xlink:href=\"#mde92cd70b1\" y=\"23.23\"/>\n",
       "      </g>\n",
       "     </g>\n",
       "     <g id=\"line2d_181\">\n",
       "      <g>\n",
       "       <use style=\"stroke:#000000;\" x=\"508.61\" xlink:href=\"#md405e37bbe\" y=\"23.23\"/>\n",
       "      </g>\n",
       "     </g>\n",
       "    </g>\n",
       "    <g id=\"ytick_42\">\n",
       "     <g id=\"line2d_182\">\n",
       "      <g>\n",
       "       <use style=\"stroke:#000000;\" x=\"62.21\" xlink:href=\"#mde92cd70b1\" y=\"15.68\"/>\n",
       "      </g>\n",
       "     </g>\n",
       "     <g id=\"line2d_183\">\n",
       "      <g>\n",
       "       <use style=\"stroke:#000000;\" x=\"508.61\" xlink:href=\"#md405e37bbe\" y=\"15.68\"/>\n",
       "      </g>\n",
       "     </g>\n",
       "    </g>\n",
       "    <g id=\"ytick_43\">\n",
       "     <g id=\"line2d_184\">\n",
       "      <g>\n",
       "       <use style=\"stroke:#000000;\" x=\"62.21\" xlink:href=\"#mde92cd70b1\" y=\"8.13\"/>\n",
       "      </g>\n",
       "     </g>\n",
       "     <g id=\"line2d_185\">\n",
       "      <g>\n",
       "       <use style=\"stroke:#000000;\" x=\"508.61\" xlink:href=\"#md405e37bbe\" y=\"8.13\"/>\n",
       "      </g>\n",
       "     </g>\n",
       "    </g>\n",
       "    <g id=\"text_19\">\n",
       "     <!-- Postition [m] -->\n",
       "     <g transform=\"translate(15.7575 217.53625)rotate(-90)scale(0.16 -0.16)\">\n",
       "      <defs>\n",
       "       <path d=\"M 19.671875 64.796875 \n",
       "L 19.671875 37.40625 \n",
       "L 32.078125 37.40625 \n",
       "Q 38.96875 37.40625 42.71875 40.96875 \n",
       "Q 46.484375 44.53125 46.484375 51.125 \n",
       "Q 46.484375 57.671875 42.71875 61.234375 \n",
       "Q 38.96875 64.796875 32.078125 64.796875 \n",
       "z\n",
       "M 9.8125 72.90625 \n",
       "L 32.078125 72.90625 \n",
       "Q 44.34375 72.90625 50.609375 67.359375 \n",
       "Q 56.890625 61.8125 56.890625 51.125 \n",
       "Q 56.890625 40.328125 50.609375 34.8125 \n",
       "Q 44.34375 29.296875 32.078125 29.296875 \n",
       "L 19.671875 29.296875 \n",
       "L 19.671875 0 \n",
       "L 9.8125 0 \n",
       "z\n",
       "\" id=\"DejaVuSans-80\"/>\n",
       "       <path d=\"M 30.609375 48.390625 \n",
       "Q 23.390625 48.390625 19.1875 42.75 \n",
       "Q 14.984375 37.109375 14.984375 27.296875 \n",
       "Q 14.984375 17.484375 19.15625 11.84375 \n",
       "Q 23.34375 6.203125 30.609375 6.203125 \n",
       "Q 37.796875 6.203125 41.984375 11.859375 \n",
       "Q 46.1875 17.53125 46.1875 27.296875 \n",
       "Q 46.1875 37.015625 41.984375 42.703125 \n",
       "Q 37.796875 48.390625 30.609375 48.390625 \n",
       "z\n",
       "M 30.609375 56 \n",
       "Q 42.328125 56 49.015625 48.375 \n",
       "Q 55.71875 40.765625 55.71875 27.296875 \n",
       "Q 55.71875 13.875 49.015625 6.21875 \n",
       "Q 42.328125 -1.421875 30.609375 -1.421875 \n",
       "Q 18.84375 -1.421875 12.171875 6.21875 \n",
       "Q 5.515625 13.875 5.515625 27.296875 \n",
       "Q 5.515625 40.765625 12.171875 48.375 \n",
       "Q 18.84375 56 30.609375 56 \n",
       "z\n",
       "\" id=\"DejaVuSans-111\"/>\n",
       "       <path d=\"M 18.3125 70.21875 \n",
       "L 18.3125 54.6875 \n",
       "L 36.8125 54.6875 \n",
       "L 36.8125 47.703125 \n",
       "L 18.3125 47.703125 \n",
       "L 18.3125 18.015625 \n",
       "Q 18.3125 11.328125 20.140625 9.421875 \n",
       "Q 21.96875 7.515625 27.59375 7.515625 \n",
       "L 36.8125 7.515625 \n",
       "L 36.8125 0 \n",
       "L 27.59375 0 \n",
       "Q 17.1875 0 13.234375 3.875 \n",
       "Q 9.28125 7.765625 9.28125 18.015625 \n",
       "L 9.28125 47.703125 \n",
       "L 2.6875 47.703125 \n",
       "L 2.6875 54.6875 \n",
       "L 9.28125 54.6875 \n",
       "L 9.28125 70.21875 \n",
       "z\n",
       "\" id=\"DejaVuSans-116\"/>\n",
       "       <path d=\"M 54.890625 33.015625 \n",
       "L 54.890625 0 \n",
       "L 45.90625 0 \n",
       "L 45.90625 32.71875 \n",
       "Q 45.90625 40.484375 42.875 44.328125 \n",
       "Q 39.84375 48.1875 33.796875 48.1875 \n",
       "Q 26.515625 48.1875 22.3125 43.546875 \n",
       "Q 18.109375 38.921875 18.109375 30.90625 \n",
       "L 18.109375 0 \n",
       "L 9.078125 0 \n",
       "L 9.078125 54.6875 \n",
       "L 18.109375 54.6875 \n",
       "L 18.109375 46.1875 \n",
       "Q 21.34375 51.125 25.703125 53.5625 \n",
       "Q 30.078125 56 35.796875 56 \n",
       "Q 45.21875 56 50.046875 50.171875 \n",
       "Q 54.890625 44.34375 54.890625 33.015625 \n",
       "z\n",
       "\" id=\"DejaVuSans-110\"/>\n",
       "      </defs>\n",
       "      <use xlink:href=\"#DejaVuSans-80\"/>\n",
       "      <use x=\"56.677734\" xlink:href=\"#DejaVuSans-111\"/>\n",
       "      <use x=\"117.859375\" xlink:href=\"#DejaVuSans-115\"/>\n",
       "      <use x=\"169.958984\" xlink:href=\"#DejaVuSans-116\"/>\n",
       "      <use x=\"209.167969\" xlink:href=\"#DejaVuSans-105\"/>\n",
       "      <use x=\"236.951172\" xlink:href=\"#DejaVuSans-116\"/>\n",
       "      <use x=\"276.160156\" xlink:href=\"#DejaVuSans-105\"/>\n",
       "      <use x=\"303.943359\" xlink:href=\"#DejaVuSans-111\"/>\n",
       "      <use x=\"365.125\" xlink:href=\"#DejaVuSans-110\"/>\n",
       "      <use x=\"428.503906\" xlink:href=\"#DejaVuSans-32\"/>\n",
       "      <use x=\"460.291016\" xlink:href=\"#DejaVuSans-91\"/>\n",
       "      <use x=\"499.304688\" xlink:href=\"#DejaVuSans-109\"/>\n",
       "      <use x=\"596.716797\" xlink:href=\"#DejaVuSans-93\"/>\n",
       "     </g>\n",
       "    </g>\n",
       "   </g>\n",
       "   <g id=\"line2d_186\">\n",
       "    <path clip-path=\"url(#pd718d0bbc7)\" d=\"M 62.21 302.58 \n",
       "L 285.41 181.78 \n",
       "L 508.61 30.78 \n",
       "\" style=\"fill:none;stroke:#0c5da5;stroke-linecap:square;stroke-width:2;\"/>\n",
       "   </g>\n",
       "   <g id=\"patch_3\">\n",
       "    <path d=\"M 62.21 329.76 \n",
       "L 62.21 3.6 \n",
       "\" style=\"fill:none;stroke:#000000;stroke-linecap:square;stroke-linejoin:miter;\"/>\n",
       "   </g>\n",
       "   <g id=\"patch_4\">\n",
       "    <path d=\"M 508.61 329.76 \n",
       "L 508.61 3.6 \n",
       "\" style=\"fill:none;stroke:#000000;stroke-linecap:square;stroke-linejoin:miter;\"/>\n",
       "   </g>\n",
       "   <g id=\"patch_5\">\n",
       "    <path d=\"M 62.21 329.76 \n",
       "L 508.61 329.76 \n",
       "\" style=\"fill:none;stroke:#000000;stroke-linecap:square;stroke-linejoin:miter;\"/>\n",
       "   </g>\n",
       "   <g id=\"patch_6\">\n",
       "    <path d=\"M 62.21 3.6 \n",
       "L 508.61 3.6 \n",
       "\" style=\"fill:none;stroke:#000000;stroke-linecap:square;stroke-linejoin:miter;\"/>\n",
       "   </g>\n",
       "  </g>\n",
       " </g>\n",
       " <defs>\n",
       "  <clipPath id=\"pd718d0bbc7\">\n",
       "   <rect height=\"326.16\" width=\"446.4\" x=\"62.21\" y=\"3.6\"/>\n",
       "  </clipPath>\n",
       " </defs>\n",
       "</svg>\n"
      ],
      "text/plain": [
       "<Figure size 576x432 with 1 Axes>"
      ]
     },
     "metadata": {
      "needs_background": "light"
     },
     "output_type": "display_data"
    }
   ],
   "source": [
    "plt.plot(time_slice[:-1], np.cumsum(distance))\n",
    "plt.xlabel(\"Time [s]\")\n",
    "plt.ylabel(\"Postition [m]\")\n",
    "plt.margins(0, 0.1)\n",
    "plt.show();"
   ]
  },
  {
   "cell_type": "code",
   "execution_count": 16,
   "id": "fd3e55f8",
   "metadata": {},
   "outputs": [
    {
     "data": {
      "text/plain": [
       "array([ 1.  ,  3.75,  7.75, 12.5 , 17.5 , 22.25])"
      ]
     },
     "execution_count": 16,
     "metadata": {},
     "output_type": "execute_result"
    }
   ],
   "source": [
    "np.cumsum(speed[:-1] * np.diff(time))"
   ]
  },
  {
   "cell_type": "code",
   "execution_count": 17,
   "id": "cb28eed6",
   "metadata": {},
   "outputs": [
    {
     "data": {
      "text/plain": [
       "array([ 1.875,  5.25 ,  9.625, 14.5  , 19.375, 23.75 ])"
      ]
     },
     "execution_count": 17,
     "metadata": {},
     "output_type": "execute_result"
    }
   ],
   "source": [
    "from scipy.integrate import cumulative_trapezoid\n",
    "\n",
    "cumulative_trapezoid(speed, time)"
   ]
  },
  {
   "cell_type": "code",
   "execution_count": 18,
   "id": "29185626",
   "metadata": {},
   "outputs": [
    {
     "name": "stdout",
     "output_type": "stream",
     "text": [
      "The equation given is:\n"
     ]
    },
    {
     "data": {
      "text/latex": [
       "$\\displaystyle - 2 t^{2} + 8 t + 2$"
      ],
      "text/plain": [
       "-2*t**2 + 8*t + 2"
      ]
     },
     "metadata": {},
     "output_type": "display_data"
    },
    {
     "name": "stdout",
     "output_type": "stream",
     "text": [
      "Its integral is equal to:\n"
     ]
    },
    {
     "data": {
      "text/latex": [
       "$\\displaystyle 24$"
      ],
      "text/plain": [
       "24"
      ]
     },
     "metadata": {},
     "output_type": "display_data"
    }
   ],
   "source": [
    "equation = -2*t**2 + 8*t + 2\n",
    "\n",
    "display_and_integrate(equation, symbols=(t, 0, 3));"
   ]
  },
  {
   "cell_type": "markdown",
   "id": "51c433f5",
   "metadata": {},
   "source": [
    "### Exercise 3.3.2"
   ]
  },
  {
   "cell_type": "code",
   "execution_count": 19,
   "id": "c9eb81e6",
   "metadata": {},
   "outputs": [
    {
     "data": {
      "text/plain": [
       "0.04999999999999949"
      ]
     },
     "execution_count": 19,
     "metadata": {},
     "output_type": "execute_result"
    }
   ],
   "source": [
    "time = np.array([0, 0.2, 0.4, 0.6, 0.8, 1., 1.2, 1.4, 1.6])\n",
    "speed = np.array([0, 1., 1.5, 1., 0.5, 0.5, -1., -2., -2.5])\n",
    "\n",
    "cumulative_trapezoid(speed, time)[-1]"
   ]
  },
  {
   "cell_type": "markdown",
   "id": "622e025b",
   "metadata": {},
   "source": [
    "### Exercise 3.3.3"
   ]
  },
  {
   "cell_type": "code",
   "execution_count": 20,
   "id": "365e44ed",
   "metadata": {},
   "outputs": [
    {
     "data": {
      "text/plain": [
       "2.760833333333333"
      ]
     },
     "execution_count": 20,
     "metadata": {},
     "output_type": "execute_result"
    }
   ],
   "source": [
    "time = np.array([0, 10, 20, 30, 40 ,50])\n",
    "oxygen = np.array([0.5, 2.27, 3.34, 4., 4.39, 4.63]) / 60\n",
    "\n",
    "cumulative_trapezoid(oxygen, time)[-1]"
   ]
  },
  {
   "cell_type": "code",
   "execution_count": 21,
   "id": "79535f3d",
   "metadata": {},
   "outputs": [
    {
     "data": {
      "text/latex": [
       "$\\displaystyle e^{x} - 1$"
      ],
      "text/plain": [
       "exp(x) - 1"
      ]
     },
     "execution_count": 21,
     "metadata": {},
     "output_type": "execute_result"
    }
   ],
   "source": [
    "equation = E**x - 1\n",
    "equation"
   ]
  },
  {
   "cell_type": "markdown",
   "id": "c4162e02",
   "metadata": {},
   "source": [
    "### Exercise 3.3.4"
   ]
  },
  {
   "cell_type": "code",
   "execution_count": 22,
   "id": "390a2895",
   "metadata": {},
   "outputs": [
    {
     "data": {
      "text/plain": [
       "6.38905609893065"
      ]
     },
     "execution_count": 22,
     "metadata": {},
     "output_type": "execute_result"
    }
   ],
   "source": [
    "python_equation = smp.lambdify(x, equation, \"numpy\")\n",
    "python_equation(2)"
   ]
  },
  {
   "cell_type": "code",
   "execution_count": 23,
   "id": "12559190",
   "metadata": {},
   "outputs": [
    {
     "data": {
      "text/plain": [
       "4.596749598510091"
      ]
     },
     "execution_count": 23,
     "metadata": {},
     "output_type": "execute_result"
    }
   ],
   "source": [
    "int_start = -1\n",
    "int_stop = 2\n",
    "stepsize = 1\n",
    "\n",
    "time = np.arange(int_start, int_stop + stepsize, stepsize)  # note [start, stop) in step\n",
    "cumulative_trapezoid(python_equation(time), time)[-1]"
   ]
  },
  {
   "cell_type": "code",
   "execution_count": 24,
   "id": "0feab3a9",
   "metadata": {},
   "outputs": [
    {
     "data": {
      "text/plain": [
       "4.1668452996304595"
      ]
     },
     "execution_count": 24,
     "metadata": {},
     "output_type": "execute_result"
    }
   ],
   "source": [
    "stepsize = 0.5\n",
    "\n",
    "time = np.arange(int_start, int_stop + stepsize, stepsize)\n",
    "cumulative_trapezoid(python_equation(time), time)[-1]"
   ]
  },
  {
   "cell_type": "code",
   "execution_count": 25,
   "id": "35390d88",
   "metadata": {},
   "outputs": [
    {
     "name": "stdout",
     "output_type": "stream",
     "text": [
      "The equation given is:\n"
     ]
    },
    {
     "data": {
      "text/latex": [
       "$\\displaystyle e^{x} - 1$"
      ],
      "text/plain": [
       "exp(x) - 1"
      ]
     },
     "metadata": {},
     "output_type": "display_data"
    },
    {
     "name": "stdout",
     "output_type": "stream",
     "text": [
      "Its integral is equal to:\n"
     ]
    },
    {
     "data": {
      "text/latex": [
       "$\\displaystyle -3 - e^{-1} + e^{2}$"
      ],
      "text/plain": [
       "-3 - exp(-1) + exp(2)"
      ]
     },
     "metadata": {},
     "output_type": "display_data"
    },
    {
     "data": {
      "text/latex": [
       "$\\displaystyle 4.02$"
      ],
      "text/plain": [
       "4.02"
      ]
     },
     "execution_count": 25,
     "metadata": {},
     "output_type": "execute_result"
    }
   ],
   "source": [
    "display_and_integrate(equation, symbols=(x, -1, 2)).evalf(3)"
   ]
  },
  {
   "cell_type": "markdown",
   "id": "e5407fcc",
   "metadata": {},
   "source": [
    "## Exercise 3.4: the substitution method"
   ]
  },
  {
   "cell_type": "markdown",
   "id": "09f204e7",
   "metadata": {},
   "source": [
    "### Exercise 3.4.1"
   ]
  },
  {
   "cell_type": "code",
   "execution_count": 26,
   "id": "51b3c2ec",
   "metadata": {},
   "outputs": [
    {
     "name": "stdout",
     "output_type": "stream",
     "text": [
      "The equation given is:\n"
     ]
    },
    {
     "data": {
      "text/latex": [
       "$\\displaystyle e^{- 2 t}$"
      ],
      "text/plain": [
       "exp(-2*t)"
      ]
     },
     "metadata": {},
     "output_type": "display_data"
    },
    {
     "name": "stdout",
     "output_type": "stream",
     "text": [
      "Its integral is equal to:\n"
     ]
    },
    {
     "data": {
      "text/latex": [
       "$\\displaystyle \\frac{1}{2} - \\frac{1}{2 e^{4}}$"
      ],
      "text/plain": [
       "1/2 - exp(-4)/2"
      ]
     },
     "metadata": {},
     "output_type": "display_data"
    },
    {
     "data": {
      "text/latex": [
       "$\\displaystyle 0.491$"
      ],
      "text/plain": [
       "0.491"
      ]
     },
     "execution_count": 26,
     "metadata": {},
     "output_type": "execute_result"
    }
   ],
   "source": [
    "display_and_integrate(E**(-2*t), symbols=(t, 0, 2)).evalf(3)"
   ]
  },
  {
   "cell_type": "code",
   "execution_count": 27,
   "id": "5b33cf20",
   "metadata": {},
   "outputs": [
    {
     "name": "stdout",
     "output_type": "stream",
     "text": [
      "The equation given is:\n"
     ]
    },
    {
     "data": {
      "text/latex": [
       "$\\displaystyle \\cos{\\left(2 ϕ \\right)}$"
      ],
      "text/plain": [
       "cos(2*ϕ)"
      ]
     },
     "metadata": {},
     "output_type": "display_data"
    },
    {
     "name": "stdout",
     "output_type": "stream",
     "text": [
      "Its integral is equal to:\n"
     ]
    },
    {
     "data": {
      "text/latex": [
       "$\\displaystyle 0$"
      ],
      "text/plain": [
       "0"
      ]
     },
     "metadata": {},
     "output_type": "display_data"
    }
   ],
   "source": [
    "display_and_integrate(cos(2 * ϕ), symbols=(ϕ, 0, pi));"
   ]
  },
  {
   "cell_type": "code",
   "execution_count": 28,
   "id": "da61c6f6",
   "metadata": {},
   "outputs": [
    {
     "name": "stdout",
     "output_type": "stream",
     "text": [
      "The equation given is:\n"
     ]
    },
    {
     "data": {
      "text/latex": [
       "$\\displaystyle \\frac{1}{2 x + 3}$"
      ],
      "text/plain": [
       "1/(2*x + 3)"
      ]
     },
     "metadata": {},
     "output_type": "display_data"
    },
    {
     "name": "stdout",
     "output_type": "stream",
     "text": [
      "Its integral is equal to:\n"
     ]
    },
    {
     "data": {
      "text/latex": [
       "$\\displaystyle - \\frac{\\log{\\left(3 \\right)}}{2} + \\frac{\\log{\\left(7 \\right)}}{2}$"
      ],
      "text/plain": [
       "-log(3)/2 + log(7)/2"
      ]
     },
     "metadata": {},
     "output_type": "display_data"
    },
    {
     "data": {
      "text/latex": [
       "$\\displaystyle 0.424$"
      ],
      "text/plain": [
       "0.424"
      ]
     },
     "execution_count": 28,
     "metadata": {},
     "output_type": "execute_result"
    }
   ],
   "source": [
    "display_and_integrate(1 / (2*x + 3), symbols=(x, 0, 2)).evalf(3)"
   ]
  },
  {
   "cell_type": "code",
   "execution_count": 29,
   "id": "f507f1c1",
   "metadata": {},
   "outputs": [
    {
     "name": "stdout",
     "output_type": "stream",
     "text": [
      "The equation given is:\n"
     ]
    },
    {
     "data": {
      "text/latex": [
       "$\\displaystyle \\frac{1}{x \\log{\\left(x \\right)}}$"
      ],
      "text/plain": [
       "1/(x*log(x))"
      ]
     },
     "metadata": {},
     "output_type": "display_data"
    },
    {
     "name": "stdout",
     "output_type": "stream",
     "text": [
      "Its integral is equal to:\n"
     ]
    },
    {
     "data": {
      "text/latex": [
       "$\\displaystyle - \\log{\\left(\\log{\\left(2 \\right)} \\right)}$"
      ],
      "text/plain": [
       "-log(log(2))"
      ]
     },
     "metadata": {},
     "output_type": "display_data"
    },
    {
     "data": {
      "text/latex": [
       "$\\displaystyle 0.367$"
      ],
      "text/plain": [
       "0.367"
      ]
     },
     "execution_count": 29,
     "metadata": {},
     "output_type": "execute_result"
    }
   ],
   "source": [
    "display_and_integrate(1 / (x * ln(x)), symbols=(x, 2, E)).evalf(3)"
   ]
  },
  {
   "cell_type": "code",
   "execution_count": 30,
   "id": "ffc74da5",
   "metadata": {},
   "outputs": [
    {
     "name": "stdout",
     "output_type": "stream",
     "text": [
      "The equation given is:\n"
     ]
    },
    {
     "data": {
      "text/latex": [
       "$\\displaystyle \\tan{\\left(ϕ \\right)}$"
      ],
      "text/plain": [
       "tan(ϕ)"
      ]
     },
     "metadata": {},
     "output_type": "display_data"
    },
    {
     "name": "stdout",
     "output_type": "stream",
     "text": [
      "Its integral is equal to:\n"
     ]
    },
    {
     "data": {
      "text/latex": [
       "$\\displaystyle - \\log{\\left(\\cos{\\left(1 \\right)} \\right)}$"
      ],
      "text/plain": [
       "-log(cos(1))"
      ]
     },
     "metadata": {},
     "output_type": "display_data"
    },
    {
     "data": {
      "text/latex": [
       "$\\displaystyle 0.616$"
      ],
      "text/plain": [
       "0.616"
      ]
     },
     "execution_count": 30,
     "metadata": {},
     "output_type": "execute_result"
    }
   ],
   "source": [
    "display_and_integrate(tan(ϕ), symbols=(ϕ, 0, 1)).evalf(3)"
   ]
  },
  {
   "cell_type": "markdown",
   "id": "0b49ee5c",
   "metadata": {},
   "source": [
    "### Exercise 3.4.2"
   ]
  },
  {
   "cell_type": "code",
   "execution_count": 31,
   "id": "662208cb",
   "metadata": {},
   "outputs": [
    {
     "name": "stdout",
     "output_type": "stream",
     "text": [
      "The equation given is:\n"
     ]
    },
    {
     "data": {
      "text/latex": [
       "$\\displaystyle \\sin{\\left(2 ϕ \\right)}$"
      ],
      "text/plain": [
       "sin(2*ϕ)"
      ]
     },
     "metadata": {},
     "output_type": "display_data"
    },
    {
     "name": "stdout",
     "output_type": "stream",
     "text": [
      "Its integral is equal to:\n"
     ]
    },
    {
     "data": {
      "text/latex": [
       "$\\displaystyle - \\frac{\\cos{\\left(2 ϕ \\right)}}{2}$"
      ],
      "text/plain": [
       "-cos(2*ϕ)/2"
      ]
     },
     "metadata": {},
     "output_type": "display_data"
    }
   ],
   "source": [
    "display_and_integrate(sin(2*ϕ));"
   ]
  },
  {
   "cell_type": "code",
   "execution_count": 32,
   "id": "bf015cce",
   "metadata": {},
   "outputs": [
    {
     "name": "stdout",
     "output_type": "stream",
     "text": [
      "The equation given is:\n"
     ]
    },
    {
     "data": {
      "text/latex": [
       "$\\displaystyle e^{6 t - 5}$"
      ],
      "text/plain": [
       "exp(6*t - 5)"
      ]
     },
     "metadata": {},
     "output_type": "display_data"
    },
    {
     "name": "stdout",
     "output_type": "stream",
     "text": [
      "Its integral is equal to:\n"
     ]
    },
    {
     "data": {
      "text/latex": [
       "$\\displaystyle \\frac{e^{6 t - 5}}{6}$"
      ],
      "text/plain": [
       "exp(6*t - 5)/6"
      ]
     },
     "metadata": {},
     "output_type": "display_data"
    }
   ],
   "source": [
    "display_and_integrate(E**(6*t - 5));"
   ]
  },
  {
   "cell_type": "code",
   "execution_count": 33,
   "id": "3bd10e25",
   "metadata": {},
   "outputs": [
    {
     "name": "stdout",
     "output_type": "stream",
     "text": [
      "The equation given is:\n"
     ]
    },
    {
     "data": {
      "text/latex": [
       "$\\displaystyle \\frac{6}{\\left(2 t - 3\\right)^{3}}$"
      ],
      "text/plain": [
       "6/(2*t - 3)**3"
      ]
     },
     "metadata": {},
     "output_type": "display_data"
    },
    {
     "name": "stdout",
     "output_type": "stream",
     "text": [
      "Its integral is equal to:\n"
     ]
    },
    {
     "data": {
      "text/latex": [
       "$\\displaystyle - \\frac{6}{16 t^{2} - 48 t + 36}$"
      ],
      "text/plain": [
       "-6/(16*t**2 - 48*t + 36)"
      ]
     },
     "metadata": {},
     "output_type": "display_data"
    }
   ],
   "source": [
    "display_and_integrate(6 / (2*t - 3)**3);"
   ]
  },
  {
   "cell_type": "code",
   "execution_count": 34,
   "id": "05bcecb4",
   "metadata": {},
   "outputs": [
    {
     "name": "stdout",
     "output_type": "stream",
     "text": [
      "The equation given is:\n"
     ]
    },
    {
     "data": {
      "text/latex": [
       "$\\displaystyle \\frac{4 t}{t^{2} + 3}$"
      ],
      "text/plain": [
       "4*t/(t**2 + 3)"
      ]
     },
     "metadata": {},
     "output_type": "display_data"
    },
    {
     "name": "stdout",
     "output_type": "stream",
     "text": [
      "Its integral is equal to:\n"
     ]
    },
    {
     "data": {
      "text/latex": [
       "$\\displaystyle 2 \\log{\\left(t^{2} + 3 \\right)}$"
      ],
      "text/plain": [
       "2*log(t**2 + 3)"
      ]
     },
     "metadata": {},
     "output_type": "display_data"
    }
   ],
   "source": [
    "display_and_integrate(4*t / (t**2 + 3));"
   ]
  },
  {
   "cell_type": "markdown",
   "id": "1bfa1b56",
   "metadata": {},
   "source": [
    "## Exercise 3.5: kinematics"
   ]
  },
  {
   "cell_type": "markdown",
   "id": "1eb00214",
   "metadata": {},
   "source": [
    "### Exercise 3.5.1"
   ]
  },
  {
   "cell_type": "code",
   "execution_count": 35,
   "id": "7f49d4d4",
   "metadata": {},
   "outputs": [
    {
     "data": {
      "text/latex": [
       "$\\displaystyle 2 t^{3} - 6 t^{2} + 4$"
      ],
      "text/plain": [
       "2*t**3 - 6*t**2 + 4"
      ]
     },
     "execution_count": 35,
     "metadata": {},
     "output_type": "execute_result"
    }
   ],
   "source": [
    "position = 2*t**3 - 6*t**2 + 4\n",
    "position"
   ]
  },
  {
   "cell_type": "code",
   "execution_count": 36,
   "id": "49db8672",
   "metadata": {},
   "outputs": [
    {
     "data": {
      "text/latex": [
       "$\\displaystyle 6 t^{2} - 12 t$"
      ],
      "text/plain": [
       "6*t**2 - 12*t"
      ]
     },
     "execution_count": 36,
     "metadata": {},
     "output_type": "execute_result"
    }
   ],
   "source": [
    "speed = position.diff()\n",
    "speed"
   ]
  },
  {
   "cell_type": "code",
   "execution_count": 37,
   "id": "e356c0d5",
   "metadata": {},
   "outputs": [
    {
     "data": {
      "text/latex": [
       "$\\displaystyle 12 t - 12$"
      ],
      "text/plain": [
       "12*t - 12"
      ]
     },
     "execution_count": 37,
     "metadata": {},
     "output_type": "execute_result"
    }
   ],
   "source": [
    "accel = speed.diff()\n",
    "accel"
   ]
  },
  {
   "cell_type": "code",
   "execution_count": 38,
   "id": "ea949a10",
   "metadata": {},
   "outputs": [
    {
     "data": {
      "text/plain": [
       "[-1, 3]"
      ]
     },
     "execution_count": 38,
     "metadata": {},
     "output_type": "execute_result"
    }
   ],
   "source": [
    "smp.solve(smp.Eq(speed, 18))"
   ]
  },
  {
   "cell_type": "code",
   "execution_count": 39,
   "id": "9fbb23f3",
   "metadata": {},
   "outputs": [
    {
     "data": {
      "text/plain": [
       "[1]"
      ]
     },
     "execution_count": 39,
     "metadata": {},
     "output_type": "execute_result"
    }
   ],
   "source": [
    "smp.solve(smp.Eq(speed, -6))"
   ]
  },
  {
   "cell_type": "code",
   "execution_count": 40,
   "id": "9aba6041",
   "metadata": {},
   "outputs": [
    {
     "data": {
      "text/plain": [
       "[1]"
      ]
     },
     "execution_count": 40,
     "metadata": {},
     "output_type": "execute_result"
    }
   ],
   "source": [
    "smp.solve(smp.Eq(accel, 0))"
   ]
  },
  {
   "cell_type": "markdown",
   "id": "25406c6d",
   "metadata": {},
   "source": [
    "### Exercise 3.5.2"
   ]
  },
  {
   "cell_type": "code",
   "execution_count": 41,
   "id": "039f28ee",
   "metadata": {},
   "outputs": [
    {
     "name": "stdout",
     "output_type": "stream",
     "text": [
      "The equation given is:\n"
     ]
    },
    {
     "data": {
      "text/latex": [
       "$\\displaystyle 3 e^{- 2 t}$"
      ],
      "text/plain": [
       "3*exp(-2*t)"
      ]
     },
     "metadata": {},
     "output_type": "display_data"
    },
    {
     "name": "stdout",
     "output_type": "stream",
     "text": [
      "Its integral is equal to:\n"
     ]
    },
    {
     "data": {
      "text/latex": [
       "$\\displaystyle - \\frac{3 e^{- 2 t}}{2}$"
      ],
      "text/plain": [
       "-3*exp(-2*t)/2"
      ]
     },
     "metadata": {},
     "output_type": "display_data"
    },
    {
     "data": {
      "text/latex": [
       "$\\displaystyle \\frac{3}{2} - \\frac{3 e^{- 2 t}}{2}$"
      ],
      "text/plain": [
       "3/2 - 3*exp(-2*t)/2"
      ]
     },
     "execution_count": 41,
     "metadata": {},
     "output_type": "execute_result"
    }
   ],
   "source": [
    "accel = 3*E**(-2*t)\n",
    "\n",
    "velocity = display_and_integrate(accel, symbols=t)\n",
    "velocity = velocity - velocity.subs(t, 0)\n",
    "velocity"
   ]
  },
  {
   "cell_type": "code",
   "execution_count": 42,
   "id": "2b376413",
   "metadata": {},
   "outputs": [
    {
     "name": "stdout",
     "output_type": "stream",
     "text": [
      "The equation given is:\n"
     ]
    },
    {
     "data": {
      "text/latex": [
       "$\\displaystyle \\frac{3}{2} - \\frac{3 e^{- 2 t}}{2}$"
      ],
      "text/plain": [
       "3/2 - 3*exp(-2*t)/2"
      ]
     },
     "metadata": {},
     "output_type": "display_data"
    },
    {
     "name": "stdout",
     "output_type": "stream",
     "text": [
      "Its integral is equal to:\n"
     ]
    },
    {
     "data": {
      "text/latex": [
       "$\\displaystyle \\frac{3 t}{2} + \\frac{3 e^{- 2 t}}{4}$"
      ],
      "text/plain": [
       "3*t/2 + 3*exp(-2*t)/4"
      ]
     },
     "metadata": {},
     "output_type": "display_data"
    }
   ],
   "source": [
    "position = display_and_integrate(velocity, symbols=t)\n",
    "position = position - position.subs(t, 0)"
   ]
  },
  {
   "cell_type": "code",
   "execution_count": 43,
   "id": "db6811c1",
   "metadata": {},
   "outputs": [
    {
     "data": {
      "text/plain": [
       "(0.8515, 14.25)"
      ]
     },
     "execution_count": 43,
     "metadata": {},
     "output_type": "execute_result"
    }
   ],
   "source": [
    "position.subs(t, 1).evalf(4), position.subs(t, 10).evalf(4)"
   ]
  },
  {
   "cell_type": "markdown",
   "id": "f9b7f221",
   "metadata": {},
   "source": [
    "### Exercise 3.5.3"
   ]
  },
  {
   "cell_type": "code",
   "execution_count": 44,
   "id": "26aa6a90",
   "metadata": {},
   "outputs": [
    {
     "name": "stdout",
     "output_type": "stream",
     "text": [
      "The equation given is:\n"
     ]
    },
    {
     "data": {
      "text/latex": [
       "$\\displaystyle 6 + \\frac{2}{t}$"
      ],
      "text/plain": [
       "6 + 2/t"
      ]
     },
     "metadata": {},
     "output_type": "display_data"
    },
    {
     "name": "stdout",
     "output_type": "stream",
     "text": [
      "Its integral is equal to:\n"
     ]
    },
    {
     "data": {
      "text/latex": [
       "$\\displaystyle 6 t + 2 \\log{\\left(t \\right)}$"
      ],
      "text/plain": [
       "6*t + 2*log(t)"
      ]
     },
     "metadata": {},
     "output_type": "display_data"
    }
   ],
   "source": [
    "speed = 2 / t + 6\n",
    "position = display_and_integrate(speed)"
   ]
  },
  {
   "cell_type": "code",
   "execution_count": 45,
   "id": "0c4187a3",
   "metadata": {},
   "outputs": [
    {
     "data": {
      "text/latex": [
       "$\\displaystyle 6 t + 2 \\log{\\left(t \\right)} - 3$"
      ],
      "text/plain": [
       "6*t + 2*log(t) - 3"
      ]
     },
     "execution_count": 45,
     "metadata": {},
     "output_type": "execute_result"
    }
   ],
   "source": [
    "position = position + (3 - position.subs(t, 1))\n",
    "position"
   ]
  },
  {
   "cell_type": "code",
   "execution_count": 46,
   "id": "4152b798",
   "metadata": {},
   "outputs": [
    {
     "data": {
      "text/latex": [
       "$\\displaystyle 3$"
      ],
      "text/plain": [
       "3"
      ]
     },
     "execution_count": 46,
     "metadata": {},
     "output_type": "execute_result"
    }
   ],
   "source": [
    "position.subs(t, 1)"
   ]
  },
  {
   "cell_type": "code",
   "execution_count": 47,
   "id": "8c073d2a",
   "metadata": {},
   "outputs": [
    {
     "data": {
      "text/latex": [
       "$\\displaystyle 10.4$"
      ],
      "text/plain": [
       "10.4"
      ]
     },
     "execution_count": 47,
     "metadata": {},
     "output_type": "execute_result"
    }
   ],
   "source": [
    "position.subs(t, 2).evalf(3)"
   ]
  },
  {
   "cell_type": "markdown",
   "id": "ba6c54e7",
   "metadata": {},
   "source": [
    "## Exercise 3.6: multiple integration"
   ]
  },
  {
   "cell_type": "markdown",
   "id": "d9249c72",
   "metadata": {},
   "source": [
    "### Exercise 3.6.1"
   ]
  },
  {
   "cell_type": "code",
   "execution_count": 48,
   "id": "9dc581a8",
   "metadata": {},
   "outputs": [
    {
     "name": "stdout",
     "output_type": "stream",
     "text": [
      "The equation given is:\n"
     ]
    },
    {
     "data": {
      "text/latex": [
       "$\\displaystyle r \\sin{\\left(ϕ \\right)}$"
      ],
      "text/plain": [
       "r*sin(ϕ)"
      ]
     },
     "metadata": {},
     "output_type": "display_data"
    },
    {
     "name": "stdout",
     "output_type": "stream",
     "text": [
      "Its integral is equal to:\n"
     ]
    },
    {
     "data": {
      "text/latex": [
       "$\\displaystyle 4$"
      ],
      "text/plain": [
       "4"
      ]
     },
     "metadata": {},
     "output_type": "display_data"
    }
   ],
   "source": [
    "display_and_integrate(r * sin(ϕ), symbols=((ϕ, 0, pi), (r, 0, 2)), unpack=True);"
   ]
  },
  {
   "cell_type": "code",
   "execution_count": 49,
   "id": "5dc9f6c5",
   "metadata": {},
   "outputs": [
    {
     "name": "stdout",
     "output_type": "stream",
     "text": [
      "The equation given is:\n"
     ]
    },
    {
     "data": {
      "text/latex": [
       "$\\displaystyle x^{2} + y^{2}$"
      ],
      "text/plain": [
       "x**2 + y**2"
      ]
     },
     "metadata": {},
     "output_type": "display_data"
    },
    {
     "name": "stdout",
     "output_type": "stream",
     "text": [
      "Its integral is equal to:\n"
     ]
    },
    {
     "data": {
      "text/latex": [
       "$\\displaystyle \\frac{10}{3}$"
      ],
      "text/plain": [
       "10/3"
      ]
     },
     "metadata": {},
     "output_type": "display_data"
    }
   ],
   "source": [
    "display_and_integrate(x**2 + y**2, symbols=((x, 0, 1), (y, 0, 2)), unpack=True);"
   ]
  },
  {
   "cell_type": "code",
   "execution_count": 50,
   "id": "16c74756",
   "metadata": {},
   "outputs": [
    {
     "name": "stdout",
     "output_type": "stream",
     "text": [
      "The equation given is:\n"
     ]
    },
    {
     "data": {
      "text/latex": [
       "$\\displaystyle r^{2} z$"
      ],
      "text/plain": [
       "r**2*z"
      ]
     },
     "metadata": {},
     "output_type": "display_data"
    },
    {
     "name": "stdout",
     "output_type": "stream",
     "text": [
      "Its integral is equal to:\n"
     ]
    },
    {
     "data": {
      "text/latex": [
       "$\\displaystyle \\frac{76 \\pi}{3}$"
      ],
      "text/plain": [
       "76*pi/3"
      ]
     },
     "metadata": {},
     "output_type": "display_data"
    },
    {
     "data": {
      "text/latex": [
       "$\\displaystyle 79.59$"
      ],
      "text/plain": [
       "79.59"
      ]
     },
     "execution_count": 50,
     "metadata": {},
     "output_type": "execute_result"
    }
   ],
   "source": [
    "display_and_integrate(r**2 * z, symbols=((ϕ, 0, 2*pi), (r, 2, 3), (z, 0, 2)), unpack=True).evalf(4)"
   ]
  },
  {
   "cell_type": "code",
   "execution_count": 51,
   "id": "bfcb9a8d",
   "metadata": {},
   "outputs": [
    {
     "name": "stdout",
     "output_type": "stream",
     "text": [
      "The equation given is:\n"
     ]
    },
    {
     "data": {
      "text/latex": [
       "$\\displaystyle \\frac{3 x}{y}$"
      ],
      "text/plain": [
       "3*x/y"
      ]
     },
     "metadata": {},
     "output_type": "display_data"
    },
    {
     "name": "stdout",
     "output_type": "stream",
     "text": [
      "Its integral is equal to:\n"
     ]
    },
    {
     "data": {
      "text/latex": [
       "$\\displaystyle \\frac{3 \\log{\\left(2 \\right)}}{2}$"
      ],
      "text/plain": [
       "3*log(2)/2"
      ]
     },
     "metadata": {},
     "output_type": "display_data"
    },
    {
     "data": {
      "text/latex": [
       "$\\displaystyle 1.04$"
      ],
      "text/plain": [
       "1.04"
      ]
     },
     "execution_count": 51,
     "metadata": {},
     "output_type": "execute_result"
    }
   ],
   "source": [
    "display_and_integrate(3*x / y, symbols=((x, 0, 1), (y, 1, 2)), unpack=True).evalf(3)"
   ]
  },
  {
   "cell_type": "markdown",
   "id": "776f6999",
   "metadata": {},
   "source": [
    "### Exercise 3.6.2"
   ]
  },
  {
   "cell_type": "code",
   "execution_count": 52,
   "id": "865bf8fb",
   "metadata": {},
   "outputs": [
    {
     "name": "stdout",
     "output_type": "stream",
     "text": [
      "The equation given is:\n"
     ]
    },
    {
     "data": {
      "text/latex": [
       "$\\displaystyle \\left(2 - x^{2}\\right) \\left(2 - y^{2}\\right)$"
      ],
      "text/plain": [
       "(2 - x**2)*(2 - y**2)"
      ]
     },
     "metadata": {},
     "output_type": "display_data"
    },
    {
     "name": "stdout",
     "output_type": "stream",
     "text": [
      "Its integral is equal to:\n"
     ]
    },
    {
     "data": {
      "text/latex": [
       "$\\displaystyle \\frac{25}{9}$"
      ],
      "text/plain": [
       "25/9"
      ]
     },
     "metadata": {},
     "output_type": "display_data"
    },
    {
     "data": {
      "text/latex": [
       "$\\displaystyle \\frac{100}{9}$"
      ],
      "text/plain": [
       "100/9"
      ]
     },
     "execution_count": 52,
     "metadata": {},
     "output_type": "execute_result"
    }
   ],
   "source": [
    "speed = (2 - x**2) * (2 - y**2)\n",
    "surface = 2 * 2\n",
    "\n",
    "display_and_integrate(speed, symbols=((x, 0, 1), (y, 0, 1)), unpack=True) * surface"
   ]
  },
  {
   "cell_type": "markdown",
   "id": "8dc4424d",
   "metadata": {},
   "source": [
    "### Exercise 3.6.3"
   ]
  },
  {
   "cell_type": "code",
   "execution_count": 53,
   "id": "81869f5f",
   "metadata": {},
   "outputs": [
    {
     "name": "stdout",
     "output_type": "stream",
     "text": [
      "The equation given is:\n"
     ]
    },
    {
     "data": {
      "text/latex": [
       "$\\displaystyle - x^{2} - y^{2} + 4$"
      ],
      "text/plain": [
       "-x**2 - y**2 + 4"
      ]
     },
     "metadata": {},
     "output_type": "display_data"
    },
    {
     "name": "stdout",
     "output_type": "stream",
     "text": [
      "Its integral is equal to:\n"
     ]
    },
    {
     "data": {
      "text/latex": [
       "$\\displaystyle \\frac{10}{3}$"
      ],
      "text/plain": [
       "10/3"
      ]
     },
     "metadata": {},
     "output_type": "display_data"
    },
    {
     "data": {
      "text/latex": [
       "$\\displaystyle \\frac{40}{3}$"
      ],
      "text/plain": [
       "40/3"
      ]
     },
     "execution_count": 53,
     "metadata": {},
     "output_type": "execute_result"
    }
   ],
   "source": [
    "speed = 4 - x**2 -y**2\n",
    "surface = 2 * 2\n",
    "\n",
    "display_and_integrate(speed, symbols=((x, 0, 1), (y, 0, 1)), unpack=True) * surface"
   ]
  },
  {
   "cell_type": "markdown",
   "id": "2ed515d0",
   "metadata": {},
   "source": [
    "### Exercise 3.6.4"
   ]
  },
  {
   "cell_type": "code",
   "execution_count": 54,
   "id": "421b2332",
   "metadata": {},
   "outputs": [
    {
     "name": "stdout",
     "output_type": "stream",
     "text": [
      "The equation given is:\n"
     ]
    },
    {
     "data": {
      "text/latex": [
       "$\\displaystyle \\frac{x^{2}}{z + 1}$"
      ],
      "text/plain": [
       "x**2/(z + 1)"
      ]
     },
     "metadata": {},
     "output_type": "display_data"
    },
    {
     "name": "stdout",
     "output_type": "stream",
     "text": [
      "Its integral is equal to:\n"
     ]
    },
    {
     "data": {
      "text/latex": [
       "$\\displaystyle - \\frac{4 \\log{\\left(3 \\right)}}{3} + \\frac{4 \\log{\\left(15 \\right)}}{3}$"
      ],
      "text/plain": [
       "-4*log(3)/3 + 4*log(15)/3"
      ]
     },
     "metadata": {},
     "output_type": "display_data"
    },
    {
     "data": {
      "text/latex": [
       "$\\displaystyle 2.15$"
      ],
      "text/plain": [
       "2.15"
      ]
     },
     "execution_count": 54,
     "metadata": {},
     "output_type": "execute_result"
    }
   ],
   "source": [
    "density = x**2 / (z + 1)\n",
    "\n",
    "mass = display_and_integrate(density, symbols=((x, -1, 1), (y, -1, 1), (z, 0, 4)), unpack=True)\n",
    "mass.evalf(3)"
   ]
  }
 ],
 "metadata": {
  "kernelspec": {
   "display_name": "Python 3",
   "language": "python",
   "name": "python3"
  },
  "language_info": {
   "codemirror_mode": {
    "name": "ipython",
    "version": 3
   },
   "file_extension": ".py",
   "mimetype": "text/x-python",
   "name": "python",
   "nbconvert_exporter": "python",
   "pygments_lexer": "ipython3",
   "version": "3.8.10"
  }
 },
 "nbformat": 4,
 "nbformat_minor": 5
}
