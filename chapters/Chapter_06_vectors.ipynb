{
 "cells": [
  {
   "cell_type": "markdown",
   "id": "548503c9",
   "metadata": {},
   "source": [
    "# Chapter 6: vectors"
   ]
  },
  {
   "cell_type": "code",
   "execution_count": 1,
   "id": "79153f09",
   "metadata": {},
   "outputs": [],
   "source": [
    "import numpy as np\n",
    "import sympy as smp"
   ]
  },
  {
   "cell_type": "markdown",
   "id": "0b45fdb5",
   "metadata": {},
   "source": [
    "## Exercise 6.3: vector components"
   ]
  },
  {
   "cell_type": "code",
   "execution_count": 2,
   "id": "711029b9",
   "metadata": {},
   "outputs": [
    {
     "name": "stdout",
     "output_type": "stream",
     "text": [
      "Total speed is 8.6m/s, angle with x-axis is 54.5°, angle with y-axis is 144.5°.\n"
     ]
    }
   ],
   "source": [
    "v = np.array([5, -7])  # m/s\n",
    "v_total = np.linalg.norm(v)\n",
    "x_angle, y_angle = np.degrees(np.arccos(v / v_total))\n",
    "\n",
    "print(f\"Total speed is {v_total:.1f}m/s, angle with x-axis is {x_angle:.1f}°, angle with y-axis is {y_angle:.1f}°.\")"
   ]
  },
  {
   "cell_type": "code",
   "execution_count": 3,
   "id": "80a52510",
   "metadata": {},
   "outputs": [
    {
     "name": "stdout",
     "output_type": "stream",
     "text": [
      "v_x=3.46m/s, v_y=2.00m/s\n"
     ]
    }
   ],
   "source": [
    "v_total = 4\n",
    "α = 30  # degrees\n",
    "β = 60  # degrees\n",
    "v_x = np.cos(np.radians(α)) * v_total\n",
    "v_y = np.cos(np.radians(β)) * v_total\n",
    "\n",
    "print(f\"{v_x=:.2f}m/s, {v_y=:.2f}m/s\")"
   ]
  },
  {
   "cell_type": "code",
   "execution_count": 4,
   "id": "5109f959",
   "metadata": {},
   "outputs": [
    {
     "name": "stdout",
     "output_type": "stream",
     "text": [
      "f_x=0.00, f_y=3.54, f_z=3.54\n"
     ]
    }
   ],
   "source": [
    "f_total = 5  # Newton\n",
    "α = 90  # degrees\n",
    "β = 45  # degrees\n",
    "γ = 45  # degrees\n",
    "\n",
    "f_x = np.cos(np.radians(α)) * f_total\n",
    "f_y = np.cos(np.radians(β)) * f_total\n",
    "f_z = np.cos(np.radians(γ)) * f_total\n",
    "\n",
    "print(f\"{f_x=:.2f}, {f_y=:.2f}, {f_z=:.2f}\")"
   ]
  },
  {
   "cell_type": "markdown",
   "id": "6b7a4a10",
   "metadata": {},
   "source": [
    "## Exercise 6.4: vector calculations"
   ]
  },
  {
   "cell_type": "markdown",
   "id": "effd8a51-a171-44f6-af05-7ff08f86ac84",
   "metadata": {},
   "source": [
    "Same as before but with more vectorisation"
   ]
  },
  {
   "cell_type": "code",
   "execution_count": 5,
   "id": "ddc422c6",
   "metadata": {},
   "outputs": [],
   "source": [
    "#TODO, this bored me"
   ]
  },
  {
   "cell_type": "markdown",
   "id": "964bdcff-821e-473d-823c-30de0331b147",
   "metadata": {},
   "source": [
    "## Exercise 6.5.1: derivatives"
   ]
  },
  {
   "cell_type": "code",
   "execution_count": 22,
   "id": "18ede39c-5efd-4d2b-bbee-dac8b887df86",
   "metadata": {},
   "outputs": [
    {
     "data": {
      "text/latex": [
       "$\\displaystyle \\left[\\begin{matrix}1 - t\\\\\\sqrt{3} \\sqrt{t}\\end{matrix}\\right]$"
      ],
      "text/plain": [
       "Matrix([\n",
       "[          1 - t],\n",
       "[sqrt(3)*sqrt(t)]])"
      ]
     },
     "execution_count": 22,
     "metadata": {},
     "output_type": "execute_result"
    }
   ],
   "source": [
    "t = smp.symbols(\"t\")\n",
    "\n",
    "equation = smp.Matrix([1 - t, smp.root(3 * t, 2)])\n",
    "equation"
   ]
  },
  {
   "cell_type": "code",
   "execution_count": 23,
   "id": "54b07428-8321-4115-86f5-d84d19fd56ab",
   "metadata": {},
   "outputs": [
    {
     "data": {
      "text/latex": [
       "$\\displaystyle \\sqrt{3}$"
      ],
      "text/plain": [
       "sqrt(3)"
      ]
     },
     "execution_count": 23,
     "metadata": {},
     "output_type": "execute_result"
    }
   ],
   "source": [
    "equation.subs(t, 1).norm()"
   ]
  },
  {
   "cell_type": "code",
   "execution_count": 24,
   "id": "58f99561-7d2b-4ef7-b809-acb93e28d47b",
   "metadata": {},
   "outputs": [],
   "source": [
    "# boring"
   ]
  },
  {
   "cell_type": "markdown",
   "id": "767f2492-2d1b-40b9-a39c-4ba528c8a8db",
   "metadata": {},
   "source": [
    "## Exercise 6.5.2: integrals"
   ]
  },
  {
   "cell_type": "code",
   "execution_count": 28,
   "id": "8a6dde8b-bb48-4541-a00a-b53df55517d0",
   "metadata": {},
   "outputs": [
    {
     "data": {
      "text/latex": [
       "$\\displaystyle \\left[\\begin{matrix}4\\\\3\\end{matrix}\\right]$"
      ],
      "text/plain": [
       "Matrix([\n",
       "[4],\n",
       "[3]])"
      ]
     },
     "metadata": {},
     "output_type": "display_data"
    },
    {
     "data": {
      "text/latex": [
       "$\\displaystyle \\left[\\begin{matrix}8\\\\6\\end{matrix}\\right]$"
      ],
      "text/plain": [
       "Matrix([\n",
       "[8],\n",
       "[6]])"
      ]
     },
     "metadata": {},
     "output_type": "display_data"
    },
    {
     "data": {
      "text/latex": [
       "$\\displaystyle 10$"
      ],
      "text/plain": [
       "10"
      ]
     },
     "metadata": {},
     "output_type": "display_data"
    }
   ],
   "source": [
    "v = smp.Matrix([4, 3])\n",
    "r = v.integrate((t, 0, 2))\n",
    "\n",
    "display(v, r, r.norm())"
   ]
  },
  {
   "cell_type": "code",
   "execution_count": 31,
   "id": "508b137c-6940-4fdd-b4e8-8f08e5592643",
   "metadata": {},
   "outputs": [
    {
     "data": {
      "text/latex": [
       "$\\displaystyle \\left[\\begin{matrix}3 e^{- t}\\\\e^{- t}\\end{matrix}\\right]$"
      ],
      "text/plain": [
       "Matrix([\n",
       "[3*exp(-t)],\n",
       "[  exp(-t)]])"
      ]
     },
     "metadata": {},
     "output_type": "display_data"
    },
    {
     "data": {
      "text/latex": [
       "$\\displaystyle \\left[\\begin{matrix}1.9\\\\0.632\\end{matrix}\\right]$"
      ],
      "text/plain": [
       "Matrix([\n",
       "[  1.9],\n",
       "[0.632]])"
      ]
     },
     "metadata": {},
     "output_type": "display_data"
    },
    {
     "data": {
      "text/latex": [
       "$\\displaystyle 2.0$"
      ],
      "text/plain": [
       "2.00"
      ]
     },
     "metadata": {},
     "output_type": "display_data"
    }
   ],
   "source": [
    "v = smp.Matrix([3 * smp.E ** -t, smp.E**-t])\n",
    "r = v.integrate((t, 0, 1)).evalf(3)\n",
    "\n",
    "display(v, r, r.norm())"
   ]
  },
  {
   "cell_type": "markdown",
   "id": "b778cfa8-492c-457a-87a3-9ce1c05b3a59",
   "metadata": {},
   "source": [
    "## Exercise 6.6.1: inner product"
   ]
  },
  {
   "cell_type": "markdown",
   "id": "cf29d636-f0b2-4e3e-81a7-c4e686eb9bc9",
   "metadata": {},
   "source": [
    "Q. What does it mean if $a \\cdot b = 0$?\n",
    "\n",
    "A. It means that the vectors a and b are perpendicular."
   ]
  },
  {
   "cell_type": "code",
   "execution_count": 32,
   "id": "a1a497c5-fc2a-48c4-a0d1-211d9a526b22",
   "metadata": {},
   "outputs": [
    {
     "data": {
      "text/latex": [
       "$\\displaystyle 0$"
      ],
      "text/plain": [
       "0"
      ]
     },
     "execution_count": 32,
     "metadata": {},
     "output_type": "execute_result"
    }
   ],
   "source": [
    "u = smp.Matrix([2, -1, 2])\n",
    "v = smp.Matrix([1, 4, 1])\n",
    "\n",
    "u.dot(v)"
   ]
  },
  {
   "cell_type": "code",
   "execution_count": 52,
   "id": "5c367104-1d71-430f-a7c9-788cc26ca781",
   "metadata": {},
   "outputs": [
    {
     "data": {
      "text/latex": [
       "$\\displaystyle 3$"
      ],
      "text/plain": [
       "3"
      ]
     },
     "metadata": {},
     "output_type": "display_data"
    },
    {
     "data": {
      "text/plain": [
       "83.62162351787259"
      ]
     },
     "metadata": {},
     "output_type": "display_data"
    }
   ],
   "source": [
    "F = smp.Matrix([1, 2, 2])\n",
    "r = smp.Matrix([3, -6, 6])\n",
    "\n",
    "W = F.dot(r)\n",
    "angle = smp.acos(W / (F.norm() * r.norm())).evalf(3)\n",
    "\n",
    "display(W, np.degrees(float(angle)))"
   ]
  },
  {
   "cell_type": "code",
   "execution_count": 53,
   "id": "8814fa4d-5378-4717-81b4-700cd33a9f23",
   "metadata": {},
   "outputs": [
    {
     "data": {
      "text/latex": [
       "$\\displaystyle 27$"
      ],
      "text/plain": [
       "27"
      ]
     },
     "metadata": {},
     "output_type": "display_data"
    },
    {
     "data": {
      "text/plain": [
       "0.0"
      ]
     },
     "metadata": {},
     "output_type": "display_data"
    }
   ],
   "source": [
    "F = smp.Matrix([1, 2, 2])\n",
    "r = smp.Matrix([3, 6, 6])\n",
    "\n",
    "W = F.dot(r)\n",
    "angle = smp.acos(W / (F.norm() * r.norm())).evalf(3)\n",
    "\n",
    "display(W, np.degrees(float(angle)))"
   ]
  },
  {
   "cell_type": "code",
   "execution_count": null,
   "id": "1de861a4-4335-4c72-b555-533f4fad7de9",
   "metadata": {},
   "outputs": [],
   "source": []
  }
 ],
 "metadata": {
  "kernelspec": {
   "display_name": "Python 3",
   "language": "python",
   "name": "python3"
  },
  "language_info": {
   "codemirror_mode": {
    "name": "ipython",
    "version": 3
   },
   "file_extension": ".py",
   "mimetype": "text/x-python",
   "name": "python",
   "nbconvert_exporter": "python",
   "pygments_lexer": "ipython3",
   "version": "3.8.11"
  }
 },
 "nbformat": 4,
 "nbformat_minor": 5
}
