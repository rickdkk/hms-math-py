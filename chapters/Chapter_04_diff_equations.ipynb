{
 "cells": [
  {
   "cell_type": "markdown",
   "id": "9b3518a6",
   "metadata": {},
   "source": [
    "# Chapter 4: differential equations"
   ]
  },
  {
   "cell_type": "code",
   "execution_count": 3,
   "id": "c8dc8ae6",
   "metadata": {},
   "outputs": [],
   "source": [
    "import sympy as smp\n",
    "from sympy import Rational, cos, sin"
   ]
  },
  {
   "cell_type": "markdown",
   "id": "1158e2f5",
   "metadata": {},
   "source": [
    "## Exercise 4.2: classifying ODEs"
   ]
  },
  {
   "cell_type": "code",
   "execution_count": 4,
   "id": "dc735674",
   "metadata": {
    "tags": []
   },
   "outputs": [
    {
     "data": {
      "text/latex": [
       "$\\displaystyle 5 y^{2}{\\left(t \\right)} + \\frac{d}{d t} y{\\left(t \\right)} + 3$"
      ],
      "text/plain": [
       "5*y(t)**2 + Derivative(y(t), t) + 3"
      ]
     },
     "metadata": {},
     "output_type": "display_data"
    },
    {
     "data": {
      "text/plain": [
       "'separable'"
      ]
     },
     "metadata": {},
     "output_type": "display_data"
    }
   ],
   "source": [
    "t = smp.symbols(\"t\")\n",
    "Δ = smp.Derivative\n",
    "\n",
    "y = smp.Function(\"y\")(t)\n",
    "\n",
    "equation = Δ(y, t) + 5 * y**2 + 3\n",
    "display(equation, smp.classify_ode(equation)[0])"
   ]
  },
  {
   "cell_type": "markdown",
   "id": "7f7e0a5d",
   "metadata": {},
   "source": [
    "Solves separable 1st order differential equations."
   ]
  },
  {
   "cell_type": "code",
   "execution_count": 17,
   "id": "9aa02956",
   "metadata": {},
   "outputs": [
    {
     "data": {
      "text/latex": [
       "$\\displaystyle 3 y{\\left(t \\right)} + 5 \\frac{d}{d t} y{\\left(t \\right)} + \\frac{d^{2}}{d t^{2}} y{\\left(t \\right)}$"
      ],
      "text/plain": [
       "3*y(t) + 5*Derivative(y(t), t) + Derivative(y(t), (t, 2))"
      ]
     },
     "metadata": {},
     "output_type": "display_data"
    },
    {
     "data": {
      "text/plain": [
       "'nth_linear_constant_coeff_homogeneous'"
      ]
     },
     "metadata": {},
     "output_type": "display_data"
    }
   ],
   "source": [
    "equation = Δ(y, t, 2) + 5 * Δ(y, t) + 3 * y\n",
    "display(equation, smp.classify_ode(equation)[0])"
   ]
  },
  {
   "cell_type": "markdown",
   "id": "9d77dcb9",
   "metadata": {},
   "source": [
    "Solves an nth order linear homogeneous differential equation with constant coefficients."
   ]
  },
  {
   "cell_type": "code",
   "execution_count": 10,
   "id": "73a61060",
   "metadata": {},
   "outputs": [
    {
     "data": {
      "text/latex": [
       "$\\displaystyle - 7 y{\\left(t \\right)} - 3 \\cos{\\left(2 t \\right)} + 2 \\frac{d}{d t} y{\\left(t \\right)}$"
      ],
      "text/plain": [
       "-7*y(t) - 3*cos(2*t) + 2*Derivative(y(t), t)"
      ]
     },
     "metadata": {},
     "output_type": "display_data"
    },
    {
     "data": {
      "text/plain": [
       "'1st_linear'"
      ]
     },
     "metadata": {},
     "output_type": "display_data"
    }
   ],
   "source": [
    "equation = 2 * Δ(y, t) - 7 * y - 3 * cos(2 * t)\n",
    "display(equation, smp.classify_ode(equation)[0])"
   ]
  },
  {
   "cell_type": "code",
   "execution_count": 12,
   "id": "305ae8f8",
   "metadata": {},
   "outputs": [
    {
     "data": {
      "text/latex": [
       "$\\displaystyle - 3 \\cos{\\left(2 t \\right)} - 7 \\cos{\\left(2 y{\\left(t \\right)} \\right)} + 2 \\frac{d}{d t} y{\\left(t \\right)}$"
      ],
      "text/plain": [
       "-3*cos(2*t) - 7*cos(2*y(t)) + 2*Derivative(y(t), t)"
      ]
     },
     "metadata": {},
     "output_type": "display_data"
    },
    {
     "data": {
      "text/plain": [
       "'1st_power_series'"
      ]
     },
     "metadata": {},
     "output_type": "display_data"
    }
   ],
   "source": [
    "equation = 2 * Δ(y, t) - 7 * cos(2 * y) - 3 * cos(2 * t)\n",
    "display(equation, smp.classify_ode(equation)[0])"
   ]
  },
  {
   "cell_type": "markdown",
   "id": "b4226532",
   "metadata": {},
   "source": [
    "The power series solution is a method which gives the Taylor series expansion to the solution of a differential equation."
   ]
  },
  {
   "cell_type": "code",
   "execution_count": 18,
   "id": "5aac7262",
   "metadata": {},
   "outputs": [
    {
     "data": {
      "text/latex": [
       "$\\displaystyle t^{3} - 3 t - 3 \\frac{d}{d t} y{\\left(t \\right)} + 5 \\frac{d^{2}}{d t^{2}} y{\\left(t \\right)}$"
      ],
      "text/plain": [
       "t**3 - 3*t - 3*Derivative(y(t), t) + 5*Derivative(y(t), (t, 2))"
      ]
     },
     "metadata": {},
     "output_type": "display_data"
    },
    {
     "data": {
      "text/plain": [
       "'nth_linear_constant_coeff_undetermined_coefficients'"
      ]
     },
     "metadata": {},
     "output_type": "display_data"
    }
   ],
   "source": [
    "equation = 5 * Δ(y, t, 2) - 3 * Δ(y, t) + t**3 - 3 * t\n",
    "display(equation, smp.classify_ode(equation)[0])"
   ]
  },
  {
   "cell_type": "markdown",
   "id": "ab2496cc",
   "metadata": {},
   "source": [
    "Solves an nth order linear differential equation with constant coefficients using the method of undetermined coefficients."
   ]
  },
  {
   "cell_type": "code",
   "execution_count": 16,
   "id": "321310c0",
   "metadata": {},
   "outputs": [
    {
     "data": {
      "text/latex": [
       "$\\displaystyle y{\\left(t \\right)} - 3 \\frac{d}{d t} y{\\left(t \\right)} + 5 \\frac{d^{2}}{d t^{2}} y{\\left(t \\right)}$"
      ],
      "text/plain": [
       "y(t) - 3*Derivative(y(t), t) + 5*Derivative(y(t), (t, 2))"
      ]
     },
     "metadata": {},
     "output_type": "display_data"
    },
    {
     "data": {
      "text/plain": [
       "'nth_linear_constant_coeff_homogeneous'"
      ]
     },
     "metadata": {},
     "output_type": "display_data"
    }
   ],
   "source": [
    "equation = 5 * Δ(y, t, 2) - 3 * Δ(y, t) + y\n",
    "display(equation, smp.classify_ode(equation)[0])"
   ]
  },
  {
   "cell_type": "markdown",
   "id": "eb608c3b",
   "metadata": {},
   "source": [
    "This is similar to the earlier one: it'll solve an nth order linear homogenous differential equation with constant coefficients."
   ]
  },
  {
   "cell_type": "code",
   "execution_count": 20,
   "id": "377d5215",
   "metadata": {},
   "outputs": [
    {
     "data": {
      "text/latex": [
       "$\\displaystyle - 6 y^{4}{\\left(t \\right)} + \\frac{d^{3}}{d t^{3}} y{\\left(t \\right)}$"
      ],
      "text/plain": [
       "-6*y(t)**4 + Derivative(y(t), (t, 3))"
      ]
     },
     "metadata": {},
     "output_type": "display_data"
    },
    {
     "data": {
      "text/plain": [
       "()"
      ]
     },
     "metadata": {},
     "output_type": "display_data"
    }
   ],
   "source": [
    "equation = Δ(y, t, 3) - 6 * y**4\n",
    "display(equation, smp.classify_ode(equation))"
   ]
  },
  {
   "cell_type": "markdown",
   "id": "717bbb5c",
   "metadata": {
    "tags": []
   },
   "source": [
    "## Exercise 4.4: solving ODEs"
   ]
  },
  {
   "cell_type": "markdown",
   "id": "0ff04b37",
   "metadata": {},
   "source": [
    "### Exercise 4.4.1 - order 1, linear, homogenous"
   ]
  },
  {
   "cell_type": "code",
   "execution_count": 21,
   "id": "a26f96de",
   "metadata": {},
   "outputs": [
    {
     "data": {
      "text/latex": [
       "$\\displaystyle - 4 y{\\left(t \\right)} + 2 \\frac{d}{d t} y{\\left(t \\right)}$"
      ],
      "text/plain": [
       "-4*y(t) + 2*Derivative(y(t), t)"
      ]
     },
     "metadata": {},
     "output_type": "display_data"
    },
    {
     "data": {
      "text/latex": [
       "$\\displaystyle y{\\left(t \\right)} = C_{1} e^{2 t}$"
      ],
      "text/plain": [
       "Eq(y(t), C1*exp(2*t))"
      ]
     },
     "metadata": {},
     "output_type": "display_data"
    }
   ],
   "source": [
    "equation = 2 * Δ(y, t) - 4 * y\n",
    "display(equation, smp.dsolve(equation))"
   ]
  },
  {
   "cell_type": "code",
   "execution_count": 22,
   "id": "4e98829d",
   "metadata": {},
   "outputs": [
    {
     "data": {
      "text/latex": [
       "$\\displaystyle y{\\left(t \\right)} - 3 \\frac{d}{d t} y{\\left(t \\right)}$"
      ],
      "text/plain": [
       "y(t) - 3*Derivative(y(t), t)"
      ]
     },
     "metadata": {},
     "output_type": "display_data"
    },
    {
     "data": {
      "text/latex": [
       "$\\displaystyle y{\\left(t \\right)} = C_{1} e^{\\frac{t}{3}}$"
      ],
      "text/plain": [
       "Eq(y(t), C1*exp(t/3))"
      ]
     },
     "metadata": {},
     "output_type": "display_data"
    }
   ],
   "source": [
    "equation = -3 * Δ(y, t) + y\n",
    "display(equation, smp.dsolve(equation))"
   ]
  },
  {
   "cell_type": "code",
   "execution_count": 6,
   "id": "501fb9a9",
   "metadata": {},
   "outputs": [
    {
     "data": {
      "text/latex": [
       "$\\displaystyle x{\\left(t \\right)} + \\frac{\\frac{d}{d t} x{\\left(t \\right)}}{3}$"
      ],
      "text/plain": [
       "x(t) + Derivative(x(t), t)/3"
      ]
     },
     "metadata": {},
     "output_type": "display_data"
    },
    {
     "data": {
      "text/latex": [
       "$\\displaystyle x{\\left(t \\right)} = 3 e^{- 3 t}$"
      ],
      "text/plain": [
       "Eq(x(t), 3*exp(-3*t))"
      ]
     },
     "metadata": {},
     "output_type": "display_data"
    }
   ],
   "source": [
    "x = smp.Function(\"x\")\n",
    "\n",
    "equation = Rational(1, 3) * Δ(x(t), t) + x(t)\n",
    "display(equation, smp.dsolve(equation, ics={x(0): 3}))"
   ]
  },
  {
   "cell_type": "code",
   "execution_count": 37,
   "id": "7cbf6e67",
   "metadata": {},
   "outputs": [
    {
     "data": {
      "text/latex": [
       "$\\displaystyle 2 x{\\left(t \\right)} + \\frac{d}{d t} x{\\left(t \\right)}$"
      ],
      "text/plain": [
       "2*x(t) + Derivative(x(t), t)"
      ]
     },
     "metadata": {},
     "output_type": "display_data"
    },
    {
     "data": {
      "text/latex": [
       "$\\displaystyle x{\\left(t \\right)} = e^{- 2 t}$"
      ],
      "text/plain": [
       "Eq(x(t), exp(-2*t))"
      ]
     },
     "metadata": {},
     "output_type": "display_data"
    },
    {
     "data": {
      "text/latex": [
       "$\\displaystyle x{\\left(3 \\right)} = 0.0025$"
      ],
      "text/plain": [
       "Eq(x(3), 0.0025)"
      ]
     },
     "metadata": {},
     "output_type": "display_data"
    }
   ],
   "source": [
    "equation = Δ(x(t), t) + 2 * x(t)\n",
    "solved = smp.dsolve(equation, ics={x(0): 1})\n",
    "display(equation, solved, solved.subs(t, 3).evalf(2))"
   ]
  },
  {
   "cell_type": "markdown",
   "id": "b7e49162",
   "metadata": {},
   "source": [
    "### Exercise 4.4.2 - order 1, linear, non-homogenous"
   ]
  },
  {
   "cell_type": "code",
   "execution_count": 38,
   "id": "6518242a",
   "metadata": {},
   "outputs": [
    {
     "data": {
      "text/latex": [
       "$\\displaystyle 6 y{\\left(t \\right)} + \\frac{\\frac{d}{d t} y{\\left(t \\right)}}{3} - 6$"
      ],
      "text/plain": [
       "6*y(t) + Derivative(y(t), t)/3 - 6"
      ]
     },
     "metadata": {},
     "output_type": "display_data"
    },
    {
     "data": {
      "text/latex": [
       "$\\displaystyle y{\\left(t \\right)} = C_{1} e^{- 18 t} + 1$"
      ],
      "text/plain": [
       "Eq(y(t), C1*exp(-18*t) + 1)"
      ]
     },
     "metadata": {},
     "output_type": "display_data"
    }
   ],
   "source": [
    "equation = Rational(1, 3) * Δ(y, t) + 6 * y - 6\n",
    "display(equation, smp.dsolve(equation))"
   ]
  },
  {
   "cell_type": "code",
   "execution_count": 48,
   "id": "b1240458",
   "metadata": {},
   "outputs": [
    {
     "data": {
      "text/latex": [
       "$\\displaystyle - 2 t - 6 y{\\left(t \\right)} + \\frac{d}{d t} y{\\left(t \\right)} + \\frac{1}{3}$"
      ],
      "text/plain": [
       "-2*t - 6*y(t) + Derivative(y(t), t) + 1/3"
      ]
     },
     "metadata": {},
     "output_type": "display_data"
    },
    {
     "data": {
      "text/latex": [
       "$\\displaystyle y{\\left(t \\right)} = C_{1} e^{6 t} - \\frac{t}{3}$"
      ],
      "text/plain": [
       "Eq(y(t), C1*exp(6*t) - t/3)"
      ]
     },
     "metadata": {},
     "output_type": "display_data"
    }
   ],
   "source": [
    "equation = Δ(y, t) - 6 * y - 2 * t + Rational(1, 3)\n",
    "display(equation, smp.dsolve(equation).simplify())"
   ]
  },
  {
   "cell_type": "code",
   "execution_count": 54,
   "id": "667fed10",
   "metadata": {},
   "outputs": [
    {
     "data": {
      "text/latex": [
       "$\\displaystyle - 2 y{\\left(t \\right)} + 12 \\sin{\\left(2 t \\right)} - 16 \\cos{\\left(2 t \\right)} + 3 \\frac{d}{d t} y{\\left(t \\right)}$"
      ],
      "text/plain": [
       "-2*y(t) + 12*sin(2*t) - 16*cos(2*t) + 3*Derivative(y(t), t)"
      ]
     },
     "metadata": {},
     "output_type": "display_data"
    },
    {
     "data": {
      "text/latex": [
       "$\\displaystyle y{\\left(t \\right)} = C_{1} e^{\\frac{2 t}{3}} + 3 \\sin{\\left(2 t \\right)} + \\cos{\\left(2 t \\right)}$"
      ],
      "text/plain": [
       "Eq(y(t), C1*exp(2*t/3) + 3*sin(2*t) + cos(2*t))"
      ]
     },
     "metadata": {},
     "output_type": "display_data"
    }
   ],
   "source": [
    "equation = 3 * Δ(y, t) - 2 * y - 16 * cos(2 * t) + 12 * sin(2 * t)\n",
    "display(equation, smp.dsolve(equation).simplify())"
   ]
  },
  {
   "cell_type": "code",
   "execution_count": 60,
   "id": "7ac42e3b",
   "metadata": {},
   "outputs": [
    {
     "data": {
      "text/latex": [
       "$\\displaystyle 3 x{\\left(t \\right)} + \\frac{d}{d t} x{\\left(t \\right)} - 6$"
      ],
      "text/plain": [
       "3*x(t) + Derivative(x(t), t) - 6"
      ]
     },
     "metadata": {},
     "output_type": "display_data"
    },
    {
     "data": {
      "text/latex": [
       "$\\displaystyle x{\\left(t \\right)} = 2 - 2 e^{- 3 t}$"
      ],
      "text/plain": [
       "Eq(x(t), 2 - 2*exp(-3*t))"
      ]
     },
     "metadata": {},
     "output_type": "display_data"
    }
   ],
   "source": [
    "equation = Δ(x(t), t) + 3 * x(t) - 6\n",
    "display(equation, smp.dsolve(equation, ics={x(0): 0}))"
   ]
  },
  {
   "cell_type": "code",
   "execution_count": 59,
   "id": "2befb649",
   "metadata": {},
   "outputs": [
    {
     "data": {
      "text/latex": [
       "$\\displaystyle - t^{2} + 2 x{\\left(t \\right)} + \\frac{d}{d t} x{\\left(t \\right)}$"
      ],
      "text/plain": [
       "-t**2 + 2*x(t) + Derivative(x(t), t)"
      ]
     },
     "metadata": {},
     "output_type": "display_data"
    },
    {
     "data": {
      "text/latex": [
       "$\\displaystyle x{\\left(t \\right)} = \\frac{t^{2}}{2} - \\frac{t}{2} + \\frac{1}{4} - \\frac{e^{- 2 t}}{4}$"
      ],
      "text/plain": [
       "Eq(x(t), t**2/2 - t/2 + 1/4 - exp(-2*t)/4)"
      ]
     },
     "metadata": {},
     "output_type": "display_data"
    }
   ],
   "source": [
    "equation = Δ(x(t), t) + 2 * x(t) - t**2\n",
    "display(equation, smp.dsolve(equation, ics={x(0): 0}).simplify())"
   ]
  },
  {
   "cell_type": "code",
   "execution_count": 65,
   "id": "08ed29fa",
   "metadata": {},
   "outputs": [
    {
     "data": {
      "text/latex": [
       "$\\displaystyle z{\\left(t \\right)} + 2 \\frac{d}{d t} z{\\left(t \\right)} + 4$"
      ],
      "text/plain": [
       "z(t) + 2*Derivative(z(t), t) + 4"
      ]
     },
     "metadata": {},
     "output_type": "display_data"
    },
    {
     "data": {
      "text/latex": [
       "$\\displaystyle z{\\left(t \\right)} = -4 + 6 e^{- \\frac{t}{2}}$"
      ],
      "text/plain": [
       "Eq(z(t), -4 + 6*exp(-t/2))"
      ]
     },
     "metadata": {},
     "output_type": "display_data"
    },
    {
     "data": {
      "text/latex": [
       "$\\displaystyle z{\\left(2 \\right)} = -1.8$"
      ],
      "text/plain": [
       "Eq(z(2), -1.8)"
      ]
     },
     "metadata": {},
     "output_type": "display_data"
    }
   ],
   "source": [
    "z = smp.Function(\"z\")\n",
    "\n",
    "equation = 2 * Δ(z(t), t) + z(t) + 4\n",
    "solved = smp.dsolve(equation, ics={z(0): 2})\n",
    "display(equation, solved, solved.subs(t, 2).evalf(2))"
   ]
  },
  {
   "cell_type": "code",
   "execution_count": 66,
   "id": "df0ac15b",
   "metadata": {},
   "outputs": [
    {
     "data": {
      "text/latex": [
       "$\\displaystyle t + z{\\left(t \\right)} + 2 \\frac{d}{d t} z{\\left(t \\right)}$"
      ],
      "text/plain": [
       "t + z(t) + 2*Derivative(z(t), t)"
      ]
     },
     "metadata": {},
     "output_type": "display_data"
    },
    {
     "data": {
      "text/latex": [
       "$\\displaystyle z{\\left(t \\right)} = 2 - t$"
      ],
      "text/plain": [
       "Eq(z(t), 2 - t)"
      ]
     },
     "metadata": {},
     "output_type": "display_data"
    },
    {
     "data": {
      "text/latex": [
       "$\\displaystyle z{\\left(2 \\right)} = 0$"
      ],
      "text/plain": [
       "Eq(z(2), 0)"
      ]
     },
     "metadata": {},
     "output_type": "display_data"
    }
   ],
   "source": [
    "equation = 2 * Δ(z(t), t) + z(t) + t\n",
    "solved = smp.dsolve(equation, ics={z(0): 2})\n",
    "display(equation, solved, solved.subs(t, 2).evalf(2))"
   ]
  },
  {
   "cell_type": "markdown",
   "id": "83162086",
   "metadata": {},
   "source": [
    "### Exercise 4.4.3 - order 1, nonlinear"
   ]
  },
  {
   "cell_type": "code",
   "execution_count": 84,
   "id": "dbaafe97",
   "metadata": {},
   "outputs": [
    {
     "data": {
      "text/latex": [
       "$\\displaystyle - k v^{2}{\\left(t \\right)} - m \\frac{d}{d t} v{\\left(t \\right)}$"
      ],
      "text/plain": [
       "-k*v(t)**2 - m*Derivative(v(t), t)"
      ]
     },
     "metadata": {},
     "output_type": "display_data"
    },
    {
     "data": {
      "text/latex": [
       "$\\displaystyle v{\\left(t \\right)} = \\frac{m}{C_{1} m + k t}$"
      ],
      "text/plain": [
       "Eq(v(t), m/(C1*m + k*t))"
      ]
     },
     "metadata": {},
     "output_type": "display_data"
    }
   ],
   "source": [
    "v = smp.Function(\"v\")\n",
    "m, k = smp.symbols(\"m k\")\n",
    "\n",
    "equation = -k * v(t)**2 - m * Δ(v(t), t)\n",
    "display(equation, smp.dsolve(equation))"
   ]
  },
  {
   "cell_type": "code",
   "execution_count": 69,
   "id": "dcbec773",
   "metadata": {},
   "outputs": [
    {
     "data": {
      "text/latex": [
       "$\\displaystyle v{\\left(t \\right)} = \\frac{m}{k t + m}$"
      ],
      "text/plain": [
       "Eq(v(t), m/(k*t + m))"
      ]
     },
     "metadata": {},
     "output_type": "display_data"
    }
   ],
   "source": [
    "display(smp.dsolve(equation, ics={v(0): 1}))"
   ]
  },
  {
   "cell_type": "code",
   "execution_count": 139,
   "id": "8d72b16f",
   "metadata": {},
   "outputs": [
    {
     "data": {
      "text/latex": [
       "$\\displaystyle 2.19070237327858$"
      ],
      "text/plain": [
       "2.19070237327858"
      ]
     },
     "execution_count": 139,
     "metadata": {},
     "output_type": "execute_result"
    }
   ],
   "source": [
    "position = smp.dsolve(equation, ics={v(0): 1}).integrate(t)\n",
    "smp.solve(smp.Eq(10, position.rhs))[0].evalf()"
   ]
  },
  {
   "cell_type": "code",
   "execution_count": 93,
   "id": "db71839d",
   "metadata": {},
   "outputs": [
    {
     "ename": "TypeError",
     "evalue": "cannot differentiate wrt UndefinedFunction: x",
     "output_type": "error",
     "traceback": [
      "\u001b[0;31m---------------------------------------------------------------------------\u001b[0m",
      "\u001b[0;31mTypeError\u001b[0m                                 Traceback (most recent call last)",
      "\u001b[0;32m<ipython-input-93-58a20eb7becd>\u001b[0m in \u001b[0;36m<module>\u001b[0;34m\u001b[0m\n\u001b[1;32m      1\u001b[0m \u001b[0mequation\u001b[0m \u001b[0;34m=\u001b[0m \u001b[0;34m-\u001b[0m\u001b[0mk\u001b[0m \u001b[0;34m*\u001b[0m \u001b[0mΔ\u001b[0m\u001b[0;34m(\u001b[0m\u001b[0mx\u001b[0m\u001b[0;34m(\u001b[0m\u001b[0mt\u001b[0m\u001b[0;34m)\u001b[0m\u001b[0;34m,\u001b[0m \u001b[0mt\u001b[0m\u001b[0;34m)\u001b[0m\u001b[0;34m**\u001b[0m\u001b[0;36m2\u001b[0m \u001b[0;34m-\u001b[0m \u001b[0mm\u001b[0m \u001b[0;34m*\u001b[0m \u001b[0mΔ\u001b[0m\u001b[0;34m(\u001b[0m\u001b[0mx\u001b[0m\u001b[0;34m(\u001b[0m\u001b[0mt\u001b[0m\u001b[0;34m)\u001b[0m\u001b[0;34m,\u001b[0m \u001b[0mt\u001b[0m\u001b[0;34m,\u001b[0m \u001b[0;36m2\u001b[0m\u001b[0;34m)\u001b[0m\u001b[0;34m\u001b[0m\u001b[0;34m\u001b[0m\u001b[0m\n\u001b[0;32m----> 2\u001b[0;31m \u001b[0mdisplay\u001b[0m\u001b[0;34m(\u001b[0m\u001b[0msmp\u001b[0m\u001b[0;34m.\u001b[0m\u001b[0mdsolve\u001b[0m\u001b[0;34m(\u001b[0m\u001b[0mequation\u001b[0m\u001b[0;34m)\u001b[0m\u001b[0;34m,\u001b[0m \u001b[0msmp\u001b[0m\u001b[0;34m.\u001b[0m\u001b[0mdsolve\u001b[0m\u001b[0;34m(\u001b[0m\u001b[0mequation\u001b[0m\u001b[0;34m,\u001b[0m \u001b[0mics\u001b[0m\u001b[0;34m=\u001b[0m\u001b[0;34m{\u001b[0m\u001b[0mx\u001b[0m\u001b[0;34m(\u001b[0m\u001b[0;36m0\u001b[0m\u001b[0;34m)\u001b[0m\u001b[0;34m:\u001b[0m \u001b[0;36m10\u001b[0m\u001b[0;34m,\u001b[0m \u001b[0mx\u001b[0m\u001b[0;34m(\u001b[0m\u001b[0;36m0\u001b[0m\u001b[0;34m)\u001b[0m\u001b[0;34m.\u001b[0m\u001b[0mdiff\u001b[0m\u001b[0;34m(\u001b[0m\u001b[0mx\u001b[0m\u001b[0;34m)\u001b[0m\u001b[0;34m.\u001b[0m\u001b[0msubs\u001b[0m\u001b[0;34m(\u001b[0m\u001b[0mx\u001b[0m\u001b[0;34m,\u001b[0m \u001b[0;36m0\u001b[0m\u001b[0;34m)\u001b[0m\u001b[0;34m:\u001b[0m \u001b[0;34m-\u001b[0m\u001b[0;36m1\u001b[0m\u001b[0;34m}\u001b[0m\u001b[0;34m)\u001b[0m\u001b[0;34m)\u001b[0m\u001b[0;34m\u001b[0m\u001b[0;34m\u001b[0m\u001b[0m\n\u001b[0m",
      "\u001b[0;32m~/miniconda3/envs/mathpy/lib/python3.8/site-packages/sympy/core/expr.py\u001b[0m in \u001b[0;36mdiff\u001b[0;34m(self, *symbols, **assumptions)\u001b[0m\n\u001b[1;32m   3500\u001b[0m     \u001b[0;32mdef\u001b[0m \u001b[0mdiff\u001b[0m\u001b[0;34m(\u001b[0m\u001b[0mself\u001b[0m\u001b[0;34m,\u001b[0m \u001b[0;34m*\u001b[0m\u001b[0msymbols\u001b[0m\u001b[0;34m,\u001b[0m \u001b[0;34m**\u001b[0m\u001b[0massumptions\u001b[0m\u001b[0;34m)\u001b[0m\u001b[0;34m:\u001b[0m\u001b[0;34m\u001b[0m\u001b[0;34m\u001b[0m\u001b[0m\n\u001b[1;32m   3501\u001b[0m         \u001b[0massumptions\u001b[0m\u001b[0;34m.\u001b[0m\u001b[0msetdefault\u001b[0m\u001b[0;34m(\u001b[0m\u001b[0;34m\"evaluate\"\u001b[0m\u001b[0;34m,\u001b[0m \u001b[0;32mTrue\u001b[0m\u001b[0;34m)\u001b[0m\u001b[0;34m\u001b[0m\u001b[0;34m\u001b[0m\u001b[0m\n\u001b[0;32m-> 3502\u001b[0;31m         \u001b[0;32mreturn\u001b[0m \u001b[0m_derivative_dispatch\u001b[0m\u001b[0;34m(\u001b[0m\u001b[0mself\u001b[0m\u001b[0;34m,\u001b[0m \u001b[0;34m*\u001b[0m\u001b[0msymbols\u001b[0m\u001b[0;34m,\u001b[0m \u001b[0;34m**\u001b[0m\u001b[0massumptions\u001b[0m\u001b[0;34m)\u001b[0m\u001b[0;34m\u001b[0m\u001b[0;34m\u001b[0m\u001b[0m\n\u001b[0m\u001b[1;32m   3503\u001b[0m \u001b[0;34m\u001b[0m\u001b[0m\n\u001b[1;32m   3504\u001b[0m     \u001b[0;31m###########################################################################\u001b[0m\u001b[0;34m\u001b[0m\u001b[0;34m\u001b[0m\u001b[0;34m\u001b[0m\u001b[0m\n",
      "\u001b[0;32m~/miniconda3/envs/mathpy/lib/python3.8/site-packages/sympy/core/function.py\u001b[0m in \u001b[0;36m_derivative_dispatch\u001b[0;34m(expr, *variables, **kwargs)\u001b[0m\n\u001b[1;32m   1945\u001b[0m         \u001b[0;32mfrom\u001b[0m \u001b[0msympy\u001b[0m\u001b[0;34m.\u001b[0m\u001b[0mtensor\u001b[0m\u001b[0;34m.\u001b[0m\u001b[0marray\u001b[0m\u001b[0;34m.\u001b[0m\u001b[0marray_derivatives\u001b[0m \u001b[0;32mimport\u001b[0m \u001b[0mArrayDerivative\u001b[0m\u001b[0;34m\u001b[0m\u001b[0;34m\u001b[0m\u001b[0m\n\u001b[1;32m   1946\u001b[0m         \u001b[0;32mreturn\u001b[0m \u001b[0mArrayDerivative\u001b[0m\u001b[0;34m(\u001b[0m\u001b[0mexpr\u001b[0m\u001b[0;34m,\u001b[0m \u001b[0;34m*\u001b[0m\u001b[0mvariables\u001b[0m\u001b[0;34m,\u001b[0m \u001b[0;34m**\u001b[0m\u001b[0mkwargs\u001b[0m\u001b[0;34m)\u001b[0m\u001b[0;34m\u001b[0m\u001b[0;34m\u001b[0m\u001b[0m\n\u001b[0;32m-> 1947\u001b[0;31m     \u001b[0;32mreturn\u001b[0m \u001b[0mDerivative\u001b[0m\u001b[0;34m(\u001b[0m\u001b[0mexpr\u001b[0m\u001b[0;34m,\u001b[0m \u001b[0;34m*\u001b[0m\u001b[0mvariables\u001b[0m\u001b[0;34m,\u001b[0m \u001b[0;34m**\u001b[0m\u001b[0mkwargs\u001b[0m\u001b[0;34m)\u001b[0m\u001b[0;34m\u001b[0m\u001b[0;34m\u001b[0m\u001b[0m\n\u001b[0m\u001b[1;32m   1948\u001b[0m \u001b[0;34m\u001b[0m\u001b[0m\n\u001b[1;32m   1949\u001b[0m \u001b[0;34m\u001b[0m\u001b[0m\n",
      "\u001b[0;32m~/miniconda3/envs/mathpy/lib/python3.8/site-packages/sympy/core/function.py\u001b[0m in \u001b[0;36m__new__\u001b[0;34m(cls, expr, *variables, **kwargs)\u001b[0m\n\u001b[1;32m   1339\u001b[0m                         \u001b[0;32mcontinue\u001b[0m\u001b[0;34m\u001b[0m\u001b[0;34m\u001b[0m\u001b[0m\n\u001b[1;32m   1340\u001b[0m                 \u001b[0;32melif\u001b[0m \u001b[0misinstance\u001b[0m\u001b[0;34m(\u001b[0m\u001b[0mv\u001b[0m\u001b[0;34m,\u001b[0m \u001b[0mUndefinedFunction\u001b[0m\u001b[0;34m)\u001b[0m\u001b[0;34m:\u001b[0m\u001b[0;34m\u001b[0m\u001b[0;34m\u001b[0m\u001b[0m\n\u001b[0;32m-> 1341\u001b[0;31m                     raise TypeError(\n\u001b[0m\u001b[1;32m   1342\u001b[0m                         \u001b[0;34m\"cannot differentiate wrt \"\u001b[0m\u001b[0;34m\u001b[0m\u001b[0;34m\u001b[0m\u001b[0m\n\u001b[1;32m   1343\u001b[0m                         \"UndefinedFunction: %s\" % v)\n",
      "\u001b[0;31mTypeError\u001b[0m: cannot differentiate wrt UndefinedFunction: x"
     ]
    }
   ],
   "source": [
    "equation = -k * Δ(x(t), t)**2 - m * Δ(x(t), t, 2)\n",
    "display(smp.dsolve(equation), smp.dsolve(equation, ics={x(0): 10, x(0).diff(x).subs(x, 0): -1}))"
   ]
  },
  {
   "cell_type": "code",
   "execution_count": 24,
   "id": "6624fd31",
   "metadata": {},
   "outputs": [
    {
     "data": {
      "text/latex": [
       "$\\displaystyle - y^{2}{\\left(t \\right)} + \\frac{d}{d t} y{\\left(t \\right)}$"
      ],
      "text/plain": [
       "-y(t)**2 + Derivative(y(t), t)"
      ]
     },
     "metadata": {},
     "output_type": "display_data"
    },
    {
     "data": {
      "text/latex": [
       "$\\displaystyle y{\\left(t \\right)} = - \\frac{1}{t - 1}$"
      ],
      "text/plain": [
       "Eq(y(t), -1/(t - 1))"
      ]
     },
     "metadata": {},
     "output_type": "display_data"
    }
   ],
   "source": [
    "y = smp.Function(\"y\")\n",
    "\n",
    "equation = Δ(y(t), t) - y(t)**2\n",
    "display(equation, smp.dsolve(equation, ics={y(0): 1}))"
   ]
  },
  {
   "cell_type": "code",
   "execution_count": 99,
   "id": "0eed3a85",
   "metadata": {},
   "outputs": [
    {
     "data": {
      "text/latex": [
       "$\\displaystyle - \\cos^{2}{\\left(x{\\left(t \\right)} \\right)} + \\frac{d}{d t} x{\\left(t \\right)}$"
      ],
      "text/plain": [
       "-cos(x(t))**2 + Derivative(x(t), t)"
      ]
     },
     "metadata": {},
     "output_type": "display_data"
    },
    {
     "data": {
      "text/plain": [
       "[Eq(x(t), 2*atan((sqrt(C1**2 + 2*C1*t + t**2 + 1) - 1)/(C1 + t))),\n",
       " Eq(x(t), -2*atan((sqrt(C1**2 + 2*C1*t + t**2 + 1) + 1)/(C1 + t)))]"
      ]
     },
     "metadata": {},
     "output_type": "display_data"
    }
   ],
   "source": [
    "equation = Δ(x(t), t) - cos(x(t))**2\n",
    "display(equation, smp.dsolve(equation))"
   ]
  },
  {
   "cell_type": "code",
   "execution_count": 102,
   "id": "2547e9dd",
   "metadata": {},
   "outputs": [
    {
     "data": {
      "text/latex": [
       "$\\displaystyle - z{\\left(t \\right)} + \\left(\\frac{d}{d t} z{\\left(t \\right)}\\right)^{2}$"
      ],
      "text/plain": [
       "-z(t) + Derivative(z(t), t)**2"
      ]
     },
     "metadata": {},
     "output_type": "display_data"
    },
    {
     "data": {
      "text/latex": [
       "$\\displaystyle z{\\left(t \\right)} = \\frac{t^{2}}{4}$"
      ],
      "text/plain": [
       "Eq(z(t), t**2/4)"
      ]
     },
     "metadata": {},
     "output_type": "display_data"
    }
   ],
   "source": [
    "equation = Δ(z(t), t)**2 - z(t)\n",
    "display(equation, smp.dsolve(equation, ics={z(0): 0}))"
   ]
  },
  {
   "cell_type": "code",
   "execution_count": 132,
   "id": "80ec339c",
   "metadata": {},
   "outputs": [
    {
     "data": {
      "text/latex": [
       "$\\displaystyle \\int v{\\left(t \\right)}\\, dt = \\frac{4 \\sqrt{5} t^{\\frac{3}{2}}}{3}$"
      ],
      "text/plain": [
       "Eq(Integral(v(t), t), 4*sqrt(5)*t**(3/2)/3)"
      ]
     },
     "execution_count": 132,
     "metadata": {},
     "output_type": "execute_result"
    }
   ],
   "source": [
    "equation = 100 * v(t) * Δ(v(t), t) - 1000\n",
    "velocity = smp.dsolve(equation, ics={v(0): 0})\n",
    "position = velocity[1].integrate(t)\n",
    "position"
   ]
  },
  {
   "cell_type": "code",
   "execution_count": 131,
   "id": "f1c9eb00",
   "metadata": {},
   "outputs": [
    {
     "data": {
      "text/latex": [
       "$\\displaystyle 10.4004191152595$"
      ],
      "text/plain": [
       "10.4004191152595"
      ]
     },
     "execution_count": 131,
     "metadata": {},
     "output_type": "execute_result"
    }
   ],
   "source": [
    "smp.solve(smp.Eq(100, position.rhs))"
   ]
  },
  {
   "cell_type": "markdown",
   "id": "18202809",
   "metadata": {},
   "source": [
    "### Exercise 4.4.4 - order 2, linear, homogenous"
   ]
  },
  {
   "cell_type": "code",
   "execution_count": 21,
   "id": "2ff710e0",
   "metadata": {},
   "outputs": [
    {
     "data": {
      "text/latex": [
       "$\\displaystyle 3 x{\\left(t \\right)} - 4 \\frac{d}{d t} x{\\left(t \\right)} + \\frac{d^{2}}{d t^{2}} x{\\left(t \\right)}$"
      ],
      "text/plain": [
       "3*x(t) - 4*Derivative(x(t), t) + Derivative(x(t), (t, 2))"
      ]
     },
     "metadata": {},
     "output_type": "display_data"
    },
    {
     "data": {
      "text/latex": [
       "$\\displaystyle x{\\left(t \\right)} = \\left(e^{2 t} - 1\\right) e^{t}$"
      ],
      "text/plain": [
       "Eq(x(t), (exp(2*t) - 1)*exp(t))"
      ]
     },
     "metadata": {},
     "output_type": "display_data"
    }
   ],
   "source": [
    "equation = Δ(x(t), t, 2) - 4 * Δ(x(t), t) + 3 * x(t)\n",
    "conditions = {x(0): 0, \n",
    "              x(t).diff(t).subs(t, 0): 2}\n",
    "\n",
    "display(equation, smp.dsolve(equation, ics=conditions))"
   ]
  },
  {
   "cell_type": "code",
   "execution_count": 22,
   "id": "e7196914",
   "metadata": {},
   "outputs": [
    {
     "data": {
      "text/latex": [
       "$\\displaystyle - x{\\left(t \\right)} + \\frac{d}{d t} x{\\left(t \\right)} + 2 \\frac{d^{2}}{d t^{2}} x{\\left(t \\right)}$"
      ],
      "text/plain": [
       "-x(t) + Derivative(x(t), t) + 2*Derivative(x(t), (t, 2))"
      ]
     },
     "metadata": {},
     "output_type": "display_data"
    },
    {
     "data": {
      "text/latex": [
       "$\\displaystyle x{\\left(t \\right)} = 2 e^{\\frac{t}{2}} - 3 e^{- t}$"
      ],
      "text/plain": [
       "Eq(x(t), 2*exp(t/2) - 3*exp(-t))"
      ]
     },
     "metadata": {},
     "output_type": "display_data"
    }
   ],
   "source": [
    "equation = 2 * Δ(x(t), t, 2) + Δ(x(t), t) - x(t)\n",
    "conditions = {x(0): -1, \n",
    "              x(t).diff(t).subs(t, 0): 4}\n",
    "\n",
    "display(equation, smp.dsolve(equation, ics=conditions))"
   ]
  },
  {
   "cell_type": "code",
   "execution_count": 28,
   "id": "a76167e9",
   "metadata": {},
   "outputs": [
    {
     "data": {
      "text/latex": [
       "$\\displaystyle y{\\left(t \\right)} + \\frac{d}{d t} y{\\left(t \\right)} + \\frac{d^{2}}{d t^{2}} y{\\left(t \\right)}$"
      ],
      "text/plain": [
       "y(t) + Derivative(y(t), t) + Derivative(y(t), (t, 2))"
      ]
     },
     "metadata": {},
     "output_type": "display_data"
    },
    {
     "data": {
      "text/latex": [
       "$\\displaystyle y{\\left(t \\right)} = \\left(C_{1} \\sin{\\left(\\frac{\\sqrt{3} t}{2} \\right)} + C_{2} \\cos{\\left(\\frac{\\sqrt{3} t}{2} \\right)}\\right) e^{- \\frac{t}{2}}$"
      ],
      "text/plain": [
       "Eq(y(t), (C1*sin(sqrt(3)*t/2) + C2*cos(sqrt(3)*t/2))*exp(-t/2))"
      ]
     },
     "metadata": {},
     "output_type": "display_data"
    }
   ],
   "source": [
    "equation = Δ(y(t), t, 2) + Δ(y(t), t) + y(t)\n",
    "display(equation, smp.dsolve(equation))"
   ]
  },
  {
   "cell_type": "code",
   "execution_count": 31,
   "id": "2c7a321e",
   "metadata": {},
   "outputs": [
    {
     "data": {
      "text/latex": [
       "$\\displaystyle y{\\left(t \\right)} + 4 \\frac{d}{d t} y{\\left(t \\right)} + 5 \\frac{d^{2}}{d t^{2}} y{\\left(t \\right)}$"
      ],
      "text/plain": [
       "y(t) + 4*Derivative(y(t), t) + 5*Derivative(y(t), (t, 2))"
      ]
     },
     "metadata": {},
     "output_type": "display_data"
    },
    {
     "data": {
      "text/latex": [
       "$\\displaystyle y{\\left(t \\right)} = e^{- \\frac{2 t}{5}} \\cos{\\left(\\frac{t}{5} \\right)}$"
      ],
      "text/plain": [
       "Eq(y(t), exp(-2*t/5)*cos(t/5))"
      ]
     },
     "metadata": {},
     "output_type": "display_data"
    }
   ],
   "source": [
    "equation = 5 * Δ(y(t), t, 2) + 4 * Δ(y(t), t) + y(t)\n",
    "conditions = {y(0): 1, \n",
    "              y(t).diff(t).subs(t, 0): -smp.Rational(2, 5)}\n",
    "\n",
    "display(equation, smp.dsolve(equation, ics=conditions))"
   ]
  },
  {
   "cell_type": "markdown",
   "id": "70244fa2",
   "metadata": {},
   "source": [
    "### Exercise 4.4.5 - order 2, linear, non-homogenous"
   ]
  },
  {
   "cell_type": "code",
   "execution_count": 32,
   "id": "30637b34",
   "metadata": {},
   "outputs": [
    {
     "data": {
      "text/latex": [
       "$\\displaystyle - t^{2} - 4 y{\\left(t \\right)} + \\frac{d^{2}}{d t^{2}} y{\\left(t \\right)}$"
      ],
      "text/plain": [
       "-t**2 - 4*y(t) + Derivative(y(t), (t, 2))"
      ]
     },
     "metadata": {},
     "output_type": "display_data"
    },
    {
     "data": {
      "text/latex": [
       "$\\displaystyle y{\\left(t \\right)} = - \\frac{t^{2}}{4} + 1.0 e^{2 t} - \\frac{1}{8}$"
      ],
      "text/plain": [
       "Eq(y(t), -t**2/4 + 1.0*exp(2*t) - 1/8)"
      ]
     },
     "metadata": {},
     "output_type": "display_data"
    }
   ],
   "source": [
    "equation = Δ(y(t), t, 2) - 4 * y(t) - t**2\n",
    "conditions = {y(0): 0.875, \n",
    "              y(t).diff(t).subs(t, 0): 2}\n",
    "\n",
    "display(equation, smp.dsolve(equation, ics=conditions))"
   ]
  },
  {
   "cell_type": "code",
   "execution_count": 33,
   "id": "b8b08d7d",
   "metadata": {},
   "outputs": [
    {
     "data": {
      "text/latex": [
       "$\\displaystyle - 4 y{\\left(t \\right)} + 3 \\frac{d}{d t} y{\\left(t \\right)} + \\frac{d^{2}}{d t^{2}} y{\\left(t \\right)} + 4$"
      ],
      "text/plain": [
       "-4*y(t) + 3*Derivative(y(t), t) + Derivative(y(t), (t, 2)) + 4"
      ]
     },
     "metadata": {},
     "output_type": "display_data"
    },
    {
     "data": {
      "text/latex": [
       "$\\displaystyle y{\\left(t \\right)} = C_{1} e^{- 4 t} + C_{2} e^{t} + 1$"
      ],
      "text/plain": [
       "Eq(y(t), C1*exp(-4*t) + C2*exp(t) + 1)"
      ]
     },
     "metadata": {},
     "output_type": "display_data"
    }
   ],
   "source": [
    "equation = Δ(y(t), t, 2) + 3 * Δ(y(t), t) -  4 * y(t) + 4\n",
    "\n",
    "display(equation, smp.dsolve(equation))"
   ]
  },
  {
   "cell_type": "code",
   "execution_count": 49,
   "id": "ef5d65c4",
   "metadata": {},
   "outputs": [
    {
     "data": {
      "text/latex": [
       "$\\displaystyle 2 x{\\left(t \\right)} - 10 \\cos{\\left(t \\right)} + 3 \\frac{d}{d t} x{\\left(t \\right)} + \\frac{d^{2}}{d t^{2}} x{\\left(t \\right)}$"
      ],
      "text/plain": [
       "2*x(t) - 10*cos(t) + 3*Derivative(x(t), t) + Derivative(x(t), (t, 2))"
      ]
     },
     "metadata": {},
     "output_type": "display_data"
    },
    {
     "data": {
      "text/latex": [
       "$\\displaystyle 3 \\sin{\\left(t \\right)} + \\cos{\\left(t \\right)} + 2 e^{- t}$"
      ],
      "text/plain": [
       "3*sin(t) + cos(t) + 2*exp(-t)"
      ]
     },
     "metadata": {},
     "output_type": "display_data"
    },
    {
     "data": {
      "text/latex": [
       "$\\displaystyle -2.33$"
      ],
      "text/plain": [
       "-2.33"
      ]
     },
     "metadata": {},
     "output_type": "display_data"
    }
   ],
   "source": [
    "equation = Δ(x(t), t, 2) + 3 * Δ(x(t), t) + 2 * x(t) - 10 * cos(t)\n",
    "conditions = {x(0): 3, \n",
    "              x(t).diff(t).subs(t, 0): 1}\n",
    "solution = smp.dsolve(equation, ics=conditions).rhs\n",
    "\n",
    "display(equation, solution, solution.diff(t, 2).subs(t, 1).evalf(3))"
   ]
  },
  {
   "cell_type": "markdown",
   "id": "36e6a637",
   "metadata": {},
   "source": [
    "### Exercise 4.4.6 - recap"
   ]
  },
  {
   "cell_type": "markdown",
   "id": "216ce115",
   "metadata": {},
   "source": [
    "## Exercise 4.5: a numerical approach"
   ]
  },
  {
   "cell_type": "markdown",
   "id": "10837997",
   "metadata": {},
   "source": [
    "### Exercise 4.5.1 - swimmer"
   ]
  },
  {
   "cell_type": "markdown",
   "id": "9c89ec75",
   "metadata": {},
   "source": [
    "### Exercise 4.5.2 - random process"
   ]
  },
  {
   "cell_type": "markdown",
   "id": "bd4d671b",
   "metadata": {},
   "source": [
    "### Exercise 4.5.3 - random process"
   ]
  },
  {
   "cell_type": "code",
   "execution_count": null,
   "id": "319043ca",
   "metadata": {},
   "outputs": [],
   "source": []
  }
 ],
 "metadata": {
  "kernelspec": {
   "display_name": "Python 3",
   "language": "python",
   "name": "python3"
  },
  "language_info": {
   "codemirror_mode": {
    "name": "ipython",
    "version": 3
   },
   "file_extension": ".py",
   "mimetype": "text/x-python",
   "name": "python",
   "nbconvert_exporter": "python",
   "pygments_lexer": "ipython3",
   "version": "3.8.10"
  }
 },
 "nbformat": 4,
 "nbformat_minor": 5
}
