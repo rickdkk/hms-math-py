{
 "cells": [
  {
   "cell_type": "markdown",
   "id": "93dd0822",
   "metadata": {},
   "source": [
    "# Chapter 2: derivatives"
   ]
  },
  {
   "cell_type": "code",
   "execution_count": 1,
   "id": "76b1968f",
   "metadata": {},
   "outputs": [],
   "source": [
    "from IPython.core.display import display\n",
    "import sympy as smp\n",
    "from sympy import sin, cos, tan, atan, ln, root, E, Rational"
   ]
  },
  {
   "cell_type": "markdown",
   "id": "cd5cda92",
   "metadata": {},
   "source": [
    "## Exercise 2.1: difference quotient"
   ]
  },
  {
   "cell_type": "code",
   "execution_count": 2,
   "id": "50705364",
   "metadata": {},
   "outputs": [],
   "source": [
    "def falling_velocity(t_start: float, t_stop: float) -> float:\n",
    "    \"\"\"Rough estimation of mean falling velocity between two time points\"\"\"\n",
    "    height = lambda at: 10 - 5 * at**2\n",
    "    delta_t = t_stop - t_start\n",
    "    numerator = height(t_start + delta_t) - height(t_start)\n",
    "    return numerator / delta_t"
   ]
  },
  {
   "cell_type": "code",
   "execution_count": 3,
   "id": "55fff0a2",
   "metadata": {},
   "outputs": [
    {
     "data": {
      "text/plain": [
       "-1.0"
      ]
     },
     "execution_count": 3,
     "metadata": {},
     "output_type": "execute_result"
    }
   ],
   "source": [
    "round(falling_velocity(0.0, 0.2), 3)"
   ]
  },
  {
   "cell_type": "code",
   "execution_count": 4,
   "id": "311f75e4",
   "metadata": {},
   "outputs": [
    {
     "data": {
      "text/plain": [
       "-2.0"
      ]
     },
     "execution_count": 4,
     "metadata": {},
     "output_type": "execute_result"
    }
   ],
   "source": [
    "round(falling_velocity(0.0, 0.4), 3)"
   ]
  },
  {
   "cell_type": "code",
   "execution_count": 5,
   "id": "e1b9ca6f",
   "metadata": {},
   "outputs": [
    {
     "data": {
      "text/plain": [
       "-9.0"
      ]
     },
     "execution_count": 5,
     "metadata": {},
     "output_type": "execute_result"
    }
   ],
   "source": [
    "round(falling_velocity(0.8, 1.0), 3)"
   ]
  },
  {
   "cell_type": "code",
   "execution_count": 6,
   "id": "cd039448",
   "metadata": {},
   "outputs": [
    {
     "data": {
      "text/plain": [
       "-5.0"
      ]
     },
     "execution_count": 6,
     "metadata": {},
     "output_type": "execute_result"
    }
   ],
   "source": [
    "round(falling_velocity(0.0, 1.0), 3)"
   ]
  },
  {
   "cell_type": "markdown",
   "id": "524ace42",
   "metadata": {},
   "source": [
    "Although it's different from how the exercise was specified, another way to solve this using sympy would be like this for the first example:"
   ]
  },
  {
   "cell_type": "code",
   "execution_count": 7,
   "id": "a5340f4e",
   "metadata": {
    "pycharm": {
     "name": "#%%\n"
    }
   },
   "outputs": [
    {
     "data": {
      "text/latex": [
       "$\\displaystyle 10 - 5 t^{2}$"
      ],
      "text/plain": [
       "10 - 5*t**2"
      ]
     },
     "metadata": {},
     "output_type": "display_data"
    },
    {
     "data": {
      "text/latex": [
       "$\\displaystyle - 10 t$"
      ],
      "text/plain": [
       "-10*t"
      ]
     },
     "metadata": {},
     "output_type": "display_data"
    },
    {
     "data": {
      "text/latex": [
       "$\\displaystyle -1.0$"
      ],
      "text/plain": [
       "-1.00000000000000"
      ]
     },
     "execution_count": 7,
     "metadata": {},
     "output_type": "execute_result"
    }
   ],
   "source": [
    "t = smp.symbols(\"t\")\n",
    "\n",
    "formula = 10 - 5 * t**2\n",
    "display(formula)\n",
    "\n",
    "derivative = smp.diff(formula)\n",
    "display(derivative)\n",
    "\n",
    "(derivative.subs(t, 0.0) + derivative.subs(t, 0.2)) / 2"
   ]
  },
  {
   "cell_type": "markdown",
   "id": "319f65ae",
   "metadata": {},
   "source": [
    "## Exercise 2.3: analytical differentiation"
   ]
  },
  {
   "cell_type": "markdown",
   "id": "7f2938e5",
   "metadata": {},
   "source": [
    "### Exercise 2.3.1 - determine the derivative"
   ]
  },
  {
   "cell_type": "code",
   "execution_count": 8,
   "id": "56a76dd6",
   "metadata": {},
   "outputs": [],
   "source": [
    "def display_and_diff(func, *, symbols=None, n: int = 1, simplify: bool = False):\n",
    "    \"\"\"Convenience function that takes an equation and displays the equation and it's derivative\"\"\"\n",
    "    print(\"The following equation is given:\")\n",
    "    display(func)\n",
    "    \n",
    "    derivatives = []\n",
    "    for _ in range(n):\n",
    "        func = smp.diff(func, symbols) if symbols is not None else smp.diff(func)\n",
    "        print(\"The derivative of this equation is equal to:\")\n",
    "        display(func)\n",
    "\n",
    "        if simplify:\n",
    "            func = func.simplify()\n",
    "            print(\"Simplified, this is equal to:\")\n",
    "            display(func)\n",
    "        derivatives.append(func)\n",
    "    return func if n == 1 else derivatives"
   ]
  },
  {
   "cell_type": "code",
   "execution_count": 9,
   "id": "32efcbb7",
   "metadata": {},
   "outputs": [
    {
     "name": "stdout",
     "output_type": "stream",
     "text": [
      "The following equation is given:\n"
     ]
    },
    {
     "data": {
      "text/latex": [
       "$\\displaystyle 2 x$"
      ],
      "text/plain": [
       "2*x"
      ]
     },
     "metadata": {},
     "output_type": "display_data"
    },
    {
     "name": "stdout",
     "output_type": "stream",
     "text": [
      "The derivative of this equation is equal to:\n"
     ]
    },
    {
     "data": {
      "text/latex": [
       "$\\displaystyle 2$"
      ],
      "text/plain": [
       "2"
      ]
     },
     "metadata": {},
     "output_type": "display_data"
    }
   ],
   "source": [
    "x, ϕ = smp.symbols(\"x ϕ\")\n",
    "\n",
    "display_and_diff(2 * x);"
   ]
  },
  {
   "cell_type": "code",
   "execution_count": 10,
   "id": "ef6879f5",
   "metadata": {},
   "outputs": [
    {
     "name": "stdout",
     "output_type": "stream",
     "text": [
      "The following equation is given:\n"
     ]
    },
    {
     "data": {
      "text/latex": [
       "$\\displaystyle 3 x^{2} + x$"
      ],
      "text/plain": [
       "3*x**2 + x"
      ]
     },
     "metadata": {},
     "output_type": "display_data"
    },
    {
     "name": "stdout",
     "output_type": "stream",
     "text": [
      "The derivative of this equation is equal to:\n"
     ]
    },
    {
     "data": {
      "text/latex": [
       "$\\displaystyle 6 x + 1$"
      ],
      "text/plain": [
       "6*x + 1"
      ]
     },
     "metadata": {},
     "output_type": "display_data"
    }
   ],
   "source": [
    "display_and_diff(3 * x**2 + x);"
   ]
  },
  {
   "cell_type": "markdown",
   "id": "01b815d2",
   "metadata": {},
   "source": [
    "### Exercise 2.3.2 - determine the derivative"
   ]
  },
  {
   "cell_type": "code",
   "execution_count": 11,
   "id": "5791e68d",
   "metadata": {},
   "outputs": [
    {
     "name": "stdout",
     "output_type": "stream",
     "text": [
      "The following equation is given:\n"
     ]
    },
    {
     "data": {
      "text/latex": [
       "$\\displaystyle 5 - 5 x^{3}$"
      ],
      "text/plain": [
       "5 - 5*x**3"
      ]
     },
     "metadata": {},
     "output_type": "display_data"
    },
    {
     "name": "stdout",
     "output_type": "stream",
     "text": [
      "The derivative of this equation is equal to:\n"
     ]
    },
    {
     "data": {
      "text/latex": [
       "$\\displaystyle - 15 x^{2}$"
      ],
      "text/plain": [
       "-15*x**2"
      ]
     },
     "metadata": {},
     "output_type": "display_data"
    }
   ],
   "source": [
    "display_and_diff(-5 * x**3 + 5);"
   ]
  },
  {
   "cell_type": "code",
   "execution_count": 12,
   "id": "7b7d2ebc",
   "metadata": {},
   "outputs": [
    {
     "name": "stdout",
     "output_type": "stream",
     "text": [
      "The following equation is given:\n"
     ]
    },
    {
     "data": {
      "text/latex": [
       "$\\displaystyle \\left(3 x + 2\\right) \\left(x^{2} - 1\\right)$"
      ],
      "text/plain": [
       "(3*x + 2)*(x**2 - 1)"
      ]
     },
     "metadata": {},
     "output_type": "display_data"
    },
    {
     "name": "stdout",
     "output_type": "stream",
     "text": [
      "The derivative of this equation is equal to:\n"
     ]
    },
    {
     "data": {
      "text/latex": [
       "$\\displaystyle 3 x^{2} + 2 x \\left(3 x + 2\\right) - 3$"
      ],
      "text/plain": [
       "3*x**2 + 2*x*(3*x + 2) - 3"
      ]
     },
     "metadata": {},
     "output_type": "display_data"
    },
    {
     "name": "stdout",
     "output_type": "stream",
     "text": [
      "Simplified, this is equal to:\n"
     ]
    },
    {
     "data": {
      "text/latex": [
       "$\\displaystyle 9 x^{2} + 4 x - 3$"
      ],
      "text/plain": [
       "9*x**2 + 4*x - 3"
      ]
     },
     "metadata": {},
     "output_type": "display_data"
    }
   ],
   "source": [
    "display_and_diff((3 * x + 2) * (x**2 - 1), simplify=True);"
   ]
  },
  {
   "cell_type": "code",
   "execution_count": 13,
   "id": "37a48975",
   "metadata": {},
   "outputs": [
    {
     "name": "stdout",
     "output_type": "stream",
     "text": [
      "The following equation is given:\n"
     ]
    },
    {
     "data": {
      "text/latex": [
       "$\\displaystyle 2 ϕ \\cos{\\left(ϕ \\right)}$"
      ],
      "text/plain": [
       "2*ϕ*cos(ϕ)"
      ]
     },
     "metadata": {},
     "output_type": "display_data"
    },
    {
     "name": "stdout",
     "output_type": "stream",
     "text": [
      "The derivative of this equation is equal to:\n"
     ]
    },
    {
     "data": {
      "text/latex": [
       "$\\displaystyle - 2 ϕ \\sin{\\left(ϕ \\right)} + 2 \\cos{\\left(ϕ \\right)}$"
      ],
      "text/plain": [
       "-2*ϕ*sin(ϕ) + 2*cos(ϕ)"
      ]
     },
     "metadata": {},
     "output_type": "display_data"
    }
   ],
   "source": [
    "display_and_diff(2 * ϕ * cos(ϕ));"
   ]
  },
  {
   "cell_type": "markdown",
   "id": "f7219170",
   "metadata": {},
   "source": [
    "### Exercise 2.3.3 - velocity on t=1 and t=2"
   ]
  },
  {
   "cell_type": "code",
   "execution_count": 14,
   "id": "a3dffb87",
   "metadata": {},
   "outputs": [
    {
     "name": "stdout",
     "output_type": "stream",
     "text": [
      "The following equation is given:\n"
     ]
    },
    {
     "data": {
      "text/latex": [
       "$\\displaystyle \\sqrt[3]{t}$"
      ],
      "text/plain": [
       "t**(1/3)"
      ]
     },
     "metadata": {},
     "output_type": "display_data"
    },
    {
     "name": "stdout",
     "output_type": "stream",
     "text": [
      "The derivative of this equation is equal to:\n"
     ]
    },
    {
     "data": {
      "text/latex": [
       "$\\displaystyle \\frac{1}{3 t^{\\frac{2}{3}}}$"
      ],
      "text/plain": [
       "1/(3*t**(2/3))"
      ]
     },
     "metadata": {},
     "output_type": "display_data"
    },
    {
     "data": {
      "text/plain": [
       "(1/3, 2**(1/3)/6)"
      ]
     },
     "execution_count": 14,
     "metadata": {},
     "output_type": "execute_result"
    }
   ],
   "source": [
    "velocity = display_and_diff(t**Rational(1, 3))\n",
    "velocity.subs(t, 1), velocity.subs(t, 2)"
   ]
  },
  {
   "cell_type": "markdown",
   "id": "f7f0a863",
   "metadata": {},
   "source": [
    "Alternatively, we can do something like this:"
   ]
  },
  {
   "cell_type": "code",
   "execution_count": 15,
   "id": "f8ae1789",
   "metadata": {},
   "outputs": [
    {
     "name": "stdout",
     "output_type": "stream",
     "text": [
      "The following equation is given:\n"
     ]
    },
    {
     "data": {
      "text/latex": [
       "$\\displaystyle \\sqrt[3]{t}$"
      ],
      "text/plain": [
       "t**(1/3)"
      ]
     },
     "metadata": {},
     "output_type": "display_data"
    },
    {
     "name": "stdout",
     "output_type": "stream",
     "text": [
      "The derivative of this equation is equal to:\n"
     ]
    },
    {
     "data": {
      "text/latex": [
       "$\\displaystyle \\frac{1}{3 t^{\\frac{2}{3}}}$"
      ],
      "text/plain": [
       "1/(3*t**(2/3))"
      ]
     },
     "metadata": {},
     "output_type": "display_data"
    },
    {
     "data": {
      "text/plain": [
       "(1/3, 2**(1/3)/6)"
      ]
     },
     "execution_count": 15,
     "metadata": {},
     "output_type": "execute_result"
    }
   ],
   "source": [
    "velocity = display_and_diff(root(t, 3))\n",
    "velocity.subs(t, 1), velocity.subs(t, 2)"
   ]
  },
  {
   "cell_type": "code",
   "execution_count": 16,
   "id": "1a522f7e",
   "metadata": {},
   "outputs": [
    {
     "name": "stdout",
     "output_type": "stream",
     "text": [
      "The following equation is given:\n"
     ]
    },
    {
     "data": {
      "text/latex": [
       "$\\displaystyle 2 \\log{\\left(x \\right)}$"
      ],
      "text/plain": [
       "2*log(x)"
      ]
     },
     "metadata": {},
     "output_type": "display_data"
    },
    {
     "name": "stdout",
     "output_type": "stream",
     "text": [
      "The derivative of this equation is equal to:\n"
     ]
    },
    {
     "data": {
      "text/latex": [
       "$\\displaystyle \\frac{2}{x}$"
      ],
      "text/plain": [
       "2/x"
      ]
     },
     "metadata": {},
     "output_type": "display_data"
    },
    {
     "data": {
      "text/plain": [
       "(2, 1)"
      ]
     },
     "execution_count": 16,
     "metadata": {},
     "output_type": "execute_result"
    }
   ],
   "source": [
    "velocity = display_and_diff(2 * ln(x))\n",
    "velocity.subs(x, 1), velocity.subs(x, 2)"
   ]
  },
  {
   "cell_type": "code",
   "execution_count": 17,
   "id": "1f6e4fe7",
   "metadata": {},
   "outputs": [
    {
     "name": "stdout",
     "output_type": "stream",
     "text": [
      "The following equation is given:\n"
     ]
    },
    {
     "data": {
      "text/latex": [
       "$\\displaystyle \\frac{2 x - 3}{x^{3} + 7}$"
      ],
      "text/plain": [
       "(2*x - 3)/(x**3 + 7)"
      ]
     },
     "metadata": {},
     "output_type": "display_data"
    },
    {
     "name": "stdout",
     "output_type": "stream",
     "text": [
      "The derivative of this equation is equal to:\n"
     ]
    },
    {
     "data": {
      "text/latex": [
       "$\\displaystyle - \\frac{3 x^{2} \\left(2 x - 3\\right)}{\\left(x^{3} + 7\\right)^{2}} + \\frac{2}{x^{3} + 7}$"
      ],
      "text/plain": [
       "-3*x**2*(2*x - 3)/(x**3 + 7)**2 + 2/(x**3 + 7)"
      ]
     },
     "metadata": {},
     "output_type": "display_data"
    },
    {
     "data": {
      "text/plain": [
       "(19/64, 2/25)"
      ]
     },
     "execution_count": 17,
     "metadata": {},
     "output_type": "execute_result"
    }
   ],
   "source": [
    "velocity = display_and_diff((2 * x - 3) / (x**3 + 7))\n",
    "velocity.subs(x, 1), velocity.subs(x, 2)"
   ]
  },
  {
   "cell_type": "markdown",
   "id": "b1e8edc6",
   "metadata": {},
   "source": [
    "### Exercise 2.3.4 - determine the derivative:"
   ]
  },
  {
   "cell_type": "code",
   "execution_count": 18,
   "id": "cbb2fb81",
   "metadata": {},
   "outputs": [
    {
     "name": "stdout",
     "output_type": "stream",
     "text": [
      "The following equation is given:\n"
     ]
    },
    {
     "data": {
      "text/latex": [
       "$\\displaystyle \\sqrt{x^{2} + x + 2}$"
      ],
      "text/plain": [
       "sqrt(x**2 + x + 2)"
      ]
     },
     "metadata": {},
     "output_type": "display_data"
    },
    {
     "name": "stdout",
     "output_type": "stream",
     "text": [
      "The derivative of this equation is equal to:\n"
     ]
    },
    {
     "data": {
      "text/latex": [
       "$\\displaystyle \\frac{x + \\frac{1}{2}}{\\sqrt{x^{2} + x + 2}}$"
      ],
      "text/plain": [
       "(x + 1/2)/sqrt(x**2 + x + 2)"
      ]
     },
     "metadata": {},
     "output_type": "display_data"
    }
   ],
   "source": [
    "display_and_diff(root(x**2 + x + 2, 2));"
   ]
  },
  {
   "cell_type": "code",
   "execution_count": 19,
   "id": "439bbf59",
   "metadata": {},
   "outputs": [
    {
     "name": "stdout",
     "output_type": "stream",
     "text": [
      "The following equation is given:\n"
     ]
    },
    {
     "data": {
      "text/latex": [
       "$\\displaystyle \\log{\\left(x^{2} + 1 \\right)}$"
      ],
      "text/plain": [
       "log(x**2 + 1)"
      ]
     },
     "metadata": {},
     "output_type": "display_data"
    },
    {
     "name": "stdout",
     "output_type": "stream",
     "text": [
      "The derivative of this equation is equal to:\n"
     ]
    },
    {
     "data": {
      "text/latex": [
       "$\\displaystyle \\frac{2 x}{x^{2} + 1}$"
      ],
      "text/plain": [
       "2*x/(x**2 + 1)"
      ]
     },
     "metadata": {},
     "output_type": "display_data"
    }
   ],
   "source": [
    "display_and_diff(ln(x**2 + 1));"
   ]
  },
  {
   "cell_type": "code",
   "execution_count": 20,
   "id": "310ff7aa",
   "metadata": {},
   "outputs": [
    {
     "name": "stdout",
     "output_type": "stream",
     "text": [
      "The following equation is given:\n"
     ]
    },
    {
     "data": {
      "text/latex": [
       "$\\displaystyle e^{t} \\log{\\left(t \\right)}$"
      ],
      "text/plain": [
       "exp(t)*log(t)"
      ]
     },
     "metadata": {},
     "output_type": "display_data"
    },
    {
     "name": "stdout",
     "output_type": "stream",
     "text": [
      "The derivative of this equation is equal to:\n"
     ]
    },
    {
     "data": {
      "text/latex": [
       "$\\displaystyle e^{t} \\log{\\left(t \\right)} + \\frac{e^{t}}{t}$"
      ],
      "text/plain": [
       "exp(t)*log(t) + exp(t)/t"
      ]
     },
     "metadata": {},
     "output_type": "display_data"
    }
   ],
   "source": [
    "display_and_diff(E**t * ln(t));"
   ]
  },
  {
   "cell_type": "code",
   "execution_count": 21,
   "id": "4440180e",
   "metadata": {},
   "outputs": [
    {
     "name": "stdout",
     "output_type": "stream",
     "text": [
      "The following equation is given:\n"
     ]
    },
    {
     "data": {
      "text/latex": [
       "$\\displaystyle t^{2}$"
      ],
      "text/plain": [
       "t**2"
      ]
     },
     "metadata": {},
     "output_type": "display_data"
    },
    {
     "name": "stdout",
     "output_type": "stream",
     "text": [
      "The derivative of this equation is equal to:\n"
     ]
    },
    {
     "data": {
      "text/latex": [
       "$\\displaystyle 2 t$"
      ],
      "text/plain": [
       "2*t"
      ]
     },
     "metadata": {},
     "output_type": "display_data"
    }
   ],
   "source": [
    "display_and_diff(E**(ln(t**2)));"
   ]
  },
  {
   "cell_type": "code",
   "execution_count": 22,
   "id": "8e45b034",
   "metadata": {},
   "outputs": [
    {
     "name": "stdout",
     "output_type": "stream",
     "text": [
      "The following equation is given:\n"
     ]
    },
    {
     "data": {
      "text/latex": [
       "$\\displaystyle \\tan{\\left(2 ϕ \\right)}$"
      ],
      "text/plain": [
       "tan(2*ϕ)"
      ]
     },
     "metadata": {},
     "output_type": "display_data"
    },
    {
     "name": "stdout",
     "output_type": "stream",
     "text": [
      "The derivative of this equation is equal to:\n"
     ]
    },
    {
     "data": {
      "text/latex": [
       "$\\displaystyle 2 \\tan^{2}{\\left(2 ϕ \\right)} + 2$"
      ],
      "text/plain": [
       "2*tan(2*ϕ)**2 + 2"
      ]
     },
     "metadata": {},
     "output_type": "display_data"
    },
    {
     "name": "stdout",
     "output_type": "stream",
     "text": [
      "Simplified, this is equal to:\n"
     ]
    },
    {
     "data": {
      "text/latex": [
       "$\\displaystyle \\frac{2}{\\cos^{2}{\\left(2 ϕ \\right)}}$"
      ],
      "text/plain": [
       "2/cos(2*ϕ)**2"
      ]
     },
     "metadata": {},
     "output_type": "display_data"
    }
   ],
   "source": [
    "display_and_diff(tan(2*ϕ), simplify=True);"
   ]
  },
  {
   "cell_type": "code",
   "execution_count": 23,
   "id": "0a99e3a3",
   "metadata": {},
   "outputs": [
    {
     "name": "stdout",
     "output_type": "stream",
     "text": [
      "The following equation is given:\n"
     ]
    },
    {
     "data": {
      "text/latex": [
       "$\\displaystyle \\sqrt[3]{t^{2} - 1}$"
      ],
      "text/plain": [
       "(t**2 - 1)**(1/3)"
      ]
     },
     "metadata": {},
     "output_type": "display_data"
    },
    {
     "name": "stdout",
     "output_type": "stream",
     "text": [
      "The derivative of this equation is equal to:\n"
     ]
    },
    {
     "data": {
      "text/latex": [
       "$\\displaystyle \\frac{2 t}{3 \\left(t^{2} - 1\\right)^{\\frac{2}{3}}}$"
      ],
      "text/plain": [
       "2*t/(3*(t**2 - 1)**(2/3))"
      ]
     },
     "metadata": {},
     "output_type": "display_data"
    }
   ],
   "source": [
    "display_and_diff(root(t**2 - 1, 3));"
   ]
  },
  {
   "cell_type": "code",
   "execution_count": 24,
   "id": "3d12b048",
   "metadata": {},
   "outputs": [
    {
     "name": "stdout",
     "output_type": "stream",
     "text": [
      "The following equation is given:\n"
     ]
    },
    {
     "data": {
      "text/latex": [
       "$\\displaystyle 2 x \\sin{\\left(2 x \\right)}$"
      ],
      "text/plain": [
       "2*x*sin(2*x)"
      ]
     },
     "metadata": {},
     "output_type": "display_data"
    },
    {
     "name": "stdout",
     "output_type": "stream",
     "text": [
      "The derivative of this equation is equal to:\n"
     ]
    },
    {
     "data": {
      "text/latex": [
       "$\\displaystyle 4 x \\cos{\\left(2 x \\right)} + 2 \\sin{\\left(2 x \\right)}$"
      ],
      "text/plain": [
       "4*x*cos(2*x) + 2*sin(2*x)"
      ]
     },
     "metadata": {},
     "output_type": "display_data"
    }
   ],
   "source": [
    "display_and_diff(2 * x * sin(2 * x));"
   ]
  },
  {
   "cell_type": "code",
   "execution_count": 25,
   "id": "8a476b08",
   "metadata": {},
   "outputs": [
    {
     "name": "stdout",
     "output_type": "stream",
     "text": [
      "The following equation is given:\n"
     ]
    },
    {
     "data": {
      "text/latex": [
       "$\\displaystyle \\frac{2 t - 3}{\\left(t + 7\\right)^{3}}$"
      ],
      "text/plain": [
       "(2*t - 3)/(t + 7)**3"
      ]
     },
     "metadata": {},
     "output_type": "display_data"
    },
    {
     "name": "stdout",
     "output_type": "stream",
     "text": [
      "The derivative of this equation is equal to:\n"
     ]
    },
    {
     "data": {
      "text/latex": [
       "$\\displaystyle \\frac{2}{\\left(t + 7\\right)^{3}} - \\frac{3 \\left(2 t - 3\\right)}{\\left(t + 7\\right)^{4}}$"
      ],
      "text/plain": [
       "2/(t + 7)**3 - 3*(2*t - 3)/(t + 7)**4"
      ]
     },
     "metadata": {},
     "output_type": "display_data"
    },
    {
     "name": "stdout",
     "output_type": "stream",
     "text": [
      "Simplified, this is equal to:\n"
     ]
    },
    {
     "data": {
      "text/latex": [
       "$\\displaystyle \\frac{23 - 4 t}{\\left(t + 7\\right)^{4}}$"
      ],
      "text/plain": [
       "(23 - 4*t)/(t + 7)**4"
      ]
     },
     "metadata": {},
     "output_type": "display_data"
    }
   ],
   "source": [
    "display_and_diff((2 * t - 3) / (t + 7)**3, simplify=True);"
   ]
  },
  {
   "cell_type": "markdown",
   "id": "2029ba5f",
   "metadata": {},
   "source": [
    "### Exercise 2.3.5 - velocity at t=1"
   ]
  },
  {
   "cell_type": "code",
   "execution_count": 26,
   "id": "469bbc13",
   "metadata": {},
   "outputs": [
    {
     "data": {
      "text/latex": [
       "$\\displaystyle 140.6$"
      ],
      "text/plain": [
       "140.60"
      ]
     },
     "execution_count": 26,
     "metadata": {},
     "output_type": "execute_result"
    }
   ],
   "source": [
    "formula = t*E**(3*t**2)\n",
    "formula.diff().subs(t, 1).evalf(5)"
   ]
  },
  {
   "cell_type": "markdown",
   "id": "133112d9",
   "metadata": {},
   "source": [
    "I reckon this is a nice excuse to use method chaining as it reads nicely from left-right. I wanted sympy to give a float so I had to add evalf()."
   ]
  },
  {
   "cell_type": "code",
   "execution_count": 27,
   "id": "412866df",
   "metadata": {},
   "outputs": [
    {
     "data": {
      "text/latex": [
       "$\\displaystyle \\frac{1}{2}$"
      ],
      "text/plain": [
       "1/2"
      ]
     },
     "execution_count": 27,
     "metadata": {},
     "output_type": "execute_result"
    }
   ],
   "source": [
    "formula = atan(root(2 * t - 1, 2))\n",
    "formula.diff().subs(t, 1)"
   ]
  },
  {
   "cell_type": "markdown",
   "id": "7e2fd546",
   "metadata": {},
   "source": [
    "## Exercise 2.4: numerical differentiation"
   ]
  },
  {
   "cell_type": "markdown",
   "id": "ba900ba0",
   "metadata": {},
   "source": [
    "### Exercise 2.4.1.a - numerical diff and gradient"
   ]
  },
  {
   "cell_type": "code",
   "execution_count": 28,
   "id": "4d11dd1d",
   "metadata": {},
   "outputs": [],
   "source": [
    "import numpy as np\n",
    "import matplotlib.pyplot as plt\n",
    "\n",
    "plt.style.use([\"default\", \"science\", \"notebook\"])  # style from SciencePlots library\n",
    "%config InlineBackend.figure_formats = ['svg']"
   ]
  },
  {
   "cell_type": "code",
   "execution_count": 29,
   "id": "7dce4dd5",
   "metadata": {},
   "outputs": [],
   "source": [
    "time = np.linspace(0, 0.8, 9)\n",
    "location = np.array([0.3, 0.35, 0.45, 0.60, 0.80, 1.0, 1.1, 1.15, 1.15])"
   ]
  },
  {
   "cell_type": "code",
   "execution_count": 30,
   "id": "4b3ab3db",
   "metadata": {},
   "outputs": [
    {
     "data": {
      "text/plain": [
       "array([0.5, 1. , 1.5, 2. , 2. , 1. , 0.5, 0. ])"
      ]
     },
     "execution_count": 30,
     "metadata": {},
     "output_type": "execute_result"
    }
   ],
   "source": [
    "np.diff(location) / np.diff(time)"
   ]
  },
  {
   "cell_type": "code",
   "execution_count": 31,
   "id": "350c23d2",
   "metadata": {},
   "outputs": [
    {
     "data": {
      "text/plain": [
       "array([0.5 , 0.75, 1.25, 1.75, 2.  , 1.5 , 0.75, 0.25, 0.  ])"
      ]
     },
     "execution_count": 31,
     "metadata": {},
     "output_type": "execute_result"
    }
   ],
   "source": [
    "np.gradient(location, time)"
   ]
  },
  {
   "cell_type": "markdown",
   "id": "2be0d412",
   "metadata": {},
   "source": [
    "### Exercise 2.4.1.b - draw a smooth line"
   ]
  },
  {
   "cell_type": "code",
   "execution_count": 32,
   "id": "6afd42e8",
   "metadata": {},
   "outputs": [
    {
     "data": {
      "image/svg+xml": [
       "<?xml version=\"1.0\" encoding=\"utf-8\" standalone=\"no\"?>\n",
       "<!DOCTYPE svg PUBLIC \"-//W3C//DTD SVG 1.1//EN\"\n",
       "  \"http://www.w3.org/Graphics/SVG/1.1/DTD/svg11.dtd\">\n",
       "<svg height=\"396.4675pt\" version=\"1.1\" viewBox=\"0 0 486.8525 396.4675\" width=\"486.8525pt\" xmlns=\"http://www.w3.org/2000/svg\" xmlns:xlink=\"http://www.w3.org/1999/xlink\">\n",
       " <metadata>\n",
       "  <rdf:RDF xmlns:cc=\"http://creativecommons.org/ns#\" xmlns:dc=\"http://purl.org/dc/elements/1.1/\" xmlns:rdf=\"http://www.w3.org/1999/02/22-rdf-syntax-ns#\">\n",
       "   <cc:Work>\n",
       "    <dc:type rdf:resource=\"http://purl.org/dc/dcmitype/StillImage\"/>\n",
       "    <dc:date>2021-08-11T21:42:34.391944</dc:date>\n",
       "    <dc:format>image/svg+xml</dc:format>\n",
       "    <dc:creator>\n",
       "     <cc:Agent>\n",
       "      <dc:title>Matplotlib v3.4.2, https://matplotlib.org/</dc:title>\n",
       "     </cc:Agent>\n",
       "    </dc:creator>\n",
       "   </cc:Work>\n",
       "  </rdf:RDF>\n",
       " </metadata>\n",
       " <defs>\n",
       "  <style type=\"text/css\">*{stroke-linecap:butt;stroke-linejoin:round;}</style>\n",
       " </defs>\n",
       " <g id=\"figure_1\">\n",
       "  <g id=\"patch_1\">\n",
       "   <path d=\"M 0 396.4675 \n",
       "L 486.8525 396.4675 \n",
       "L 486.8525 0 \n",
       "L 0 0 \n",
       "z\n",
       "\" style=\"fill:#ffffff;\"/>\n",
       "  </g>\n",
       "  <g id=\"axes_1\">\n",
       "   <g id=\"patch_2\">\n",
       "    <path d=\"M 52.03 354.3975 \n",
       "L 470.53 354.3975 \n",
       "L 470.53 21.7575 \n",
       "L 52.03 21.7575 \n",
       "z\n",
       "\" style=\"fill:#ffffff;\"/>\n",
       "   </g>\n",
       "   <g id=\"matplotlib.axis_1\">\n",
       "    <g id=\"xtick_1\">\n",
       "     <g id=\"line2d_1\">\n",
       "      <defs>\n",
       "       <path d=\"M 0 0 \n",
       "L 0 -6 \n",
       "\" id=\"mfa4334ed7d\" style=\"stroke:#000000;\"/>\n",
       "      </defs>\n",
       "      <g>\n",
       "       <use style=\"stroke:#000000;\" x=\"52.03\" xlink:href=\"#mfa4334ed7d\" y=\"354.3975\"/>\n",
       "      </g>\n",
       "     </g>\n",
       "     <g id=\"line2d_2\">\n",
       "      <defs>\n",
       "       <path d=\"M 0 0 \n",
       "L 0 6 \n",
       "\" id=\"md08bdff29b\" style=\"stroke:#000000;\"/>\n",
       "      </defs>\n",
       "      <g>\n",
       "       <use style=\"stroke:#000000;\" x=\"52.03\" xlink:href=\"#md08bdff29b\" y=\"21.7575\"/>\n",
       "      </g>\n",
       "     </g>\n",
       "     <g id=\"text_1\">\n",
       "      <!-- 0.0 -->\n",
       "      <g transform=\"translate(39.3075 370.055)scale(0.16 -0.16)\">\n",
       "       <defs>\n",
       "        <path d=\"M 2034 4250 \n",
       "Q 1547 4250 1301 3770 \n",
       "Q 1056 3291 1056 2328 \n",
       "Q 1056 1369 1301 889 \n",
       "Q 1547 409 2034 409 \n",
       "Q 2525 409 2770 889 \n",
       "Q 3016 1369 3016 2328 \n",
       "Q 3016 3291 2770 3770 \n",
       "Q 2525 4250 2034 4250 \n",
       "z\n",
       "M 2034 4750 \n",
       "Q 2819 4750 3233 4129 \n",
       "Q 3647 3509 3647 2328 \n",
       "Q 3647 1150 3233 529 \n",
       "Q 2819 -91 2034 -91 \n",
       "Q 1250 -91 836 529 \n",
       "Q 422 1150 422 2328 \n",
       "Q 422 3509 836 4129 \n",
       "Q 1250 4750 2034 4750 \n",
       "z\n",
       "\" id=\"DejaVuSans-30\" transform=\"scale(0.015625)\"/>\n",
       "        <path d=\"M 684 794 \n",
       "L 1344 794 \n",
       "L 1344 0 \n",
       "L 684 0 \n",
       "L 684 794 \n",
       "z\n",
       "\" id=\"DejaVuSans-2e\" transform=\"scale(0.015625)\"/>\n",
       "       </defs>\n",
       "       <use xlink:href=\"#DejaVuSans-30\"/>\n",
       "       <use x=\"63.623047\" xlink:href=\"#DejaVuSans-2e\"/>\n",
       "       <use x=\"95.410156\" xlink:href=\"#DejaVuSans-30\"/>\n",
       "      </g>\n",
       "     </g>\n",
       "    </g>\n",
       "    <g id=\"xtick_2\">\n",
       "     <g id=\"line2d_3\">\n",
       "      <g>\n",
       "       <use style=\"stroke:#000000;\" x=\"104.3425\" xlink:href=\"#mfa4334ed7d\" y=\"354.3975\"/>\n",
       "      </g>\n",
       "     </g>\n",
       "     <g id=\"line2d_4\">\n",
       "      <g>\n",
       "       <use style=\"stroke:#000000;\" x=\"104.3425\" xlink:href=\"#md08bdff29b\" y=\"21.7575\"/>\n",
       "      </g>\n",
       "     </g>\n",
       "     <g id=\"text_2\">\n",
       "      <!-- 0.1 -->\n",
       "      <g transform=\"translate(91.62 370.055)scale(0.16 -0.16)\">\n",
       "       <defs>\n",
       "        <path d=\"M 794 531 \n",
       "L 1825 531 \n",
       "L 1825 4091 \n",
       "L 703 3866 \n",
       "L 703 4441 \n",
       "L 1819 4666 \n",
       "L 2450 4666 \n",
       "L 2450 531 \n",
       "L 3481 531 \n",
       "L 3481 0 \n",
       "L 794 0 \n",
       "L 794 531 \n",
       "z\n",
       "\" id=\"DejaVuSans-31\" transform=\"scale(0.015625)\"/>\n",
       "       </defs>\n",
       "       <use xlink:href=\"#DejaVuSans-30\"/>\n",
       "       <use x=\"63.623047\" xlink:href=\"#DejaVuSans-2e\"/>\n",
       "       <use x=\"95.410156\" xlink:href=\"#DejaVuSans-31\"/>\n",
       "      </g>\n",
       "     </g>\n",
       "    </g>\n",
       "    <g id=\"xtick_3\">\n",
       "     <g id=\"line2d_5\">\n",
       "      <g>\n",
       "       <use style=\"stroke:#000000;\" x=\"156.655\" xlink:href=\"#mfa4334ed7d\" y=\"354.3975\"/>\n",
       "      </g>\n",
       "     </g>\n",
       "     <g id=\"line2d_6\">\n",
       "      <g>\n",
       "       <use style=\"stroke:#000000;\" x=\"156.655\" xlink:href=\"#md08bdff29b\" y=\"21.7575\"/>\n",
       "      </g>\n",
       "     </g>\n",
       "     <g id=\"text_3\">\n",
       "      <!-- 0.2 -->\n",
       "      <g transform=\"translate(143.9325 370.055)scale(0.16 -0.16)\">\n",
       "       <defs>\n",
       "        <path d=\"M 1228 531 \n",
       "L 3431 531 \n",
       "L 3431 0 \n",
       "L 469 0 \n",
       "L 469 531 \n",
       "Q 828 903 1448 1529 \n",
       "Q 2069 2156 2228 2338 \n",
       "Q 2531 2678 2651 2914 \n",
       "Q 2772 3150 2772 3378 \n",
       "Q 2772 3750 2511 3984 \n",
       "Q 2250 4219 1831 4219 \n",
       "Q 1534 4219 1204 4116 \n",
       "Q 875 4013 500 3803 \n",
       "L 500 4441 \n",
       "Q 881 4594 1212 4672 \n",
       "Q 1544 4750 1819 4750 \n",
       "Q 2544 4750 2975 4387 \n",
       "Q 3406 4025 3406 3419 \n",
       "Q 3406 3131 3298 2873 \n",
       "Q 3191 2616 2906 2266 \n",
       "Q 2828 2175 2409 1742 \n",
       "Q 1991 1309 1228 531 \n",
       "z\n",
       "\" id=\"DejaVuSans-32\" transform=\"scale(0.015625)\"/>\n",
       "       </defs>\n",
       "       <use xlink:href=\"#DejaVuSans-30\"/>\n",
       "       <use x=\"63.623047\" xlink:href=\"#DejaVuSans-2e\"/>\n",
       "       <use x=\"95.410156\" xlink:href=\"#DejaVuSans-32\"/>\n",
       "      </g>\n",
       "     </g>\n",
       "    </g>\n",
       "    <g id=\"xtick_4\">\n",
       "     <g id=\"line2d_7\">\n",
       "      <g>\n",
       "       <use style=\"stroke:#000000;\" x=\"208.9675\" xlink:href=\"#mfa4334ed7d\" y=\"354.3975\"/>\n",
       "      </g>\n",
       "     </g>\n",
       "     <g id=\"line2d_8\">\n",
       "      <g>\n",
       "       <use style=\"stroke:#000000;\" x=\"208.9675\" xlink:href=\"#md08bdff29b\" y=\"21.7575\"/>\n",
       "      </g>\n",
       "     </g>\n",
       "     <g id=\"text_4\">\n",
       "      <!-- 0.3 -->\n",
       "      <g transform=\"translate(196.245 370.055)scale(0.16 -0.16)\">\n",
       "       <defs>\n",
       "        <path d=\"M 2597 2516 \n",
       "Q 3050 2419 3304 2112 \n",
       "Q 3559 1806 3559 1356 \n",
       "Q 3559 666 3084 287 \n",
       "Q 2609 -91 1734 -91 \n",
       "Q 1441 -91 1130 -33 \n",
       "Q 819 25 488 141 \n",
       "L 488 750 \n",
       "Q 750 597 1062 519 \n",
       "Q 1375 441 1716 441 \n",
       "Q 2309 441 2620 675 \n",
       "Q 2931 909 2931 1356 \n",
       "Q 2931 1769 2642 2001 \n",
       "Q 2353 2234 1838 2234 \n",
       "L 1294 2234 \n",
       "L 1294 2753 \n",
       "L 1863 2753 \n",
       "Q 2328 2753 2575 2939 \n",
       "Q 2822 3125 2822 3475 \n",
       "Q 2822 3834 2567 4026 \n",
       "Q 2313 4219 1838 4219 \n",
       "Q 1578 4219 1281 4162 \n",
       "Q 984 4106 628 3988 \n",
       "L 628 4550 \n",
       "Q 988 4650 1302 4700 \n",
       "Q 1616 4750 1894 4750 \n",
       "Q 2613 4750 3031 4423 \n",
       "Q 3450 4097 3450 3541 \n",
       "Q 3450 3153 3228 2886 \n",
       "Q 3006 2619 2597 2516 \n",
       "z\n",
       "\" id=\"DejaVuSans-33\" transform=\"scale(0.015625)\"/>\n",
       "       </defs>\n",
       "       <use xlink:href=\"#DejaVuSans-30\"/>\n",
       "       <use x=\"63.623047\" xlink:href=\"#DejaVuSans-2e\"/>\n",
       "       <use x=\"95.410156\" xlink:href=\"#DejaVuSans-33\"/>\n",
       "      </g>\n",
       "     </g>\n",
       "    </g>\n",
       "    <g id=\"xtick_5\">\n",
       "     <g id=\"line2d_9\">\n",
       "      <g>\n",
       "       <use style=\"stroke:#000000;\" x=\"261.28\" xlink:href=\"#mfa4334ed7d\" y=\"354.3975\"/>\n",
       "      </g>\n",
       "     </g>\n",
       "     <g id=\"line2d_10\">\n",
       "      <g>\n",
       "       <use style=\"stroke:#000000;\" x=\"261.28\" xlink:href=\"#md08bdff29b\" y=\"21.7575\"/>\n",
       "      </g>\n",
       "     </g>\n",
       "     <g id=\"text_5\">\n",
       "      <!-- 0.4 -->\n",
       "      <g transform=\"translate(248.5575 370.055)scale(0.16 -0.16)\">\n",
       "       <defs>\n",
       "        <path d=\"M 2419 4116 \n",
       "L 825 1625 \n",
       "L 2419 1625 \n",
       "L 2419 4116 \n",
       "z\n",
       "M 2253 4666 \n",
       "L 3047 4666 \n",
       "L 3047 1625 \n",
       "L 3713 1625 \n",
       "L 3713 1100 \n",
       "L 3047 1100 \n",
       "L 3047 0 \n",
       "L 2419 0 \n",
       "L 2419 1100 \n",
       "L 313 1100 \n",
       "L 313 1709 \n",
       "L 2253 4666 \n",
       "z\n",
       "\" id=\"DejaVuSans-34\" transform=\"scale(0.015625)\"/>\n",
       "       </defs>\n",
       "       <use xlink:href=\"#DejaVuSans-30\"/>\n",
       "       <use x=\"63.623047\" xlink:href=\"#DejaVuSans-2e\"/>\n",
       "       <use x=\"95.410156\" xlink:href=\"#DejaVuSans-34\"/>\n",
       "      </g>\n",
       "     </g>\n",
       "    </g>\n",
       "    <g id=\"xtick_6\">\n",
       "     <g id=\"line2d_11\">\n",
       "      <g>\n",
       "       <use style=\"stroke:#000000;\" x=\"313.5925\" xlink:href=\"#mfa4334ed7d\" y=\"354.3975\"/>\n",
       "      </g>\n",
       "     </g>\n",
       "     <g id=\"line2d_12\">\n",
       "      <g>\n",
       "       <use style=\"stroke:#000000;\" x=\"313.5925\" xlink:href=\"#md08bdff29b\" y=\"21.7575\"/>\n",
       "      </g>\n",
       "     </g>\n",
       "     <g id=\"text_6\">\n",
       "      <!-- 0.5 -->\n",
       "      <g transform=\"translate(300.87 370.055)scale(0.16 -0.16)\">\n",
       "       <defs>\n",
       "        <path d=\"M 691 4666 \n",
       "L 3169 4666 \n",
       "L 3169 4134 \n",
       "L 1269 4134 \n",
       "L 1269 2991 \n",
       "Q 1406 3038 1543 3061 \n",
       "Q 1681 3084 1819 3084 \n",
       "Q 2600 3084 3056 2656 \n",
       "Q 3513 2228 3513 1497 \n",
       "Q 3513 744 3044 326 \n",
       "Q 2575 -91 1722 -91 \n",
       "Q 1428 -91 1123 -41 \n",
       "Q 819 9 494 109 \n",
       "L 494 744 \n",
       "Q 775 591 1075 516 \n",
       "Q 1375 441 1709 441 \n",
       "Q 2250 441 2565 725 \n",
       "Q 2881 1009 2881 1497 \n",
       "Q 2881 1984 2565 2268 \n",
       "Q 2250 2553 1709 2553 \n",
       "Q 1456 2553 1204 2497 \n",
       "Q 953 2441 691 2322 \n",
       "L 691 4666 \n",
       "z\n",
       "\" id=\"DejaVuSans-35\" transform=\"scale(0.015625)\"/>\n",
       "       </defs>\n",
       "       <use xlink:href=\"#DejaVuSans-30\"/>\n",
       "       <use x=\"63.623047\" xlink:href=\"#DejaVuSans-2e\"/>\n",
       "       <use x=\"95.410156\" xlink:href=\"#DejaVuSans-35\"/>\n",
       "      </g>\n",
       "     </g>\n",
       "    </g>\n",
       "    <g id=\"xtick_7\">\n",
       "     <g id=\"line2d_13\">\n",
       "      <g>\n",
       "       <use style=\"stroke:#000000;\" x=\"365.905\" xlink:href=\"#mfa4334ed7d\" y=\"354.3975\"/>\n",
       "      </g>\n",
       "     </g>\n",
       "     <g id=\"line2d_14\">\n",
       "      <g>\n",
       "       <use style=\"stroke:#000000;\" x=\"365.905\" xlink:href=\"#md08bdff29b\" y=\"21.7575\"/>\n",
       "      </g>\n",
       "     </g>\n",
       "     <g id=\"text_7\">\n",
       "      <!-- 0.6 -->\n",
       "      <g transform=\"translate(353.1825 370.055)scale(0.16 -0.16)\">\n",
       "       <defs>\n",
       "        <path d=\"M 2113 2584 \n",
       "Q 1688 2584 1439 2293 \n",
       "Q 1191 2003 1191 1497 \n",
       "Q 1191 994 1439 701 \n",
       "Q 1688 409 2113 409 \n",
       "Q 2538 409 2786 701 \n",
       "Q 3034 994 3034 1497 \n",
       "Q 3034 2003 2786 2293 \n",
       "Q 2538 2584 2113 2584 \n",
       "z\n",
       "M 3366 4563 \n",
       "L 3366 3988 \n",
       "Q 3128 4100 2886 4159 \n",
       "Q 2644 4219 2406 4219 \n",
       "Q 1781 4219 1451 3797 \n",
       "Q 1122 3375 1075 2522 \n",
       "Q 1259 2794 1537 2939 \n",
       "Q 1816 3084 2150 3084 \n",
       "Q 2853 3084 3261 2657 \n",
       "Q 3669 2231 3669 1497 \n",
       "Q 3669 778 3244 343 \n",
       "Q 2819 -91 2113 -91 \n",
       "Q 1303 -91 875 529 \n",
       "Q 447 1150 447 2328 \n",
       "Q 447 3434 972 4092 \n",
       "Q 1497 4750 2381 4750 \n",
       "Q 2619 4750 2861 4703 \n",
       "Q 3103 4656 3366 4563 \n",
       "z\n",
       "\" id=\"DejaVuSans-36\" transform=\"scale(0.015625)\"/>\n",
       "       </defs>\n",
       "       <use xlink:href=\"#DejaVuSans-30\"/>\n",
       "       <use x=\"63.623047\" xlink:href=\"#DejaVuSans-2e\"/>\n",
       "       <use x=\"95.410156\" xlink:href=\"#DejaVuSans-36\"/>\n",
       "      </g>\n",
       "     </g>\n",
       "    </g>\n",
       "    <g id=\"xtick_8\">\n",
       "     <g id=\"line2d_15\">\n",
       "      <g>\n",
       "       <use style=\"stroke:#000000;\" x=\"418.2175\" xlink:href=\"#mfa4334ed7d\" y=\"354.3975\"/>\n",
       "      </g>\n",
       "     </g>\n",
       "     <g id=\"line2d_16\">\n",
       "      <g>\n",
       "       <use style=\"stroke:#000000;\" x=\"418.2175\" xlink:href=\"#md08bdff29b\" y=\"21.7575\"/>\n",
       "      </g>\n",
       "     </g>\n",
       "     <g id=\"text_8\">\n",
       "      <!-- 0.7 -->\n",
       "      <g transform=\"translate(405.495 370.055)scale(0.16 -0.16)\">\n",
       "       <defs>\n",
       "        <path d=\"M 525 4666 \n",
       "L 3525 4666 \n",
       "L 3525 4397 \n",
       "L 1831 0 \n",
       "L 1172 0 \n",
       "L 2766 4134 \n",
       "L 525 4134 \n",
       "L 525 4666 \n",
       "z\n",
       "\" id=\"DejaVuSans-37\" transform=\"scale(0.015625)\"/>\n",
       "       </defs>\n",
       "       <use xlink:href=\"#DejaVuSans-30\"/>\n",
       "       <use x=\"63.623047\" xlink:href=\"#DejaVuSans-2e\"/>\n",
       "       <use x=\"95.410156\" xlink:href=\"#DejaVuSans-37\"/>\n",
       "      </g>\n",
       "     </g>\n",
       "    </g>\n",
       "    <g id=\"xtick_9\">\n",
       "     <g id=\"line2d_17\">\n",
       "      <g>\n",
       "       <use style=\"stroke:#000000;\" x=\"470.53\" xlink:href=\"#mfa4334ed7d\" y=\"354.3975\"/>\n",
       "      </g>\n",
       "     </g>\n",
       "     <g id=\"line2d_18\">\n",
       "      <g>\n",
       "       <use style=\"stroke:#000000;\" x=\"470.53\" xlink:href=\"#md08bdff29b\" y=\"21.7575\"/>\n",
       "      </g>\n",
       "     </g>\n",
       "     <g id=\"text_9\">\n",
       "      <!-- 0.8 -->\n",
       "      <g transform=\"translate(457.8075 370.055)scale(0.16 -0.16)\">\n",
       "       <defs>\n",
       "        <path d=\"M 2034 2216 \n",
       "Q 1584 2216 1326 1975 \n",
       "Q 1069 1734 1069 1313 \n",
       "Q 1069 891 1326 650 \n",
       "Q 1584 409 2034 409 \n",
       "Q 2484 409 2743 651 \n",
       "Q 3003 894 3003 1313 \n",
       "Q 3003 1734 2745 1975 \n",
       "Q 2488 2216 2034 2216 \n",
       "z\n",
       "M 1403 2484 \n",
       "Q 997 2584 770 2862 \n",
       "Q 544 3141 544 3541 \n",
       "Q 544 4100 942 4425 \n",
       "Q 1341 4750 2034 4750 \n",
       "Q 2731 4750 3128 4425 \n",
       "Q 3525 4100 3525 3541 \n",
       "Q 3525 3141 3298 2862 \n",
       "Q 3072 2584 2669 2484 \n",
       "Q 3125 2378 3379 2068 \n",
       "Q 3634 1759 3634 1313 \n",
       "Q 3634 634 3220 271 \n",
       "Q 2806 -91 2034 -91 \n",
       "Q 1263 -91 848 271 \n",
       "Q 434 634 434 1313 \n",
       "Q 434 1759 690 2068 \n",
       "Q 947 2378 1403 2484 \n",
       "z\n",
       "M 1172 3481 \n",
       "Q 1172 3119 1398 2916 \n",
       "Q 1625 2713 2034 2713 \n",
       "Q 2441 2713 2670 2916 \n",
       "Q 2900 3119 2900 3481 \n",
       "Q 2900 3844 2670 4047 \n",
       "Q 2441 4250 2034 4250 \n",
       "Q 1625 4250 1398 4047 \n",
       "Q 1172 3844 1172 3481 \n",
       "z\n",
       "\" id=\"DejaVuSans-38\" transform=\"scale(0.015625)\"/>\n",
       "       </defs>\n",
       "       <use xlink:href=\"#DejaVuSans-30\"/>\n",
       "       <use x=\"63.623047\" xlink:href=\"#DejaVuSans-2e\"/>\n",
       "       <use x=\"95.410156\" xlink:href=\"#DejaVuSans-38\"/>\n",
       "      </g>\n",
       "     </g>\n",
       "    </g>\n",
       "    <g id=\"xtick_10\">\n",
       "     <g id=\"line2d_19\">\n",
       "      <defs>\n",
       "       <path d=\"M 0 0 \n",
       "L 0 -3 \n",
       "\" id=\"mf78f4661a0\" style=\"stroke:#000000;\"/>\n",
       "      </defs>\n",
       "      <g>\n",
       "       <use style=\"stroke:#000000;\" x=\"62.4925\" xlink:href=\"#mf78f4661a0\" y=\"354.3975\"/>\n",
       "      </g>\n",
       "     </g>\n",
       "     <g id=\"line2d_20\">\n",
       "      <defs>\n",
       "       <path d=\"M 0 0 \n",
       "L 0 3 \n",
       "\" id=\"mdbfd78538b\" style=\"stroke:#000000;\"/>\n",
       "      </defs>\n",
       "      <g>\n",
       "       <use style=\"stroke:#000000;\" x=\"62.4925\" xlink:href=\"#mdbfd78538b\" y=\"21.7575\"/>\n",
       "      </g>\n",
       "     </g>\n",
       "    </g>\n",
       "    <g id=\"xtick_11\">\n",
       "     <g id=\"line2d_21\">\n",
       "      <g>\n",
       "       <use style=\"stroke:#000000;\" x=\"72.955\" xlink:href=\"#mf78f4661a0\" y=\"354.3975\"/>\n",
       "      </g>\n",
       "     </g>\n",
       "     <g id=\"line2d_22\">\n",
       "      <g>\n",
       "       <use style=\"stroke:#000000;\" x=\"72.955\" xlink:href=\"#mdbfd78538b\" y=\"21.7575\"/>\n",
       "      </g>\n",
       "     </g>\n",
       "    </g>\n",
       "    <g id=\"xtick_12\">\n",
       "     <g id=\"line2d_23\">\n",
       "      <g>\n",
       "       <use style=\"stroke:#000000;\" x=\"83.4175\" xlink:href=\"#mf78f4661a0\" y=\"354.3975\"/>\n",
       "      </g>\n",
       "     </g>\n",
       "     <g id=\"line2d_24\">\n",
       "      <g>\n",
       "       <use style=\"stroke:#000000;\" x=\"83.4175\" xlink:href=\"#mdbfd78538b\" y=\"21.7575\"/>\n",
       "      </g>\n",
       "     </g>\n",
       "    </g>\n",
       "    <g id=\"xtick_13\">\n",
       "     <g id=\"line2d_25\">\n",
       "      <g>\n",
       "       <use style=\"stroke:#000000;\" x=\"93.88\" xlink:href=\"#mf78f4661a0\" y=\"354.3975\"/>\n",
       "      </g>\n",
       "     </g>\n",
       "     <g id=\"line2d_26\">\n",
       "      <g>\n",
       "       <use style=\"stroke:#000000;\" x=\"93.88\" xlink:href=\"#mdbfd78538b\" y=\"21.7575\"/>\n",
       "      </g>\n",
       "     </g>\n",
       "    </g>\n",
       "    <g id=\"xtick_14\">\n",
       "     <g id=\"line2d_27\">\n",
       "      <g>\n",
       "       <use style=\"stroke:#000000;\" x=\"114.805\" xlink:href=\"#mf78f4661a0\" y=\"354.3975\"/>\n",
       "      </g>\n",
       "     </g>\n",
       "     <g id=\"line2d_28\">\n",
       "      <g>\n",
       "       <use style=\"stroke:#000000;\" x=\"114.805\" xlink:href=\"#mdbfd78538b\" y=\"21.7575\"/>\n",
       "      </g>\n",
       "     </g>\n",
       "    </g>\n",
       "    <g id=\"xtick_15\">\n",
       "     <g id=\"line2d_29\">\n",
       "      <g>\n",
       "       <use style=\"stroke:#000000;\" x=\"125.2675\" xlink:href=\"#mf78f4661a0\" y=\"354.3975\"/>\n",
       "      </g>\n",
       "     </g>\n",
       "     <g id=\"line2d_30\">\n",
       "      <g>\n",
       "       <use style=\"stroke:#000000;\" x=\"125.2675\" xlink:href=\"#mdbfd78538b\" y=\"21.7575\"/>\n",
       "      </g>\n",
       "     </g>\n",
       "    </g>\n",
       "    <g id=\"xtick_16\">\n",
       "     <g id=\"line2d_31\">\n",
       "      <g>\n",
       "       <use style=\"stroke:#000000;\" x=\"135.73\" xlink:href=\"#mf78f4661a0\" y=\"354.3975\"/>\n",
       "      </g>\n",
       "     </g>\n",
       "     <g id=\"line2d_32\">\n",
       "      <g>\n",
       "       <use style=\"stroke:#000000;\" x=\"135.73\" xlink:href=\"#mdbfd78538b\" y=\"21.7575\"/>\n",
       "      </g>\n",
       "     </g>\n",
       "    </g>\n",
       "    <g id=\"xtick_17\">\n",
       "     <g id=\"line2d_33\">\n",
       "      <g>\n",
       "       <use style=\"stroke:#000000;\" x=\"146.1925\" xlink:href=\"#mf78f4661a0\" y=\"354.3975\"/>\n",
       "      </g>\n",
       "     </g>\n",
       "     <g id=\"line2d_34\">\n",
       "      <g>\n",
       "       <use style=\"stroke:#000000;\" x=\"146.1925\" xlink:href=\"#mdbfd78538b\" y=\"21.7575\"/>\n",
       "      </g>\n",
       "     </g>\n",
       "    </g>\n",
       "    <g id=\"xtick_18\">\n",
       "     <g id=\"line2d_35\">\n",
       "      <g>\n",
       "       <use style=\"stroke:#000000;\" x=\"167.1175\" xlink:href=\"#mf78f4661a0\" y=\"354.3975\"/>\n",
       "      </g>\n",
       "     </g>\n",
       "     <g id=\"line2d_36\">\n",
       "      <g>\n",
       "       <use style=\"stroke:#000000;\" x=\"167.1175\" xlink:href=\"#mdbfd78538b\" y=\"21.7575\"/>\n",
       "      </g>\n",
       "     </g>\n",
       "    </g>\n",
       "    <g id=\"xtick_19\">\n",
       "     <g id=\"line2d_37\">\n",
       "      <g>\n",
       "       <use style=\"stroke:#000000;\" x=\"177.58\" xlink:href=\"#mf78f4661a0\" y=\"354.3975\"/>\n",
       "      </g>\n",
       "     </g>\n",
       "     <g id=\"line2d_38\">\n",
       "      <g>\n",
       "       <use style=\"stroke:#000000;\" x=\"177.58\" xlink:href=\"#mdbfd78538b\" y=\"21.7575\"/>\n",
       "      </g>\n",
       "     </g>\n",
       "    </g>\n",
       "    <g id=\"xtick_20\">\n",
       "     <g id=\"line2d_39\">\n",
       "      <g>\n",
       "       <use style=\"stroke:#000000;\" x=\"188.0425\" xlink:href=\"#mf78f4661a0\" y=\"354.3975\"/>\n",
       "      </g>\n",
       "     </g>\n",
       "     <g id=\"line2d_40\">\n",
       "      <g>\n",
       "       <use style=\"stroke:#000000;\" x=\"188.0425\" xlink:href=\"#mdbfd78538b\" y=\"21.7575\"/>\n",
       "      </g>\n",
       "     </g>\n",
       "    </g>\n",
       "    <g id=\"xtick_21\">\n",
       "     <g id=\"line2d_41\">\n",
       "      <g>\n",
       "       <use style=\"stroke:#000000;\" x=\"198.505\" xlink:href=\"#mf78f4661a0\" y=\"354.3975\"/>\n",
       "      </g>\n",
       "     </g>\n",
       "     <g id=\"line2d_42\">\n",
       "      <g>\n",
       "       <use style=\"stroke:#000000;\" x=\"198.505\" xlink:href=\"#mdbfd78538b\" y=\"21.7575\"/>\n",
       "      </g>\n",
       "     </g>\n",
       "    </g>\n",
       "    <g id=\"xtick_22\">\n",
       "     <g id=\"line2d_43\">\n",
       "      <g>\n",
       "       <use style=\"stroke:#000000;\" x=\"219.43\" xlink:href=\"#mf78f4661a0\" y=\"354.3975\"/>\n",
       "      </g>\n",
       "     </g>\n",
       "     <g id=\"line2d_44\">\n",
       "      <g>\n",
       "       <use style=\"stroke:#000000;\" x=\"219.43\" xlink:href=\"#mdbfd78538b\" y=\"21.7575\"/>\n",
       "      </g>\n",
       "     </g>\n",
       "    </g>\n",
       "    <g id=\"xtick_23\">\n",
       "     <g id=\"line2d_45\">\n",
       "      <g>\n",
       "       <use style=\"stroke:#000000;\" x=\"229.8925\" xlink:href=\"#mf78f4661a0\" y=\"354.3975\"/>\n",
       "      </g>\n",
       "     </g>\n",
       "     <g id=\"line2d_46\">\n",
       "      <g>\n",
       "       <use style=\"stroke:#000000;\" x=\"229.8925\" xlink:href=\"#mdbfd78538b\" y=\"21.7575\"/>\n",
       "      </g>\n",
       "     </g>\n",
       "    </g>\n",
       "    <g id=\"xtick_24\">\n",
       "     <g id=\"line2d_47\">\n",
       "      <g>\n",
       "       <use style=\"stroke:#000000;\" x=\"240.355\" xlink:href=\"#mf78f4661a0\" y=\"354.3975\"/>\n",
       "      </g>\n",
       "     </g>\n",
       "     <g id=\"line2d_48\">\n",
       "      <g>\n",
       "       <use style=\"stroke:#000000;\" x=\"240.355\" xlink:href=\"#mdbfd78538b\" y=\"21.7575\"/>\n",
       "      </g>\n",
       "     </g>\n",
       "    </g>\n",
       "    <g id=\"xtick_25\">\n",
       "     <g id=\"line2d_49\">\n",
       "      <g>\n",
       "       <use style=\"stroke:#000000;\" x=\"250.8175\" xlink:href=\"#mf78f4661a0\" y=\"354.3975\"/>\n",
       "      </g>\n",
       "     </g>\n",
       "     <g id=\"line2d_50\">\n",
       "      <g>\n",
       "       <use style=\"stroke:#000000;\" x=\"250.8175\" xlink:href=\"#mdbfd78538b\" y=\"21.7575\"/>\n",
       "      </g>\n",
       "     </g>\n",
       "    </g>\n",
       "    <g id=\"xtick_26\">\n",
       "     <g id=\"line2d_51\">\n",
       "      <g>\n",
       "       <use style=\"stroke:#000000;\" x=\"271.7425\" xlink:href=\"#mf78f4661a0\" y=\"354.3975\"/>\n",
       "      </g>\n",
       "     </g>\n",
       "     <g id=\"line2d_52\">\n",
       "      <g>\n",
       "       <use style=\"stroke:#000000;\" x=\"271.7425\" xlink:href=\"#mdbfd78538b\" y=\"21.7575\"/>\n",
       "      </g>\n",
       "     </g>\n",
       "    </g>\n",
       "    <g id=\"xtick_27\">\n",
       "     <g id=\"line2d_53\">\n",
       "      <g>\n",
       "       <use style=\"stroke:#000000;\" x=\"282.205\" xlink:href=\"#mf78f4661a0\" y=\"354.3975\"/>\n",
       "      </g>\n",
       "     </g>\n",
       "     <g id=\"line2d_54\">\n",
       "      <g>\n",
       "       <use style=\"stroke:#000000;\" x=\"282.205\" xlink:href=\"#mdbfd78538b\" y=\"21.7575\"/>\n",
       "      </g>\n",
       "     </g>\n",
       "    </g>\n",
       "    <g id=\"xtick_28\">\n",
       "     <g id=\"line2d_55\">\n",
       "      <g>\n",
       "       <use style=\"stroke:#000000;\" x=\"292.6675\" xlink:href=\"#mf78f4661a0\" y=\"354.3975\"/>\n",
       "      </g>\n",
       "     </g>\n",
       "     <g id=\"line2d_56\">\n",
       "      <g>\n",
       "       <use style=\"stroke:#000000;\" x=\"292.6675\" xlink:href=\"#mdbfd78538b\" y=\"21.7575\"/>\n",
       "      </g>\n",
       "     </g>\n",
       "    </g>\n",
       "    <g id=\"xtick_29\">\n",
       "     <g id=\"line2d_57\">\n",
       "      <g>\n",
       "       <use style=\"stroke:#000000;\" x=\"303.13\" xlink:href=\"#mf78f4661a0\" y=\"354.3975\"/>\n",
       "      </g>\n",
       "     </g>\n",
       "     <g id=\"line2d_58\">\n",
       "      <g>\n",
       "       <use style=\"stroke:#000000;\" x=\"303.13\" xlink:href=\"#mdbfd78538b\" y=\"21.7575\"/>\n",
       "      </g>\n",
       "     </g>\n",
       "    </g>\n",
       "    <g id=\"xtick_30\">\n",
       "     <g id=\"line2d_59\">\n",
       "      <g>\n",
       "       <use style=\"stroke:#000000;\" x=\"324.055\" xlink:href=\"#mf78f4661a0\" y=\"354.3975\"/>\n",
       "      </g>\n",
       "     </g>\n",
       "     <g id=\"line2d_60\">\n",
       "      <g>\n",
       "       <use style=\"stroke:#000000;\" x=\"324.055\" xlink:href=\"#mdbfd78538b\" y=\"21.7575\"/>\n",
       "      </g>\n",
       "     </g>\n",
       "    </g>\n",
       "    <g id=\"xtick_31\">\n",
       "     <g id=\"line2d_61\">\n",
       "      <g>\n",
       "       <use style=\"stroke:#000000;\" x=\"334.5175\" xlink:href=\"#mf78f4661a0\" y=\"354.3975\"/>\n",
       "      </g>\n",
       "     </g>\n",
       "     <g id=\"line2d_62\">\n",
       "      <g>\n",
       "       <use style=\"stroke:#000000;\" x=\"334.5175\" xlink:href=\"#mdbfd78538b\" y=\"21.7575\"/>\n",
       "      </g>\n",
       "     </g>\n",
       "    </g>\n",
       "    <g id=\"xtick_32\">\n",
       "     <g id=\"line2d_63\">\n",
       "      <g>\n",
       "       <use style=\"stroke:#000000;\" x=\"344.98\" xlink:href=\"#mf78f4661a0\" y=\"354.3975\"/>\n",
       "      </g>\n",
       "     </g>\n",
       "     <g id=\"line2d_64\">\n",
       "      <g>\n",
       "       <use style=\"stroke:#000000;\" x=\"344.98\" xlink:href=\"#mdbfd78538b\" y=\"21.7575\"/>\n",
       "      </g>\n",
       "     </g>\n",
       "    </g>\n",
       "    <g id=\"xtick_33\">\n",
       "     <g id=\"line2d_65\">\n",
       "      <g>\n",
       "       <use style=\"stroke:#000000;\" x=\"355.4425\" xlink:href=\"#mf78f4661a0\" y=\"354.3975\"/>\n",
       "      </g>\n",
       "     </g>\n",
       "     <g id=\"line2d_66\">\n",
       "      <g>\n",
       "       <use style=\"stroke:#000000;\" x=\"355.4425\" xlink:href=\"#mdbfd78538b\" y=\"21.7575\"/>\n",
       "      </g>\n",
       "     </g>\n",
       "    </g>\n",
       "    <g id=\"xtick_34\">\n",
       "     <g id=\"line2d_67\">\n",
       "      <g>\n",
       "       <use style=\"stroke:#000000;\" x=\"376.3675\" xlink:href=\"#mf78f4661a0\" y=\"354.3975\"/>\n",
       "      </g>\n",
       "     </g>\n",
       "     <g id=\"line2d_68\">\n",
       "      <g>\n",
       "       <use style=\"stroke:#000000;\" x=\"376.3675\" xlink:href=\"#mdbfd78538b\" y=\"21.7575\"/>\n",
       "      </g>\n",
       "     </g>\n",
       "    </g>\n",
       "    <g id=\"xtick_35\">\n",
       "     <g id=\"line2d_69\">\n",
       "      <g>\n",
       "       <use style=\"stroke:#000000;\" x=\"386.83\" xlink:href=\"#mf78f4661a0\" y=\"354.3975\"/>\n",
       "      </g>\n",
       "     </g>\n",
       "     <g id=\"line2d_70\">\n",
       "      <g>\n",
       "       <use style=\"stroke:#000000;\" x=\"386.83\" xlink:href=\"#mdbfd78538b\" y=\"21.7575\"/>\n",
       "      </g>\n",
       "     </g>\n",
       "    </g>\n",
       "    <g id=\"xtick_36\">\n",
       "     <g id=\"line2d_71\">\n",
       "      <g>\n",
       "       <use style=\"stroke:#000000;\" x=\"397.2925\" xlink:href=\"#mf78f4661a0\" y=\"354.3975\"/>\n",
       "      </g>\n",
       "     </g>\n",
       "     <g id=\"line2d_72\">\n",
       "      <g>\n",
       "       <use style=\"stroke:#000000;\" x=\"397.2925\" xlink:href=\"#mdbfd78538b\" y=\"21.7575\"/>\n",
       "      </g>\n",
       "     </g>\n",
       "    </g>\n",
       "    <g id=\"xtick_37\">\n",
       "     <g id=\"line2d_73\">\n",
       "      <g>\n",
       "       <use style=\"stroke:#000000;\" x=\"407.755\" xlink:href=\"#mf78f4661a0\" y=\"354.3975\"/>\n",
       "      </g>\n",
       "     </g>\n",
       "     <g id=\"line2d_74\">\n",
       "      <g>\n",
       "       <use style=\"stroke:#000000;\" x=\"407.755\" xlink:href=\"#mdbfd78538b\" y=\"21.7575\"/>\n",
       "      </g>\n",
       "     </g>\n",
       "    </g>\n",
       "    <g id=\"xtick_38\">\n",
       "     <g id=\"line2d_75\">\n",
       "      <g>\n",
       "       <use style=\"stroke:#000000;\" x=\"428.68\" xlink:href=\"#mf78f4661a0\" y=\"354.3975\"/>\n",
       "      </g>\n",
       "     </g>\n",
       "     <g id=\"line2d_76\">\n",
       "      <g>\n",
       "       <use style=\"stroke:#000000;\" x=\"428.68\" xlink:href=\"#mdbfd78538b\" y=\"21.7575\"/>\n",
       "      </g>\n",
       "     </g>\n",
       "    </g>\n",
       "    <g id=\"xtick_39\">\n",
       "     <g id=\"line2d_77\">\n",
       "      <g>\n",
       "       <use style=\"stroke:#000000;\" x=\"439.1425\" xlink:href=\"#mf78f4661a0\" y=\"354.3975\"/>\n",
       "      </g>\n",
       "     </g>\n",
       "     <g id=\"line2d_78\">\n",
       "      <g>\n",
       "       <use style=\"stroke:#000000;\" x=\"439.1425\" xlink:href=\"#mdbfd78538b\" y=\"21.7575\"/>\n",
       "      </g>\n",
       "     </g>\n",
       "    </g>\n",
       "    <g id=\"xtick_40\">\n",
       "     <g id=\"line2d_79\">\n",
       "      <g>\n",
       "       <use style=\"stroke:#000000;\" x=\"449.605\" xlink:href=\"#mf78f4661a0\" y=\"354.3975\"/>\n",
       "      </g>\n",
       "     </g>\n",
       "     <g id=\"line2d_80\">\n",
       "      <g>\n",
       "       <use style=\"stroke:#000000;\" x=\"449.605\" xlink:href=\"#mdbfd78538b\" y=\"21.7575\"/>\n",
       "      </g>\n",
       "     </g>\n",
       "    </g>\n",
       "    <g id=\"xtick_41\">\n",
       "     <g id=\"line2d_81\">\n",
       "      <g>\n",
       "       <use style=\"stroke:#000000;\" x=\"460.0675\" xlink:href=\"#mf78f4661a0\" y=\"354.3975\"/>\n",
       "      </g>\n",
       "     </g>\n",
       "     <g id=\"line2d_82\">\n",
       "      <g>\n",
       "       <use style=\"stroke:#000000;\" x=\"460.0675\" xlink:href=\"#mdbfd78538b\" y=\"21.7575\"/>\n",
       "      </g>\n",
       "     </g>\n",
       "    </g>\n",
       "    <g id=\"text_10\">\n",
       "     <!-- Time (s) -->\n",
       "     <g transform=\"translate(228.75375 389.54)scale(0.16 -0.16)\">\n",
       "      <defs>\n",
       "       <path d=\"M -19 4666 \n",
       "L 3928 4666 \n",
       "L 3928 4134 \n",
       "L 2272 4134 \n",
       "L 2272 0 \n",
       "L 1638 0 \n",
       "L 1638 4134 \n",
       "L -19 4134 \n",
       "L -19 4666 \n",
       "z\n",
       "\" id=\"DejaVuSans-54\" transform=\"scale(0.015625)\"/>\n",
       "       <path d=\"M 603 3500 \n",
       "L 1178 3500 \n",
       "L 1178 0 \n",
       "L 603 0 \n",
       "L 603 3500 \n",
       "z\n",
       "M 603 4863 \n",
       "L 1178 4863 \n",
       "L 1178 4134 \n",
       "L 603 4134 \n",
       "L 603 4863 \n",
       "z\n",
       "\" id=\"DejaVuSans-69\" transform=\"scale(0.015625)\"/>\n",
       "       <path d=\"M 3328 2828 \n",
       "Q 3544 3216 3844 3400 \n",
       "Q 4144 3584 4550 3584 \n",
       "Q 5097 3584 5394 3201 \n",
       "Q 5691 2819 5691 2113 \n",
       "L 5691 0 \n",
       "L 5113 0 \n",
       "L 5113 2094 \n",
       "Q 5113 2597 4934 2840 \n",
       "Q 4756 3084 4391 3084 \n",
       "Q 3944 3084 3684 2787 \n",
       "Q 3425 2491 3425 1978 \n",
       "L 3425 0 \n",
       "L 2847 0 \n",
       "L 2847 2094 \n",
       "Q 2847 2600 2669 2842 \n",
       "Q 2491 3084 2119 3084 \n",
       "Q 1678 3084 1418 2786 \n",
       "Q 1159 2488 1159 1978 \n",
       "L 1159 0 \n",
       "L 581 0 \n",
       "L 581 3500 \n",
       "L 1159 3500 \n",
       "L 1159 2956 \n",
       "Q 1356 3278 1631 3431 \n",
       "Q 1906 3584 2284 3584 \n",
       "Q 2666 3584 2933 3390 \n",
       "Q 3200 3197 3328 2828 \n",
       "z\n",
       "\" id=\"DejaVuSans-6d\" transform=\"scale(0.015625)\"/>\n",
       "       <path d=\"M 3597 1894 \n",
       "L 3597 1613 \n",
       "L 953 1613 \n",
       "Q 991 1019 1311 708 \n",
       "Q 1631 397 2203 397 \n",
       "Q 2534 397 2845 478 \n",
       "Q 3156 559 3463 722 \n",
       "L 3463 178 \n",
       "Q 3153 47 2828 -22 \n",
       "Q 2503 -91 2169 -91 \n",
       "Q 1331 -91 842 396 \n",
       "Q 353 884 353 1716 \n",
       "Q 353 2575 817 3079 \n",
       "Q 1281 3584 2069 3584 \n",
       "Q 2775 3584 3186 3129 \n",
       "Q 3597 2675 3597 1894 \n",
       "z\n",
       "M 3022 2063 \n",
       "Q 3016 2534 2758 2815 \n",
       "Q 2500 3097 2075 3097 \n",
       "Q 1594 3097 1305 2825 \n",
       "Q 1016 2553 972 2059 \n",
       "L 3022 2063 \n",
       "z\n",
       "\" id=\"DejaVuSans-65\" transform=\"scale(0.015625)\"/>\n",
       "       <path id=\"DejaVuSans-20\" transform=\"scale(0.015625)\"/>\n",
       "       <path d=\"M 1984 4856 \n",
       "Q 1566 4138 1362 3434 \n",
       "Q 1159 2731 1159 2009 \n",
       "Q 1159 1288 1364 580 \n",
       "Q 1569 -128 1984 -844 \n",
       "L 1484 -844 \n",
       "Q 1016 -109 783 600 \n",
       "Q 550 1309 550 2009 \n",
       "Q 550 2706 781 3412 \n",
       "Q 1013 4119 1484 4856 \n",
       "L 1984 4856 \n",
       "z\n",
       "\" id=\"DejaVuSans-28\" transform=\"scale(0.015625)\"/>\n",
       "       <path d=\"M 2834 3397 \n",
       "L 2834 2853 \n",
       "Q 2591 2978 2328 3040 \n",
       "Q 2066 3103 1784 3103 \n",
       "Q 1356 3103 1142 2972 \n",
       "Q 928 2841 928 2578 \n",
       "Q 928 2378 1081 2264 \n",
       "Q 1234 2150 1697 2047 \n",
       "L 1894 2003 \n",
       "Q 2506 1872 2764 1633 \n",
       "Q 3022 1394 3022 966 \n",
       "Q 3022 478 2636 193 \n",
       "Q 2250 -91 1575 -91 \n",
       "Q 1294 -91 989 -36 \n",
       "Q 684 19 347 128 \n",
       "L 347 722 \n",
       "Q 666 556 975 473 \n",
       "Q 1284 391 1588 391 \n",
       "Q 1994 391 2212 530 \n",
       "Q 2431 669 2431 922 \n",
       "Q 2431 1156 2273 1281 \n",
       "Q 2116 1406 1581 1522 \n",
       "L 1381 1569 \n",
       "Q 847 1681 609 1914 \n",
       "Q 372 2147 372 2553 \n",
       "Q 372 3047 722 3315 \n",
       "Q 1072 3584 1716 3584 \n",
       "Q 2034 3584 2315 3537 \n",
       "Q 2597 3491 2834 3397 \n",
       "z\n",
       "\" id=\"DejaVuSans-73\" transform=\"scale(0.015625)\"/>\n",
       "       <path d=\"M 513 4856 \n",
       "L 1013 4856 \n",
       "Q 1481 4119 1714 3412 \n",
       "Q 1947 2706 1947 2009 \n",
       "Q 1947 1309 1714 600 \n",
       "Q 1481 -109 1013 -844 \n",
       "L 513 -844 \n",
       "Q 928 -128 1133 580 \n",
       "Q 1338 1288 1338 2009 \n",
       "Q 1338 2731 1133 3434 \n",
       "Q 928 4138 513 4856 \n",
       "z\n",
       "\" id=\"DejaVuSans-29\" transform=\"scale(0.015625)\"/>\n",
       "      </defs>\n",
       "      <use xlink:href=\"#DejaVuSans-54\"/>\n",
       "      <use x=\"57.958984\" xlink:href=\"#DejaVuSans-69\"/>\n",
       "      <use x=\"85.742188\" xlink:href=\"#DejaVuSans-6d\"/>\n",
       "      <use x=\"183.154297\" xlink:href=\"#DejaVuSans-65\"/>\n",
       "      <use x=\"244.677734\" xlink:href=\"#DejaVuSans-20\"/>\n",
       "      <use x=\"276.464844\" xlink:href=\"#DejaVuSans-28\"/>\n",
       "      <use x=\"315.478516\" xlink:href=\"#DejaVuSans-73\"/>\n",
       "      <use x=\"367.578125\" xlink:href=\"#DejaVuSans-29\"/>\n",
       "     </g>\n",
       "    </g>\n",
       "   </g>\n",
       "   <g id=\"matplotlib.axis_2\">\n",
       "    <g id=\"ytick_1\">\n",
       "     <g id=\"line2d_83\">\n",
       "      <defs>\n",
       "       <path d=\"M 0 0 \n",
       "L 6 0 \n",
       "\" id=\"m08cb9c1112\" style=\"stroke:#000000;\"/>\n",
       "      </defs>\n",
       "      <g>\n",
       "       <use style=\"stroke:#000000;\" x=\"52.03\" xlink:href=\"#m08cb9c1112\" y=\"326.6775\"/>\n",
       "      </g>\n",
       "     </g>\n",
       "     <g id=\"line2d_84\">\n",
       "      <defs>\n",
       "       <path d=\"M 0 0 \n",
       "L -6 0 \n",
       "\" id=\"mf6eb7f2376\" style=\"stroke:#000000;\"/>\n",
       "      </defs>\n",
       "      <g>\n",
       "       <use style=\"stroke:#000000;\" x=\"470.53\" xlink:href=\"#mf6eb7f2376\" y=\"326.6775\"/>\n",
       "      </g>\n",
       "     </g>\n",
       "     <g id=\"text_11\">\n",
       "      <!-- 0.0 -->\n",
       "      <g transform=\"translate(23.085 332.75625)scale(0.16 -0.16)\">\n",
       "       <use xlink:href=\"#DejaVuSans-30\"/>\n",
       "       <use x=\"63.623047\" xlink:href=\"#DejaVuSans-2e\"/>\n",
       "       <use x=\"95.410156\" xlink:href=\"#DejaVuSans-30\"/>\n",
       "      </g>\n",
       "     </g>\n",
       "    </g>\n",
       "    <g id=\"ytick_2\">\n",
       "     <g id=\"line2d_85\">\n",
       "      <g>\n",
       "       <use style=\"stroke:#000000;\" x=\"52.03\" xlink:href=\"#m08cb9c1112\" y=\"257.3775\"/>\n",
       "      </g>\n",
       "     </g>\n",
       "     <g id=\"line2d_86\">\n",
       "      <g>\n",
       "       <use style=\"stroke:#000000;\" x=\"470.53\" xlink:href=\"#mf6eb7f2376\" y=\"257.3775\"/>\n",
       "      </g>\n",
       "     </g>\n",
       "     <g id=\"text_12\">\n",
       "      <!-- 0.5 -->\n",
       "      <g transform=\"translate(23.085 263.45625)scale(0.16 -0.16)\">\n",
       "       <use xlink:href=\"#DejaVuSans-30\"/>\n",
       "       <use x=\"63.623047\" xlink:href=\"#DejaVuSans-2e\"/>\n",
       "       <use x=\"95.410156\" xlink:href=\"#DejaVuSans-35\"/>\n",
       "      </g>\n",
       "     </g>\n",
       "    </g>\n",
       "    <g id=\"ytick_3\">\n",
       "     <g id=\"line2d_87\">\n",
       "      <g>\n",
       "       <use style=\"stroke:#000000;\" x=\"52.03\" xlink:href=\"#m08cb9c1112\" y=\"188.0775\"/>\n",
       "      </g>\n",
       "     </g>\n",
       "     <g id=\"line2d_88\">\n",
       "      <g>\n",
       "       <use style=\"stroke:#000000;\" x=\"470.53\" xlink:href=\"#mf6eb7f2376\" y=\"188.0775\"/>\n",
       "      </g>\n",
       "     </g>\n",
       "     <g id=\"text_13\">\n",
       "      <!-- 1.0 -->\n",
       "      <g transform=\"translate(23.085 194.15625)scale(0.16 -0.16)\">\n",
       "       <use xlink:href=\"#DejaVuSans-31\"/>\n",
       "       <use x=\"63.623047\" xlink:href=\"#DejaVuSans-2e\"/>\n",
       "       <use x=\"95.410156\" xlink:href=\"#DejaVuSans-30\"/>\n",
       "      </g>\n",
       "     </g>\n",
       "    </g>\n",
       "    <g id=\"ytick_4\">\n",
       "     <g id=\"line2d_89\">\n",
       "      <g>\n",
       "       <use style=\"stroke:#000000;\" x=\"52.03\" xlink:href=\"#m08cb9c1112\" y=\"118.7775\"/>\n",
       "      </g>\n",
       "     </g>\n",
       "     <g id=\"line2d_90\">\n",
       "      <g>\n",
       "       <use style=\"stroke:#000000;\" x=\"470.53\" xlink:href=\"#mf6eb7f2376\" y=\"118.7775\"/>\n",
       "      </g>\n",
       "     </g>\n",
       "     <g id=\"text_14\">\n",
       "      <!-- 1.5 -->\n",
       "      <g transform=\"translate(23.085 124.85625)scale(0.16 -0.16)\">\n",
       "       <use xlink:href=\"#DejaVuSans-31\"/>\n",
       "       <use x=\"63.623047\" xlink:href=\"#DejaVuSans-2e\"/>\n",
       "       <use x=\"95.410156\" xlink:href=\"#DejaVuSans-35\"/>\n",
       "      </g>\n",
       "     </g>\n",
       "    </g>\n",
       "    <g id=\"ytick_5\">\n",
       "     <g id=\"line2d_91\">\n",
       "      <g>\n",
       "       <use style=\"stroke:#000000;\" x=\"52.03\" xlink:href=\"#m08cb9c1112\" y=\"49.4775\"/>\n",
       "      </g>\n",
       "     </g>\n",
       "     <g id=\"line2d_92\">\n",
       "      <g>\n",
       "       <use style=\"stroke:#000000;\" x=\"470.53\" xlink:href=\"#mf6eb7f2376\" y=\"49.4775\"/>\n",
       "      </g>\n",
       "     </g>\n",
       "     <g id=\"text_15\">\n",
       "      <!-- 2.0 -->\n",
       "      <g transform=\"translate(23.085 55.55625)scale(0.16 -0.16)\">\n",
       "       <use xlink:href=\"#DejaVuSans-32\"/>\n",
       "       <use x=\"63.623047\" xlink:href=\"#DejaVuSans-2e\"/>\n",
       "       <use x=\"95.410156\" xlink:href=\"#DejaVuSans-30\"/>\n",
       "      </g>\n",
       "     </g>\n",
       "    </g>\n",
       "    <g id=\"ytick_6\">\n",
       "     <g id=\"line2d_93\">\n",
       "      <defs>\n",
       "       <path d=\"M 0 0 \n",
       "L 3 0 \n",
       "\" id=\"m2a77b3c43a\" style=\"stroke:#000000;\"/>\n",
       "      </defs>\n",
       "      <g>\n",
       "       <use style=\"stroke:#000000;\" x=\"52.03\" xlink:href=\"#m2a77b3c43a\" y=\"354.3975\"/>\n",
       "      </g>\n",
       "     </g>\n",
       "     <g id=\"line2d_94\">\n",
       "      <defs>\n",
       "       <path d=\"M 0 0 \n",
       "L -3 0 \n",
       "\" id=\"m01b3146ef3\" style=\"stroke:#000000;\"/>\n",
       "      </defs>\n",
       "      <g>\n",
       "       <use style=\"stroke:#000000;\" x=\"470.53\" xlink:href=\"#m01b3146ef3\" y=\"354.3975\"/>\n",
       "      </g>\n",
       "     </g>\n",
       "    </g>\n",
       "    <g id=\"ytick_7\">\n",
       "     <g id=\"line2d_95\">\n",
       "      <g>\n",
       "       <use style=\"stroke:#000000;\" x=\"52.03\" xlink:href=\"#m2a77b3c43a\" y=\"340.5375\"/>\n",
       "      </g>\n",
       "     </g>\n",
       "     <g id=\"line2d_96\">\n",
       "      <g>\n",
       "       <use style=\"stroke:#000000;\" x=\"470.53\" xlink:href=\"#m01b3146ef3\" y=\"340.5375\"/>\n",
       "      </g>\n",
       "     </g>\n",
       "    </g>\n",
       "    <g id=\"ytick_8\">\n",
       "     <g id=\"line2d_97\">\n",
       "      <g>\n",
       "       <use style=\"stroke:#000000;\" x=\"52.03\" xlink:href=\"#m2a77b3c43a\" y=\"312.8175\"/>\n",
       "      </g>\n",
       "     </g>\n",
       "     <g id=\"line2d_98\">\n",
       "      <g>\n",
       "       <use style=\"stroke:#000000;\" x=\"470.53\" xlink:href=\"#m01b3146ef3\" y=\"312.8175\"/>\n",
       "      </g>\n",
       "     </g>\n",
       "    </g>\n",
       "    <g id=\"ytick_9\">\n",
       "     <g id=\"line2d_99\">\n",
       "      <g>\n",
       "       <use style=\"stroke:#000000;\" x=\"52.03\" xlink:href=\"#m2a77b3c43a\" y=\"298.9575\"/>\n",
       "      </g>\n",
       "     </g>\n",
       "     <g id=\"line2d_100\">\n",
       "      <g>\n",
       "       <use style=\"stroke:#000000;\" x=\"470.53\" xlink:href=\"#m01b3146ef3\" y=\"298.9575\"/>\n",
       "      </g>\n",
       "     </g>\n",
       "    </g>\n",
       "    <g id=\"ytick_10\">\n",
       "     <g id=\"line2d_101\">\n",
       "      <g>\n",
       "       <use style=\"stroke:#000000;\" x=\"52.03\" xlink:href=\"#m2a77b3c43a\" y=\"285.0975\"/>\n",
       "      </g>\n",
       "     </g>\n",
       "     <g id=\"line2d_102\">\n",
       "      <g>\n",
       "       <use style=\"stroke:#000000;\" x=\"470.53\" xlink:href=\"#m01b3146ef3\" y=\"285.0975\"/>\n",
       "      </g>\n",
       "     </g>\n",
       "    </g>\n",
       "    <g id=\"ytick_11\">\n",
       "     <g id=\"line2d_103\">\n",
       "      <g>\n",
       "       <use style=\"stroke:#000000;\" x=\"52.03\" xlink:href=\"#m2a77b3c43a\" y=\"271.2375\"/>\n",
       "      </g>\n",
       "     </g>\n",
       "     <g id=\"line2d_104\">\n",
       "      <g>\n",
       "       <use style=\"stroke:#000000;\" x=\"470.53\" xlink:href=\"#m01b3146ef3\" y=\"271.2375\"/>\n",
       "      </g>\n",
       "     </g>\n",
       "    </g>\n",
       "    <g id=\"ytick_12\">\n",
       "     <g id=\"line2d_105\">\n",
       "      <g>\n",
       "       <use style=\"stroke:#000000;\" x=\"52.03\" xlink:href=\"#m2a77b3c43a\" y=\"243.5175\"/>\n",
       "      </g>\n",
       "     </g>\n",
       "     <g id=\"line2d_106\">\n",
       "      <g>\n",
       "       <use style=\"stroke:#000000;\" x=\"470.53\" xlink:href=\"#m01b3146ef3\" y=\"243.5175\"/>\n",
       "      </g>\n",
       "     </g>\n",
       "    </g>\n",
       "    <g id=\"ytick_13\">\n",
       "     <g id=\"line2d_107\">\n",
       "      <g>\n",
       "       <use style=\"stroke:#000000;\" x=\"52.03\" xlink:href=\"#m2a77b3c43a\" y=\"229.6575\"/>\n",
       "      </g>\n",
       "     </g>\n",
       "     <g id=\"line2d_108\">\n",
       "      <g>\n",
       "       <use style=\"stroke:#000000;\" x=\"470.53\" xlink:href=\"#m01b3146ef3\" y=\"229.6575\"/>\n",
       "      </g>\n",
       "     </g>\n",
       "    </g>\n",
       "    <g id=\"ytick_14\">\n",
       "     <g id=\"line2d_109\">\n",
       "      <g>\n",
       "       <use style=\"stroke:#000000;\" x=\"52.03\" xlink:href=\"#m2a77b3c43a\" y=\"215.7975\"/>\n",
       "      </g>\n",
       "     </g>\n",
       "     <g id=\"line2d_110\">\n",
       "      <g>\n",
       "       <use style=\"stroke:#000000;\" x=\"470.53\" xlink:href=\"#m01b3146ef3\" y=\"215.7975\"/>\n",
       "      </g>\n",
       "     </g>\n",
       "    </g>\n",
       "    <g id=\"ytick_15\">\n",
       "     <g id=\"line2d_111\">\n",
       "      <g>\n",
       "       <use style=\"stroke:#000000;\" x=\"52.03\" xlink:href=\"#m2a77b3c43a\" y=\"201.9375\"/>\n",
       "      </g>\n",
       "     </g>\n",
       "     <g id=\"line2d_112\">\n",
       "      <g>\n",
       "       <use style=\"stroke:#000000;\" x=\"470.53\" xlink:href=\"#m01b3146ef3\" y=\"201.9375\"/>\n",
       "      </g>\n",
       "     </g>\n",
       "    </g>\n",
       "    <g id=\"ytick_16\">\n",
       "     <g id=\"line2d_113\">\n",
       "      <g>\n",
       "       <use style=\"stroke:#000000;\" x=\"52.03\" xlink:href=\"#m2a77b3c43a\" y=\"174.2175\"/>\n",
       "      </g>\n",
       "     </g>\n",
       "     <g id=\"line2d_114\">\n",
       "      <g>\n",
       "       <use style=\"stroke:#000000;\" x=\"470.53\" xlink:href=\"#m01b3146ef3\" y=\"174.2175\"/>\n",
       "      </g>\n",
       "     </g>\n",
       "    </g>\n",
       "    <g id=\"ytick_17\">\n",
       "     <g id=\"line2d_115\">\n",
       "      <g>\n",
       "       <use style=\"stroke:#000000;\" x=\"52.03\" xlink:href=\"#m2a77b3c43a\" y=\"160.3575\"/>\n",
       "      </g>\n",
       "     </g>\n",
       "     <g id=\"line2d_116\">\n",
       "      <g>\n",
       "       <use style=\"stroke:#000000;\" x=\"470.53\" xlink:href=\"#m01b3146ef3\" y=\"160.3575\"/>\n",
       "      </g>\n",
       "     </g>\n",
       "    </g>\n",
       "    <g id=\"ytick_18\">\n",
       "     <g id=\"line2d_117\">\n",
       "      <g>\n",
       "       <use style=\"stroke:#000000;\" x=\"52.03\" xlink:href=\"#m2a77b3c43a\" y=\"146.4975\"/>\n",
       "      </g>\n",
       "     </g>\n",
       "     <g id=\"line2d_118\">\n",
       "      <g>\n",
       "       <use style=\"stroke:#000000;\" x=\"470.53\" xlink:href=\"#m01b3146ef3\" y=\"146.4975\"/>\n",
       "      </g>\n",
       "     </g>\n",
       "    </g>\n",
       "    <g id=\"ytick_19\">\n",
       "     <g id=\"line2d_119\">\n",
       "      <g>\n",
       "       <use style=\"stroke:#000000;\" x=\"52.03\" xlink:href=\"#m2a77b3c43a\" y=\"132.6375\"/>\n",
       "      </g>\n",
       "     </g>\n",
       "     <g id=\"line2d_120\">\n",
       "      <g>\n",
       "       <use style=\"stroke:#000000;\" x=\"470.53\" xlink:href=\"#m01b3146ef3\" y=\"132.6375\"/>\n",
       "      </g>\n",
       "     </g>\n",
       "    </g>\n",
       "    <g id=\"ytick_20\">\n",
       "     <g id=\"line2d_121\">\n",
       "      <g>\n",
       "       <use style=\"stroke:#000000;\" x=\"52.03\" xlink:href=\"#m2a77b3c43a\" y=\"104.9175\"/>\n",
       "      </g>\n",
       "     </g>\n",
       "     <g id=\"line2d_122\">\n",
       "      <g>\n",
       "       <use style=\"stroke:#000000;\" x=\"470.53\" xlink:href=\"#m01b3146ef3\" y=\"104.9175\"/>\n",
       "      </g>\n",
       "     </g>\n",
       "    </g>\n",
       "    <g id=\"ytick_21\">\n",
       "     <g id=\"line2d_123\">\n",
       "      <g>\n",
       "       <use style=\"stroke:#000000;\" x=\"52.03\" xlink:href=\"#m2a77b3c43a\" y=\"91.0575\"/>\n",
       "      </g>\n",
       "     </g>\n",
       "     <g id=\"line2d_124\">\n",
       "      <g>\n",
       "       <use style=\"stroke:#000000;\" x=\"470.53\" xlink:href=\"#m01b3146ef3\" y=\"91.0575\"/>\n",
       "      </g>\n",
       "     </g>\n",
       "    </g>\n",
       "    <g id=\"ytick_22\">\n",
       "     <g id=\"line2d_125\">\n",
       "      <g>\n",
       "       <use style=\"stroke:#000000;\" x=\"52.03\" xlink:href=\"#m2a77b3c43a\" y=\"77.1975\"/>\n",
       "      </g>\n",
       "     </g>\n",
       "     <g id=\"line2d_126\">\n",
       "      <g>\n",
       "       <use style=\"stroke:#000000;\" x=\"470.53\" xlink:href=\"#m01b3146ef3\" y=\"77.1975\"/>\n",
       "      </g>\n",
       "     </g>\n",
       "    </g>\n",
       "    <g id=\"ytick_23\">\n",
       "     <g id=\"line2d_127\">\n",
       "      <g>\n",
       "       <use style=\"stroke:#000000;\" x=\"52.03\" xlink:href=\"#m2a77b3c43a\" y=\"63.3375\"/>\n",
       "      </g>\n",
       "     </g>\n",
       "     <g id=\"line2d_128\">\n",
       "      <g>\n",
       "       <use style=\"stroke:#000000;\" x=\"470.53\" xlink:href=\"#m01b3146ef3\" y=\"63.3375\"/>\n",
       "      </g>\n",
       "     </g>\n",
       "    </g>\n",
       "    <g id=\"ytick_24\">\n",
       "     <g id=\"line2d_129\">\n",
       "      <g>\n",
       "       <use style=\"stroke:#000000;\" x=\"52.03\" xlink:href=\"#m2a77b3c43a\" y=\"35.6175\"/>\n",
       "      </g>\n",
       "     </g>\n",
       "     <g id=\"line2d_130\">\n",
       "      <g>\n",
       "       <use style=\"stroke:#000000;\" x=\"470.53\" xlink:href=\"#m01b3146ef3\" y=\"35.6175\"/>\n",
       "      </g>\n",
       "     </g>\n",
       "    </g>\n",
       "    <g id=\"ytick_25\">\n",
       "     <g id=\"line2d_131\">\n",
       "      <g>\n",
       "       <use style=\"stroke:#000000;\" x=\"52.03\" xlink:href=\"#m2a77b3c43a\" y=\"21.7575\"/>\n",
       "      </g>\n",
       "     </g>\n",
       "     <g id=\"line2d_132\">\n",
       "      <g>\n",
       "       <use style=\"stroke:#000000;\" x=\"470.53\" xlink:href=\"#m01b3146ef3\" y=\"21.7575\"/>\n",
       "      </g>\n",
       "     </g>\n",
       "    </g>\n",
       "    <g id=\"text_16\">\n",
       "     <!-- Velocity (m/s) -->\n",
       "     <g transform=\"translate(15.7575 242.9025)rotate(-90)scale(0.16 -0.16)\">\n",
       "      <defs>\n",
       "       <path d=\"M 1831 0 \n",
       "L 50 4666 \n",
       "L 709 4666 \n",
       "L 2188 738 \n",
       "L 3669 4666 \n",
       "L 4325 4666 \n",
       "L 2547 0 \n",
       "L 1831 0 \n",
       "z\n",
       "\" id=\"DejaVuSans-56\" transform=\"scale(0.015625)\"/>\n",
       "       <path d=\"M 603 4863 \n",
       "L 1178 4863 \n",
       "L 1178 0 \n",
       "L 603 0 \n",
       "L 603 4863 \n",
       "z\n",
       "\" id=\"DejaVuSans-6c\" transform=\"scale(0.015625)\"/>\n",
       "       <path d=\"M 1959 3097 \n",
       "Q 1497 3097 1228 2736 \n",
       "Q 959 2375 959 1747 \n",
       "Q 959 1119 1226 758 \n",
       "Q 1494 397 1959 397 \n",
       "Q 2419 397 2687 759 \n",
       "Q 2956 1122 2956 1747 \n",
       "Q 2956 2369 2687 2733 \n",
       "Q 2419 3097 1959 3097 \n",
       "z\n",
       "M 1959 3584 \n",
       "Q 2709 3584 3137 3096 \n",
       "Q 3566 2609 3566 1747 \n",
       "Q 3566 888 3137 398 \n",
       "Q 2709 -91 1959 -91 \n",
       "Q 1206 -91 779 398 \n",
       "Q 353 888 353 1747 \n",
       "Q 353 2609 779 3096 \n",
       "Q 1206 3584 1959 3584 \n",
       "z\n",
       "\" id=\"DejaVuSans-6f\" transform=\"scale(0.015625)\"/>\n",
       "       <path d=\"M 3122 3366 \n",
       "L 3122 2828 \n",
       "Q 2878 2963 2633 3030 \n",
       "Q 2388 3097 2138 3097 \n",
       "Q 1578 3097 1268 2742 \n",
       "Q 959 2388 959 1747 \n",
       "Q 959 1106 1268 751 \n",
       "Q 1578 397 2138 397 \n",
       "Q 2388 397 2633 464 \n",
       "Q 2878 531 3122 666 \n",
       "L 3122 134 \n",
       "Q 2881 22 2623 -34 \n",
       "Q 2366 -91 2075 -91 \n",
       "Q 1284 -91 818 406 \n",
       "Q 353 903 353 1747 \n",
       "Q 353 2603 823 3093 \n",
       "Q 1294 3584 2113 3584 \n",
       "Q 2378 3584 2631 3529 \n",
       "Q 2884 3475 3122 3366 \n",
       "z\n",
       "\" id=\"DejaVuSans-63\" transform=\"scale(0.015625)\"/>\n",
       "       <path d=\"M 1172 4494 \n",
       "L 1172 3500 \n",
       "L 2356 3500 \n",
       "L 2356 3053 \n",
       "L 1172 3053 \n",
       "L 1172 1153 \n",
       "Q 1172 725 1289 603 \n",
       "Q 1406 481 1766 481 \n",
       "L 2356 481 \n",
       "L 2356 0 \n",
       "L 1766 0 \n",
       "Q 1100 0 847 248 \n",
       "Q 594 497 594 1153 \n",
       "L 594 3053 \n",
       "L 172 3053 \n",
       "L 172 3500 \n",
       "L 594 3500 \n",
       "L 594 4494 \n",
       "L 1172 4494 \n",
       "z\n",
       "\" id=\"DejaVuSans-74\" transform=\"scale(0.015625)\"/>\n",
       "       <path d=\"M 2059 -325 \n",
       "Q 1816 -950 1584 -1140 \n",
       "Q 1353 -1331 966 -1331 \n",
       "L 506 -1331 \n",
       "L 506 -850 \n",
       "L 844 -850 \n",
       "Q 1081 -850 1212 -737 \n",
       "Q 1344 -625 1503 -206 \n",
       "L 1606 56 \n",
       "L 191 3500 \n",
       "L 800 3500 \n",
       "L 1894 763 \n",
       "L 2988 3500 \n",
       "L 3597 3500 \n",
       "L 2059 -325 \n",
       "z\n",
       "\" id=\"DejaVuSans-79\" transform=\"scale(0.015625)\"/>\n",
       "       <path d=\"M 1625 4666 \n",
       "L 2156 4666 \n",
       "L 531 -594 \n",
       "L 0 -594 \n",
       "L 1625 4666 \n",
       "z\n",
       "\" id=\"DejaVuSans-2f\" transform=\"scale(0.015625)\"/>\n",
       "      </defs>\n",
       "      <use xlink:href=\"#DejaVuSans-56\"/>\n",
       "      <use x=\"60.658203\" xlink:href=\"#DejaVuSans-65\"/>\n",
       "      <use x=\"122.181641\" xlink:href=\"#DejaVuSans-6c\"/>\n",
       "      <use x=\"149.964844\" xlink:href=\"#DejaVuSans-6f\"/>\n",
       "      <use x=\"211.146484\" xlink:href=\"#DejaVuSans-63\"/>\n",
       "      <use x=\"266.126953\" xlink:href=\"#DejaVuSans-69\"/>\n",
       "      <use x=\"293.910156\" xlink:href=\"#DejaVuSans-74\"/>\n",
       "      <use x=\"333.119141\" xlink:href=\"#DejaVuSans-79\"/>\n",
       "      <use x=\"392.298828\" xlink:href=\"#DejaVuSans-20\"/>\n",
       "      <use x=\"424.085938\" xlink:href=\"#DejaVuSans-28\"/>\n",
       "      <use x=\"463.099609\" xlink:href=\"#DejaVuSans-6d\"/>\n",
       "      <use x=\"560.511719\" xlink:href=\"#DejaVuSans-2f\"/>\n",
       "      <use x=\"594.203125\" xlink:href=\"#DejaVuSans-73\"/>\n",
       "      <use x=\"646.302734\" xlink:href=\"#DejaVuSans-29\"/>\n",
       "     </g>\n",
       "    </g>\n",
       "   </g>\n",
       "   <g id=\"line2d_133\">\n",
       "    <path clip-path=\"url(#pc8a46700c2)\" d=\"M 52.03 257.3775 \n",
       "L 104.3425 222.7275 \n",
       "L 156.655 153.4275 \n",
       "L 208.9675 84.1275 \n",
       "L 261.28 49.4775 \n",
       "L 313.5925 118.7775 \n",
       "L 365.905 222.7275 \n",
       "L 418.2175 292.0275 \n",
       "L 470.53 326.6775 \n",
       "\" style=\"fill:none;stroke:#0c5da5;stroke-linecap:square;stroke-width:2;\"/>\n",
       "   </g>\n",
       "   <g id=\"line2d_134\">\n",
       "    <path clip-path=\"url(#pc8a46700c2)\" d=\"M 52.03 257.3775 \n",
       "L 104.3425 222.7275 \n",
       "L 156.655 153.4275 \n",
       "L 208.9675 153.4275 \n",
       "L 261.28 49.4775 \n",
       "L 313.5925 49.4775 \n",
       "L 365.905 222.7275 \n",
       "L 418.2175 292.0275 \n",
       "L 470.53 326.6775 \n",
       "\" style=\"fill:none;stroke:#00b945;stroke-linecap:square;stroke-width:2;\"/>\n",
       "   </g>\n",
       "   <g id=\"patch_3\">\n",
       "    <path d=\"M 52.03 354.3975 \n",
       "L 52.03 21.7575 \n",
       "\" style=\"fill:none;stroke:#000000;stroke-linecap:square;stroke-linejoin:miter;\"/>\n",
       "   </g>\n",
       "   <g id=\"patch_4\">\n",
       "    <path d=\"M 470.53 354.3975 \n",
       "L 470.53 21.7575 \n",
       "\" style=\"fill:none;stroke:#000000;stroke-linecap:square;stroke-linejoin:miter;\"/>\n",
       "   </g>\n",
       "   <g id=\"patch_5\">\n",
       "    <path d=\"M 52.03 354.3975 \n",
       "L 470.53 354.3975 \n",
       "\" style=\"fill:none;stroke:#000000;stroke-linecap:square;stroke-linejoin:miter;\"/>\n",
       "   </g>\n",
       "   <g id=\"patch_6\">\n",
       "    <path d=\"M 52.03 21.7575 \n",
       "L 470.53 21.7575 \n",
       "\" style=\"fill:none;stroke:#000000;stroke-linecap:square;stroke-linejoin:miter;\"/>\n",
       "   </g>\n",
       "   <g id=\"text_17\">\n",
       "    <!-- Lifting experiment -->\n",
       "    <g transform=\"translate(187.9225 15.7575)scale(0.16 -0.16)\">\n",
       "     <defs>\n",
       "      <path d=\"M 628 4666 \n",
       "L 1259 4666 \n",
       "L 1259 531 \n",
       "L 3531 531 \n",
       "L 3531 0 \n",
       "L 628 0 \n",
       "L 628 4666 \n",
       "z\n",
       "\" id=\"DejaVuSans-4c\" transform=\"scale(0.015625)\"/>\n",
       "      <path d=\"M 2375 4863 \n",
       "L 2375 4384 \n",
       "L 1825 4384 \n",
       "Q 1516 4384 1395 4259 \n",
       "Q 1275 4134 1275 3809 \n",
       "L 1275 3500 \n",
       "L 2222 3500 \n",
       "L 2222 3053 \n",
       "L 1275 3053 \n",
       "L 1275 0 \n",
       "L 697 0 \n",
       "L 697 3053 \n",
       "L 147 3053 \n",
       "L 147 3500 \n",
       "L 697 3500 \n",
       "L 697 3744 \n",
       "Q 697 4328 969 4595 \n",
       "Q 1241 4863 1831 4863 \n",
       "L 2375 4863 \n",
       "z\n",
       "\" id=\"DejaVuSans-66\" transform=\"scale(0.015625)\"/>\n",
       "      <path d=\"M 3513 2113 \n",
       "L 3513 0 \n",
       "L 2938 0 \n",
       "L 2938 2094 \n",
       "Q 2938 2591 2744 2837 \n",
       "Q 2550 3084 2163 3084 \n",
       "Q 1697 3084 1428 2787 \n",
       "Q 1159 2491 1159 1978 \n",
       "L 1159 0 \n",
       "L 581 0 \n",
       "L 581 3500 \n",
       "L 1159 3500 \n",
       "L 1159 2956 \n",
       "Q 1366 3272 1645 3428 \n",
       "Q 1925 3584 2291 3584 \n",
       "Q 2894 3584 3203 3211 \n",
       "Q 3513 2838 3513 2113 \n",
       "z\n",
       "\" id=\"DejaVuSans-6e\" transform=\"scale(0.015625)\"/>\n",
       "      <path d=\"M 2906 1791 \n",
       "Q 2906 2416 2648 2759 \n",
       "Q 2391 3103 1925 3103 \n",
       "Q 1463 3103 1205 2759 \n",
       "Q 947 2416 947 1791 \n",
       "Q 947 1169 1205 825 \n",
       "Q 1463 481 1925 481 \n",
       "Q 2391 481 2648 825 \n",
       "Q 2906 1169 2906 1791 \n",
       "z\n",
       "M 3481 434 \n",
       "Q 3481 -459 3084 -895 \n",
       "Q 2688 -1331 1869 -1331 \n",
       "Q 1566 -1331 1297 -1286 \n",
       "Q 1028 -1241 775 -1147 \n",
       "L 775 -588 \n",
       "Q 1028 -725 1275 -790 \n",
       "Q 1522 -856 1778 -856 \n",
       "Q 2344 -856 2625 -561 \n",
       "Q 2906 -266 2906 331 \n",
       "L 2906 616 \n",
       "Q 2728 306 2450 153 \n",
       "Q 2172 0 1784 0 \n",
       "Q 1141 0 747 490 \n",
       "Q 353 981 353 1791 \n",
       "Q 353 2603 747 3093 \n",
       "Q 1141 3584 1784 3584 \n",
       "Q 2172 3584 2450 3431 \n",
       "Q 2728 3278 2906 2969 \n",
       "L 2906 3500 \n",
       "L 3481 3500 \n",
       "L 3481 434 \n",
       "z\n",
       "\" id=\"DejaVuSans-67\" transform=\"scale(0.015625)\"/>\n",
       "      <path d=\"M 3513 3500 \n",
       "L 2247 1797 \n",
       "L 3578 0 \n",
       "L 2900 0 \n",
       "L 1881 1375 \n",
       "L 863 0 \n",
       "L 184 0 \n",
       "L 1544 1831 \n",
       "L 300 3500 \n",
       "L 978 3500 \n",
       "L 1906 2253 \n",
       "L 2834 3500 \n",
       "L 3513 3500 \n",
       "z\n",
       "\" id=\"DejaVuSans-78\" transform=\"scale(0.015625)\"/>\n",
       "      <path d=\"M 1159 525 \n",
       "L 1159 -1331 \n",
       "L 581 -1331 \n",
       "L 581 3500 \n",
       "L 1159 3500 \n",
       "L 1159 2969 \n",
       "Q 1341 3281 1617 3432 \n",
       "Q 1894 3584 2278 3584 \n",
       "Q 2916 3584 3314 3078 \n",
       "Q 3713 2572 3713 1747 \n",
       "Q 3713 922 3314 415 \n",
       "Q 2916 -91 2278 -91 \n",
       "Q 1894 -91 1617 61 \n",
       "Q 1341 213 1159 525 \n",
       "z\n",
       "M 3116 1747 \n",
       "Q 3116 2381 2855 2742 \n",
       "Q 2594 3103 2138 3103 \n",
       "Q 1681 3103 1420 2742 \n",
       "Q 1159 2381 1159 1747 \n",
       "Q 1159 1113 1420 752 \n",
       "Q 1681 391 2138 391 \n",
       "Q 2594 391 2855 752 \n",
       "Q 3116 1113 3116 1747 \n",
       "z\n",
       "\" id=\"DejaVuSans-70\" transform=\"scale(0.015625)\"/>\n",
       "      <path d=\"M 2631 2963 \n",
       "Q 2534 3019 2420 3045 \n",
       "Q 2306 3072 2169 3072 \n",
       "Q 1681 3072 1420 2755 \n",
       "Q 1159 2438 1159 1844 \n",
       "L 1159 0 \n",
       "L 581 0 \n",
       "L 581 3500 \n",
       "L 1159 3500 \n",
       "L 1159 2956 \n",
       "Q 1341 3275 1631 3429 \n",
       "Q 1922 3584 2338 3584 \n",
       "Q 2397 3584 2469 3576 \n",
       "Q 2541 3569 2628 3553 \n",
       "L 2631 2963 \n",
       "z\n",
       "\" id=\"DejaVuSans-72\" transform=\"scale(0.015625)\"/>\n",
       "     </defs>\n",
       "     <use xlink:href=\"#DejaVuSans-4c\"/>\n",
       "     <use x=\"55.712891\" xlink:href=\"#DejaVuSans-69\"/>\n",
       "     <use x=\"83.496094\" xlink:href=\"#DejaVuSans-66\"/>\n",
       "     <use x=\"116.951172\" xlink:href=\"#DejaVuSans-74\"/>\n",
       "     <use x=\"156.160156\" xlink:href=\"#DejaVuSans-69\"/>\n",
       "     <use x=\"183.943359\" xlink:href=\"#DejaVuSans-6e\"/>\n",
       "     <use x=\"247.322266\" xlink:href=\"#DejaVuSans-67\"/>\n",
       "     <use x=\"310.798828\" xlink:href=\"#DejaVuSans-20\"/>\n",
       "     <use x=\"342.585938\" xlink:href=\"#DejaVuSans-65\"/>\n",
       "     <use x=\"402.359375\" xlink:href=\"#DejaVuSans-78\"/>\n",
       "     <use x=\"461.539062\" xlink:href=\"#DejaVuSans-70\"/>\n",
       "     <use x=\"525.015625\" xlink:href=\"#DejaVuSans-65\"/>\n",
       "     <use x=\"586.539062\" xlink:href=\"#DejaVuSans-72\"/>\n",
       "     <use x=\"627.652344\" xlink:href=\"#DejaVuSans-69\"/>\n",
       "     <use x=\"655.435547\" xlink:href=\"#DejaVuSans-6d\"/>\n",
       "     <use x=\"752.847656\" xlink:href=\"#DejaVuSans-65\"/>\n",
       "     <use x=\"814.371094\" xlink:href=\"#DejaVuSans-6e\"/>\n",
       "     <use x=\"877.75\" xlink:href=\"#DejaVuSans-74\"/>\n",
       "    </g>\n",
       "   </g>\n",
       "   <g id=\"legend_1\">\n",
       "    <g id=\"patch_7\">\n",
       "     <path d=\"M 332.0425 81.5275 \n",
       "L 459.33 81.5275 \n",
       "Q 462.53 81.5275 462.53 78.3275 \n",
       "L 462.53 32.9575 \n",
       "Q 462.53 29.7575 459.33 29.7575 \n",
       "L 332.0425 29.7575 \n",
       "Q 328.8425 29.7575 328.8425 32.9575 \n",
       "L 328.8425 78.3275 \n",
       "Q 328.8425 81.5275 332.0425 81.5275 \n",
       "z\n",
       "\" style=\"fill:#ffffff;opacity:0.8;stroke:#cccccc;stroke-linejoin:miter;\"/>\n",
       "    </g>\n",
       "    <g id=\"line2d_135\">\n",
       "     <path d=\"M 335.2425 42.715 \n",
       "L 367.2425 42.715 \n",
       "\" style=\"fill:none;stroke:#0c5da5;stroke-linecap:square;stroke-width:2;\"/>\n",
       "    </g>\n",
       "    <g id=\"line2d_136\"/>\n",
       "    <g id=\"text_18\">\n",
       "     <!-- original -->\n",
       "     <g transform=\"translate(380.0425 48.315)scale(0.16 -0.16)\">\n",
       "      <defs>\n",
       "       <path d=\"M 2194 1759 \n",
       "Q 1497 1759 1228 1600 \n",
       "Q 959 1441 959 1056 \n",
       "Q 959 750 1161 570 \n",
       "Q 1363 391 1709 391 \n",
       "Q 2188 391 2477 730 \n",
       "Q 2766 1069 2766 1631 \n",
       "L 2766 1759 \n",
       "L 2194 1759 \n",
       "z\n",
       "M 3341 1997 \n",
       "L 3341 0 \n",
       "L 2766 0 \n",
       "L 2766 531 \n",
       "Q 2569 213 2275 61 \n",
       "Q 1981 -91 1556 -91 \n",
       "Q 1019 -91 701 211 \n",
       "Q 384 513 384 1019 \n",
       "Q 384 1609 779 1909 \n",
       "Q 1175 2209 1959 2209 \n",
       "L 2766 2209 \n",
       "L 2766 2266 \n",
       "Q 2766 2663 2505 2880 \n",
       "Q 2244 3097 1772 3097 \n",
       "Q 1472 3097 1187 3025 \n",
       "Q 903 2953 641 2809 \n",
       "L 641 3341 \n",
       "Q 956 3463 1253 3523 \n",
       "Q 1550 3584 1831 3584 \n",
       "Q 2591 3584 2966 3190 \n",
       "Q 3341 2797 3341 1997 \n",
       "z\n",
       "\" id=\"DejaVuSans-61\" transform=\"scale(0.015625)\"/>\n",
       "      </defs>\n",
       "      <use xlink:href=\"#DejaVuSans-6f\"/>\n",
       "      <use x=\"61.181641\" xlink:href=\"#DejaVuSans-72\"/>\n",
       "      <use x=\"102.294922\" xlink:href=\"#DejaVuSans-69\"/>\n",
       "      <use x=\"130.078125\" xlink:href=\"#DejaVuSans-67\"/>\n",
       "      <use x=\"193.554688\" xlink:href=\"#DejaVuSans-69\"/>\n",
       "      <use x=\"221.337891\" xlink:href=\"#DejaVuSans-6e\"/>\n",
       "      <use x=\"284.716797\" xlink:href=\"#DejaVuSans-61\"/>\n",
       "      <use x=\"345.996094\" xlink:href=\"#DejaVuSans-6c\"/>\n",
       "     </g>\n",
       "    </g>\n",
       "    <g id=\"line2d_137\">\n",
       "     <path d=\"M 335.2425 66.2 \n",
       "L 367.2425 66.2 \n",
       "\" style=\"fill:none;stroke:#00b945;stroke-linecap:square;stroke-width:2;\"/>\n",
       "    </g>\n",
       "    <g id=\"line2d_138\"/>\n",
       "    <g id=\"text_19\">\n",
       "     <!-- disturbed -->\n",
       "     <g transform=\"translate(380.0425 71.8)scale(0.16 -0.16)\">\n",
       "      <defs>\n",
       "       <path d=\"M 2906 2969 \n",
       "L 2906 4863 \n",
       "L 3481 4863 \n",
       "L 3481 0 \n",
       "L 2906 0 \n",
       "L 2906 525 \n",
       "Q 2725 213 2448 61 \n",
       "Q 2172 -91 1784 -91 \n",
       "Q 1150 -91 751 415 \n",
       "Q 353 922 353 1747 \n",
       "Q 353 2572 751 3078 \n",
       "Q 1150 3584 1784 3584 \n",
       "Q 2172 3584 2448 3432 \n",
       "Q 2725 3281 2906 2969 \n",
       "z\n",
       "M 947 1747 \n",
       "Q 947 1113 1208 752 \n",
       "Q 1469 391 1925 391 \n",
       "Q 2381 391 2643 752 \n",
       "Q 2906 1113 2906 1747 \n",
       "Q 2906 2381 2643 2742 \n",
       "Q 2381 3103 1925 3103 \n",
       "Q 1469 3103 1208 2742 \n",
       "Q 947 2381 947 1747 \n",
       "z\n",
       "\" id=\"DejaVuSans-64\" transform=\"scale(0.015625)\"/>\n",
       "       <path d=\"M 544 1381 \n",
       "L 544 3500 \n",
       "L 1119 3500 \n",
       "L 1119 1403 \n",
       "Q 1119 906 1312 657 \n",
       "Q 1506 409 1894 409 \n",
       "Q 2359 409 2629 706 \n",
       "Q 2900 1003 2900 1516 \n",
       "L 2900 3500 \n",
       "L 3475 3500 \n",
       "L 3475 0 \n",
       "L 2900 0 \n",
       "L 2900 538 \n",
       "Q 2691 219 2414 64 \n",
       "Q 2138 -91 1772 -91 \n",
       "Q 1169 -91 856 284 \n",
       "Q 544 659 544 1381 \n",
       "z\n",
       "M 1991 3584 \n",
       "L 1991 3584 \n",
       "z\n",
       "\" id=\"DejaVuSans-75\" transform=\"scale(0.015625)\"/>\n",
       "       <path d=\"M 3116 1747 \n",
       "Q 3116 2381 2855 2742 \n",
       "Q 2594 3103 2138 3103 \n",
       "Q 1681 3103 1420 2742 \n",
       "Q 1159 2381 1159 1747 \n",
       "Q 1159 1113 1420 752 \n",
       "Q 1681 391 2138 391 \n",
       "Q 2594 391 2855 752 \n",
       "Q 3116 1113 3116 1747 \n",
       "z\n",
       "M 1159 2969 \n",
       "Q 1341 3281 1617 3432 \n",
       "Q 1894 3584 2278 3584 \n",
       "Q 2916 3584 3314 3078 \n",
       "Q 3713 2572 3713 1747 \n",
       "Q 3713 922 3314 415 \n",
       "Q 2916 -91 2278 -91 \n",
       "Q 1894 -91 1617 61 \n",
       "Q 1341 213 1159 525 \n",
       "L 1159 0 \n",
       "L 581 0 \n",
       "L 581 4863 \n",
       "L 1159 4863 \n",
       "L 1159 2969 \n",
       "z\n",
       "\" id=\"DejaVuSans-62\" transform=\"scale(0.015625)\"/>\n",
       "      </defs>\n",
       "      <use xlink:href=\"#DejaVuSans-64\"/>\n",
       "      <use x=\"63.476562\" xlink:href=\"#DejaVuSans-69\"/>\n",
       "      <use x=\"91.259766\" xlink:href=\"#DejaVuSans-73\"/>\n",
       "      <use x=\"143.359375\" xlink:href=\"#DejaVuSans-74\"/>\n",
       "      <use x=\"182.568359\" xlink:href=\"#DejaVuSans-75\"/>\n",
       "      <use x=\"245.947266\" xlink:href=\"#DejaVuSans-72\"/>\n",
       "      <use x=\"287.060547\" xlink:href=\"#DejaVuSans-62\"/>\n",
       "      <use x=\"350.537109\" xlink:href=\"#DejaVuSans-65\"/>\n",
       "      <use x=\"412.060547\" xlink:href=\"#DejaVuSans-64\"/>\n",
       "     </g>\n",
       "    </g>\n",
       "   </g>\n",
       "  </g>\n",
       " </g>\n",
       " <defs>\n",
       "  <clipPath id=\"pc8a46700c2\">\n",
       "   <rect height=\"332.64\" width=\"418.5\" x=\"52.03\" y=\"21.7575\"/>\n",
       "  </clipPath>\n",
       " </defs>\n",
       "</svg>\n"
      ],
      "text/plain": [
       "<Figure size 750x600 with 1 Axes>"
      ]
     },
     "metadata": {},
     "output_type": "display_data"
    }
   ],
   "source": [
    "velocity_original = np.gradient(location, time)\n",
    "\n",
    "location[4] = 0.7\n",
    "velocity_new = np.gradient(location, time)\n",
    "\n",
    "plt.figure(figsize=(7.5, 6))\n",
    "plt.plot(time, velocity_original, label=\"original\")\n",
    "plt.plot(time, velocity_new, label=\"disturbed\")\n",
    "\n",
    "plt.margins(0, 0.1)\n",
    "plt.legend(frameon=True, loc=\"upper right\")\n",
    "plt.xlabel(\"Time (s)\")\n",
    "plt.ylabel(\"Velocity (m/s)\")\n",
    "plt.title(\"Lifting experiment\")\n",
    "plt.show();"
   ]
  },
  {
   "cell_type": "markdown",
   "id": "9dac26e7",
   "metadata": {},
   "source": [
    "I guess the exercise ordered smooth lines though, which is easy by hand, but takes a little more effort to do with code. By using a cubic spline we should be rewarded with a nice smooth line though:"
   ]
  },
  {
   "cell_type": "code",
   "execution_count": 33,
   "id": "77075dfd",
   "metadata": {},
   "outputs": [
    {
     "data": {
      "image/svg+xml": [
       "<?xml version=\"1.0\" encoding=\"utf-8\" standalone=\"no\"?>\n",
       "<!DOCTYPE svg PUBLIC \"-//W3C//DTD SVG 1.1//EN\"\n",
       "  \"http://www.w3.org/Graphics/SVG/1.1/DTD/svg11.dtd\">\n",
       "<svg height=\"396.4675pt\" version=\"1.1\" viewBox=\"0 0 486.8525 396.4675\" width=\"486.8525pt\" xmlns=\"http://www.w3.org/2000/svg\" xmlns:xlink=\"http://www.w3.org/1999/xlink\">\n",
       " <metadata>\n",
       "  <rdf:RDF xmlns:cc=\"http://creativecommons.org/ns#\" xmlns:dc=\"http://purl.org/dc/elements/1.1/\" xmlns:rdf=\"http://www.w3.org/1999/02/22-rdf-syntax-ns#\">\n",
       "   <cc:Work>\n",
       "    <dc:type rdf:resource=\"http://purl.org/dc/dcmitype/StillImage\"/>\n",
       "    <dc:date>2021-08-11T21:42:34.716689</dc:date>\n",
       "    <dc:format>image/svg+xml</dc:format>\n",
       "    <dc:creator>\n",
       "     <cc:Agent>\n",
       "      <dc:title>Matplotlib v3.4.2, https://matplotlib.org/</dc:title>\n",
       "     </cc:Agent>\n",
       "    </dc:creator>\n",
       "   </cc:Work>\n",
       "  </rdf:RDF>\n",
       " </metadata>\n",
       " <defs>\n",
       "  <style type=\"text/css\">*{stroke-linecap:butt;stroke-linejoin:round;}</style>\n",
       " </defs>\n",
       " <g id=\"figure_1\">\n",
       "  <g id=\"patch_1\">\n",
       "   <path d=\"M 0 396.4675 \n",
       "L 486.8525 396.4675 \n",
       "L 486.8525 0 \n",
       "L 0 0 \n",
       "z\n",
       "\" style=\"fill:#ffffff;\"/>\n",
       "  </g>\n",
       "  <g id=\"axes_1\">\n",
       "   <g id=\"patch_2\">\n",
       "    <path d=\"M 52.03 354.3975 \n",
       "L 470.53 354.3975 \n",
       "L 470.53 21.7575 \n",
       "L 52.03 21.7575 \n",
       "z\n",
       "\" style=\"fill:#ffffff;\"/>\n",
       "   </g>\n",
       "   <g id=\"matplotlib.axis_1\">\n",
       "    <g id=\"xtick_1\">\n",
       "     <g id=\"line2d_1\">\n",
       "      <defs>\n",
       "       <path d=\"M 0 0 \n",
       "L 0 -6 \n",
       "\" id=\"md451e9eec0\" style=\"stroke:#000000;\"/>\n",
       "      </defs>\n",
       "      <g>\n",
       "       <use style=\"stroke:#000000;\" x=\"52.03\" xlink:href=\"#md451e9eec0\" y=\"354.3975\"/>\n",
       "      </g>\n",
       "     </g>\n",
       "     <g id=\"line2d_2\">\n",
       "      <defs>\n",
       "       <path d=\"M 0 0 \n",
       "L 0 6 \n",
       "\" id=\"mc39ad3f6ca\" style=\"stroke:#000000;\"/>\n",
       "      </defs>\n",
       "      <g>\n",
       "       <use style=\"stroke:#000000;\" x=\"52.03\" xlink:href=\"#mc39ad3f6ca\" y=\"21.7575\"/>\n",
       "      </g>\n",
       "     </g>\n",
       "     <g id=\"text_1\">\n",
       "      <!-- 0.0 -->\n",
       "      <g transform=\"translate(39.3075 370.055)scale(0.16 -0.16)\">\n",
       "       <defs>\n",
       "        <path d=\"M 2034 4250 \n",
       "Q 1547 4250 1301 3770 \n",
       "Q 1056 3291 1056 2328 \n",
       "Q 1056 1369 1301 889 \n",
       "Q 1547 409 2034 409 \n",
       "Q 2525 409 2770 889 \n",
       "Q 3016 1369 3016 2328 \n",
       "Q 3016 3291 2770 3770 \n",
       "Q 2525 4250 2034 4250 \n",
       "z\n",
       "M 2034 4750 \n",
       "Q 2819 4750 3233 4129 \n",
       "Q 3647 3509 3647 2328 \n",
       "Q 3647 1150 3233 529 \n",
       "Q 2819 -91 2034 -91 \n",
       "Q 1250 -91 836 529 \n",
       "Q 422 1150 422 2328 \n",
       "Q 422 3509 836 4129 \n",
       "Q 1250 4750 2034 4750 \n",
       "z\n",
       "\" id=\"DejaVuSans-30\" transform=\"scale(0.015625)\"/>\n",
       "        <path d=\"M 684 794 \n",
       "L 1344 794 \n",
       "L 1344 0 \n",
       "L 684 0 \n",
       "L 684 794 \n",
       "z\n",
       "\" id=\"DejaVuSans-2e\" transform=\"scale(0.015625)\"/>\n",
       "       </defs>\n",
       "       <use xlink:href=\"#DejaVuSans-30\"/>\n",
       "       <use x=\"63.623047\" xlink:href=\"#DejaVuSans-2e\"/>\n",
       "       <use x=\"95.410156\" xlink:href=\"#DejaVuSans-30\"/>\n",
       "      </g>\n",
       "     </g>\n",
       "    </g>\n",
       "    <g id=\"xtick_2\">\n",
       "     <g id=\"line2d_3\">\n",
       "      <g>\n",
       "       <use style=\"stroke:#000000;\" x=\"104.3425\" xlink:href=\"#md451e9eec0\" y=\"354.3975\"/>\n",
       "      </g>\n",
       "     </g>\n",
       "     <g id=\"line2d_4\">\n",
       "      <g>\n",
       "       <use style=\"stroke:#000000;\" x=\"104.3425\" xlink:href=\"#mc39ad3f6ca\" y=\"21.7575\"/>\n",
       "      </g>\n",
       "     </g>\n",
       "     <g id=\"text_2\">\n",
       "      <!-- 0.1 -->\n",
       "      <g transform=\"translate(91.62 370.055)scale(0.16 -0.16)\">\n",
       "       <defs>\n",
       "        <path d=\"M 794 531 \n",
       "L 1825 531 \n",
       "L 1825 4091 \n",
       "L 703 3866 \n",
       "L 703 4441 \n",
       "L 1819 4666 \n",
       "L 2450 4666 \n",
       "L 2450 531 \n",
       "L 3481 531 \n",
       "L 3481 0 \n",
       "L 794 0 \n",
       "L 794 531 \n",
       "z\n",
       "\" id=\"DejaVuSans-31\" transform=\"scale(0.015625)\"/>\n",
       "       </defs>\n",
       "       <use xlink:href=\"#DejaVuSans-30\"/>\n",
       "       <use x=\"63.623047\" xlink:href=\"#DejaVuSans-2e\"/>\n",
       "       <use x=\"95.410156\" xlink:href=\"#DejaVuSans-31\"/>\n",
       "      </g>\n",
       "     </g>\n",
       "    </g>\n",
       "    <g id=\"xtick_3\">\n",
       "     <g id=\"line2d_5\">\n",
       "      <g>\n",
       "       <use style=\"stroke:#000000;\" x=\"156.655\" xlink:href=\"#md451e9eec0\" y=\"354.3975\"/>\n",
       "      </g>\n",
       "     </g>\n",
       "     <g id=\"line2d_6\">\n",
       "      <g>\n",
       "       <use style=\"stroke:#000000;\" x=\"156.655\" xlink:href=\"#mc39ad3f6ca\" y=\"21.7575\"/>\n",
       "      </g>\n",
       "     </g>\n",
       "     <g id=\"text_3\">\n",
       "      <!-- 0.2 -->\n",
       "      <g transform=\"translate(143.9325 370.055)scale(0.16 -0.16)\">\n",
       "       <defs>\n",
       "        <path d=\"M 1228 531 \n",
       "L 3431 531 \n",
       "L 3431 0 \n",
       "L 469 0 \n",
       "L 469 531 \n",
       "Q 828 903 1448 1529 \n",
       "Q 2069 2156 2228 2338 \n",
       "Q 2531 2678 2651 2914 \n",
       "Q 2772 3150 2772 3378 \n",
       "Q 2772 3750 2511 3984 \n",
       "Q 2250 4219 1831 4219 \n",
       "Q 1534 4219 1204 4116 \n",
       "Q 875 4013 500 3803 \n",
       "L 500 4441 \n",
       "Q 881 4594 1212 4672 \n",
       "Q 1544 4750 1819 4750 \n",
       "Q 2544 4750 2975 4387 \n",
       "Q 3406 4025 3406 3419 \n",
       "Q 3406 3131 3298 2873 \n",
       "Q 3191 2616 2906 2266 \n",
       "Q 2828 2175 2409 1742 \n",
       "Q 1991 1309 1228 531 \n",
       "z\n",
       "\" id=\"DejaVuSans-32\" transform=\"scale(0.015625)\"/>\n",
       "       </defs>\n",
       "       <use xlink:href=\"#DejaVuSans-30\"/>\n",
       "       <use x=\"63.623047\" xlink:href=\"#DejaVuSans-2e\"/>\n",
       "       <use x=\"95.410156\" xlink:href=\"#DejaVuSans-32\"/>\n",
       "      </g>\n",
       "     </g>\n",
       "    </g>\n",
       "    <g id=\"xtick_4\">\n",
       "     <g id=\"line2d_7\">\n",
       "      <g>\n",
       "       <use style=\"stroke:#000000;\" x=\"208.9675\" xlink:href=\"#md451e9eec0\" y=\"354.3975\"/>\n",
       "      </g>\n",
       "     </g>\n",
       "     <g id=\"line2d_8\">\n",
       "      <g>\n",
       "       <use style=\"stroke:#000000;\" x=\"208.9675\" xlink:href=\"#mc39ad3f6ca\" y=\"21.7575\"/>\n",
       "      </g>\n",
       "     </g>\n",
       "     <g id=\"text_4\">\n",
       "      <!-- 0.3 -->\n",
       "      <g transform=\"translate(196.245 370.055)scale(0.16 -0.16)\">\n",
       "       <defs>\n",
       "        <path d=\"M 2597 2516 \n",
       "Q 3050 2419 3304 2112 \n",
       "Q 3559 1806 3559 1356 \n",
       "Q 3559 666 3084 287 \n",
       "Q 2609 -91 1734 -91 \n",
       "Q 1441 -91 1130 -33 \n",
       "Q 819 25 488 141 \n",
       "L 488 750 \n",
       "Q 750 597 1062 519 \n",
       "Q 1375 441 1716 441 \n",
       "Q 2309 441 2620 675 \n",
       "Q 2931 909 2931 1356 \n",
       "Q 2931 1769 2642 2001 \n",
       "Q 2353 2234 1838 2234 \n",
       "L 1294 2234 \n",
       "L 1294 2753 \n",
       "L 1863 2753 \n",
       "Q 2328 2753 2575 2939 \n",
       "Q 2822 3125 2822 3475 \n",
       "Q 2822 3834 2567 4026 \n",
       "Q 2313 4219 1838 4219 \n",
       "Q 1578 4219 1281 4162 \n",
       "Q 984 4106 628 3988 \n",
       "L 628 4550 \n",
       "Q 988 4650 1302 4700 \n",
       "Q 1616 4750 1894 4750 \n",
       "Q 2613 4750 3031 4423 \n",
       "Q 3450 4097 3450 3541 \n",
       "Q 3450 3153 3228 2886 \n",
       "Q 3006 2619 2597 2516 \n",
       "z\n",
       "\" id=\"DejaVuSans-33\" transform=\"scale(0.015625)\"/>\n",
       "       </defs>\n",
       "       <use xlink:href=\"#DejaVuSans-30\"/>\n",
       "       <use x=\"63.623047\" xlink:href=\"#DejaVuSans-2e\"/>\n",
       "       <use x=\"95.410156\" xlink:href=\"#DejaVuSans-33\"/>\n",
       "      </g>\n",
       "     </g>\n",
       "    </g>\n",
       "    <g id=\"xtick_5\">\n",
       "     <g id=\"line2d_9\">\n",
       "      <g>\n",
       "       <use style=\"stroke:#000000;\" x=\"261.28\" xlink:href=\"#md451e9eec0\" y=\"354.3975\"/>\n",
       "      </g>\n",
       "     </g>\n",
       "     <g id=\"line2d_10\">\n",
       "      <g>\n",
       "       <use style=\"stroke:#000000;\" x=\"261.28\" xlink:href=\"#mc39ad3f6ca\" y=\"21.7575\"/>\n",
       "      </g>\n",
       "     </g>\n",
       "     <g id=\"text_5\">\n",
       "      <!-- 0.4 -->\n",
       "      <g transform=\"translate(248.5575 370.055)scale(0.16 -0.16)\">\n",
       "       <defs>\n",
       "        <path d=\"M 2419 4116 \n",
       "L 825 1625 \n",
       "L 2419 1625 \n",
       "L 2419 4116 \n",
       "z\n",
       "M 2253 4666 \n",
       "L 3047 4666 \n",
       "L 3047 1625 \n",
       "L 3713 1625 \n",
       "L 3713 1100 \n",
       "L 3047 1100 \n",
       "L 3047 0 \n",
       "L 2419 0 \n",
       "L 2419 1100 \n",
       "L 313 1100 \n",
       "L 313 1709 \n",
       "L 2253 4666 \n",
       "z\n",
       "\" id=\"DejaVuSans-34\" transform=\"scale(0.015625)\"/>\n",
       "       </defs>\n",
       "       <use xlink:href=\"#DejaVuSans-30\"/>\n",
       "       <use x=\"63.623047\" xlink:href=\"#DejaVuSans-2e\"/>\n",
       "       <use x=\"95.410156\" xlink:href=\"#DejaVuSans-34\"/>\n",
       "      </g>\n",
       "     </g>\n",
       "    </g>\n",
       "    <g id=\"xtick_6\">\n",
       "     <g id=\"line2d_11\">\n",
       "      <g>\n",
       "       <use style=\"stroke:#000000;\" x=\"313.5925\" xlink:href=\"#md451e9eec0\" y=\"354.3975\"/>\n",
       "      </g>\n",
       "     </g>\n",
       "     <g id=\"line2d_12\">\n",
       "      <g>\n",
       "       <use style=\"stroke:#000000;\" x=\"313.5925\" xlink:href=\"#mc39ad3f6ca\" y=\"21.7575\"/>\n",
       "      </g>\n",
       "     </g>\n",
       "     <g id=\"text_6\">\n",
       "      <!-- 0.5 -->\n",
       "      <g transform=\"translate(300.87 370.055)scale(0.16 -0.16)\">\n",
       "       <defs>\n",
       "        <path d=\"M 691 4666 \n",
       "L 3169 4666 \n",
       "L 3169 4134 \n",
       "L 1269 4134 \n",
       "L 1269 2991 \n",
       "Q 1406 3038 1543 3061 \n",
       "Q 1681 3084 1819 3084 \n",
       "Q 2600 3084 3056 2656 \n",
       "Q 3513 2228 3513 1497 \n",
       "Q 3513 744 3044 326 \n",
       "Q 2575 -91 1722 -91 \n",
       "Q 1428 -91 1123 -41 \n",
       "Q 819 9 494 109 \n",
       "L 494 744 \n",
       "Q 775 591 1075 516 \n",
       "Q 1375 441 1709 441 \n",
       "Q 2250 441 2565 725 \n",
       "Q 2881 1009 2881 1497 \n",
       "Q 2881 1984 2565 2268 \n",
       "Q 2250 2553 1709 2553 \n",
       "Q 1456 2553 1204 2497 \n",
       "Q 953 2441 691 2322 \n",
       "L 691 4666 \n",
       "z\n",
       "\" id=\"DejaVuSans-35\" transform=\"scale(0.015625)\"/>\n",
       "       </defs>\n",
       "       <use xlink:href=\"#DejaVuSans-30\"/>\n",
       "       <use x=\"63.623047\" xlink:href=\"#DejaVuSans-2e\"/>\n",
       "       <use x=\"95.410156\" xlink:href=\"#DejaVuSans-35\"/>\n",
       "      </g>\n",
       "     </g>\n",
       "    </g>\n",
       "    <g id=\"xtick_7\">\n",
       "     <g id=\"line2d_13\">\n",
       "      <g>\n",
       "       <use style=\"stroke:#000000;\" x=\"365.905\" xlink:href=\"#md451e9eec0\" y=\"354.3975\"/>\n",
       "      </g>\n",
       "     </g>\n",
       "     <g id=\"line2d_14\">\n",
       "      <g>\n",
       "       <use style=\"stroke:#000000;\" x=\"365.905\" xlink:href=\"#mc39ad3f6ca\" y=\"21.7575\"/>\n",
       "      </g>\n",
       "     </g>\n",
       "     <g id=\"text_7\">\n",
       "      <!-- 0.6 -->\n",
       "      <g transform=\"translate(353.1825 370.055)scale(0.16 -0.16)\">\n",
       "       <defs>\n",
       "        <path d=\"M 2113 2584 \n",
       "Q 1688 2584 1439 2293 \n",
       "Q 1191 2003 1191 1497 \n",
       "Q 1191 994 1439 701 \n",
       "Q 1688 409 2113 409 \n",
       "Q 2538 409 2786 701 \n",
       "Q 3034 994 3034 1497 \n",
       "Q 3034 2003 2786 2293 \n",
       "Q 2538 2584 2113 2584 \n",
       "z\n",
       "M 3366 4563 \n",
       "L 3366 3988 \n",
       "Q 3128 4100 2886 4159 \n",
       "Q 2644 4219 2406 4219 \n",
       "Q 1781 4219 1451 3797 \n",
       "Q 1122 3375 1075 2522 \n",
       "Q 1259 2794 1537 2939 \n",
       "Q 1816 3084 2150 3084 \n",
       "Q 2853 3084 3261 2657 \n",
       "Q 3669 2231 3669 1497 \n",
       "Q 3669 778 3244 343 \n",
       "Q 2819 -91 2113 -91 \n",
       "Q 1303 -91 875 529 \n",
       "Q 447 1150 447 2328 \n",
       "Q 447 3434 972 4092 \n",
       "Q 1497 4750 2381 4750 \n",
       "Q 2619 4750 2861 4703 \n",
       "Q 3103 4656 3366 4563 \n",
       "z\n",
       "\" id=\"DejaVuSans-36\" transform=\"scale(0.015625)\"/>\n",
       "       </defs>\n",
       "       <use xlink:href=\"#DejaVuSans-30\"/>\n",
       "       <use x=\"63.623047\" xlink:href=\"#DejaVuSans-2e\"/>\n",
       "       <use x=\"95.410156\" xlink:href=\"#DejaVuSans-36\"/>\n",
       "      </g>\n",
       "     </g>\n",
       "    </g>\n",
       "    <g id=\"xtick_8\">\n",
       "     <g id=\"line2d_15\">\n",
       "      <g>\n",
       "       <use style=\"stroke:#000000;\" x=\"418.2175\" xlink:href=\"#md451e9eec0\" y=\"354.3975\"/>\n",
       "      </g>\n",
       "     </g>\n",
       "     <g id=\"line2d_16\">\n",
       "      <g>\n",
       "       <use style=\"stroke:#000000;\" x=\"418.2175\" xlink:href=\"#mc39ad3f6ca\" y=\"21.7575\"/>\n",
       "      </g>\n",
       "     </g>\n",
       "     <g id=\"text_8\">\n",
       "      <!-- 0.7 -->\n",
       "      <g transform=\"translate(405.495 370.055)scale(0.16 -0.16)\">\n",
       "       <defs>\n",
       "        <path d=\"M 525 4666 \n",
       "L 3525 4666 \n",
       "L 3525 4397 \n",
       "L 1831 0 \n",
       "L 1172 0 \n",
       "L 2766 4134 \n",
       "L 525 4134 \n",
       "L 525 4666 \n",
       "z\n",
       "\" id=\"DejaVuSans-37\" transform=\"scale(0.015625)\"/>\n",
       "       </defs>\n",
       "       <use xlink:href=\"#DejaVuSans-30\"/>\n",
       "       <use x=\"63.623047\" xlink:href=\"#DejaVuSans-2e\"/>\n",
       "       <use x=\"95.410156\" xlink:href=\"#DejaVuSans-37\"/>\n",
       "      </g>\n",
       "     </g>\n",
       "    </g>\n",
       "    <g id=\"xtick_9\">\n",
       "     <g id=\"line2d_17\">\n",
       "      <g>\n",
       "       <use style=\"stroke:#000000;\" x=\"470.53\" xlink:href=\"#md451e9eec0\" y=\"354.3975\"/>\n",
       "      </g>\n",
       "     </g>\n",
       "     <g id=\"line2d_18\">\n",
       "      <g>\n",
       "       <use style=\"stroke:#000000;\" x=\"470.53\" xlink:href=\"#mc39ad3f6ca\" y=\"21.7575\"/>\n",
       "      </g>\n",
       "     </g>\n",
       "     <g id=\"text_9\">\n",
       "      <!-- 0.8 -->\n",
       "      <g transform=\"translate(457.8075 370.055)scale(0.16 -0.16)\">\n",
       "       <defs>\n",
       "        <path d=\"M 2034 2216 \n",
       "Q 1584 2216 1326 1975 \n",
       "Q 1069 1734 1069 1313 \n",
       "Q 1069 891 1326 650 \n",
       "Q 1584 409 2034 409 \n",
       "Q 2484 409 2743 651 \n",
       "Q 3003 894 3003 1313 \n",
       "Q 3003 1734 2745 1975 \n",
       "Q 2488 2216 2034 2216 \n",
       "z\n",
       "M 1403 2484 \n",
       "Q 997 2584 770 2862 \n",
       "Q 544 3141 544 3541 \n",
       "Q 544 4100 942 4425 \n",
       "Q 1341 4750 2034 4750 \n",
       "Q 2731 4750 3128 4425 \n",
       "Q 3525 4100 3525 3541 \n",
       "Q 3525 3141 3298 2862 \n",
       "Q 3072 2584 2669 2484 \n",
       "Q 3125 2378 3379 2068 \n",
       "Q 3634 1759 3634 1313 \n",
       "Q 3634 634 3220 271 \n",
       "Q 2806 -91 2034 -91 \n",
       "Q 1263 -91 848 271 \n",
       "Q 434 634 434 1313 \n",
       "Q 434 1759 690 2068 \n",
       "Q 947 2378 1403 2484 \n",
       "z\n",
       "M 1172 3481 \n",
       "Q 1172 3119 1398 2916 \n",
       "Q 1625 2713 2034 2713 \n",
       "Q 2441 2713 2670 2916 \n",
       "Q 2900 3119 2900 3481 \n",
       "Q 2900 3844 2670 4047 \n",
       "Q 2441 4250 2034 4250 \n",
       "Q 1625 4250 1398 4047 \n",
       "Q 1172 3844 1172 3481 \n",
       "z\n",
       "\" id=\"DejaVuSans-38\" transform=\"scale(0.015625)\"/>\n",
       "       </defs>\n",
       "       <use xlink:href=\"#DejaVuSans-30\"/>\n",
       "       <use x=\"63.623047\" xlink:href=\"#DejaVuSans-2e\"/>\n",
       "       <use x=\"95.410156\" xlink:href=\"#DejaVuSans-38\"/>\n",
       "      </g>\n",
       "     </g>\n",
       "    </g>\n",
       "    <g id=\"xtick_10\">\n",
       "     <g id=\"line2d_19\">\n",
       "      <defs>\n",
       "       <path d=\"M 0 0 \n",
       "L 0 -3 \n",
       "\" id=\"mea30f850dd\" style=\"stroke:#000000;\"/>\n",
       "      </defs>\n",
       "      <g>\n",
       "       <use style=\"stroke:#000000;\" x=\"62.4925\" xlink:href=\"#mea30f850dd\" y=\"354.3975\"/>\n",
       "      </g>\n",
       "     </g>\n",
       "     <g id=\"line2d_20\">\n",
       "      <defs>\n",
       "       <path d=\"M 0 0 \n",
       "L 0 3 \n",
       "\" id=\"mee9979c301\" style=\"stroke:#000000;\"/>\n",
       "      </defs>\n",
       "      <g>\n",
       "       <use style=\"stroke:#000000;\" x=\"62.4925\" xlink:href=\"#mee9979c301\" y=\"21.7575\"/>\n",
       "      </g>\n",
       "     </g>\n",
       "    </g>\n",
       "    <g id=\"xtick_11\">\n",
       "     <g id=\"line2d_21\">\n",
       "      <g>\n",
       "       <use style=\"stroke:#000000;\" x=\"72.955\" xlink:href=\"#mea30f850dd\" y=\"354.3975\"/>\n",
       "      </g>\n",
       "     </g>\n",
       "     <g id=\"line2d_22\">\n",
       "      <g>\n",
       "       <use style=\"stroke:#000000;\" x=\"72.955\" xlink:href=\"#mee9979c301\" y=\"21.7575\"/>\n",
       "      </g>\n",
       "     </g>\n",
       "    </g>\n",
       "    <g id=\"xtick_12\">\n",
       "     <g id=\"line2d_23\">\n",
       "      <g>\n",
       "       <use style=\"stroke:#000000;\" x=\"83.4175\" xlink:href=\"#mea30f850dd\" y=\"354.3975\"/>\n",
       "      </g>\n",
       "     </g>\n",
       "     <g id=\"line2d_24\">\n",
       "      <g>\n",
       "       <use style=\"stroke:#000000;\" x=\"83.4175\" xlink:href=\"#mee9979c301\" y=\"21.7575\"/>\n",
       "      </g>\n",
       "     </g>\n",
       "    </g>\n",
       "    <g id=\"xtick_13\">\n",
       "     <g id=\"line2d_25\">\n",
       "      <g>\n",
       "       <use style=\"stroke:#000000;\" x=\"93.88\" xlink:href=\"#mea30f850dd\" y=\"354.3975\"/>\n",
       "      </g>\n",
       "     </g>\n",
       "     <g id=\"line2d_26\">\n",
       "      <g>\n",
       "       <use style=\"stroke:#000000;\" x=\"93.88\" xlink:href=\"#mee9979c301\" y=\"21.7575\"/>\n",
       "      </g>\n",
       "     </g>\n",
       "    </g>\n",
       "    <g id=\"xtick_14\">\n",
       "     <g id=\"line2d_27\">\n",
       "      <g>\n",
       "       <use style=\"stroke:#000000;\" x=\"114.805\" xlink:href=\"#mea30f850dd\" y=\"354.3975\"/>\n",
       "      </g>\n",
       "     </g>\n",
       "     <g id=\"line2d_28\">\n",
       "      <g>\n",
       "       <use style=\"stroke:#000000;\" x=\"114.805\" xlink:href=\"#mee9979c301\" y=\"21.7575\"/>\n",
       "      </g>\n",
       "     </g>\n",
       "    </g>\n",
       "    <g id=\"xtick_15\">\n",
       "     <g id=\"line2d_29\">\n",
       "      <g>\n",
       "       <use style=\"stroke:#000000;\" x=\"125.2675\" xlink:href=\"#mea30f850dd\" y=\"354.3975\"/>\n",
       "      </g>\n",
       "     </g>\n",
       "     <g id=\"line2d_30\">\n",
       "      <g>\n",
       "       <use style=\"stroke:#000000;\" x=\"125.2675\" xlink:href=\"#mee9979c301\" y=\"21.7575\"/>\n",
       "      </g>\n",
       "     </g>\n",
       "    </g>\n",
       "    <g id=\"xtick_16\">\n",
       "     <g id=\"line2d_31\">\n",
       "      <g>\n",
       "       <use style=\"stroke:#000000;\" x=\"135.73\" xlink:href=\"#mea30f850dd\" y=\"354.3975\"/>\n",
       "      </g>\n",
       "     </g>\n",
       "     <g id=\"line2d_32\">\n",
       "      <g>\n",
       "       <use style=\"stroke:#000000;\" x=\"135.73\" xlink:href=\"#mee9979c301\" y=\"21.7575\"/>\n",
       "      </g>\n",
       "     </g>\n",
       "    </g>\n",
       "    <g id=\"xtick_17\">\n",
       "     <g id=\"line2d_33\">\n",
       "      <g>\n",
       "       <use style=\"stroke:#000000;\" x=\"146.1925\" xlink:href=\"#mea30f850dd\" y=\"354.3975\"/>\n",
       "      </g>\n",
       "     </g>\n",
       "     <g id=\"line2d_34\">\n",
       "      <g>\n",
       "       <use style=\"stroke:#000000;\" x=\"146.1925\" xlink:href=\"#mee9979c301\" y=\"21.7575\"/>\n",
       "      </g>\n",
       "     </g>\n",
       "    </g>\n",
       "    <g id=\"xtick_18\">\n",
       "     <g id=\"line2d_35\">\n",
       "      <g>\n",
       "       <use style=\"stroke:#000000;\" x=\"167.1175\" xlink:href=\"#mea30f850dd\" y=\"354.3975\"/>\n",
       "      </g>\n",
       "     </g>\n",
       "     <g id=\"line2d_36\">\n",
       "      <g>\n",
       "       <use style=\"stroke:#000000;\" x=\"167.1175\" xlink:href=\"#mee9979c301\" y=\"21.7575\"/>\n",
       "      </g>\n",
       "     </g>\n",
       "    </g>\n",
       "    <g id=\"xtick_19\">\n",
       "     <g id=\"line2d_37\">\n",
       "      <g>\n",
       "       <use style=\"stroke:#000000;\" x=\"177.58\" xlink:href=\"#mea30f850dd\" y=\"354.3975\"/>\n",
       "      </g>\n",
       "     </g>\n",
       "     <g id=\"line2d_38\">\n",
       "      <g>\n",
       "       <use style=\"stroke:#000000;\" x=\"177.58\" xlink:href=\"#mee9979c301\" y=\"21.7575\"/>\n",
       "      </g>\n",
       "     </g>\n",
       "    </g>\n",
       "    <g id=\"xtick_20\">\n",
       "     <g id=\"line2d_39\">\n",
       "      <g>\n",
       "       <use style=\"stroke:#000000;\" x=\"188.0425\" xlink:href=\"#mea30f850dd\" y=\"354.3975\"/>\n",
       "      </g>\n",
       "     </g>\n",
       "     <g id=\"line2d_40\">\n",
       "      <g>\n",
       "       <use style=\"stroke:#000000;\" x=\"188.0425\" xlink:href=\"#mee9979c301\" y=\"21.7575\"/>\n",
       "      </g>\n",
       "     </g>\n",
       "    </g>\n",
       "    <g id=\"xtick_21\">\n",
       "     <g id=\"line2d_41\">\n",
       "      <g>\n",
       "       <use style=\"stroke:#000000;\" x=\"198.505\" xlink:href=\"#mea30f850dd\" y=\"354.3975\"/>\n",
       "      </g>\n",
       "     </g>\n",
       "     <g id=\"line2d_42\">\n",
       "      <g>\n",
       "       <use style=\"stroke:#000000;\" x=\"198.505\" xlink:href=\"#mee9979c301\" y=\"21.7575\"/>\n",
       "      </g>\n",
       "     </g>\n",
       "    </g>\n",
       "    <g id=\"xtick_22\">\n",
       "     <g id=\"line2d_43\">\n",
       "      <g>\n",
       "       <use style=\"stroke:#000000;\" x=\"219.43\" xlink:href=\"#mea30f850dd\" y=\"354.3975\"/>\n",
       "      </g>\n",
       "     </g>\n",
       "     <g id=\"line2d_44\">\n",
       "      <g>\n",
       "       <use style=\"stroke:#000000;\" x=\"219.43\" xlink:href=\"#mee9979c301\" y=\"21.7575\"/>\n",
       "      </g>\n",
       "     </g>\n",
       "    </g>\n",
       "    <g id=\"xtick_23\">\n",
       "     <g id=\"line2d_45\">\n",
       "      <g>\n",
       "       <use style=\"stroke:#000000;\" x=\"229.8925\" xlink:href=\"#mea30f850dd\" y=\"354.3975\"/>\n",
       "      </g>\n",
       "     </g>\n",
       "     <g id=\"line2d_46\">\n",
       "      <g>\n",
       "       <use style=\"stroke:#000000;\" x=\"229.8925\" xlink:href=\"#mee9979c301\" y=\"21.7575\"/>\n",
       "      </g>\n",
       "     </g>\n",
       "    </g>\n",
       "    <g id=\"xtick_24\">\n",
       "     <g id=\"line2d_47\">\n",
       "      <g>\n",
       "       <use style=\"stroke:#000000;\" x=\"240.355\" xlink:href=\"#mea30f850dd\" y=\"354.3975\"/>\n",
       "      </g>\n",
       "     </g>\n",
       "     <g id=\"line2d_48\">\n",
       "      <g>\n",
       "       <use style=\"stroke:#000000;\" x=\"240.355\" xlink:href=\"#mee9979c301\" y=\"21.7575\"/>\n",
       "      </g>\n",
       "     </g>\n",
       "    </g>\n",
       "    <g id=\"xtick_25\">\n",
       "     <g id=\"line2d_49\">\n",
       "      <g>\n",
       "       <use style=\"stroke:#000000;\" x=\"250.8175\" xlink:href=\"#mea30f850dd\" y=\"354.3975\"/>\n",
       "      </g>\n",
       "     </g>\n",
       "     <g id=\"line2d_50\">\n",
       "      <g>\n",
       "       <use style=\"stroke:#000000;\" x=\"250.8175\" xlink:href=\"#mee9979c301\" y=\"21.7575\"/>\n",
       "      </g>\n",
       "     </g>\n",
       "    </g>\n",
       "    <g id=\"xtick_26\">\n",
       "     <g id=\"line2d_51\">\n",
       "      <g>\n",
       "       <use style=\"stroke:#000000;\" x=\"271.7425\" xlink:href=\"#mea30f850dd\" y=\"354.3975\"/>\n",
       "      </g>\n",
       "     </g>\n",
       "     <g id=\"line2d_52\">\n",
       "      <g>\n",
       "       <use style=\"stroke:#000000;\" x=\"271.7425\" xlink:href=\"#mee9979c301\" y=\"21.7575\"/>\n",
       "      </g>\n",
       "     </g>\n",
       "    </g>\n",
       "    <g id=\"xtick_27\">\n",
       "     <g id=\"line2d_53\">\n",
       "      <g>\n",
       "       <use style=\"stroke:#000000;\" x=\"282.205\" xlink:href=\"#mea30f850dd\" y=\"354.3975\"/>\n",
       "      </g>\n",
       "     </g>\n",
       "     <g id=\"line2d_54\">\n",
       "      <g>\n",
       "       <use style=\"stroke:#000000;\" x=\"282.205\" xlink:href=\"#mee9979c301\" y=\"21.7575\"/>\n",
       "      </g>\n",
       "     </g>\n",
       "    </g>\n",
       "    <g id=\"xtick_28\">\n",
       "     <g id=\"line2d_55\">\n",
       "      <g>\n",
       "       <use style=\"stroke:#000000;\" x=\"292.6675\" xlink:href=\"#mea30f850dd\" y=\"354.3975\"/>\n",
       "      </g>\n",
       "     </g>\n",
       "     <g id=\"line2d_56\">\n",
       "      <g>\n",
       "       <use style=\"stroke:#000000;\" x=\"292.6675\" xlink:href=\"#mee9979c301\" y=\"21.7575\"/>\n",
       "      </g>\n",
       "     </g>\n",
       "    </g>\n",
       "    <g id=\"xtick_29\">\n",
       "     <g id=\"line2d_57\">\n",
       "      <g>\n",
       "       <use style=\"stroke:#000000;\" x=\"303.13\" xlink:href=\"#mea30f850dd\" y=\"354.3975\"/>\n",
       "      </g>\n",
       "     </g>\n",
       "     <g id=\"line2d_58\">\n",
       "      <g>\n",
       "       <use style=\"stroke:#000000;\" x=\"303.13\" xlink:href=\"#mee9979c301\" y=\"21.7575\"/>\n",
       "      </g>\n",
       "     </g>\n",
       "    </g>\n",
       "    <g id=\"xtick_30\">\n",
       "     <g id=\"line2d_59\">\n",
       "      <g>\n",
       "       <use style=\"stroke:#000000;\" x=\"324.055\" xlink:href=\"#mea30f850dd\" y=\"354.3975\"/>\n",
       "      </g>\n",
       "     </g>\n",
       "     <g id=\"line2d_60\">\n",
       "      <g>\n",
       "       <use style=\"stroke:#000000;\" x=\"324.055\" xlink:href=\"#mee9979c301\" y=\"21.7575\"/>\n",
       "      </g>\n",
       "     </g>\n",
       "    </g>\n",
       "    <g id=\"xtick_31\">\n",
       "     <g id=\"line2d_61\">\n",
       "      <g>\n",
       "       <use style=\"stroke:#000000;\" x=\"334.5175\" xlink:href=\"#mea30f850dd\" y=\"354.3975\"/>\n",
       "      </g>\n",
       "     </g>\n",
       "     <g id=\"line2d_62\">\n",
       "      <g>\n",
       "       <use style=\"stroke:#000000;\" x=\"334.5175\" xlink:href=\"#mee9979c301\" y=\"21.7575\"/>\n",
       "      </g>\n",
       "     </g>\n",
       "    </g>\n",
       "    <g id=\"xtick_32\">\n",
       "     <g id=\"line2d_63\">\n",
       "      <g>\n",
       "       <use style=\"stroke:#000000;\" x=\"344.98\" xlink:href=\"#mea30f850dd\" y=\"354.3975\"/>\n",
       "      </g>\n",
       "     </g>\n",
       "     <g id=\"line2d_64\">\n",
       "      <g>\n",
       "       <use style=\"stroke:#000000;\" x=\"344.98\" xlink:href=\"#mee9979c301\" y=\"21.7575\"/>\n",
       "      </g>\n",
       "     </g>\n",
       "    </g>\n",
       "    <g id=\"xtick_33\">\n",
       "     <g id=\"line2d_65\">\n",
       "      <g>\n",
       "       <use style=\"stroke:#000000;\" x=\"355.4425\" xlink:href=\"#mea30f850dd\" y=\"354.3975\"/>\n",
       "      </g>\n",
       "     </g>\n",
       "     <g id=\"line2d_66\">\n",
       "      <g>\n",
       "       <use style=\"stroke:#000000;\" x=\"355.4425\" xlink:href=\"#mee9979c301\" y=\"21.7575\"/>\n",
       "      </g>\n",
       "     </g>\n",
       "    </g>\n",
       "    <g id=\"xtick_34\">\n",
       "     <g id=\"line2d_67\">\n",
       "      <g>\n",
       "       <use style=\"stroke:#000000;\" x=\"376.3675\" xlink:href=\"#mea30f850dd\" y=\"354.3975\"/>\n",
       "      </g>\n",
       "     </g>\n",
       "     <g id=\"line2d_68\">\n",
       "      <g>\n",
       "       <use style=\"stroke:#000000;\" x=\"376.3675\" xlink:href=\"#mee9979c301\" y=\"21.7575\"/>\n",
       "      </g>\n",
       "     </g>\n",
       "    </g>\n",
       "    <g id=\"xtick_35\">\n",
       "     <g id=\"line2d_69\">\n",
       "      <g>\n",
       "       <use style=\"stroke:#000000;\" x=\"386.83\" xlink:href=\"#mea30f850dd\" y=\"354.3975\"/>\n",
       "      </g>\n",
       "     </g>\n",
       "     <g id=\"line2d_70\">\n",
       "      <g>\n",
       "       <use style=\"stroke:#000000;\" x=\"386.83\" xlink:href=\"#mee9979c301\" y=\"21.7575\"/>\n",
       "      </g>\n",
       "     </g>\n",
       "    </g>\n",
       "    <g id=\"xtick_36\">\n",
       "     <g id=\"line2d_71\">\n",
       "      <g>\n",
       "       <use style=\"stroke:#000000;\" x=\"397.2925\" xlink:href=\"#mea30f850dd\" y=\"354.3975\"/>\n",
       "      </g>\n",
       "     </g>\n",
       "     <g id=\"line2d_72\">\n",
       "      <g>\n",
       "       <use style=\"stroke:#000000;\" x=\"397.2925\" xlink:href=\"#mee9979c301\" y=\"21.7575\"/>\n",
       "      </g>\n",
       "     </g>\n",
       "    </g>\n",
       "    <g id=\"xtick_37\">\n",
       "     <g id=\"line2d_73\">\n",
       "      <g>\n",
       "       <use style=\"stroke:#000000;\" x=\"407.755\" xlink:href=\"#mea30f850dd\" y=\"354.3975\"/>\n",
       "      </g>\n",
       "     </g>\n",
       "     <g id=\"line2d_74\">\n",
       "      <g>\n",
       "       <use style=\"stroke:#000000;\" x=\"407.755\" xlink:href=\"#mee9979c301\" y=\"21.7575\"/>\n",
       "      </g>\n",
       "     </g>\n",
       "    </g>\n",
       "    <g id=\"xtick_38\">\n",
       "     <g id=\"line2d_75\">\n",
       "      <g>\n",
       "       <use style=\"stroke:#000000;\" x=\"428.68\" xlink:href=\"#mea30f850dd\" y=\"354.3975\"/>\n",
       "      </g>\n",
       "     </g>\n",
       "     <g id=\"line2d_76\">\n",
       "      <g>\n",
       "       <use style=\"stroke:#000000;\" x=\"428.68\" xlink:href=\"#mee9979c301\" y=\"21.7575\"/>\n",
       "      </g>\n",
       "     </g>\n",
       "    </g>\n",
       "    <g id=\"xtick_39\">\n",
       "     <g id=\"line2d_77\">\n",
       "      <g>\n",
       "       <use style=\"stroke:#000000;\" x=\"439.1425\" xlink:href=\"#mea30f850dd\" y=\"354.3975\"/>\n",
       "      </g>\n",
       "     </g>\n",
       "     <g id=\"line2d_78\">\n",
       "      <g>\n",
       "       <use style=\"stroke:#000000;\" x=\"439.1425\" xlink:href=\"#mee9979c301\" y=\"21.7575\"/>\n",
       "      </g>\n",
       "     </g>\n",
       "    </g>\n",
       "    <g id=\"xtick_40\">\n",
       "     <g id=\"line2d_79\">\n",
       "      <g>\n",
       "       <use style=\"stroke:#000000;\" x=\"449.605\" xlink:href=\"#mea30f850dd\" y=\"354.3975\"/>\n",
       "      </g>\n",
       "     </g>\n",
       "     <g id=\"line2d_80\">\n",
       "      <g>\n",
       "       <use style=\"stroke:#000000;\" x=\"449.605\" xlink:href=\"#mee9979c301\" y=\"21.7575\"/>\n",
       "      </g>\n",
       "     </g>\n",
       "    </g>\n",
       "    <g id=\"xtick_41\">\n",
       "     <g id=\"line2d_81\">\n",
       "      <g>\n",
       "       <use style=\"stroke:#000000;\" x=\"460.0675\" xlink:href=\"#mea30f850dd\" y=\"354.3975\"/>\n",
       "      </g>\n",
       "     </g>\n",
       "     <g id=\"line2d_82\">\n",
       "      <g>\n",
       "       <use style=\"stroke:#000000;\" x=\"460.0675\" xlink:href=\"#mee9979c301\" y=\"21.7575\"/>\n",
       "      </g>\n",
       "     </g>\n",
       "    </g>\n",
       "    <g id=\"text_10\">\n",
       "     <!-- Time (s) -->\n",
       "     <g transform=\"translate(228.75375 389.54)scale(0.16 -0.16)\">\n",
       "      <defs>\n",
       "       <path d=\"M -19 4666 \n",
       "L 3928 4666 \n",
       "L 3928 4134 \n",
       "L 2272 4134 \n",
       "L 2272 0 \n",
       "L 1638 0 \n",
       "L 1638 4134 \n",
       "L -19 4134 \n",
       "L -19 4666 \n",
       "z\n",
       "\" id=\"DejaVuSans-54\" transform=\"scale(0.015625)\"/>\n",
       "       <path d=\"M 603 3500 \n",
       "L 1178 3500 \n",
       "L 1178 0 \n",
       "L 603 0 \n",
       "L 603 3500 \n",
       "z\n",
       "M 603 4863 \n",
       "L 1178 4863 \n",
       "L 1178 4134 \n",
       "L 603 4134 \n",
       "L 603 4863 \n",
       "z\n",
       "\" id=\"DejaVuSans-69\" transform=\"scale(0.015625)\"/>\n",
       "       <path d=\"M 3328 2828 \n",
       "Q 3544 3216 3844 3400 \n",
       "Q 4144 3584 4550 3584 \n",
       "Q 5097 3584 5394 3201 \n",
       "Q 5691 2819 5691 2113 \n",
       "L 5691 0 \n",
       "L 5113 0 \n",
       "L 5113 2094 \n",
       "Q 5113 2597 4934 2840 \n",
       "Q 4756 3084 4391 3084 \n",
       "Q 3944 3084 3684 2787 \n",
       "Q 3425 2491 3425 1978 \n",
       "L 3425 0 \n",
       "L 2847 0 \n",
       "L 2847 2094 \n",
       "Q 2847 2600 2669 2842 \n",
       "Q 2491 3084 2119 3084 \n",
       "Q 1678 3084 1418 2786 \n",
       "Q 1159 2488 1159 1978 \n",
       "L 1159 0 \n",
       "L 581 0 \n",
       "L 581 3500 \n",
       "L 1159 3500 \n",
       "L 1159 2956 \n",
       "Q 1356 3278 1631 3431 \n",
       "Q 1906 3584 2284 3584 \n",
       "Q 2666 3584 2933 3390 \n",
       "Q 3200 3197 3328 2828 \n",
       "z\n",
       "\" id=\"DejaVuSans-6d\" transform=\"scale(0.015625)\"/>\n",
       "       <path d=\"M 3597 1894 \n",
       "L 3597 1613 \n",
       "L 953 1613 \n",
       "Q 991 1019 1311 708 \n",
       "Q 1631 397 2203 397 \n",
       "Q 2534 397 2845 478 \n",
       "Q 3156 559 3463 722 \n",
       "L 3463 178 \n",
       "Q 3153 47 2828 -22 \n",
       "Q 2503 -91 2169 -91 \n",
       "Q 1331 -91 842 396 \n",
       "Q 353 884 353 1716 \n",
       "Q 353 2575 817 3079 \n",
       "Q 1281 3584 2069 3584 \n",
       "Q 2775 3584 3186 3129 \n",
       "Q 3597 2675 3597 1894 \n",
       "z\n",
       "M 3022 2063 \n",
       "Q 3016 2534 2758 2815 \n",
       "Q 2500 3097 2075 3097 \n",
       "Q 1594 3097 1305 2825 \n",
       "Q 1016 2553 972 2059 \n",
       "L 3022 2063 \n",
       "z\n",
       "\" id=\"DejaVuSans-65\" transform=\"scale(0.015625)\"/>\n",
       "       <path id=\"DejaVuSans-20\" transform=\"scale(0.015625)\"/>\n",
       "       <path d=\"M 1984 4856 \n",
       "Q 1566 4138 1362 3434 \n",
       "Q 1159 2731 1159 2009 \n",
       "Q 1159 1288 1364 580 \n",
       "Q 1569 -128 1984 -844 \n",
       "L 1484 -844 \n",
       "Q 1016 -109 783 600 \n",
       "Q 550 1309 550 2009 \n",
       "Q 550 2706 781 3412 \n",
       "Q 1013 4119 1484 4856 \n",
       "L 1984 4856 \n",
       "z\n",
       "\" id=\"DejaVuSans-28\" transform=\"scale(0.015625)\"/>\n",
       "       <path d=\"M 2834 3397 \n",
       "L 2834 2853 \n",
       "Q 2591 2978 2328 3040 \n",
       "Q 2066 3103 1784 3103 \n",
       "Q 1356 3103 1142 2972 \n",
       "Q 928 2841 928 2578 \n",
       "Q 928 2378 1081 2264 \n",
       "Q 1234 2150 1697 2047 \n",
       "L 1894 2003 \n",
       "Q 2506 1872 2764 1633 \n",
       "Q 3022 1394 3022 966 \n",
       "Q 3022 478 2636 193 \n",
       "Q 2250 -91 1575 -91 \n",
       "Q 1294 -91 989 -36 \n",
       "Q 684 19 347 128 \n",
       "L 347 722 \n",
       "Q 666 556 975 473 \n",
       "Q 1284 391 1588 391 \n",
       "Q 1994 391 2212 530 \n",
       "Q 2431 669 2431 922 \n",
       "Q 2431 1156 2273 1281 \n",
       "Q 2116 1406 1581 1522 \n",
       "L 1381 1569 \n",
       "Q 847 1681 609 1914 \n",
       "Q 372 2147 372 2553 \n",
       "Q 372 3047 722 3315 \n",
       "Q 1072 3584 1716 3584 \n",
       "Q 2034 3584 2315 3537 \n",
       "Q 2597 3491 2834 3397 \n",
       "z\n",
       "\" id=\"DejaVuSans-73\" transform=\"scale(0.015625)\"/>\n",
       "       <path d=\"M 513 4856 \n",
       "L 1013 4856 \n",
       "Q 1481 4119 1714 3412 \n",
       "Q 1947 2706 1947 2009 \n",
       "Q 1947 1309 1714 600 \n",
       "Q 1481 -109 1013 -844 \n",
       "L 513 -844 \n",
       "Q 928 -128 1133 580 \n",
       "Q 1338 1288 1338 2009 \n",
       "Q 1338 2731 1133 3434 \n",
       "Q 928 4138 513 4856 \n",
       "z\n",
       "\" id=\"DejaVuSans-29\" transform=\"scale(0.015625)\"/>\n",
       "      </defs>\n",
       "      <use xlink:href=\"#DejaVuSans-54\"/>\n",
       "      <use x=\"57.958984\" xlink:href=\"#DejaVuSans-69\"/>\n",
       "      <use x=\"85.742188\" xlink:href=\"#DejaVuSans-6d\"/>\n",
       "      <use x=\"183.154297\" xlink:href=\"#DejaVuSans-65\"/>\n",
       "      <use x=\"244.677734\" xlink:href=\"#DejaVuSans-20\"/>\n",
       "      <use x=\"276.464844\" xlink:href=\"#DejaVuSans-28\"/>\n",
       "      <use x=\"315.478516\" xlink:href=\"#DejaVuSans-73\"/>\n",
       "      <use x=\"367.578125\" xlink:href=\"#DejaVuSans-29\"/>\n",
       "     </g>\n",
       "    </g>\n",
       "   </g>\n",
       "   <g id=\"matplotlib.axis_2\">\n",
       "    <g id=\"ytick_1\">\n",
       "     <g id=\"line2d_83\">\n",
       "      <defs>\n",
       "       <path d=\"M 0 0 \n",
       "L 6 0 \n",
       "\" id=\"m2608fc3cee\" style=\"stroke:#000000;\"/>\n",
       "      </defs>\n",
       "      <g>\n",
       "       <use style=\"stroke:#000000;\" x=\"52.03\" xlink:href=\"#m2608fc3cee\" y=\"326.6775\"/>\n",
       "      </g>\n",
       "     </g>\n",
       "     <g id=\"line2d_84\">\n",
       "      <defs>\n",
       "       <path d=\"M 0 0 \n",
       "L -6 0 \n",
       "\" id=\"m57b9348a92\" style=\"stroke:#000000;\"/>\n",
       "      </defs>\n",
       "      <g>\n",
       "       <use style=\"stroke:#000000;\" x=\"470.53\" xlink:href=\"#m57b9348a92\" y=\"326.6775\"/>\n",
       "      </g>\n",
       "     </g>\n",
       "     <g id=\"text_11\">\n",
       "      <!-- 0.0 -->\n",
       "      <g transform=\"translate(23.085 332.75625)scale(0.16 -0.16)\">\n",
       "       <use xlink:href=\"#DejaVuSans-30\"/>\n",
       "       <use x=\"63.623047\" xlink:href=\"#DejaVuSans-2e\"/>\n",
       "       <use x=\"95.410156\" xlink:href=\"#DejaVuSans-30\"/>\n",
       "      </g>\n",
       "     </g>\n",
       "    </g>\n",
       "    <g id=\"ytick_2\">\n",
       "     <g id=\"line2d_85\">\n",
       "      <g>\n",
       "       <use style=\"stroke:#000000;\" x=\"52.03\" xlink:href=\"#m2608fc3cee\" y=\"263.42627\"/>\n",
       "      </g>\n",
       "     </g>\n",
       "     <g id=\"line2d_86\">\n",
       "      <g>\n",
       "       <use style=\"stroke:#000000;\" x=\"470.53\" xlink:href=\"#m57b9348a92\" y=\"263.42627\"/>\n",
       "      </g>\n",
       "     </g>\n",
       "     <g id=\"text_12\">\n",
       "      <!-- 0.5 -->\n",
       "      <g transform=\"translate(23.085 269.50502)scale(0.16 -0.16)\">\n",
       "       <use xlink:href=\"#DejaVuSans-30\"/>\n",
       "       <use x=\"63.623047\" xlink:href=\"#DejaVuSans-2e\"/>\n",
       "       <use x=\"95.410156\" xlink:href=\"#DejaVuSans-35\"/>\n",
       "      </g>\n",
       "     </g>\n",
       "    </g>\n",
       "    <g id=\"ytick_3\">\n",
       "     <g id=\"line2d_87\">\n",
       "      <g>\n",
       "       <use style=\"stroke:#000000;\" x=\"52.03\" xlink:href=\"#m2608fc3cee\" y=\"200.17504\"/>\n",
       "      </g>\n",
       "     </g>\n",
       "     <g id=\"line2d_88\">\n",
       "      <g>\n",
       "       <use style=\"stroke:#000000;\" x=\"470.53\" xlink:href=\"#m57b9348a92\" y=\"200.17504\"/>\n",
       "      </g>\n",
       "     </g>\n",
       "     <g id=\"text_13\">\n",
       "      <!-- 1.0 -->\n",
       "      <g transform=\"translate(23.085 206.25379)scale(0.16 -0.16)\">\n",
       "       <use xlink:href=\"#DejaVuSans-31\"/>\n",
       "       <use x=\"63.623047\" xlink:href=\"#DejaVuSans-2e\"/>\n",
       "       <use x=\"95.410156\" xlink:href=\"#DejaVuSans-30\"/>\n",
       "      </g>\n",
       "     </g>\n",
       "    </g>\n",
       "    <g id=\"ytick_4\">\n",
       "     <g id=\"line2d_89\">\n",
       "      <g>\n",
       "       <use style=\"stroke:#000000;\" x=\"52.03\" xlink:href=\"#m2608fc3cee\" y=\"136.92381\"/>\n",
       "      </g>\n",
       "     </g>\n",
       "     <g id=\"line2d_90\">\n",
       "      <g>\n",
       "       <use style=\"stroke:#000000;\" x=\"470.53\" xlink:href=\"#m57b9348a92\" y=\"136.92381\"/>\n",
       "      </g>\n",
       "     </g>\n",
       "     <g id=\"text_14\">\n",
       "      <!-- 1.5 -->\n",
       "      <g transform=\"translate(23.085 143.00256)scale(0.16 -0.16)\">\n",
       "       <use xlink:href=\"#DejaVuSans-31\"/>\n",
       "       <use x=\"63.623047\" xlink:href=\"#DejaVuSans-2e\"/>\n",
       "       <use x=\"95.410156\" xlink:href=\"#DejaVuSans-35\"/>\n",
       "      </g>\n",
       "     </g>\n",
       "    </g>\n",
       "    <g id=\"ytick_5\">\n",
       "     <g id=\"line2d_91\">\n",
       "      <g>\n",
       "       <use style=\"stroke:#000000;\" x=\"52.03\" xlink:href=\"#m2608fc3cee\" y=\"73.67258\"/>\n",
       "      </g>\n",
       "     </g>\n",
       "     <g id=\"line2d_92\">\n",
       "      <g>\n",
       "       <use style=\"stroke:#000000;\" x=\"470.53\" xlink:href=\"#m57b9348a92\" y=\"73.67258\"/>\n",
       "      </g>\n",
       "     </g>\n",
       "     <g id=\"text_15\">\n",
       "      <!-- 2.0 -->\n",
       "      <g transform=\"translate(23.085 79.75133)scale(0.16 -0.16)\">\n",
       "       <use xlink:href=\"#DejaVuSans-32\"/>\n",
       "       <use x=\"63.623047\" xlink:href=\"#DejaVuSans-2e\"/>\n",
       "       <use x=\"95.410156\" xlink:href=\"#DejaVuSans-30\"/>\n",
       "      </g>\n",
       "     </g>\n",
       "    </g>\n",
       "    <g id=\"ytick_6\">\n",
       "     <g id=\"line2d_93\">\n",
       "      <defs>\n",
       "       <path d=\"M 0 0 \n",
       "L 3 0 \n",
       "\" id=\"m5380c30503\" style=\"stroke:#000000;\"/>\n",
       "      </defs>\n",
       "      <g>\n",
       "       <use style=\"stroke:#000000;\" x=\"52.03\" xlink:href=\"#m5380c30503\" y=\"351.977992\"/>\n",
       "      </g>\n",
       "     </g>\n",
       "     <g id=\"line2d_94\">\n",
       "      <defs>\n",
       "       <path d=\"M 0 0 \n",
       "L -3 0 \n",
       "\" id=\"md26f477b50\" style=\"stroke:#000000;\"/>\n",
       "      </defs>\n",
       "      <g>\n",
       "       <use style=\"stroke:#000000;\" x=\"470.53\" xlink:href=\"#md26f477b50\" y=\"351.977992\"/>\n",
       "      </g>\n",
       "     </g>\n",
       "    </g>\n",
       "    <g id=\"ytick_7\">\n",
       "     <g id=\"line2d_95\">\n",
       "      <g>\n",
       "       <use style=\"stroke:#000000;\" x=\"52.03\" xlink:href=\"#m5380c30503\" y=\"339.327746\"/>\n",
       "      </g>\n",
       "     </g>\n",
       "     <g id=\"line2d_96\">\n",
       "      <g>\n",
       "       <use style=\"stroke:#000000;\" x=\"470.53\" xlink:href=\"#md26f477b50\" y=\"339.327746\"/>\n",
       "      </g>\n",
       "     </g>\n",
       "    </g>\n",
       "    <g id=\"ytick_8\">\n",
       "     <g id=\"line2d_97\">\n",
       "      <g>\n",
       "       <use style=\"stroke:#000000;\" x=\"52.03\" xlink:href=\"#m5380c30503\" y=\"314.027254\"/>\n",
       "      </g>\n",
       "     </g>\n",
       "     <g id=\"line2d_98\">\n",
       "      <g>\n",
       "       <use style=\"stroke:#000000;\" x=\"470.53\" xlink:href=\"#md26f477b50\" y=\"314.027254\"/>\n",
       "      </g>\n",
       "     </g>\n",
       "    </g>\n",
       "    <g id=\"ytick_9\">\n",
       "     <g id=\"line2d_99\">\n",
       "      <g>\n",
       "       <use style=\"stroke:#000000;\" x=\"52.03\" xlink:href=\"#m5380c30503\" y=\"301.377008\"/>\n",
       "      </g>\n",
       "     </g>\n",
       "     <g id=\"line2d_100\">\n",
       "      <g>\n",
       "       <use style=\"stroke:#000000;\" x=\"470.53\" xlink:href=\"#md26f477b50\" y=\"301.377008\"/>\n",
       "      </g>\n",
       "     </g>\n",
       "    </g>\n",
       "    <g id=\"ytick_10\">\n",
       "     <g id=\"line2d_101\">\n",
       "      <g>\n",
       "       <use style=\"stroke:#000000;\" x=\"52.03\" xlink:href=\"#m5380c30503\" y=\"288.726762\"/>\n",
       "      </g>\n",
       "     </g>\n",
       "     <g id=\"line2d_102\">\n",
       "      <g>\n",
       "       <use style=\"stroke:#000000;\" x=\"470.53\" xlink:href=\"#md26f477b50\" y=\"288.726762\"/>\n",
       "      </g>\n",
       "     </g>\n",
       "    </g>\n",
       "    <g id=\"ytick_11\">\n",
       "     <g id=\"line2d_103\">\n",
       "      <g>\n",
       "       <use style=\"stroke:#000000;\" x=\"52.03\" xlink:href=\"#m5380c30503\" y=\"276.076516\"/>\n",
       "      </g>\n",
       "     </g>\n",
       "     <g id=\"line2d_104\">\n",
       "      <g>\n",
       "       <use style=\"stroke:#000000;\" x=\"470.53\" xlink:href=\"#md26f477b50\" y=\"276.076516\"/>\n",
       "      </g>\n",
       "     </g>\n",
       "    </g>\n",
       "    <g id=\"ytick_12\">\n",
       "     <g id=\"line2d_105\">\n",
       "      <g>\n",
       "       <use style=\"stroke:#000000;\" x=\"52.03\" xlink:href=\"#m5380c30503\" y=\"250.776024\"/>\n",
       "      </g>\n",
       "     </g>\n",
       "     <g id=\"line2d_106\">\n",
       "      <g>\n",
       "       <use style=\"stroke:#000000;\" x=\"470.53\" xlink:href=\"#md26f477b50\" y=\"250.776024\"/>\n",
       "      </g>\n",
       "     </g>\n",
       "    </g>\n",
       "    <g id=\"ytick_13\">\n",
       "     <g id=\"line2d_107\">\n",
       "      <g>\n",
       "       <use style=\"stroke:#000000;\" x=\"52.03\" xlink:href=\"#m5380c30503\" y=\"238.125778\"/>\n",
       "      </g>\n",
       "     </g>\n",
       "     <g id=\"line2d_108\">\n",
       "      <g>\n",
       "       <use style=\"stroke:#000000;\" x=\"470.53\" xlink:href=\"#md26f477b50\" y=\"238.125778\"/>\n",
       "      </g>\n",
       "     </g>\n",
       "    </g>\n",
       "    <g id=\"ytick_14\">\n",
       "     <g id=\"line2d_109\">\n",
       "      <g>\n",
       "       <use style=\"stroke:#000000;\" x=\"52.03\" xlink:href=\"#m5380c30503\" y=\"225.475532\"/>\n",
       "      </g>\n",
       "     </g>\n",
       "     <g id=\"line2d_110\">\n",
       "      <g>\n",
       "       <use style=\"stroke:#000000;\" x=\"470.53\" xlink:href=\"#md26f477b50\" y=\"225.475532\"/>\n",
       "      </g>\n",
       "     </g>\n",
       "    </g>\n",
       "    <g id=\"ytick_15\">\n",
       "     <g id=\"line2d_111\">\n",
       "      <g>\n",
       "       <use style=\"stroke:#000000;\" x=\"52.03\" xlink:href=\"#m5380c30503\" y=\"212.825286\"/>\n",
       "      </g>\n",
       "     </g>\n",
       "     <g id=\"line2d_112\">\n",
       "      <g>\n",
       "       <use style=\"stroke:#000000;\" x=\"470.53\" xlink:href=\"#md26f477b50\" y=\"212.825286\"/>\n",
       "      </g>\n",
       "     </g>\n",
       "    </g>\n",
       "    <g id=\"ytick_16\">\n",
       "     <g id=\"line2d_113\">\n",
       "      <g>\n",
       "       <use style=\"stroke:#000000;\" x=\"52.03\" xlink:href=\"#m5380c30503\" y=\"187.524794\"/>\n",
       "      </g>\n",
       "     </g>\n",
       "     <g id=\"line2d_114\">\n",
       "      <g>\n",
       "       <use style=\"stroke:#000000;\" x=\"470.53\" xlink:href=\"#md26f477b50\" y=\"187.524794\"/>\n",
       "      </g>\n",
       "     </g>\n",
       "    </g>\n",
       "    <g id=\"ytick_17\">\n",
       "     <g id=\"line2d_115\">\n",
       "      <g>\n",
       "       <use style=\"stroke:#000000;\" x=\"52.03\" xlink:href=\"#m5380c30503\" y=\"174.874548\"/>\n",
       "      </g>\n",
       "     </g>\n",
       "     <g id=\"line2d_116\">\n",
       "      <g>\n",
       "       <use style=\"stroke:#000000;\" x=\"470.53\" xlink:href=\"#md26f477b50\" y=\"174.874548\"/>\n",
       "      </g>\n",
       "     </g>\n",
       "    </g>\n",
       "    <g id=\"ytick_18\">\n",
       "     <g id=\"line2d_117\">\n",
       "      <g>\n",
       "       <use style=\"stroke:#000000;\" x=\"52.03\" xlink:href=\"#m5380c30503\" y=\"162.224302\"/>\n",
       "      </g>\n",
       "     </g>\n",
       "     <g id=\"line2d_118\">\n",
       "      <g>\n",
       "       <use style=\"stroke:#000000;\" x=\"470.53\" xlink:href=\"#md26f477b50\" y=\"162.224302\"/>\n",
       "      </g>\n",
       "     </g>\n",
       "    </g>\n",
       "    <g id=\"ytick_19\">\n",
       "     <g id=\"line2d_119\">\n",
       "      <g>\n",
       "       <use style=\"stroke:#000000;\" x=\"52.03\" xlink:href=\"#m5380c30503\" y=\"149.574056\"/>\n",
       "      </g>\n",
       "     </g>\n",
       "     <g id=\"line2d_120\">\n",
       "      <g>\n",
       "       <use style=\"stroke:#000000;\" x=\"470.53\" xlink:href=\"#md26f477b50\" y=\"149.574056\"/>\n",
       "      </g>\n",
       "     </g>\n",
       "    </g>\n",
       "    <g id=\"ytick_20\">\n",
       "     <g id=\"line2d_121\">\n",
       "      <g>\n",
       "       <use style=\"stroke:#000000;\" x=\"52.03\" xlink:href=\"#m5380c30503\" y=\"124.273564\"/>\n",
       "      </g>\n",
       "     </g>\n",
       "     <g id=\"line2d_122\">\n",
       "      <g>\n",
       "       <use style=\"stroke:#000000;\" x=\"470.53\" xlink:href=\"#md26f477b50\" y=\"124.273564\"/>\n",
       "      </g>\n",
       "     </g>\n",
       "    </g>\n",
       "    <g id=\"ytick_21\">\n",
       "     <g id=\"line2d_123\">\n",
       "      <g>\n",
       "       <use style=\"stroke:#000000;\" x=\"52.03\" xlink:href=\"#m5380c30503\" y=\"111.623318\"/>\n",
       "      </g>\n",
       "     </g>\n",
       "     <g id=\"line2d_124\">\n",
       "      <g>\n",
       "       <use style=\"stroke:#000000;\" x=\"470.53\" xlink:href=\"#md26f477b50\" y=\"111.623318\"/>\n",
       "      </g>\n",
       "     </g>\n",
       "    </g>\n",
       "    <g id=\"ytick_22\">\n",
       "     <g id=\"line2d_125\">\n",
       "      <g>\n",
       "       <use style=\"stroke:#000000;\" x=\"52.03\" xlink:href=\"#m5380c30503\" y=\"98.973072\"/>\n",
       "      </g>\n",
       "     </g>\n",
       "     <g id=\"line2d_126\">\n",
       "      <g>\n",
       "       <use style=\"stroke:#000000;\" x=\"470.53\" xlink:href=\"#md26f477b50\" y=\"98.973072\"/>\n",
       "      </g>\n",
       "     </g>\n",
       "    </g>\n",
       "    <g id=\"ytick_23\">\n",
       "     <g id=\"line2d_127\">\n",
       "      <g>\n",
       "       <use style=\"stroke:#000000;\" x=\"52.03\" xlink:href=\"#m5380c30503\" y=\"86.322826\"/>\n",
       "      </g>\n",
       "     </g>\n",
       "     <g id=\"line2d_128\">\n",
       "      <g>\n",
       "       <use style=\"stroke:#000000;\" x=\"470.53\" xlink:href=\"#md26f477b50\" y=\"86.322826\"/>\n",
       "      </g>\n",
       "     </g>\n",
       "    </g>\n",
       "    <g id=\"ytick_24\">\n",
       "     <g id=\"line2d_129\">\n",
       "      <g>\n",
       "       <use style=\"stroke:#000000;\" x=\"52.03\" xlink:href=\"#m5380c30503\" y=\"61.022334\"/>\n",
       "      </g>\n",
       "     </g>\n",
       "     <g id=\"line2d_130\">\n",
       "      <g>\n",
       "       <use style=\"stroke:#000000;\" x=\"470.53\" xlink:href=\"#md26f477b50\" y=\"61.022334\"/>\n",
       "      </g>\n",
       "     </g>\n",
       "    </g>\n",
       "    <g id=\"ytick_25\">\n",
       "     <g id=\"line2d_131\">\n",
       "      <g>\n",
       "       <use style=\"stroke:#000000;\" x=\"52.03\" xlink:href=\"#m5380c30503\" y=\"48.372088\"/>\n",
       "      </g>\n",
       "     </g>\n",
       "     <g id=\"line2d_132\">\n",
       "      <g>\n",
       "       <use style=\"stroke:#000000;\" x=\"470.53\" xlink:href=\"#md26f477b50\" y=\"48.372088\"/>\n",
       "      </g>\n",
       "     </g>\n",
       "    </g>\n",
       "    <g id=\"ytick_26\">\n",
       "     <g id=\"line2d_133\">\n",
       "      <g>\n",
       "       <use style=\"stroke:#000000;\" x=\"52.03\" xlink:href=\"#m5380c30503\" y=\"35.721841\"/>\n",
       "      </g>\n",
       "     </g>\n",
       "     <g id=\"line2d_134\">\n",
       "      <g>\n",
       "       <use style=\"stroke:#000000;\" x=\"470.53\" xlink:href=\"#md26f477b50\" y=\"35.721841\"/>\n",
       "      </g>\n",
       "     </g>\n",
       "    </g>\n",
       "    <g id=\"ytick_27\">\n",
       "     <g id=\"line2d_135\">\n",
       "      <g>\n",
       "       <use style=\"stroke:#000000;\" x=\"52.03\" xlink:href=\"#m5380c30503\" y=\"23.071595\"/>\n",
       "      </g>\n",
       "     </g>\n",
       "     <g id=\"line2d_136\">\n",
       "      <g>\n",
       "       <use style=\"stroke:#000000;\" x=\"470.53\" xlink:href=\"#md26f477b50\" y=\"23.071595\"/>\n",
       "      </g>\n",
       "     </g>\n",
       "    </g>\n",
       "    <g id=\"text_16\">\n",
       "     <!-- Velocity (m/s) -->\n",
       "     <g transform=\"translate(15.7575 242.9025)rotate(-90)scale(0.16 -0.16)\">\n",
       "      <defs>\n",
       "       <path d=\"M 1831 0 \n",
       "L 50 4666 \n",
       "L 709 4666 \n",
       "L 2188 738 \n",
       "L 3669 4666 \n",
       "L 4325 4666 \n",
       "L 2547 0 \n",
       "L 1831 0 \n",
       "z\n",
       "\" id=\"DejaVuSans-56\" transform=\"scale(0.015625)\"/>\n",
       "       <path d=\"M 603 4863 \n",
       "L 1178 4863 \n",
       "L 1178 0 \n",
       "L 603 0 \n",
       "L 603 4863 \n",
       "z\n",
       "\" id=\"DejaVuSans-6c\" transform=\"scale(0.015625)\"/>\n",
       "       <path d=\"M 1959 3097 \n",
       "Q 1497 3097 1228 2736 \n",
       "Q 959 2375 959 1747 \n",
       "Q 959 1119 1226 758 \n",
       "Q 1494 397 1959 397 \n",
       "Q 2419 397 2687 759 \n",
       "Q 2956 1122 2956 1747 \n",
       "Q 2956 2369 2687 2733 \n",
       "Q 2419 3097 1959 3097 \n",
       "z\n",
       "M 1959 3584 \n",
       "Q 2709 3584 3137 3096 \n",
       "Q 3566 2609 3566 1747 \n",
       "Q 3566 888 3137 398 \n",
       "Q 2709 -91 1959 -91 \n",
       "Q 1206 -91 779 398 \n",
       "Q 353 888 353 1747 \n",
       "Q 353 2609 779 3096 \n",
       "Q 1206 3584 1959 3584 \n",
       "z\n",
       "\" id=\"DejaVuSans-6f\" transform=\"scale(0.015625)\"/>\n",
       "       <path d=\"M 3122 3366 \n",
       "L 3122 2828 \n",
       "Q 2878 2963 2633 3030 \n",
       "Q 2388 3097 2138 3097 \n",
       "Q 1578 3097 1268 2742 \n",
       "Q 959 2388 959 1747 \n",
       "Q 959 1106 1268 751 \n",
       "Q 1578 397 2138 397 \n",
       "Q 2388 397 2633 464 \n",
       "Q 2878 531 3122 666 \n",
       "L 3122 134 \n",
       "Q 2881 22 2623 -34 \n",
       "Q 2366 -91 2075 -91 \n",
       "Q 1284 -91 818 406 \n",
       "Q 353 903 353 1747 \n",
       "Q 353 2603 823 3093 \n",
       "Q 1294 3584 2113 3584 \n",
       "Q 2378 3584 2631 3529 \n",
       "Q 2884 3475 3122 3366 \n",
       "z\n",
       "\" id=\"DejaVuSans-63\" transform=\"scale(0.015625)\"/>\n",
       "       <path d=\"M 1172 4494 \n",
       "L 1172 3500 \n",
       "L 2356 3500 \n",
       "L 2356 3053 \n",
       "L 1172 3053 \n",
       "L 1172 1153 \n",
       "Q 1172 725 1289 603 \n",
       "Q 1406 481 1766 481 \n",
       "L 2356 481 \n",
       "L 2356 0 \n",
       "L 1766 0 \n",
       "Q 1100 0 847 248 \n",
       "Q 594 497 594 1153 \n",
       "L 594 3053 \n",
       "L 172 3053 \n",
       "L 172 3500 \n",
       "L 594 3500 \n",
       "L 594 4494 \n",
       "L 1172 4494 \n",
       "z\n",
       "\" id=\"DejaVuSans-74\" transform=\"scale(0.015625)\"/>\n",
       "       <path d=\"M 2059 -325 \n",
       "Q 1816 -950 1584 -1140 \n",
       "Q 1353 -1331 966 -1331 \n",
       "L 506 -1331 \n",
       "L 506 -850 \n",
       "L 844 -850 \n",
       "Q 1081 -850 1212 -737 \n",
       "Q 1344 -625 1503 -206 \n",
       "L 1606 56 \n",
       "L 191 3500 \n",
       "L 800 3500 \n",
       "L 1894 763 \n",
       "L 2988 3500 \n",
       "L 3597 3500 \n",
       "L 2059 -325 \n",
       "z\n",
       "\" id=\"DejaVuSans-79\" transform=\"scale(0.015625)\"/>\n",
       "       <path d=\"M 1625 4666 \n",
       "L 2156 4666 \n",
       "L 531 -594 \n",
       "L 0 -594 \n",
       "L 1625 4666 \n",
       "z\n",
       "\" id=\"DejaVuSans-2f\" transform=\"scale(0.015625)\"/>\n",
       "      </defs>\n",
       "      <use xlink:href=\"#DejaVuSans-56\"/>\n",
       "      <use x=\"60.658203\" xlink:href=\"#DejaVuSans-65\"/>\n",
       "      <use x=\"122.181641\" xlink:href=\"#DejaVuSans-6c\"/>\n",
       "      <use x=\"149.964844\" xlink:href=\"#DejaVuSans-6f\"/>\n",
       "      <use x=\"211.146484\" xlink:href=\"#DejaVuSans-63\"/>\n",
       "      <use x=\"266.126953\" xlink:href=\"#DejaVuSans-69\"/>\n",
       "      <use x=\"293.910156\" xlink:href=\"#DejaVuSans-74\"/>\n",
       "      <use x=\"333.119141\" xlink:href=\"#DejaVuSans-79\"/>\n",
       "      <use x=\"392.298828\" xlink:href=\"#DejaVuSans-20\"/>\n",
       "      <use x=\"424.085938\" xlink:href=\"#DejaVuSans-28\"/>\n",
       "      <use x=\"463.099609\" xlink:href=\"#DejaVuSans-6d\"/>\n",
       "      <use x=\"560.511719\" xlink:href=\"#DejaVuSans-2f\"/>\n",
       "      <use x=\"594.203125\" xlink:href=\"#DejaVuSans-73\"/>\n",
       "      <use x=\"646.302734\" xlink:href=\"#DejaVuSans-29\"/>\n",
       "     </g>\n",
       "    </g>\n",
       "   </g>\n",
       "   <g id=\"line2d_137\">\n",
       "    <path clip-path=\"url(#p5677980d1d)\" d=\"M 52.03 263.42627 \n",
       "L 56.257273 262.906422 \n",
       "L 60.484545 261.962492 \n",
       "L 64.711818 260.613606 \n",
       "L 68.939091 258.878891 \n",
       "L 73.166364 256.777473 \n",
       "L 77.393636 254.328481 \n",
       "L 81.620909 251.551041 \n",
       "L 85.848182 248.46428 \n",
       "L 90.075455 245.087325 \n",
       "L 94.302727 241.439302 \n",
       "L 98.53 237.53934 \n",
       "L 102.757273 233.406564 \n",
       "L 106.984545 229.060102 \n",
       "L 111.211818 224.519081 \n",
       "L 115.439091 219.802628 \n",
       "L 119.666364 214.929869 \n",
       "L 123.893636 209.919933 \n",
       "L 128.120909 204.791945 \n",
       "L 132.348182 199.565032 \n",
       "L 136.575455 194.258322 \n",
       "L 140.802727 188.890942 \n",
       "L 145.03 183.482019 \n",
       "L 149.257273 178.050679 \n",
       "L 153.484545 172.616049 \n",
       "L 157.711818 167.197219 \n",
       "L 161.939091 161.808666 \n",
       "L 166.166364 156.455912 \n",
       "L 170.393636 151.14345 \n",
       "L 174.620909 145.875773 \n",
       "L 178.848182 140.657373 \n",
       "L 183.075455 135.492743 \n",
       "L 187.302727 130.386377 \n",
       "L 191.53 125.342768 \n",
       "L 195.757273 120.366407 \n",
       "L 199.984545 115.461789 \n",
       "L 204.211818 110.633406 \n",
       "L 208.439091 105.885752 \n",
       "L 212.666364 101.229853 \n",
       "L 216.893636 96.714907 \n",
       "L 221.120909 92.403923 \n",
       "L 225.348182 88.359931 \n",
       "L 229.575455 84.645959 \n",
       "L 233.802727 81.325037 \n",
       "L 238.03 78.460193 \n",
       "L 242.257273 76.114458 \n",
       "L 246.484545 74.35086 \n",
       "L 250.711818 73.232428 \n",
       "L 254.939091 72.822191 \n",
       "L 259.166364 73.18318 \n",
       "L 263.393636 74.375934 \n",
       "L 267.620909 76.403794 \n",
       "L 271.848182 79.21289 \n",
       "L 276.075455 82.74687 \n",
       "L 280.302727 86.949379 \n",
       "L 284.53 91.764064 \n",
       "L 288.757273 97.134571 \n",
       "L 292.984545 103.004545 \n",
       "L 297.211818 109.317632 \n",
       "L 301.439091 116.01748 \n",
       "L 305.666364 123.047732 \n",
       "L 309.893636 130.352037 \n",
       "L 314.120909 137.874045 \n",
       "L 318.348182 145.561772 \n",
       "L 322.575455 153.375284 \n",
       "L 326.802727 161.276713 \n",
       "L 331.03 169.228189 \n",
       "L 335.257273 177.191845 \n",
       "L 339.484545 185.12981 \n",
       "L 343.711818 193.004218 \n",
       "L 347.939091 200.777197 \n",
       "L 352.166364 208.41088 \n",
       "L 356.393636 215.867398 \n",
       "L 360.620909 223.108882 \n",
       "L 364.848182 230.097463 \n",
       "L 369.075455 236.798468 \n",
       "L 373.302727 243.205032 \n",
       "L 377.53 249.324612 \n",
       "L 381.757273 255.16478 \n",
       "L 385.984545 260.733111 \n",
       "L 390.211818 266.037178 \n",
       "L 394.439091 271.084556 \n",
       "L 398.666364 275.882818 \n",
       "L 402.893636 280.439537 \n",
       "L 407.120909 284.762288 \n",
       "L 411.348182 288.858645 \n",
       "L 415.575455 292.73618 \n",
       "L 419.802727 296.402468 \n",
       "L 424.03 299.865083 \n",
       "L 428.257273 303.131598 \n",
       "L 432.484545 306.209588 \n",
       "L 436.711818 309.106625 \n",
       "L 440.939091 311.830284 \n",
       "L 445.166364 314.388138 \n",
       "L 449.393636 316.787762 \n",
       "L 453.620909 319.036728 \n",
       "L 457.848182 321.142612 \n",
       "L 462.075455 323.112986 \n",
       "L 466.302727 324.955424 \n",
       "L 470.53 326.6775 \n",
       "\" style=\"fill:none;stroke:#0c5da5;stroke-linecap:square;stroke-width:2;\"/>\n",
       "   </g>\n",
       "   <g id=\"line2d_138\">\n",
       "    <path clip-path=\"url(#p5677980d1d)\" d=\"M 52.03 263.42627 \n",
       "L 56.257273 266.513109 \n",
       "L 60.484545 268.264702 \n",
       "L 64.711818 268.780278 \n",
       "L 68.939091 268.159067 \n",
       "L 73.166364 266.500299 \n",
       "L 77.393636 263.903201 \n",
       "L 81.620909 260.467003 \n",
       "L 85.848182 256.290935 \n",
       "L 90.075455 251.474226 \n",
       "L 94.302727 246.116104 \n",
       "L 98.53 240.3158 \n",
       "L 102.757273 234.172542 \n",
       "L 106.984545 227.785559 \n",
       "L 111.211818 221.254081 \n",
       "L 115.439091 214.677337 \n",
       "L 119.666364 208.154556 \n",
       "L 123.893636 201.784967 \n",
       "L 128.120909 195.6678 \n",
       "L 132.348182 189.902284 \n",
       "L 136.575455 184.587647 \n",
       "L 140.802727 179.82312 \n",
       "L 145.03 175.707931 \n",
       "L 149.257273 172.341309 \n",
       "L 153.484545 169.822484 \n",
       "L 157.711818 168.249917 \n",
       "L 161.939091 167.629115 \n",
       "L 166.166364 167.785058 \n",
       "L 170.393636 168.521983 \n",
       "L 174.620909 169.644127 \n",
       "L 178.848182 170.955727 \n",
       "L 183.075455 172.261022 \n",
       "L 187.302727 173.364247 \n",
       "L 191.53 174.069641 \n",
       "L 195.757273 174.181441 \n",
       "L 199.984545 173.503885 \n",
       "L 204.211818 171.841208 \n",
       "L 208.439091 168.99765 \n",
       "L 212.666364 164.819758 \n",
       "L 216.893636 159.401159 \n",
       "L 221.120909 152.924911 \n",
       "L 225.348182 145.574199 \n",
       "L 229.575455 137.532203 \n",
       "L 233.802727 128.982107 \n",
       "L 238.03 120.107094 \n",
       "L 242.257273 111.090345 \n",
       "L 246.484545 102.115043 \n",
       "L 250.711818 93.364371 \n",
       "L 254.939091 85.02151 \n",
       "L 259.166364 77.269645 \n",
       "L 263.393636 70.289469 \n",
       "L 267.620909 64.204475 \n",
       "L 271.848182 59.080947 \n",
       "L 276.075455 54.982687 \n",
       "L 280.302727 51.973493 \n",
       "L 284.53 50.117164 \n",
       "L 288.757273 49.4775 \n",
       "L 292.984545 50.1183 \n",
       "L 297.211818 52.103365 \n",
       "L 301.439091 55.496492 \n",
       "L 305.666364 60.361481 \n",
       "L 309.893636 66.762132 \n",
       "L 314.120909 74.762147 \n",
       "L 318.348182 84.35397 \n",
       "L 322.575455 95.333189 \n",
       "L 326.802727 107.461679 \n",
       "L 331.03 120.501316 \n",
       "L 335.257273 134.213975 \n",
       "L 339.484545 148.361532 \n",
       "L 343.711818 162.705863 \n",
       "L 347.939091 177.008843 \n",
       "L 352.166364 191.032347 \n",
       "L 356.393636 204.538252 \n",
       "L 360.620909 217.288433 \n",
       "L 364.848182 229.044766 \n",
       "L 369.075455 239.592033 \n",
       "L 373.302727 248.914402 \n",
       "L 377.53 257.0987 \n",
       "L 381.757273 264.232602 \n",
       "L 385.984545 270.403786 \n",
       "L 390.211818 275.699927 \n",
       "L 394.439091 280.208701 \n",
       "L 398.666364 284.017783 \n",
       "L 402.893636 287.214851 \n",
       "L 407.120909 289.887579 \n",
       "L 411.348182 292.123645 \n",
       "L 415.575455 294.010723 \n",
       "L 419.802727 295.636491 \n",
       "L 424.03 297.088623 \n",
       "L 428.257273 298.454796 \n",
       "L 432.484545 299.822687 \n",
       "L 436.711818 301.27997 \n",
       "L 440.939091 302.914322 \n",
       "L 445.166364 304.813419 \n",
       "L 449.393636 307.064937 \n",
       "L 453.620909 309.756552 \n",
       "L 457.848182 312.975939 \n",
       "L 462.075455 316.810776 \n",
       "L 466.302727 321.348738 \n",
       "L 470.53 326.6775 \n",
       "\" style=\"fill:none;stroke:#00b945;stroke-linecap:square;stroke-width:2;\"/>\n",
       "   </g>\n",
       "   <g id=\"patch_3\">\n",
       "    <path d=\"M 52.03 354.3975 \n",
       "L 52.03 21.7575 \n",
       "\" style=\"fill:none;stroke:#000000;stroke-linecap:square;stroke-linejoin:miter;\"/>\n",
       "   </g>\n",
       "   <g id=\"patch_4\">\n",
       "    <path d=\"M 470.53 354.3975 \n",
       "L 470.53 21.7575 \n",
       "\" style=\"fill:none;stroke:#000000;stroke-linecap:square;stroke-linejoin:miter;\"/>\n",
       "   </g>\n",
       "   <g id=\"patch_5\">\n",
       "    <path d=\"M 52.03 354.3975 \n",
       "L 470.53 354.3975 \n",
       "\" style=\"fill:none;stroke:#000000;stroke-linecap:square;stroke-linejoin:miter;\"/>\n",
       "   </g>\n",
       "   <g id=\"patch_6\">\n",
       "    <path d=\"M 52.03 21.7575 \n",
       "L 470.53 21.7575 \n",
       "\" style=\"fill:none;stroke:#000000;stroke-linecap:square;stroke-linejoin:miter;\"/>\n",
       "   </g>\n",
       "   <g id=\"text_17\">\n",
       "    <!-- Lifting experiment -->\n",
       "    <g transform=\"translate(187.9225 15.7575)scale(0.16 -0.16)\">\n",
       "     <defs>\n",
       "      <path d=\"M 628 4666 \n",
       "L 1259 4666 \n",
       "L 1259 531 \n",
       "L 3531 531 \n",
       "L 3531 0 \n",
       "L 628 0 \n",
       "L 628 4666 \n",
       "z\n",
       "\" id=\"DejaVuSans-4c\" transform=\"scale(0.015625)\"/>\n",
       "      <path d=\"M 2375 4863 \n",
       "L 2375 4384 \n",
       "L 1825 4384 \n",
       "Q 1516 4384 1395 4259 \n",
       "Q 1275 4134 1275 3809 \n",
       "L 1275 3500 \n",
       "L 2222 3500 \n",
       "L 2222 3053 \n",
       "L 1275 3053 \n",
       "L 1275 0 \n",
       "L 697 0 \n",
       "L 697 3053 \n",
       "L 147 3053 \n",
       "L 147 3500 \n",
       "L 697 3500 \n",
       "L 697 3744 \n",
       "Q 697 4328 969 4595 \n",
       "Q 1241 4863 1831 4863 \n",
       "L 2375 4863 \n",
       "z\n",
       "\" id=\"DejaVuSans-66\" transform=\"scale(0.015625)\"/>\n",
       "      <path d=\"M 3513 2113 \n",
       "L 3513 0 \n",
       "L 2938 0 \n",
       "L 2938 2094 \n",
       "Q 2938 2591 2744 2837 \n",
       "Q 2550 3084 2163 3084 \n",
       "Q 1697 3084 1428 2787 \n",
       "Q 1159 2491 1159 1978 \n",
       "L 1159 0 \n",
       "L 581 0 \n",
       "L 581 3500 \n",
       "L 1159 3500 \n",
       "L 1159 2956 \n",
       "Q 1366 3272 1645 3428 \n",
       "Q 1925 3584 2291 3584 \n",
       "Q 2894 3584 3203 3211 \n",
       "Q 3513 2838 3513 2113 \n",
       "z\n",
       "\" id=\"DejaVuSans-6e\" transform=\"scale(0.015625)\"/>\n",
       "      <path d=\"M 2906 1791 \n",
       "Q 2906 2416 2648 2759 \n",
       "Q 2391 3103 1925 3103 \n",
       "Q 1463 3103 1205 2759 \n",
       "Q 947 2416 947 1791 \n",
       "Q 947 1169 1205 825 \n",
       "Q 1463 481 1925 481 \n",
       "Q 2391 481 2648 825 \n",
       "Q 2906 1169 2906 1791 \n",
       "z\n",
       "M 3481 434 \n",
       "Q 3481 -459 3084 -895 \n",
       "Q 2688 -1331 1869 -1331 \n",
       "Q 1566 -1331 1297 -1286 \n",
       "Q 1028 -1241 775 -1147 \n",
       "L 775 -588 \n",
       "Q 1028 -725 1275 -790 \n",
       "Q 1522 -856 1778 -856 \n",
       "Q 2344 -856 2625 -561 \n",
       "Q 2906 -266 2906 331 \n",
       "L 2906 616 \n",
       "Q 2728 306 2450 153 \n",
       "Q 2172 0 1784 0 \n",
       "Q 1141 0 747 490 \n",
       "Q 353 981 353 1791 \n",
       "Q 353 2603 747 3093 \n",
       "Q 1141 3584 1784 3584 \n",
       "Q 2172 3584 2450 3431 \n",
       "Q 2728 3278 2906 2969 \n",
       "L 2906 3500 \n",
       "L 3481 3500 \n",
       "L 3481 434 \n",
       "z\n",
       "\" id=\"DejaVuSans-67\" transform=\"scale(0.015625)\"/>\n",
       "      <path d=\"M 3513 3500 \n",
       "L 2247 1797 \n",
       "L 3578 0 \n",
       "L 2900 0 \n",
       "L 1881 1375 \n",
       "L 863 0 \n",
       "L 184 0 \n",
       "L 1544 1831 \n",
       "L 300 3500 \n",
       "L 978 3500 \n",
       "L 1906 2253 \n",
       "L 2834 3500 \n",
       "L 3513 3500 \n",
       "z\n",
       "\" id=\"DejaVuSans-78\" transform=\"scale(0.015625)\"/>\n",
       "      <path d=\"M 1159 525 \n",
       "L 1159 -1331 \n",
       "L 581 -1331 \n",
       "L 581 3500 \n",
       "L 1159 3500 \n",
       "L 1159 2969 \n",
       "Q 1341 3281 1617 3432 \n",
       "Q 1894 3584 2278 3584 \n",
       "Q 2916 3584 3314 3078 \n",
       "Q 3713 2572 3713 1747 \n",
       "Q 3713 922 3314 415 \n",
       "Q 2916 -91 2278 -91 \n",
       "Q 1894 -91 1617 61 \n",
       "Q 1341 213 1159 525 \n",
       "z\n",
       "M 3116 1747 \n",
       "Q 3116 2381 2855 2742 \n",
       "Q 2594 3103 2138 3103 \n",
       "Q 1681 3103 1420 2742 \n",
       "Q 1159 2381 1159 1747 \n",
       "Q 1159 1113 1420 752 \n",
       "Q 1681 391 2138 391 \n",
       "Q 2594 391 2855 752 \n",
       "Q 3116 1113 3116 1747 \n",
       "z\n",
       "\" id=\"DejaVuSans-70\" transform=\"scale(0.015625)\"/>\n",
       "      <path d=\"M 2631 2963 \n",
       "Q 2534 3019 2420 3045 \n",
       "Q 2306 3072 2169 3072 \n",
       "Q 1681 3072 1420 2755 \n",
       "Q 1159 2438 1159 1844 \n",
       "L 1159 0 \n",
       "L 581 0 \n",
       "L 581 3500 \n",
       "L 1159 3500 \n",
       "L 1159 2956 \n",
       "Q 1341 3275 1631 3429 \n",
       "Q 1922 3584 2338 3584 \n",
       "Q 2397 3584 2469 3576 \n",
       "Q 2541 3569 2628 3553 \n",
       "L 2631 2963 \n",
       "z\n",
       "\" id=\"DejaVuSans-72\" transform=\"scale(0.015625)\"/>\n",
       "     </defs>\n",
       "     <use xlink:href=\"#DejaVuSans-4c\"/>\n",
       "     <use x=\"55.712891\" xlink:href=\"#DejaVuSans-69\"/>\n",
       "     <use x=\"83.496094\" xlink:href=\"#DejaVuSans-66\"/>\n",
       "     <use x=\"116.951172\" xlink:href=\"#DejaVuSans-74\"/>\n",
       "     <use x=\"156.160156\" xlink:href=\"#DejaVuSans-69\"/>\n",
       "     <use x=\"183.943359\" xlink:href=\"#DejaVuSans-6e\"/>\n",
       "     <use x=\"247.322266\" xlink:href=\"#DejaVuSans-67\"/>\n",
       "     <use x=\"310.798828\" xlink:href=\"#DejaVuSans-20\"/>\n",
       "     <use x=\"342.585938\" xlink:href=\"#DejaVuSans-65\"/>\n",
       "     <use x=\"402.359375\" xlink:href=\"#DejaVuSans-78\"/>\n",
       "     <use x=\"461.539062\" xlink:href=\"#DejaVuSans-70\"/>\n",
       "     <use x=\"525.015625\" xlink:href=\"#DejaVuSans-65\"/>\n",
       "     <use x=\"586.539062\" xlink:href=\"#DejaVuSans-72\"/>\n",
       "     <use x=\"627.652344\" xlink:href=\"#DejaVuSans-69\"/>\n",
       "     <use x=\"655.435547\" xlink:href=\"#DejaVuSans-6d\"/>\n",
       "     <use x=\"752.847656\" xlink:href=\"#DejaVuSans-65\"/>\n",
       "     <use x=\"814.371094\" xlink:href=\"#DejaVuSans-6e\"/>\n",
       "     <use x=\"877.75\" xlink:href=\"#DejaVuSans-74\"/>\n",
       "    </g>\n",
       "   </g>\n",
       "   <g id=\"legend_1\">\n",
       "    <g id=\"patch_7\">\n",
       "     <path d=\"M 332.0425 81.5275 \n",
       "L 459.33 81.5275 \n",
       "Q 462.53 81.5275 462.53 78.3275 \n",
       "L 462.53 32.9575 \n",
       "Q 462.53 29.7575 459.33 29.7575 \n",
       "L 332.0425 29.7575 \n",
       "Q 328.8425 29.7575 328.8425 32.9575 \n",
       "L 328.8425 78.3275 \n",
       "Q 328.8425 81.5275 332.0425 81.5275 \n",
       "z\n",
       "\" style=\"fill:#ffffff;opacity:0.8;stroke:#cccccc;stroke-linejoin:miter;\"/>\n",
       "    </g>\n",
       "    <g id=\"line2d_139\">\n",
       "     <path d=\"M 335.2425 42.715 \n",
       "L 367.2425 42.715 \n",
       "\" style=\"fill:none;stroke:#0c5da5;stroke-linecap:square;stroke-width:2;\"/>\n",
       "    </g>\n",
       "    <g id=\"line2d_140\"/>\n",
       "    <g id=\"text_18\">\n",
       "     <!-- original -->\n",
       "     <g transform=\"translate(380.0425 48.315)scale(0.16 -0.16)\">\n",
       "      <defs>\n",
       "       <path d=\"M 2194 1759 \n",
       "Q 1497 1759 1228 1600 \n",
       "Q 959 1441 959 1056 \n",
       "Q 959 750 1161 570 \n",
       "Q 1363 391 1709 391 \n",
       "Q 2188 391 2477 730 \n",
       "Q 2766 1069 2766 1631 \n",
       "L 2766 1759 \n",
       "L 2194 1759 \n",
       "z\n",
       "M 3341 1997 \n",
       "L 3341 0 \n",
       "L 2766 0 \n",
       "L 2766 531 \n",
       "Q 2569 213 2275 61 \n",
       "Q 1981 -91 1556 -91 \n",
       "Q 1019 -91 701 211 \n",
       "Q 384 513 384 1019 \n",
       "Q 384 1609 779 1909 \n",
       "Q 1175 2209 1959 2209 \n",
       "L 2766 2209 \n",
       "L 2766 2266 \n",
       "Q 2766 2663 2505 2880 \n",
       "Q 2244 3097 1772 3097 \n",
       "Q 1472 3097 1187 3025 \n",
       "Q 903 2953 641 2809 \n",
       "L 641 3341 \n",
       "Q 956 3463 1253 3523 \n",
       "Q 1550 3584 1831 3584 \n",
       "Q 2591 3584 2966 3190 \n",
       "Q 3341 2797 3341 1997 \n",
       "z\n",
       "\" id=\"DejaVuSans-61\" transform=\"scale(0.015625)\"/>\n",
       "      </defs>\n",
       "      <use xlink:href=\"#DejaVuSans-6f\"/>\n",
       "      <use x=\"61.181641\" xlink:href=\"#DejaVuSans-72\"/>\n",
       "      <use x=\"102.294922\" xlink:href=\"#DejaVuSans-69\"/>\n",
       "      <use x=\"130.078125\" xlink:href=\"#DejaVuSans-67\"/>\n",
       "      <use x=\"193.554688\" xlink:href=\"#DejaVuSans-69\"/>\n",
       "      <use x=\"221.337891\" xlink:href=\"#DejaVuSans-6e\"/>\n",
       "      <use x=\"284.716797\" xlink:href=\"#DejaVuSans-61\"/>\n",
       "      <use x=\"345.996094\" xlink:href=\"#DejaVuSans-6c\"/>\n",
       "     </g>\n",
       "    </g>\n",
       "    <g id=\"line2d_141\">\n",
       "     <path d=\"M 335.2425 66.2 \n",
       "L 367.2425 66.2 \n",
       "\" style=\"fill:none;stroke:#00b945;stroke-linecap:square;stroke-width:2;\"/>\n",
       "    </g>\n",
       "    <g id=\"line2d_142\"/>\n",
       "    <g id=\"text_19\">\n",
       "     <!-- disturbed -->\n",
       "     <g transform=\"translate(380.0425 71.8)scale(0.16 -0.16)\">\n",
       "      <defs>\n",
       "       <path d=\"M 2906 2969 \n",
       "L 2906 4863 \n",
       "L 3481 4863 \n",
       "L 3481 0 \n",
       "L 2906 0 \n",
       "L 2906 525 \n",
       "Q 2725 213 2448 61 \n",
       "Q 2172 -91 1784 -91 \n",
       "Q 1150 -91 751 415 \n",
       "Q 353 922 353 1747 \n",
       "Q 353 2572 751 3078 \n",
       "Q 1150 3584 1784 3584 \n",
       "Q 2172 3584 2448 3432 \n",
       "Q 2725 3281 2906 2969 \n",
       "z\n",
       "M 947 1747 \n",
       "Q 947 1113 1208 752 \n",
       "Q 1469 391 1925 391 \n",
       "Q 2381 391 2643 752 \n",
       "Q 2906 1113 2906 1747 \n",
       "Q 2906 2381 2643 2742 \n",
       "Q 2381 3103 1925 3103 \n",
       "Q 1469 3103 1208 2742 \n",
       "Q 947 2381 947 1747 \n",
       "z\n",
       "\" id=\"DejaVuSans-64\" transform=\"scale(0.015625)\"/>\n",
       "       <path d=\"M 544 1381 \n",
       "L 544 3500 \n",
       "L 1119 3500 \n",
       "L 1119 1403 \n",
       "Q 1119 906 1312 657 \n",
       "Q 1506 409 1894 409 \n",
       "Q 2359 409 2629 706 \n",
       "Q 2900 1003 2900 1516 \n",
       "L 2900 3500 \n",
       "L 3475 3500 \n",
       "L 3475 0 \n",
       "L 2900 0 \n",
       "L 2900 538 \n",
       "Q 2691 219 2414 64 \n",
       "Q 2138 -91 1772 -91 \n",
       "Q 1169 -91 856 284 \n",
       "Q 544 659 544 1381 \n",
       "z\n",
       "M 1991 3584 \n",
       "L 1991 3584 \n",
       "z\n",
       "\" id=\"DejaVuSans-75\" transform=\"scale(0.015625)\"/>\n",
       "       <path d=\"M 3116 1747 \n",
       "Q 3116 2381 2855 2742 \n",
       "Q 2594 3103 2138 3103 \n",
       "Q 1681 3103 1420 2742 \n",
       "Q 1159 2381 1159 1747 \n",
       "Q 1159 1113 1420 752 \n",
       "Q 1681 391 2138 391 \n",
       "Q 2594 391 2855 752 \n",
       "Q 3116 1113 3116 1747 \n",
       "z\n",
       "M 1159 2969 \n",
       "Q 1341 3281 1617 3432 \n",
       "Q 1894 3584 2278 3584 \n",
       "Q 2916 3584 3314 3078 \n",
       "Q 3713 2572 3713 1747 \n",
       "Q 3713 922 3314 415 \n",
       "Q 2916 -91 2278 -91 \n",
       "Q 1894 -91 1617 61 \n",
       "Q 1341 213 1159 525 \n",
       "L 1159 0 \n",
       "L 581 0 \n",
       "L 581 4863 \n",
       "L 1159 4863 \n",
       "L 1159 2969 \n",
       "z\n",
       "\" id=\"DejaVuSans-62\" transform=\"scale(0.015625)\"/>\n",
       "      </defs>\n",
       "      <use xlink:href=\"#DejaVuSans-64\"/>\n",
       "      <use x=\"63.476562\" xlink:href=\"#DejaVuSans-69\"/>\n",
       "      <use x=\"91.259766\" xlink:href=\"#DejaVuSans-73\"/>\n",
       "      <use x=\"143.359375\" xlink:href=\"#DejaVuSans-74\"/>\n",
       "      <use x=\"182.568359\" xlink:href=\"#DejaVuSans-75\"/>\n",
       "      <use x=\"245.947266\" xlink:href=\"#DejaVuSans-72\"/>\n",
       "      <use x=\"287.060547\" xlink:href=\"#DejaVuSans-62\"/>\n",
       "      <use x=\"350.537109\" xlink:href=\"#DejaVuSans-65\"/>\n",
       "      <use x=\"412.060547\" xlink:href=\"#DejaVuSans-64\"/>\n",
       "     </g>\n",
       "    </g>\n",
       "   </g>\n",
       "  </g>\n",
       " </g>\n",
       " <defs>\n",
       "  <clipPath id=\"p5677980d1d\">\n",
       "   <rect height=\"332.64\" width=\"418.5\" x=\"52.03\" y=\"21.7575\"/>\n",
       "  </clipPath>\n",
       " </defs>\n",
       "</svg>\n"
      ],
      "text/plain": [
       "<Figure size 750x600 with 1 Axes>"
      ]
     },
     "metadata": {},
     "output_type": "display_data"
    }
   ],
   "source": [
    "from scipy.interpolate import interp1d\n",
    "\n",
    "f = interp1d(time, velocity_original, kind=\"cubic\")  # this is a function based on given data points\n",
    "f2 = interp1d(time, velocity_new, kind=\"cubic\")\n",
    "\n",
    "tnew = np.linspace(0, 0.8, 100)  # new high-def values for time\n",
    "\n",
    "plt.figure(figsize=(7.5, 6))\n",
    "plt.plot(tnew, f(tnew), label=\"original\")\n",
    "plt.plot(tnew, f2(tnew), label=\"disturbed\")\n",
    "\n",
    "plt.margins(0, 0.1)\n",
    "plt.legend(frameon=True, loc=\"upper right\")\n",
    "plt.xlabel(\"Time (s)\")\n",
    "plt.ylabel(\"Velocity (m/s)\")\n",
    "plt.title(\"Lifting experiment\")\n",
    "plt.show();"
   ]
  },
  {
   "cell_type": "markdown",
   "id": "3c4b8236",
   "metadata": {},
   "source": [
    "A small disruption does indeed cause a big effect on the derivative of the data."
   ]
  },
  {
   "cell_type": "markdown",
   "id": "6bafe0e9",
   "metadata": {},
   "source": [
    "## Exercise 2.5: extrema"
   ]
  },
  {
   "cell_type": "markdown",
   "id": "f0e3db30",
   "metadata": {},
   "source": [
    "Here we need to find the extrema of a figure with a given equation by drawing it's derivative. That would be annoying to do with a computer, but we can get the stationary points with sympy too!"
   ]
  },
  {
   "cell_type": "code",
   "execution_count": 34,
   "id": "b471db3d",
   "metadata": {},
   "outputs": [
    {
     "data": {
      "image/svg+xml": [
       "<?xml version=\"1.0\" encoding=\"utf-8\" standalone=\"no\"?>\n",
       "<!DOCTYPE svg PUBLIC \"-//W3C//DTD SVG 1.1//EN\"\n",
       "  \"http://www.w3.org/Graphics/SVG/1.1/DTD/svg11.dtd\">\n",
       "<svg height=\"424.345285pt\" version=\"1.1\" viewBox=\"0 0 561.785909 424.345285\" width=\"561.785909pt\" xmlns=\"http://www.w3.org/2000/svg\" xmlns:xlink=\"http://www.w3.org/1999/xlink\">\n",
       " <metadata>\n",
       "  <rdf:RDF xmlns:cc=\"http://creativecommons.org/ns#\" xmlns:dc=\"http://purl.org/dc/elements/1.1/\" xmlns:rdf=\"http://www.w3.org/1999/02/22-rdf-syntax-ns#\">\n",
       "   <cc:Work>\n",
       "    <dc:type rdf:resource=\"http://purl.org/dc/dcmitype/StillImage\"/>\n",
       "    <dc:date>2021-08-11T21:42:35.070759</dc:date>\n",
       "    <dc:format>image/svg+xml</dc:format>\n",
       "    <dc:creator>\n",
       "     <cc:Agent>\n",
       "      <dc:title>Matplotlib v3.4.2, https://matplotlib.org/</dc:title>\n",
       "     </cc:Agent>\n",
       "    </dc:creator>\n",
       "   </cc:Work>\n",
       "  </rdf:RDF>\n",
       " </metadata>\n",
       " <defs>\n",
       "  <style type=\"text/css\">*{stroke-linecap:butt;stroke-linejoin:round;}</style>\n",
       " </defs>\n",
       " <g id=\"figure_1\">\n",
       "  <g id=\"patch_1\">\n",
       "   <path d=\"M 0 424.345285 \n",
       "L 561.785909 424.345285 \n",
       "L 561.785909 0 \n",
       "L 0 0 \n",
       "z\n",
       "\" style=\"fill:#ffffff;\"/>\n",
       "  </g>\n",
       "  <g id=\"axes_1\">\n",
       "   <g id=\"patch_2\">\n",
       "    <path d=\"M 3.6 411.489875 \n",
       "L 553.450909 411.489875 \n",
       "L 553.450909 17.39375 \n",
       "L 3.6 17.39375 \n",
       "z\n",
       "\" style=\"fill:#ffffff;\"/>\n",
       "   </g>\n",
       "   <g id=\"matplotlib.axis_1\">\n",
       "    <g id=\"xtick_1\">\n",
       "     <g id=\"line2d_1\">\n",
       "      <defs>\n",
       "       <path d=\"M 0 0 \n",
       "L 0 -6 \n",
       "\" id=\"m28c7da80a0\" style=\"stroke:#000000;\"/>\n",
       "      </defs>\n",
       "      <g>\n",
       "       <use style=\"stroke:#000000;\" x=\"28.593223\" xlink:href=\"#m28c7da80a0\" y=\"214.442695\"/>\n",
       "      </g>\n",
       "     </g>\n",
       "     <g id=\"text_1\">\n",
       "      <!-- −10.0 -->\n",
       "      <g transform=\"translate(4.076973 230.100195)scale(0.16 -0.16)\">\n",
       "       <defs>\n",
       "        <path d=\"M 678 2272 \n",
       "L 4684 2272 \n",
       "L 4684 1741 \n",
       "L 678 1741 \n",
       "L 678 2272 \n",
       "z\n",
       "\" id=\"DejaVuSans-2212\" transform=\"scale(0.015625)\"/>\n",
       "        <path d=\"M 794 531 \n",
       "L 1825 531 \n",
       "L 1825 4091 \n",
       "L 703 3866 \n",
       "L 703 4441 \n",
       "L 1819 4666 \n",
       "L 2450 4666 \n",
       "L 2450 531 \n",
       "L 3481 531 \n",
       "L 3481 0 \n",
       "L 794 0 \n",
       "L 794 531 \n",
       "z\n",
       "\" id=\"DejaVuSans-31\" transform=\"scale(0.015625)\"/>\n",
       "        <path d=\"M 2034 4250 \n",
       "Q 1547 4250 1301 3770 \n",
       "Q 1056 3291 1056 2328 \n",
       "Q 1056 1369 1301 889 \n",
       "Q 1547 409 2034 409 \n",
       "Q 2525 409 2770 889 \n",
       "Q 3016 1369 3016 2328 \n",
       "Q 3016 3291 2770 3770 \n",
       "Q 2525 4250 2034 4250 \n",
       "z\n",
       "M 2034 4750 \n",
       "Q 2819 4750 3233 4129 \n",
       "Q 3647 3509 3647 2328 \n",
       "Q 3647 1150 3233 529 \n",
       "Q 2819 -91 2034 -91 \n",
       "Q 1250 -91 836 529 \n",
       "Q 422 1150 422 2328 \n",
       "Q 422 3509 836 4129 \n",
       "Q 1250 4750 2034 4750 \n",
       "z\n",
       "\" id=\"DejaVuSans-30\" transform=\"scale(0.015625)\"/>\n",
       "        <path d=\"M 684 794 \n",
       "L 1344 794 \n",
       "L 1344 0 \n",
       "L 684 0 \n",
       "L 684 794 \n",
       "z\n",
       "\" id=\"DejaVuSans-2e\" transform=\"scale(0.015625)\"/>\n",
       "       </defs>\n",
       "       <use xlink:href=\"#DejaVuSans-2212\"/>\n",
       "       <use x=\"83.789062\" xlink:href=\"#DejaVuSans-31\"/>\n",
       "       <use x=\"147.412109\" xlink:href=\"#DejaVuSans-30\"/>\n",
       "       <use x=\"211.035156\" xlink:href=\"#DejaVuSans-2e\"/>\n",
       "       <use x=\"242.822266\" xlink:href=\"#DejaVuSans-30\"/>\n",
       "      </g>\n",
       "     </g>\n",
       "    </g>\n",
       "    <g id=\"xtick_2\">\n",
       "     <g id=\"line2d_2\">\n",
       "      <g>\n",
       "       <use style=\"stroke:#000000;\" x=\"91.076281\" xlink:href=\"#m28c7da80a0\" y=\"214.442695\"/>\n",
       "      </g>\n",
       "     </g>\n",
       "     <g id=\"text_2\">\n",
       "      <!-- −7.5 -->\n",
       "      <g transform=\"translate(71.650031 230.100195)scale(0.16 -0.16)\">\n",
       "       <defs>\n",
       "        <path d=\"M 525 4666 \n",
       "L 3525 4666 \n",
       "L 3525 4397 \n",
       "L 1831 0 \n",
       "L 1172 0 \n",
       "L 2766 4134 \n",
       "L 525 4134 \n",
       "L 525 4666 \n",
       "z\n",
       "\" id=\"DejaVuSans-37\" transform=\"scale(0.015625)\"/>\n",
       "        <path d=\"M 691 4666 \n",
       "L 3169 4666 \n",
       "L 3169 4134 \n",
       "L 1269 4134 \n",
       "L 1269 2991 \n",
       "Q 1406 3038 1543 3061 \n",
       "Q 1681 3084 1819 3084 \n",
       "Q 2600 3084 3056 2656 \n",
       "Q 3513 2228 3513 1497 \n",
       "Q 3513 744 3044 326 \n",
       "Q 2575 -91 1722 -91 \n",
       "Q 1428 -91 1123 -41 \n",
       "Q 819 9 494 109 \n",
       "L 494 744 \n",
       "Q 775 591 1075 516 \n",
       "Q 1375 441 1709 441 \n",
       "Q 2250 441 2565 725 \n",
       "Q 2881 1009 2881 1497 \n",
       "Q 2881 1984 2565 2268 \n",
       "Q 2250 2553 1709 2553 \n",
       "Q 1456 2553 1204 2497 \n",
       "Q 953 2441 691 2322 \n",
       "L 691 4666 \n",
       "z\n",
       "\" id=\"DejaVuSans-35\" transform=\"scale(0.015625)\"/>\n",
       "       </defs>\n",
       "       <use xlink:href=\"#DejaVuSans-2212\"/>\n",
       "       <use x=\"83.789062\" xlink:href=\"#DejaVuSans-37\"/>\n",
       "       <use x=\"147.412109\" xlink:href=\"#DejaVuSans-2e\"/>\n",
       "       <use x=\"179.199219\" xlink:href=\"#DejaVuSans-35\"/>\n",
       "      </g>\n",
       "     </g>\n",
       "    </g>\n",
       "    <g id=\"xtick_3\">\n",
       "     <g id=\"line2d_3\">\n",
       "      <g>\n",
       "       <use style=\"stroke:#000000;\" x=\"153.559339\" xlink:href=\"#m28c7da80a0\" y=\"214.442695\"/>\n",
       "      </g>\n",
       "     </g>\n",
       "     <g id=\"text_3\">\n",
       "      <!-- −5.0 -->\n",
       "      <g transform=\"translate(134.133089 230.100195)scale(0.16 -0.16)\">\n",
       "       <use xlink:href=\"#DejaVuSans-2212\"/>\n",
       "       <use x=\"83.789062\" xlink:href=\"#DejaVuSans-35\"/>\n",
       "       <use x=\"147.412109\" xlink:href=\"#DejaVuSans-2e\"/>\n",
       "       <use x=\"179.199219\" xlink:href=\"#DejaVuSans-30\"/>\n",
       "      </g>\n",
       "     </g>\n",
       "    </g>\n",
       "    <g id=\"xtick_4\">\n",
       "     <g id=\"line2d_4\">\n",
       "      <g>\n",
       "       <use style=\"stroke:#000000;\" x=\"216.042397\" xlink:href=\"#m28c7da80a0\" y=\"214.442695\"/>\n",
       "      </g>\n",
       "     </g>\n",
       "     <g id=\"text_4\">\n",
       "      <!-- −2.5 -->\n",
       "      <g transform=\"translate(196.616147 230.100195)scale(0.16 -0.16)\">\n",
       "       <defs>\n",
       "        <path d=\"M 1228 531 \n",
       "L 3431 531 \n",
       "L 3431 0 \n",
       "L 469 0 \n",
       "L 469 531 \n",
       "Q 828 903 1448 1529 \n",
       "Q 2069 2156 2228 2338 \n",
       "Q 2531 2678 2651 2914 \n",
       "Q 2772 3150 2772 3378 \n",
       "Q 2772 3750 2511 3984 \n",
       "Q 2250 4219 1831 4219 \n",
       "Q 1534 4219 1204 4116 \n",
       "Q 875 4013 500 3803 \n",
       "L 500 4441 \n",
       "Q 881 4594 1212 4672 \n",
       "Q 1544 4750 1819 4750 \n",
       "Q 2544 4750 2975 4387 \n",
       "Q 3406 4025 3406 3419 \n",
       "Q 3406 3131 3298 2873 \n",
       "Q 3191 2616 2906 2266 \n",
       "Q 2828 2175 2409 1742 \n",
       "Q 1991 1309 1228 531 \n",
       "z\n",
       "\" id=\"DejaVuSans-32\" transform=\"scale(0.015625)\"/>\n",
       "       </defs>\n",
       "       <use xlink:href=\"#DejaVuSans-2212\"/>\n",
       "       <use x=\"83.789062\" xlink:href=\"#DejaVuSans-32\"/>\n",
       "       <use x=\"147.412109\" xlink:href=\"#DejaVuSans-2e\"/>\n",
       "       <use x=\"179.199219\" xlink:href=\"#DejaVuSans-35\"/>\n",
       "      </g>\n",
       "     </g>\n",
       "    </g>\n",
       "    <g id=\"xtick_5\">\n",
       "     <g id=\"line2d_5\">\n",
       "      <g>\n",
       "       <use style=\"stroke:#000000;\" x=\"278.525455\" xlink:href=\"#m28c7da80a0\" y=\"214.442695\"/>\n",
       "      </g>\n",
       "     </g>\n",
       "     <g id=\"text_5\">\n",
       "      <!-- 0.0 -->\n",
       "      <g transform=\"translate(265.802955 230.100195)scale(0.16 -0.16)\">\n",
       "       <use xlink:href=\"#DejaVuSans-30\"/>\n",
       "       <use x=\"63.623047\" xlink:href=\"#DejaVuSans-2e\"/>\n",
       "       <use x=\"95.410156\" xlink:href=\"#DejaVuSans-30\"/>\n",
       "      </g>\n",
       "     </g>\n",
       "    </g>\n",
       "    <g id=\"xtick_6\">\n",
       "     <g id=\"line2d_6\">\n",
       "      <g>\n",
       "       <use style=\"stroke:#000000;\" x=\"341.008512\" xlink:href=\"#m28c7da80a0\" y=\"214.442695\"/>\n",
       "      </g>\n",
       "     </g>\n",
       "     <g id=\"text_6\">\n",
       "      <!-- 2.5 -->\n",
       "      <g transform=\"translate(328.286012 230.100195)scale(0.16 -0.16)\">\n",
       "       <use xlink:href=\"#DejaVuSans-32\"/>\n",
       "       <use x=\"63.623047\" xlink:href=\"#DejaVuSans-2e\"/>\n",
       "       <use x=\"95.410156\" xlink:href=\"#DejaVuSans-35\"/>\n",
       "      </g>\n",
       "     </g>\n",
       "    </g>\n",
       "    <g id=\"xtick_7\">\n",
       "     <g id=\"line2d_7\">\n",
       "      <g>\n",
       "       <use style=\"stroke:#000000;\" x=\"403.49157\" xlink:href=\"#m28c7da80a0\" y=\"214.442695\"/>\n",
       "      </g>\n",
       "     </g>\n",
       "     <g id=\"text_7\">\n",
       "      <!-- 5.0 -->\n",
       "      <g transform=\"translate(390.76907 230.100195)scale(0.16 -0.16)\">\n",
       "       <use xlink:href=\"#DejaVuSans-35\"/>\n",
       "       <use x=\"63.623047\" xlink:href=\"#DejaVuSans-2e\"/>\n",
       "       <use x=\"95.410156\" xlink:href=\"#DejaVuSans-30\"/>\n",
       "      </g>\n",
       "     </g>\n",
       "    </g>\n",
       "    <g id=\"xtick_8\">\n",
       "     <g id=\"line2d_8\">\n",
       "      <g>\n",
       "       <use style=\"stroke:#000000;\" x=\"465.974628\" xlink:href=\"#m28c7da80a0\" y=\"214.442695\"/>\n",
       "      </g>\n",
       "     </g>\n",
       "     <g id=\"text_8\">\n",
       "      <!-- 7.5 -->\n",
       "      <g transform=\"translate(453.252128 230.100195)scale(0.16 -0.16)\">\n",
       "       <use xlink:href=\"#DejaVuSans-37\"/>\n",
       "       <use x=\"63.623047\" xlink:href=\"#DejaVuSans-2e\"/>\n",
       "       <use x=\"95.410156\" xlink:href=\"#DejaVuSans-35\"/>\n",
       "      </g>\n",
       "     </g>\n",
       "    </g>\n",
       "    <g id=\"xtick_9\">\n",
       "     <g id=\"line2d_9\">\n",
       "      <g>\n",
       "       <use style=\"stroke:#000000;\" x=\"528.457686\" xlink:href=\"#m28c7da80a0\" y=\"214.442695\"/>\n",
       "      </g>\n",
       "     </g>\n",
       "     <g id=\"text_9\">\n",
       "      <!-- 10.0 -->\n",
       "      <g transform=\"translate(510.645186 230.100195)scale(0.16 -0.16)\">\n",
       "       <use xlink:href=\"#DejaVuSans-31\"/>\n",
       "       <use x=\"63.623047\" xlink:href=\"#DejaVuSans-30\"/>\n",
       "       <use x=\"127.246094\" xlink:href=\"#DejaVuSans-2e\"/>\n",
       "       <use x=\"159.033203\" xlink:href=\"#DejaVuSans-30\"/>\n",
       "      </g>\n",
       "     </g>\n",
       "    </g>\n",
       "    <g id=\"xtick_10\">\n",
       "     <g id=\"line2d_10\">\n",
       "      <defs>\n",
       "       <path d=\"M 0 0 \n",
       "L 0 -3 \n",
       "\" id=\"mb6668e3db0\" style=\"stroke:#000000;\"/>\n",
       "      </defs>\n",
       "      <g>\n",
       "       <use style=\"stroke:#000000;\" x=\"16.096612\" xlink:href=\"#mb6668e3db0\" y=\"214.442695\"/>\n",
       "      </g>\n",
       "     </g>\n",
       "    </g>\n",
       "    <g id=\"xtick_11\">\n",
       "     <g id=\"line2d_11\">\n",
       "      <g>\n",
       "       <use style=\"stroke:#000000;\" x=\"41.089835\" xlink:href=\"#mb6668e3db0\" y=\"214.442695\"/>\n",
       "      </g>\n",
       "     </g>\n",
       "    </g>\n",
       "    <g id=\"xtick_12\">\n",
       "     <g id=\"line2d_12\">\n",
       "      <g>\n",
       "       <use style=\"stroke:#000000;\" x=\"53.586446\" xlink:href=\"#mb6668e3db0\" y=\"214.442695\"/>\n",
       "      </g>\n",
       "     </g>\n",
       "    </g>\n",
       "    <g id=\"xtick_13\">\n",
       "     <g id=\"line2d_13\">\n",
       "      <g>\n",
       "       <use style=\"stroke:#000000;\" x=\"66.083058\" xlink:href=\"#mb6668e3db0\" y=\"214.442695\"/>\n",
       "      </g>\n",
       "     </g>\n",
       "    </g>\n",
       "    <g id=\"xtick_14\">\n",
       "     <g id=\"line2d_14\">\n",
       "      <g>\n",
       "       <use style=\"stroke:#000000;\" x=\"78.579669\" xlink:href=\"#mb6668e3db0\" y=\"214.442695\"/>\n",
       "      </g>\n",
       "     </g>\n",
       "    </g>\n",
       "    <g id=\"xtick_15\">\n",
       "     <g id=\"line2d_15\">\n",
       "      <g>\n",
       "       <use style=\"stroke:#000000;\" x=\"103.572893\" xlink:href=\"#mb6668e3db0\" y=\"214.442695\"/>\n",
       "      </g>\n",
       "     </g>\n",
       "    </g>\n",
       "    <g id=\"xtick_16\">\n",
       "     <g id=\"line2d_16\">\n",
       "      <g>\n",
       "       <use style=\"stroke:#000000;\" x=\"116.069504\" xlink:href=\"#mb6668e3db0\" y=\"214.442695\"/>\n",
       "      </g>\n",
       "     </g>\n",
       "    </g>\n",
       "    <g id=\"xtick_17\">\n",
       "     <g id=\"line2d_17\">\n",
       "      <g>\n",
       "       <use style=\"stroke:#000000;\" x=\"128.566116\" xlink:href=\"#mb6668e3db0\" y=\"214.442695\"/>\n",
       "      </g>\n",
       "     </g>\n",
       "    </g>\n",
       "    <g id=\"xtick_18\">\n",
       "     <g id=\"line2d_18\">\n",
       "      <g>\n",
       "       <use style=\"stroke:#000000;\" x=\"141.062727\" xlink:href=\"#mb6668e3db0\" y=\"214.442695\"/>\n",
       "      </g>\n",
       "     </g>\n",
       "    </g>\n",
       "    <g id=\"xtick_19\">\n",
       "     <g id=\"line2d_19\">\n",
       "      <g>\n",
       "       <use style=\"stroke:#000000;\" x=\"166.05595\" xlink:href=\"#mb6668e3db0\" y=\"214.442695\"/>\n",
       "      </g>\n",
       "     </g>\n",
       "    </g>\n",
       "    <g id=\"xtick_20\">\n",
       "     <g id=\"line2d_20\">\n",
       "      <g>\n",
       "       <use style=\"stroke:#000000;\" x=\"178.552562\" xlink:href=\"#mb6668e3db0\" y=\"214.442695\"/>\n",
       "      </g>\n",
       "     </g>\n",
       "    </g>\n",
       "    <g id=\"xtick_21\">\n",
       "     <g id=\"line2d_21\">\n",
       "      <g>\n",
       "       <use style=\"stroke:#000000;\" x=\"191.049174\" xlink:href=\"#mb6668e3db0\" y=\"214.442695\"/>\n",
       "      </g>\n",
       "     </g>\n",
       "    </g>\n",
       "    <g id=\"xtick_22\">\n",
       "     <g id=\"line2d_22\">\n",
       "      <g>\n",
       "       <use style=\"stroke:#000000;\" x=\"203.545785\" xlink:href=\"#mb6668e3db0\" y=\"214.442695\"/>\n",
       "      </g>\n",
       "     </g>\n",
       "    </g>\n",
       "    <g id=\"xtick_23\">\n",
       "     <g id=\"line2d_23\">\n",
       "      <g>\n",
       "       <use style=\"stroke:#000000;\" x=\"228.539008\" xlink:href=\"#mb6668e3db0\" y=\"214.442695\"/>\n",
       "      </g>\n",
       "     </g>\n",
       "    </g>\n",
       "    <g id=\"xtick_24\">\n",
       "     <g id=\"line2d_24\">\n",
       "      <g>\n",
       "       <use style=\"stroke:#000000;\" x=\"241.03562\" xlink:href=\"#mb6668e3db0\" y=\"214.442695\"/>\n",
       "      </g>\n",
       "     </g>\n",
       "    </g>\n",
       "    <g id=\"xtick_25\">\n",
       "     <g id=\"line2d_25\">\n",
       "      <g>\n",
       "       <use style=\"stroke:#000000;\" x=\"253.532231\" xlink:href=\"#mb6668e3db0\" y=\"214.442695\"/>\n",
       "      </g>\n",
       "     </g>\n",
       "    </g>\n",
       "    <g id=\"xtick_26\">\n",
       "     <g id=\"line2d_26\">\n",
       "      <g>\n",
       "       <use style=\"stroke:#000000;\" x=\"266.028843\" xlink:href=\"#mb6668e3db0\" y=\"214.442695\"/>\n",
       "      </g>\n",
       "     </g>\n",
       "    </g>\n",
       "    <g id=\"xtick_27\">\n",
       "     <g id=\"line2d_27\">\n",
       "      <g>\n",
       "       <use style=\"stroke:#000000;\" x=\"291.022066\" xlink:href=\"#mb6668e3db0\" y=\"214.442695\"/>\n",
       "      </g>\n",
       "     </g>\n",
       "    </g>\n",
       "    <g id=\"xtick_28\">\n",
       "     <g id=\"line2d_28\">\n",
       "      <g>\n",
       "       <use style=\"stroke:#000000;\" x=\"303.518678\" xlink:href=\"#mb6668e3db0\" y=\"214.442695\"/>\n",
       "      </g>\n",
       "     </g>\n",
       "    </g>\n",
       "    <g id=\"xtick_29\">\n",
       "     <g id=\"line2d_29\">\n",
       "      <g>\n",
       "       <use style=\"stroke:#000000;\" x=\"316.015289\" xlink:href=\"#mb6668e3db0\" y=\"214.442695\"/>\n",
       "      </g>\n",
       "     </g>\n",
       "    </g>\n",
       "    <g id=\"xtick_30\">\n",
       "     <g id=\"line2d_30\">\n",
       "      <g>\n",
       "       <use style=\"stroke:#000000;\" x=\"328.511901\" xlink:href=\"#mb6668e3db0\" y=\"214.442695\"/>\n",
       "      </g>\n",
       "     </g>\n",
       "    </g>\n",
       "    <g id=\"xtick_31\">\n",
       "     <g id=\"line2d_31\">\n",
       "      <g>\n",
       "       <use style=\"stroke:#000000;\" x=\"353.505124\" xlink:href=\"#mb6668e3db0\" y=\"214.442695\"/>\n",
       "      </g>\n",
       "     </g>\n",
       "    </g>\n",
       "    <g id=\"xtick_32\">\n",
       "     <g id=\"line2d_32\">\n",
       "      <g>\n",
       "       <use style=\"stroke:#000000;\" x=\"366.001736\" xlink:href=\"#mb6668e3db0\" y=\"214.442695\"/>\n",
       "      </g>\n",
       "     </g>\n",
       "    </g>\n",
       "    <g id=\"xtick_33\">\n",
       "     <g id=\"line2d_33\">\n",
       "      <g>\n",
       "       <use style=\"stroke:#000000;\" x=\"378.498347\" xlink:href=\"#mb6668e3db0\" y=\"214.442695\"/>\n",
       "      </g>\n",
       "     </g>\n",
       "    </g>\n",
       "    <g id=\"xtick_34\">\n",
       "     <g id=\"line2d_34\">\n",
       "      <g>\n",
       "       <use style=\"stroke:#000000;\" x=\"390.994959\" xlink:href=\"#mb6668e3db0\" y=\"214.442695\"/>\n",
       "      </g>\n",
       "     </g>\n",
       "    </g>\n",
       "    <g id=\"xtick_35\">\n",
       "     <g id=\"line2d_35\">\n",
       "      <g>\n",
       "       <use style=\"stroke:#000000;\" x=\"415.988182\" xlink:href=\"#mb6668e3db0\" y=\"214.442695\"/>\n",
       "      </g>\n",
       "     </g>\n",
       "    </g>\n",
       "    <g id=\"xtick_36\">\n",
       "     <g id=\"line2d_36\">\n",
       "      <g>\n",
       "       <use style=\"stroke:#000000;\" x=\"428.484793\" xlink:href=\"#mb6668e3db0\" y=\"214.442695\"/>\n",
       "      </g>\n",
       "     </g>\n",
       "    </g>\n",
       "    <g id=\"xtick_37\">\n",
       "     <g id=\"line2d_37\">\n",
       "      <g>\n",
       "       <use style=\"stroke:#000000;\" x=\"440.981405\" xlink:href=\"#mb6668e3db0\" y=\"214.442695\"/>\n",
       "      </g>\n",
       "     </g>\n",
       "    </g>\n",
       "    <g id=\"xtick_38\">\n",
       "     <g id=\"line2d_38\">\n",
       "      <g>\n",
       "       <use style=\"stroke:#000000;\" x=\"453.478017\" xlink:href=\"#mb6668e3db0\" y=\"214.442695\"/>\n",
       "      </g>\n",
       "     </g>\n",
       "    </g>\n",
       "    <g id=\"xtick_39\">\n",
       "     <g id=\"line2d_39\">\n",
       "      <g>\n",
       "       <use style=\"stroke:#000000;\" x=\"478.47124\" xlink:href=\"#mb6668e3db0\" y=\"214.442695\"/>\n",
       "      </g>\n",
       "     </g>\n",
       "    </g>\n",
       "    <g id=\"xtick_40\">\n",
       "     <g id=\"line2d_40\">\n",
       "      <g>\n",
       "       <use style=\"stroke:#000000;\" x=\"490.967851\" xlink:href=\"#mb6668e3db0\" y=\"214.442695\"/>\n",
       "      </g>\n",
       "     </g>\n",
       "    </g>\n",
       "    <g id=\"xtick_41\">\n",
       "     <g id=\"line2d_41\">\n",
       "      <g>\n",
       "       <use style=\"stroke:#000000;\" x=\"503.464463\" xlink:href=\"#mb6668e3db0\" y=\"214.442695\"/>\n",
       "      </g>\n",
       "     </g>\n",
       "    </g>\n",
       "    <g id=\"xtick_42\">\n",
       "     <g id=\"line2d_42\">\n",
       "      <g>\n",
       "       <use style=\"stroke:#000000;\" x=\"515.961074\" xlink:href=\"#mb6668e3db0\" y=\"214.442695\"/>\n",
       "      </g>\n",
       "     </g>\n",
       "    </g>\n",
       "    <g id=\"xtick_43\">\n",
       "     <g id=\"line2d_43\">\n",
       "      <g>\n",
       "       <use style=\"stroke:#000000;\" x=\"540.954298\" xlink:href=\"#mb6668e3db0\" y=\"214.442695\"/>\n",
       "      </g>\n",
       "     </g>\n",
       "    </g>\n",
       "    <g id=\"xtick_44\">\n",
       "     <g id=\"line2d_44\">\n",
       "      <g>\n",
       "       <use style=\"stroke:#000000;\" x=\"553.450909\" xlink:href=\"#mb6668e3db0\" y=\"214.442695\"/>\n",
       "      </g>\n",
       "     </g>\n",
       "    </g>\n",
       "    <g id=\"text_10\">\n",
       "     <!-- x -->\n",
       "     <g transform=\"translate(548.715909 249.585195)scale(0.16 -0.16)\">\n",
       "      <defs>\n",
       "       <path d=\"M 3513 3500 \n",
       "L 2247 1797 \n",
       "L 3578 0 \n",
       "L 2900 0 \n",
       "L 1881 1375 \n",
       "L 863 0 \n",
       "L 184 0 \n",
       "L 1544 1831 \n",
       "L 300 3500 \n",
       "L 978 3500 \n",
       "L 1906 2253 \n",
       "L 2834 3500 \n",
       "L 3513 3500 \n",
       "z\n",
       "\" id=\"DejaVuSans-78\" transform=\"scale(0.015625)\"/>\n",
       "      </defs>\n",
       "      <use xlink:href=\"#DejaVuSans-78\"/>\n",
       "     </g>\n",
       "    </g>\n",
       "   </g>\n",
       "   <g id=\"matplotlib.axis_2\">\n",
       "    <g id=\"ytick_1\">\n",
       "     <g id=\"line2d_45\">\n",
       "      <defs>\n",
       "       <path d=\"M 0 0 \n",
       "L 6 0 \n",
       "\" id=\"mc8df4a038d\" style=\"stroke:#000000;\"/>\n",
       "      </defs>\n",
       "      <g>\n",
       "       <use style=\"stroke:#000000;\" x=\"278.525455\" xlink:href=\"#mc8df4a038d\" y=\"411.339035\"/>\n",
       "      </g>\n",
       "     </g>\n",
       "     <g id=\"text_11\">\n",
       "      <!-- −2.0 -->\n",
       "      <g transform=\"translate(236.172955 417.417785)scale(0.16 -0.16)\">\n",
       "       <use xlink:href=\"#DejaVuSans-2212\"/>\n",
       "       <use x=\"83.789062\" xlink:href=\"#DejaVuSans-32\"/>\n",
       "       <use x=\"147.412109\" xlink:href=\"#DejaVuSans-2e\"/>\n",
       "       <use x=\"179.199219\" xlink:href=\"#DejaVuSans-30\"/>\n",
       "      </g>\n",
       "     </g>\n",
       "    </g>\n",
       "    <g id=\"ytick_2\">\n",
       "     <g id=\"line2d_46\">\n",
       "      <g>\n",
       "       <use style=\"stroke:#000000;\" x=\"278.525455\" xlink:href=\"#mc8df4a038d\" y=\"362.11495\"/>\n",
       "      </g>\n",
       "     </g>\n",
       "     <g id=\"text_12\">\n",
       "      <!-- −1.5 -->\n",
       "      <g transform=\"translate(236.172955 368.1937)scale(0.16 -0.16)\">\n",
       "       <use xlink:href=\"#DejaVuSans-2212\"/>\n",
       "       <use x=\"83.789062\" xlink:href=\"#DejaVuSans-31\"/>\n",
       "       <use x=\"147.412109\" xlink:href=\"#DejaVuSans-2e\"/>\n",
       "       <use x=\"179.199219\" xlink:href=\"#DejaVuSans-35\"/>\n",
       "      </g>\n",
       "     </g>\n",
       "    </g>\n",
       "    <g id=\"ytick_3\">\n",
       "     <g id=\"line2d_47\">\n",
       "      <g>\n",
       "       <use style=\"stroke:#000000;\" x=\"278.525455\" xlink:href=\"#mc8df4a038d\" y=\"312.890865\"/>\n",
       "      </g>\n",
       "     </g>\n",
       "     <g id=\"text_13\">\n",
       "      <!-- −1.0 -->\n",
       "      <g transform=\"translate(236.172955 318.969615)scale(0.16 -0.16)\">\n",
       "       <use xlink:href=\"#DejaVuSans-2212\"/>\n",
       "       <use x=\"83.789062\" xlink:href=\"#DejaVuSans-31\"/>\n",
       "       <use x=\"147.412109\" xlink:href=\"#DejaVuSans-2e\"/>\n",
       "       <use x=\"179.199219\" xlink:href=\"#DejaVuSans-30\"/>\n",
       "      </g>\n",
       "     </g>\n",
       "    </g>\n",
       "    <g id=\"ytick_4\">\n",
       "     <g id=\"line2d_48\">\n",
       "      <g>\n",
       "       <use style=\"stroke:#000000;\" x=\"278.525455\" xlink:href=\"#mc8df4a038d\" y=\"263.66678\"/>\n",
       "      </g>\n",
       "     </g>\n",
       "     <g id=\"text_14\">\n",
       "      <!-- −0.5 -->\n",
       "      <g transform=\"translate(236.172955 269.74553)scale(0.16 -0.16)\">\n",
       "       <use xlink:href=\"#DejaVuSans-2212\"/>\n",
       "       <use x=\"83.789062\" xlink:href=\"#DejaVuSans-30\"/>\n",
       "       <use x=\"147.412109\" xlink:href=\"#DejaVuSans-2e\"/>\n",
       "       <use x=\"179.199219\" xlink:href=\"#DejaVuSans-35\"/>\n",
       "      </g>\n",
       "     </g>\n",
       "    </g>\n",
       "    <g id=\"ytick_5\">\n",
       "     <g id=\"line2d_49\">\n",
       "      <g>\n",
       "       <use style=\"stroke:#000000;\" x=\"278.525455\" xlink:href=\"#mc8df4a038d\" y=\"214.442695\"/>\n",
       "      </g>\n",
       "     </g>\n",
       "     <g id=\"text_15\">\n",
       "      <!-- 0.0 -->\n",
       "      <g transform=\"translate(249.580455 220.521445)scale(0.16 -0.16)\">\n",
       "       <use xlink:href=\"#DejaVuSans-30\"/>\n",
       "       <use x=\"63.623047\" xlink:href=\"#DejaVuSans-2e\"/>\n",
       "       <use x=\"95.410156\" xlink:href=\"#DejaVuSans-30\"/>\n",
       "      </g>\n",
       "     </g>\n",
       "    </g>\n",
       "    <g id=\"ytick_6\">\n",
       "     <g id=\"line2d_50\">\n",
       "      <g>\n",
       "       <use style=\"stroke:#000000;\" x=\"278.525455\" xlink:href=\"#mc8df4a038d\" y=\"165.21861\"/>\n",
       "      </g>\n",
       "     </g>\n",
       "     <g id=\"text_16\">\n",
       "      <!-- 0.5 -->\n",
       "      <g transform=\"translate(249.580455 171.29736)scale(0.16 -0.16)\">\n",
       "       <use xlink:href=\"#DejaVuSans-30\"/>\n",
       "       <use x=\"63.623047\" xlink:href=\"#DejaVuSans-2e\"/>\n",
       "       <use x=\"95.410156\" xlink:href=\"#DejaVuSans-35\"/>\n",
       "      </g>\n",
       "     </g>\n",
       "    </g>\n",
       "    <g id=\"ytick_7\">\n",
       "     <g id=\"line2d_51\">\n",
       "      <g>\n",
       "       <use style=\"stroke:#000000;\" x=\"278.525455\" xlink:href=\"#mc8df4a038d\" y=\"115.994525\"/>\n",
       "      </g>\n",
       "     </g>\n",
       "     <g id=\"text_17\">\n",
       "      <!-- 1.0 -->\n",
       "      <g transform=\"translate(249.580455 122.073275)scale(0.16 -0.16)\">\n",
       "       <use xlink:href=\"#DejaVuSans-31\"/>\n",
       "       <use x=\"63.623047\" xlink:href=\"#DejaVuSans-2e\"/>\n",
       "       <use x=\"95.410156\" xlink:href=\"#DejaVuSans-30\"/>\n",
       "      </g>\n",
       "     </g>\n",
       "    </g>\n",
       "    <g id=\"ytick_8\">\n",
       "     <g id=\"line2d_52\">\n",
       "      <g>\n",
       "       <use style=\"stroke:#000000;\" x=\"278.525455\" xlink:href=\"#mc8df4a038d\" y=\"66.77044\"/>\n",
       "      </g>\n",
       "     </g>\n",
       "     <g id=\"text_18\">\n",
       "      <!-- 1.5 -->\n",
       "      <g transform=\"translate(249.580455 72.84919)scale(0.16 -0.16)\">\n",
       "       <use xlink:href=\"#DejaVuSans-31\"/>\n",
       "       <use x=\"63.623047\" xlink:href=\"#DejaVuSans-2e\"/>\n",
       "       <use x=\"95.410156\" xlink:href=\"#DejaVuSans-35\"/>\n",
       "      </g>\n",
       "     </g>\n",
       "    </g>\n",
       "    <g id=\"ytick_9\">\n",
       "     <g id=\"line2d_53\">\n",
       "      <g>\n",
       "       <use style=\"stroke:#000000;\" x=\"278.525455\" xlink:href=\"#mc8df4a038d\" y=\"17.546355\"/>\n",
       "      </g>\n",
       "     </g>\n",
       "     <g id=\"text_19\">\n",
       "      <!-- 2.0 -->\n",
       "      <g transform=\"translate(249.580455 23.625105)scale(0.16 -0.16)\">\n",
       "       <use xlink:href=\"#DejaVuSans-32\"/>\n",
       "       <use x=\"63.623047\" xlink:href=\"#DejaVuSans-2e\"/>\n",
       "       <use x=\"95.410156\" xlink:href=\"#DejaVuSans-30\"/>\n",
       "      </g>\n",
       "     </g>\n",
       "    </g>\n",
       "    <g id=\"ytick_10\">\n",
       "     <g id=\"line2d_54\">\n",
       "      <defs>\n",
       "       <path d=\"M 0 0 \n",
       "L 3 0 \n",
       "\" id=\"m4102c94fbe\" style=\"stroke:#000000;\"/>\n",
       "      </defs>\n",
       "      <g>\n",
       "       <use style=\"stroke:#000000;\" x=\"278.525455\" xlink:href=\"#m4102c94fbe\" y=\"401.494218\"/>\n",
       "      </g>\n",
       "     </g>\n",
       "    </g>\n",
       "    <g id=\"ytick_11\">\n",
       "     <g id=\"line2d_55\">\n",
       "      <g>\n",
       "       <use style=\"stroke:#000000;\" x=\"278.525455\" xlink:href=\"#m4102c94fbe\" y=\"391.649401\"/>\n",
       "      </g>\n",
       "     </g>\n",
       "    </g>\n",
       "    <g id=\"ytick_12\">\n",
       "     <g id=\"line2d_56\">\n",
       "      <g>\n",
       "       <use style=\"stroke:#000000;\" x=\"278.525455\" xlink:href=\"#m4102c94fbe\" y=\"381.804584\"/>\n",
       "      </g>\n",
       "     </g>\n",
       "    </g>\n",
       "    <g id=\"ytick_13\">\n",
       "     <g id=\"line2d_57\">\n",
       "      <g>\n",
       "       <use style=\"stroke:#000000;\" x=\"278.525455\" xlink:href=\"#m4102c94fbe\" y=\"371.959767\"/>\n",
       "      </g>\n",
       "     </g>\n",
       "    </g>\n",
       "    <g id=\"ytick_14\">\n",
       "     <g id=\"line2d_58\">\n",
       "      <g>\n",
       "       <use style=\"stroke:#000000;\" x=\"278.525455\" xlink:href=\"#m4102c94fbe\" y=\"352.270133\"/>\n",
       "      </g>\n",
       "     </g>\n",
       "    </g>\n",
       "    <g id=\"ytick_15\">\n",
       "     <g id=\"line2d_59\">\n",
       "      <g>\n",
       "       <use style=\"stroke:#000000;\" x=\"278.525455\" xlink:href=\"#m4102c94fbe\" y=\"342.425316\"/>\n",
       "      </g>\n",
       "     </g>\n",
       "    </g>\n",
       "    <g id=\"ytick_16\">\n",
       "     <g id=\"line2d_60\">\n",
       "      <g>\n",
       "       <use style=\"stroke:#000000;\" x=\"278.525455\" xlink:href=\"#m4102c94fbe\" y=\"332.580499\"/>\n",
       "      </g>\n",
       "     </g>\n",
       "    </g>\n",
       "    <g id=\"ytick_17\">\n",
       "     <g id=\"line2d_61\">\n",
       "      <g>\n",
       "       <use style=\"stroke:#000000;\" x=\"278.525455\" xlink:href=\"#m4102c94fbe\" y=\"322.735682\"/>\n",
       "      </g>\n",
       "     </g>\n",
       "    </g>\n",
       "    <g id=\"ytick_18\">\n",
       "     <g id=\"line2d_62\">\n",
       "      <g>\n",
       "       <use style=\"stroke:#000000;\" x=\"278.525455\" xlink:href=\"#m4102c94fbe\" y=\"303.046048\"/>\n",
       "      </g>\n",
       "     </g>\n",
       "    </g>\n",
       "    <g id=\"ytick_19\">\n",
       "     <g id=\"line2d_63\">\n",
       "      <g>\n",
       "       <use style=\"stroke:#000000;\" x=\"278.525455\" xlink:href=\"#m4102c94fbe\" y=\"293.201231\"/>\n",
       "      </g>\n",
       "     </g>\n",
       "    </g>\n",
       "    <g id=\"ytick_20\">\n",
       "     <g id=\"line2d_64\">\n",
       "      <g>\n",
       "       <use style=\"stroke:#000000;\" x=\"278.525455\" xlink:href=\"#m4102c94fbe\" y=\"283.356414\"/>\n",
       "      </g>\n",
       "     </g>\n",
       "    </g>\n",
       "    <g id=\"ytick_21\">\n",
       "     <g id=\"line2d_65\">\n",
       "      <g>\n",
       "       <use style=\"stroke:#000000;\" x=\"278.525455\" xlink:href=\"#m4102c94fbe\" y=\"273.511597\"/>\n",
       "      </g>\n",
       "     </g>\n",
       "    </g>\n",
       "    <g id=\"ytick_22\">\n",
       "     <g id=\"line2d_66\">\n",
       "      <g>\n",
       "       <use style=\"stroke:#000000;\" x=\"278.525455\" xlink:href=\"#m4102c94fbe\" y=\"253.821963\"/>\n",
       "      </g>\n",
       "     </g>\n",
       "    </g>\n",
       "    <g id=\"ytick_23\">\n",
       "     <g id=\"line2d_67\">\n",
       "      <g>\n",
       "       <use style=\"stroke:#000000;\" x=\"278.525455\" xlink:href=\"#m4102c94fbe\" y=\"243.977146\"/>\n",
       "      </g>\n",
       "     </g>\n",
       "    </g>\n",
       "    <g id=\"ytick_24\">\n",
       "     <g id=\"line2d_68\">\n",
       "      <g>\n",
       "       <use style=\"stroke:#000000;\" x=\"278.525455\" xlink:href=\"#m4102c94fbe\" y=\"234.132329\"/>\n",
       "      </g>\n",
       "     </g>\n",
       "    </g>\n",
       "    <g id=\"ytick_25\">\n",
       "     <g id=\"line2d_69\">\n",
       "      <g>\n",
       "       <use style=\"stroke:#000000;\" x=\"278.525455\" xlink:href=\"#m4102c94fbe\" y=\"224.287512\"/>\n",
       "      </g>\n",
       "     </g>\n",
       "    </g>\n",
       "    <g id=\"ytick_26\">\n",
       "     <g id=\"line2d_70\">\n",
       "      <g>\n",
       "       <use style=\"stroke:#000000;\" x=\"278.525455\" xlink:href=\"#m4102c94fbe\" y=\"204.597878\"/>\n",
       "      </g>\n",
       "     </g>\n",
       "    </g>\n",
       "    <g id=\"ytick_27\">\n",
       "     <g id=\"line2d_71\">\n",
       "      <g>\n",
       "       <use style=\"stroke:#000000;\" x=\"278.525455\" xlink:href=\"#m4102c94fbe\" y=\"194.753061\"/>\n",
       "      </g>\n",
       "     </g>\n",
       "    </g>\n",
       "    <g id=\"ytick_28\">\n",
       "     <g id=\"line2d_72\">\n",
       "      <g>\n",
       "       <use style=\"stroke:#000000;\" x=\"278.525455\" xlink:href=\"#m4102c94fbe\" y=\"184.908244\"/>\n",
       "      </g>\n",
       "     </g>\n",
       "    </g>\n",
       "    <g id=\"ytick_29\">\n",
       "     <g id=\"line2d_73\">\n",
       "      <g>\n",
       "       <use style=\"stroke:#000000;\" x=\"278.525455\" xlink:href=\"#m4102c94fbe\" y=\"175.063427\"/>\n",
       "      </g>\n",
       "     </g>\n",
       "    </g>\n",
       "    <g id=\"ytick_30\">\n",
       "     <g id=\"line2d_74\">\n",
       "      <g>\n",
       "       <use style=\"stroke:#000000;\" x=\"278.525455\" xlink:href=\"#m4102c94fbe\" y=\"155.373793\"/>\n",
       "      </g>\n",
       "     </g>\n",
       "    </g>\n",
       "    <g id=\"ytick_31\">\n",
       "     <g id=\"line2d_75\">\n",
       "      <g>\n",
       "       <use style=\"stroke:#000000;\" x=\"278.525455\" xlink:href=\"#m4102c94fbe\" y=\"145.528976\"/>\n",
       "      </g>\n",
       "     </g>\n",
       "    </g>\n",
       "    <g id=\"ytick_32\">\n",
       "     <g id=\"line2d_76\">\n",
       "      <g>\n",
       "       <use style=\"stroke:#000000;\" x=\"278.525455\" xlink:href=\"#m4102c94fbe\" y=\"135.684159\"/>\n",
       "      </g>\n",
       "     </g>\n",
       "    </g>\n",
       "    <g id=\"ytick_33\">\n",
       "     <g id=\"line2d_77\">\n",
       "      <g>\n",
       "       <use style=\"stroke:#000000;\" x=\"278.525455\" xlink:href=\"#m4102c94fbe\" y=\"125.839342\"/>\n",
       "      </g>\n",
       "     </g>\n",
       "    </g>\n",
       "    <g id=\"ytick_34\">\n",
       "     <g id=\"line2d_78\">\n",
       "      <g>\n",
       "       <use style=\"stroke:#000000;\" x=\"278.525455\" xlink:href=\"#m4102c94fbe\" y=\"106.149708\"/>\n",
       "      </g>\n",
       "     </g>\n",
       "    </g>\n",
       "    <g id=\"ytick_35\">\n",
       "     <g id=\"line2d_79\">\n",
       "      <g>\n",
       "       <use style=\"stroke:#000000;\" x=\"278.525455\" xlink:href=\"#m4102c94fbe\" y=\"96.304891\"/>\n",
       "      </g>\n",
       "     </g>\n",
       "    </g>\n",
       "    <g id=\"ytick_36\">\n",
       "     <g id=\"line2d_80\">\n",
       "      <g>\n",
       "       <use style=\"stroke:#000000;\" x=\"278.525455\" xlink:href=\"#m4102c94fbe\" y=\"86.460074\"/>\n",
       "      </g>\n",
       "     </g>\n",
       "    </g>\n",
       "    <g id=\"ytick_37\">\n",
       "     <g id=\"line2d_81\">\n",
       "      <g>\n",
       "       <use style=\"stroke:#000000;\" x=\"278.525455\" xlink:href=\"#m4102c94fbe\" y=\"76.615257\"/>\n",
       "      </g>\n",
       "     </g>\n",
       "    </g>\n",
       "    <g id=\"ytick_38\">\n",
       "     <g id=\"line2d_82\">\n",
       "      <g>\n",
       "       <use style=\"stroke:#000000;\" x=\"278.525455\" xlink:href=\"#m4102c94fbe\" y=\"56.925623\"/>\n",
       "      </g>\n",
       "     </g>\n",
       "    </g>\n",
       "    <g id=\"ytick_39\">\n",
       "     <g id=\"line2d_83\">\n",
       "      <g>\n",
       "       <use style=\"stroke:#000000;\" x=\"278.525455\" xlink:href=\"#m4102c94fbe\" y=\"47.080806\"/>\n",
       "      </g>\n",
       "     </g>\n",
       "    </g>\n",
       "    <g id=\"ytick_40\">\n",
       "     <g id=\"line2d_84\">\n",
       "      <g>\n",
       "       <use style=\"stroke:#000000;\" x=\"278.525455\" xlink:href=\"#m4102c94fbe\" y=\"37.235989\"/>\n",
       "      </g>\n",
       "     </g>\n",
       "    </g>\n",
       "    <g id=\"ytick_41\">\n",
       "     <g id=\"line2d_85\">\n",
       "      <g>\n",
       "       <use style=\"stroke:#000000;\" x=\"278.525455\" xlink:href=\"#m4102c94fbe\" y=\"27.391172\"/>\n",
       "      </g>\n",
       "     </g>\n",
       "    </g>\n",
       "    <g id=\"text_20\">\n",
       "     <!-- f(x) -->\n",
       "     <g transform=\"translate(228.845455 31.1875)rotate(-90)scale(0.16 -0.16)\">\n",
       "      <defs>\n",
       "       <path d=\"M 2375 4863 \n",
       "L 2375 4384 \n",
       "L 1825 4384 \n",
       "Q 1516 4384 1395 4259 \n",
       "Q 1275 4134 1275 3809 \n",
       "L 1275 3500 \n",
       "L 2222 3500 \n",
       "L 2222 3053 \n",
       "L 1275 3053 \n",
       "L 1275 0 \n",
       "L 697 0 \n",
       "L 697 3053 \n",
       "L 147 3053 \n",
       "L 147 3500 \n",
       "L 697 3500 \n",
       "L 697 3744 \n",
       "Q 697 4328 969 4595 \n",
       "Q 1241 4863 1831 4863 \n",
       "L 2375 4863 \n",
       "z\n",
       "\" id=\"DejaVuSans-66\" transform=\"scale(0.015625)\"/>\n",
       "       <path d=\"M 1984 4856 \n",
       "Q 1566 4138 1362 3434 \n",
       "Q 1159 2731 1159 2009 \n",
       "Q 1159 1288 1364 580 \n",
       "Q 1569 -128 1984 -844 \n",
       "L 1484 -844 \n",
       "Q 1016 -109 783 600 \n",
       "Q 550 1309 550 2009 \n",
       "Q 550 2706 781 3412 \n",
       "Q 1013 4119 1484 4856 \n",
       "L 1984 4856 \n",
       "z\n",
       "\" id=\"DejaVuSans-28\" transform=\"scale(0.015625)\"/>\n",
       "       <path d=\"M 513 4856 \n",
       "L 1013 4856 \n",
       "Q 1481 4119 1714 3412 \n",
       "Q 1947 2706 1947 2009 \n",
       "Q 1947 1309 1714 600 \n",
       "Q 1481 -109 1013 -844 \n",
       "L 513 -844 \n",
       "Q 928 -128 1133 580 \n",
       "Q 1338 1288 1338 2009 \n",
       "Q 1338 2731 1133 3434 \n",
       "Q 928 4138 513 4856 \n",
       "z\n",
       "\" id=\"DejaVuSans-29\" transform=\"scale(0.015625)\"/>\n",
       "      </defs>\n",
       "      <use xlink:href=\"#DejaVuSans-66\"/>\n",
       "      <use x=\"35.205078\" xlink:href=\"#DejaVuSans-28\"/>\n",
       "      <use x=\"74.21875\" xlink:href=\"#DejaVuSans-78\"/>\n",
       "      <use x=\"133.398438\" xlink:href=\"#DejaVuSans-29\"/>\n",
       "     </g>\n",
       "    </g>\n",
       "   </g>\n",
       "   <g id=\"LineCollection_1\">\n",
       "    <path clip-path=\"url(#pffaf1d8bf9)\" d=\"M 28.593223 214.442695 \n",
       "L 34.414008 214.442695 \n",
       "\" style=\"fill:none;stroke:#0c5da5;stroke-width:2;\"/>\n",
       "    <path clip-path=\"url(#pffaf1d8bf9)\" d=\"M 34.414008 214.442695 \n",
       "L 41.37194 214.442695 \n",
       "\" style=\"fill:none;stroke:#0c5da5;stroke-width:2;\"/>\n",
       "    <path clip-path=\"url(#pffaf1d8bf9)\" d=\"M 41.37194 214.442695 \n",
       "L 49.166878 214.442695 \n",
       "\" style=\"fill:none;stroke:#0c5da5;stroke-width:2;\"/>\n",
       "    <path clip-path=\"url(#pffaf1d8bf9)\" d=\"M 49.166878 214.442695 \n",
       "L 56.59061 214.442695 \n",
       "\" style=\"fill:none;stroke:#0c5da5;stroke-width:2;\"/>\n",
       "    <path clip-path=\"url(#pffaf1d8bf9)\" d=\"M 56.59061 214.442695 \n",
       "L 62.480273 214.442695 \n",
       "\" style=\"fill:none;stroke:#0c5da5;stroke-width:2;\"/>\n",
       "    <path clip-path=\"url(#pffaf1d8bf9)\" d=\"M 62.480273 214.442695 \n",
       "L 69.404554 214.442695 \n",
       "\" style=\"fill:none;stroke:#0c5da5;stroke-width:2;\"/>\n",
       "    <path clip-path=\"url(#pffaf1d8bf9)\" d=\"M 69.404554 214.442695 \n",
       "L 75.138983 214.442695 \n",
       "\" style=\"fill:none;stroke:#0c5da5;stroke-width:2;\"/>\n",
       "    <path clip-path=\"url(#pffaf1d8bf9)\" d=\"M 75.138983 214.442695 \n",
       "L 81.692194 214.442695 \n",
       "\" style=\"fill:none;stroke:#0c5da5;stroke-width:2;\"/>\n",
       "    <path clip-path=\"url(#pffaf1d8bf9)\" d=\"M 81.692194 214.442695 \n",
       "L 88.443009 214.442695 \n",
       "\" style=\"fill:none;stroke:#0c5da5;stroke-width:2;\"/>\n",
       "    <path clip-path=\"url(#pffaf1d8bf9)\" d=\"M 88.443009 214.442695 \n",
       "L 95.673347 214.442695 \n",
       "\" style=\"fill:none;stroke:#0c5da5;stroke-width:2;\"/>\n",
       "    <path clip-path=\"url(#pffaf1d8bf9)\" d=\"M 95.673347 214.442695 \n",
       "L 101.930801 214.442695 \n",
       "\" style=\"fill:none;stroke:#0c5da5;stroke-width:2;\"/>\n",
       "    <path clip-path=\"url(#pffaf1d8bf9)\" d=\"M 101.930801 214.442695 \n",
       "L 107.231808 214.442695 \n",
       "\" style=\"fill:none;stroke:#0c5da5;stroke-width:2;\"/>\n",
       "    <path clip-path=\"url(#pffaf1d8bf9)\" d=\"M 107.231808 214.442695 \n",
       "L 114.62172 214.442695 \n",
       "\" style=\"fill:none;stroke:#0c5da5;stroke-width:2;\"/>\n",
       "    <path clip-path=\"url(#pffaf1d8bf9)\" d=\"M 114.62172 214.442695 \n",
       "L 123.653235 214.442695 \n",
       "\" style=\"fill:none;stroke:#0c5da5;stroke-width:2;\"/>\n",
       "    <path clip-path=\"url(#pffaf1d8bf9)\" d=\"M 123.653235 214.442695 \n",
       "L 130.675643 214.442695 \n",
       "\" style=\"fill:none;stroke:#0c5da5;stroke-width:2;\"/>\n",
       "    <path clip-path=\"url(#pffaf1d8bf9)\" d=\"M 130.675643 214.442695 \n",
       "L 137.972453 214.442695 \n",
       "\" style=\"fill:none;stroke:#0c5da5;stroke-width:2;\"/>\n",
       "    <path clip-path=\"url(#pffaf1d8bf9)\" d=\"M 137.972453 214.442695 \n",
       "L 145.736144 214.442695 \n",
       "\" style=\"fill:none;stroke:#0c5da5;stroke-width:2;\"/>\n",
       "    <path clip-path=\"url(#pffaf1d8bf9)\" d=\"M 145.736144 214.442695 \n",
       "L 155.14444 214.442695 \n",
       "\" style=\"fill:none;stroke:#0c5da5;stroke-width:2;\"/>\n",
       "    <path clip-path=\"url(#pffaf1d8bf9)\" d=\"M 155.14444 214.442695 \n",
       "L 163.30019 214.442695 \n",
       "\" style=\"fill:none;stroke:#0c5da5;stroke-width:2;\"/>\n",
       "    <path clip-path=\"url(#pffaf1d8bf9)\" d=\"M 163.30019 214.442695 \n",
       "L 171.725412 214.442695 \n",
       "\" style=\"fill:none;stroke:#0c5da5;stroke-width:2;\"/>\n",
       "    <path clip-path=\"url(#pffaf1d8bf9)\" d=\"M 171.725412 214.442695 \n",
       "L 179.622127 214.442695 \n",
       "\" style=\"fill:none;stroke:#0c5da5;stroke-width:2;\"/>\n",
       "    <path clip-path=\"url(#pffaf1d8bf9)\" d=\"M 179.622127 214.442695 \n",
       "L 187.722773 214.442695 \n",
       "\" style=\"fill:none;stroke:#0c5da5;stroke-width:2;\"/>\n",
       "    <path clip-path=\"url(#pffaf1d8bf9)\" d=\"M 187.722773 214.442695 \n",
       "L 195.382866 214.442696 \n",
       "\" style=\"fill:none;stroke:#0c5da5;stroke-width:2;\"/>\n",
       "    <path clip-path=\"url(#pffaf1d8bf9)\" d=\"M 195.382866 214.442696 \n",
       "L 203.383445 214.44272 \n",
       "\" style=\"fill:none;stroke:#0c5da5;stroke-width:2;\"/>\n",
       "    <path clip-path=\"url(#pffaf1d8bf9)\" d=\"M 203.383445 214.44272 \n",
       "L 210.827717 214.443374 \n",
       "\" style=\"fill:none;stroke:#0c5da5;stroke-width:2;\"/>\n",
       "    <path clip-path=\"url(#pffaf1d8bf9)\" d=\"M 210.827717 214.443374 \n",
       "L 218.646248 214.457322 \n",
       "\" style=\"fill:none;stroke:#0c5da5;stroke-width:2;\"/>\n",
       "    <path clip-path=\"url(#pffaf1d8bf9)\" d=\"M 218.646248 214.457322 \n",
       "L 225.262857 214.585668 \n",
       "\" style=\"fill:none;stroke:#0c5da5;stroke-width:2;\"/>\n",
       "    <path clip-path=\"url(#pffaf1d8bf9)\" d=\"M 225.262857 214.585668 \n",
       "L 231.746393 215.444522 \n",
       "\" style=\"fill:none;stroke:#0c5da5;stroke-width:2;\"/>\n",
       "    <path clip-path=\"url(#pffaf1d8bf9)\" d=\"M 231.746393 215.444522 \n",
       "L 233.817776 216.199113 \n",
       "\" style=\"fill:none;stroke:#0c5da5;stroke-width:2;\"/>\n",
       "    <path clip-path=\"url(#pffaf1d8bf9)\" d=\"M 233.817776 216.199113 \n",
       "L 235.968741 217.492089 \n",
       "\" style=\"fill:none;stroke:#0c5da5;stroke-width:2;\"/>\n",
       "    <path clip-path=\"url(#pffaf1d8bf9)\" d=\"M 235.968741 217.492089 \n",
       "L 237.148082 218.51321 \n",
       "\" style=\"fill:none;stroke:#0c5da5;stroke-width:2;\"/>\n",
       "    <path clip-path=\"url(#pffaf1d8bf9)\" d=\"M 237.148082 218.51321 \n",
       "L 238.360813 219.86563 \n",
       "\" style=\"fill:none;stroke:#0c5da5;stroke-width:2;\"/>\n",
       "    <path clip-path=\"url(#pffaf1d8bf9)\" d=\"M 238.360813 219.86563 \n",
       "L 239.41598 221.344837 \n",
       "\" style=\"fill:none;stroke:#0c5da5;stroke-width:2;\"/>\n",
       "    <path clip-path=\"url(#pffaf1d8bf9)\" d=\"M 239.41598 221.344837 \n",
       "L 240.514783 223.241788 \n",
       "\" style=\"fill:none;stroke:#0c5da5;stroke-width:2;\"/>\n",
       "    <path clip-path=\"url(#pffaf1d8bf9)\" d=\"M 240.514783 223.241788 \n",
       "L 241.332629 224.926378 \n",
       "\" style=\"fill:none;stroke:#0c5da5;stroke-width:2;\"/>\n",
       "    <path clip-path=\"url(#pffaf1d8bf9)\" d=\"M 241.332629 224.926378 \n",
       "L 242.323059 227.321366 \n",
       "\" style=\"fill:none;stroke:#0c5da5;stroke-width:2;\"/>\n",
       "    <path clip-path=\"url(#pffaf1d8bf9)\" d=\"M 242.323059 227.321366 \n",
       "L 243.368332 230.323203 \n",
       "\" style=\"fill:none;stroke:#0c5da5;stroke-width:2;\"/>\n",
       "    <path clip-path=\"url(#pffaf1d8bf9)\" d=\"M 243.368332 230.323203 \n",
       "L 244.366695 233.699264 \n",
       "\" style=\"fill:none;stroke:#0c5da5;stroke-width:2;\"/>\n",
       "    <path clip-path=\"url(#pffaf1d8bf9)\" d=\"M 244.366695 233.699264 \n",
       "L 245.328263 237.469666 \n",
       "\" style=\"fill:none;stroke:#0c5da5;stroke-width:2;\"/>\n",
       "    <path clip-path=\"url(#pffaf1d8bf9)\" d=\"M 245.328263 237.469666 \n",
       "L 246.472246 242.678559 \n",
       "\" style=\"fill:none;stroke:#0c5da5;stroke-width:2;\"/>\n",
       "    <path clip-path=\"url(#pffaf1d8bf9)\" d=\"M 246.472246 242.678559 \n",
       "L 247.478181 247.955807 \n",
       "\" style=\"fill:none;stroke:#0c5da5;stroke-width:2;\"/>\n",
       "    <path clip-path=\"url(#pffaf1d8bf9)\" d=\"M 247.478181 247.955807 \n",
       "L 248.387944 253.320231 \n",
       "\" style=\"fill:none;stroke:#0c5da5;stroke-width:2;\"/>\n",
       "    <path clip-path=\"url(#pffaf1d8bf9)\" d=\"M 248.387944 253.320231 \n",
       "L 250.407584 267.30821 \n",
       "\" style=\"fill:none;stroke:#0c5da5;stroke-width:2;\"/>\n",
       "    <path clip-path=\"url(#pffaf1d8bf9)\" d=\"M 250.407584 267.30821 \n",
       "L 252.836358 287.835898 \n",
       "\" style=\"fill:none;stroke:#0c5da5;stroke-width:2;\"/>\n",
       "    <path clip-path=\"url(#pffaf1d8bf9)\" d=\"M 252.836358 287.835898 \n",
       "L 257.258296 332.566061 \n",
       "\" style=\"fill:none;stroke:#0c5da5;stroke-width:2;\"/>\n",
       "    <path clip-path=\"url(#pffaf1d8bf9)\" d=\"M 257.258296 332.566061 \n",
       "L 259.475284 355.310565 \n",
       "\" style=\"fill:none;stroke:#0c5da5;stroke-width:2;\"/>\n",
       "    <path clip-path=\"url(#pffaf1d8bf9)\" d=\"M 259.475284 355.310565 \n",
       "L 260.773122 367.404758 \n",
       "\" style=\"fill:none;stroke:#0c5da5;stroke-width:2;\"/>\n",
       "    <path clip-path=\"url(#pffaf1d8bf9)\" d=\"M 260.773122 367.404758 \n",
       "L 261.994021 377.312602 \n",
       "\" style=\"fill:none;stroke:#0c5da5;stroke-width:2;\"/>\n",
       "    <path clip-path=\"url(#pffaf1d8bf9)\" d=\"M 261.994021 377.312602 \n",
       "L 262.935034 383.64988 \n",
       "\" style=\"fill:none;stroke:#0c5da5;stroke-width:2;\"/>\n",
       "    <path clip-path=\"url(#pffaf1d8bf9)\" d=\"M 262.935034 383.64988 \n",
       "L 263.454556 386.569948 \n",
       "\" style=\"fill:none;stroke:#0c5da5;stroke-width:2;\"/>\n",
       "    <path clip-path=\"url(#pffaf1d8bf9)\" d=\"M 263.454556 386.569948 \n",
       "L 263.707919 387.829555 \n",
       "\" style=\"fill:none;stroke:#0c5da5;stroke-width:2;\"/>\n",
       "    <path clip-path=\"url(#pffaf1d8bf9)\" d=\"M 263.707919 387.829555 \n",
       "L 263.961548 388.976695 \n",
       "\" style=\"fill:none;stroke:#0c5da5;stroke-width:2;\"/>\n",
       "    <path clip-path=\"url(#pffaf1d8bf9)\" d=\"M 263.961548 388.976695 \n",
       "L 264.263371 390.187677 \n",
       "\" style=\"fill:none;stroke:#0c5da5;stroke-width:2;\"/>\n",
       "    <path clip-path=\"url(#pffaf1d8bf9)\" d=\"M 264.263371 390.187677 \n",
       "L 264.521411 391.085275 \n",
       "\" style=\"fill:none;stroke:#0c5da5;stroke-width:2;\"/>\n",
       "    <path clip-path=\"url(#pffaf1d8bf9)\" d=\"M 264.521411 391.085275 \n",
       "L 264.777819 391.847093 \n",
       "\" style=\"fill:none;stroke:#0c5da5;stroke-width:2;\"/>\n",
       "    <path clip-path=\"url(#pffaf1d8bf9)\" d=\"M 264.777819 391.847093 \n",
       "L 264.90708 392.180711 \n",
       "\" style=\"fill:none;stroke:#0c5da5;stroke-width:2;\"/>\n",
       "    <path clip-path=\"url(#pffaf1d8bf9)\" d=\"M 264.90708 392.180711 \n",
       "L 265.049737 392.508876 \n",
       "\" style=\"fill:none;stroke:#0c5da5;stroke-width:2;\"/>\n",
       "    <path clip-path=\"url(#pffaf1d8bf9)\" d=\"M 265.049737 392.508876 \n",
       "L 265.189591 392.789215 \n",
       "\" style=\"fill:none;stroke:#0c5da5;stroke-width:2;\"/>\n",
       "    <path clip-path=\"url(#pffaf1d8bf9)\" d=\"M 265.189591 392.789215 \n",
       "L 265.35668 393.069594 \n",
       "\" style=\"fill:none;stroke:#0c5da5;stroke-width:2;\"/>\n",
       "    <path clip-path=\"url(#pffaf1d8bf9)\" d=\"M 265.35668 393.069594 \n",
       "L 265.530226 393.296911 \n",
       "\" style=\"fill:none;stroke:#0c5da5;stroke-width:2;\"/>\n",
       "    <path clip-path=\"url(#pffaf1d8bf9)\" d=\"M 265.530226 393.296911 \n",
       "L 265.615027 393.383985 \n",
       "\" style=\"fill:none;stroke:#0c5da5;stroke-width:2;\"/>\n",
       "    <path clip-path=\"url(#pffaf1d8bf9)\" d=\"M 265.615027 393.383985 \n",
       "L 265.705086 393.459018 \n",
       "\" style=\"fill:none;stroke:#0c5da5;stroke-width:2;\"/>\n",
       "    <path clip-path=\"url(#pffaf1d8bf9)\" d=\"M 265.705086 393.459018 \n",
       "L 265.847054 393.540473 \n",
       "\" style=\"fill:none;stroke:#0c5da5;stroke-width:2;\"/>\n",
       "    <path clip-path=\"url(#pffaf1d8bf9)\" d=\"M 265.847054 393.540473 \n",
       "L 265.989423 393.576415 \n",
       "\" style=\"fill:none;stroke:#0c5da5;stroke-width:2;\"/>\n",
       "    <path clip-path=\"url(#pffaf1d8bf9)\" d=\"M 265.989423 393.576415 \n",
       "L 266.126536 393.56722 \n",
       "\" style=\"fill:none;stroke:#0c5da5;stroke-width:2;\"/>\n",
       "    <path clip-path=\"url(#pffaf1d8bf9)\" d=\"M 266.126536 393.56722 \n",
       "L 266.204 393.54284 \n",
       "\" style=\"fill:none;stroke:#0c5da5;stroke-width:2;\"/>\n",
       "    <path clip-path=\"url(#pffaf1d8bf9)\" d=\"M 266.204 393.54284 \n",
       "L 266.283845 393.503106 \n",
       "\" style=\"fill:none;stroke:#0c5da5;stroke-width:2;\"/>\n",
       "    <path clip-path=\"url(#pffaf1d8bf9)\" d=\"M 266.283845 393.503106 \n",
       "L 266.429447 393.392188 \n",
       "\" style=\"fill:none;stroke:#0c5da5;stroke-width:2;\"/>\n",
       "    <path clip-path=\"url(#pffaf1d8bf9)\" d=\"M 266.429447 393.392188 \n",
       "L 266.549274 393.263334 \n",
       "\" style=\"fill:none;stroke:#0c5da5;stroke-width:2;\"/>\n",
       "    <path clip-path=\"url(#pffaf1d8bf9)\" d=\"M 266.549274 393.263334 \n",
       "L 266.684737 393.076437 \n",
       "\" style=\"fill:none;stroke:#0c5da5;stroke-width:2;\"/>\n",
       "    <path clip-path=\"url(#pffaf1d8bf9)\" d=\"M 266.684737 393.076437 \n",
       "L 266.842428 392.803268 \n",
       "\" style=\"fill:none;stroke:#0c5da5;stroke-width:2;\"/>\n",
       "    <path clip-path=\"url(#pffaf1d8bf9)\" d=\"M 266.842428 392.803268 \n",
       "L 266.997358 392.476086 \n",
       "\" style=\"fill:none;stroke:#0c5da5;stroke-width:2;\"/>\n",
       "    <path clip-path=\"url(#pffaf1d8bf9)\" d=\"M 266.997358 392.476086 \n",
       "L 267.142295 392.116779 \n",
       "\" style=\"fill:none;stroke:#0c5da5;stroke-width:2;\"/>\n",
       "    <path clip-path=\"url(#pffaf1d8bf9)\" d=\"M 267.142295 392.116779 \n",
       "L 267.283385 391.717192 \n",
       "\" style=\"fill:none;stroke:#0c5da5;stroke-width:2;\"/>\n",
       "    <path clip-path=\"url(#pffaf1d8bf9)\" d=\"M 267.283385 391.717192 \n",
       "L 267.399094 391.352557 \n",
       "\" style=\"fill:none;stroke:#0c5da5;stroke-width:2;\"/>\n",
       "    <path clip-path=\"url(#pffaf1d8bf9)\" d=\"M 267.399094 391.352557 \n",
       "L 267.546217 390.840561 \n",
       "\" style=\"fill:none;stroke:#0c5da5;stroke-width:2;\"/>\n",
       "    <path clip-path=\"url(#pffaf1d8bf9)\" d=\"M 267.546217 390.840561 \n",
       "L 267.696625 390.260817 \n",
       "\" style=\"fill:none;stroke:#0c5da5;stroke-width:2;\"/>\n",
       "    <path clip-path=\"url(#pffaf1d8bf9)\" d=\"M 267.696625 390.260817 \n",
       "L 267.863707 389.549633 \n",
       "\" style=\"fill:none;stroke:#0c5da5;stroke-width:2;\"/>\n",
       "    <path clip-path=\"url(#pffaf1d8bf9)\" d=\"M 267.863707 389.549633 \n",
       "L 268.05964 388.625015 \n",
       "\" style=\"fill:none;stroke:#0c5da5;stroke-width:2;\"/>\n",
       "    <path clip-path=\"url(#pffaf1d8bf9)\" d=\"M 268.05964 388.625015 \n",
       "L 268.32957 387.189903 \n",
       "\" style=\"fill:none;stroke:#0c5da5;stroke-width:2;\"/>\n",
       "    <path clip-path=\"url(#pffaf1d8bf9)\" d=\"M 268.32957 387.189903 \n",
       "L 268.621987 385.422927 \n",
       "\" style=\"fill:none;stroke:#0c5da5;stroke-width:2;\"/>\n",
       "    <path clip-path=\"url(#pffaf1d8bf9)\" d=\"M 268.621987 385.422927 \n",
       "L 269.150306 381.666977 \n",
       "\" style=\"fill:none;stroke:#0c5da5;stroke-width:2;\"/>\n",
       "    <path clip-path=\"url(#pffaf1d8bf9)\" d=\"M 269.150306 381.666977 \n",
       "L 269.709802 376.895671 \n",
       "\" style=\"fill:none;stroke:#0c5da5;stroke-width:2;\"/>\n",
       "    <path clip-path=\"url(#pffaf1d8bf9)\" d=\"M 269.709802 376.895671 \n",
       "L 270.326301 370.695561 \n",
       "\" style=\"fill:none;stroke:#0c5da5;stroke-width:2;\"/>\n",
       "    <path clip-path=\"url(#pffaf1d8bf9)\" d=\"M 270.326301 370.695561 \n",
       "L 270.971232 363.164948 \n",
       "\" style=\"fill:none;stroke:#0c5da5;stroke-width:2;\"/>\n",
       "    <path clip-path=\"url(#pffaf1d8bf9)\" d=\"M 270.971232 363.164948 \n",
       "L 272.145137 346.807946 \n",
       "\" style=\"fill:none;stroke:#0c5da5;stroke-width:2;\"/>\n",
       "    <path clip-path=\"url(#pffaf1d8bf9)\" d=\"M 272.145137 346.807946 \n",
       "L 273.456387 324.783274 \n",
       "\" style=\"fill:none;stroke:#0c5da5;stroke-width:2;\"/>\n",
       "    <path clip-path=\"url(#pffaf1d8bf9)\" d=\"M 273.456387 324.783274 \n",
       "L 276.030198 272.251521 \n",
       "\" style=\"fill:none;stroke:#0c5da5;stroke-width:2;\"/>\n",
       "    <path clip-path=\"url(#pffaf1d8bf9)\" d=\"M 276.030198 272.251521 \n",
       "L 284.778794 84.043671 \n",
       "\" style=\"fill:none;stroke:#0c5da5;stroke-width:2;\"/>\n",
       "    <path clip-path=\"url(#pffaf1d8bf9)\" d=\"M 284.778794 84.043671 \n",
       "L 286.092395 65.56175 \n",
       "\" style=\"fill:none;stroke:#0c5da5;stroke-width:2;\"/>\n",
       "    <path clip-path=\"url(#pffaf1d8bf9)\" d=\"M 286.092395 65.56175 \n",
       "L 286.808043 57.293231 \n",
       "\" style=\"fill:none;stroke:#0c5da5;stroke-width:2;\"/>\n",
       "    <path clip-path=\"url(#pffaf1d8bf9)\" d=\"M 286.808043 57.293231 \n",
       "L 287.454964 50.952603 \n",
       "\" style=\"fill:none;stroke:#0c5da5;stroke-width:2;\"/>\n",
       "    <path clip-path=\"url(#pffaf1d8bf9)\" d=\"M 287.454964 50.952603 \n",
       "L 288.044766 46.121354 \n",
       "\" style=\"fill:none;stroke:#0c5da5;stroke-width:2;\"/>\n",
       "    <path clip-path=\"url(#pffaf1d8bf9)\" d=\"M 288.044766 46.121354 \n",
       "L 288.295576 44.341875 \n",
       "\" style=\"fill:none;stroke:#0c5da5;stroke-width:2;\"/>\n",
       "    <path clip-path=\"url(#pffaf1d8bf9)\" d=\"M 288.295576 44.341875 \n",
       "L 288.580286 42.520174 \n",
       "\" style=\"fill:none;stroke:#0c5da5;stroke-width:2;\"/>\n",
       "    <path clip-path=\"url(#pffaf1d8bf9)\" d=\"M 288.580286 42.520174 \n",
       "L 288.959083 40.421657 \n",
       "\" style=\"fill:none;stroke:#0c5da5;stroke-width:2;\"/>\n",
       "    <path clip-path=\"url(#pffaf1d8bf9)\" d=\"M 288.959083 40.421657 \n",
       "L 289.147491 39.515232 \n",
       "\" style=\"fill:none;stroke:#0c5da5;stroke-width:2;\"/>\n",
       "    <path clip-path=\"url(#pffaf1d8bf9)\" d=\"M 289.147491 39.515232 \n",
       "L 289.310516 38.804019 \n",
       "\" style=\"fill:none;stroke:#0c5da5;stroke-width:2;\"/>\n",
       "    <path clip-path=\"url(#pffaf1d8bf9)\" d=\"M 289.310516 38.804019 \n",
       "L 289.460877 38.20782 \n",
       "\" style=\"fill:none;stroke:#0c5da5;stroke-width:2;\"/>\n",
       "    <path clip-path=\"url(#pffaf1d8bf9)\" d=\"M 289.460877 38.20782 \n",
       "L 289.621637 37.63343 \n",
       "\" style=\"fill:none;stroke:#0c5da5;stroke-width:2;\"/>\n",
       "    <path clip-path=\"url(#pffaf1d8bf9)\" d=\"M 289.621637 37.63343 \n",
       "L 289.788251 37.106402 \n",
       "\" style=\"fill:none;stroke:#0c5da5;stroke-width:2;\"/>\n",
       "    <path clip-path=\"url(#pffaf1d8bf9)\" d=\"M 289.788251 37.106402 \n",
       "L 289.928742 36.715619 \n",
       "\" style=\"fill:none;stroke:#0c5da5;stroke-width:2;\"/>\n",
       "    <path clip-path=\"url(#pffaf1d8bf9)\" d=\"M 289.928742 36.715619 \n",
       "L 290.089728 36.327663 \n",
       "\" style=\"fill:none;stroke:#0c5da5;stroke-width:2;\"/>\n",
       "    <path clip-path=\"url(#pffaf1d8bf9)\" d=\"M 290.089728 36.327663 \n",
       "L 290.259368 35.9874 \n",
       "\" style=\"fill:none;stroke:#0c5da5;stroke-width:2;\"/>\n",
       "    <path clip-path=\"url(#pffaf1d8bf9)\" d=\"M 290.259368 35.9874 \n",
       "L 290.354249 35.827511 \n",
       "\" style=\"fill:none;stroke:#0c5da5;stroke-width:2;\"/>\n",
       "    <path clip-path=\"url(#pffaf1d8bf9)\" d=\"M 290.354249 35.827511 \n",
       "L 290.467279 35.665303 \n",
       "\" style=\"fill:none;stroke:#0c5da5;stroke-width:2;\"/>\n",
       "    <path clip-path=\"url(#pffaf1d8bf9)\" d=\"M 290.467279 35.665303 \n",
       "L 290.559007 35.55611 \n",
       "\" style=\"fill:none;stroke:#0c5da5;stroke-width:2;\"/>\n",
       "    <path clip-path=\"url(#pffaf1d8bf9)\" d=\"M 290.559007 35.55611 \n",
       "L 290.659143 35.459711 \n",
       "\" style=\"fill:none;stroke:#0c5da5;stroke-width:2;\"/>\n",
       "    <path clip-path=\"url(#pffaf1d8bf9)\" d=\"M 290.659143 35.459711 \n",
       "L 290.7386 35.400052 \n",
       "\" style=\"fill:none;stroke:#0c5da5;stroke-width:2;\"/>\n",
       "    <path clip-path=\"url(#pffaf1d8bf9)\" d=\"M 290.7386 35.400052 \n",
       "L 290.832551 35.348599 \n",
       "\" style=\"fill:none;stroke:#0c5da5;stroke-width:2;\"/>\n",
       "    <path clip-path=\"url(#pffaf1d8bf9)\" d=\"M 290.832551 35.348599 \n",
       "L 290.923031 35.318475 \n",
       "\" style=\"fill:none;stroke:#0c5da5;stroke-width:2;\"/>\n",
       "    <path clip-path=\"url(#pffaf1d8bf9)\" d=\"M 290.923031 35.318475 \n",
       "L 291.025763 35.30721 \n",
       "\" style=\"fill:none;stroke:#0c5da5;stroke-width:2;\"/>\n",
       "    <path clip-path=\"url(#pffaf1d8bf9)\" d=\"M 291.025763 35.30721 \n",
       "L 291.179052 35.335344 \n",
       "\" style=\"fill:none;stroke:#0c5da5;stroke-width:2;\"/>\n",
       "    <path clip-path=\"url(#pffaf1d8bf9)\" d=\"M 291.179052 35.335344 \n",
       "L 291.261228 35.372382 \n",
       "\" style=\"fill:none;stroke:#0c5da5;stroke-width:2;\"/>\n",
       "    <path clip-path=\"url(#pffaf1d8bf9)\" d=\"M 291.261228 35.372382 \n",
       "L 291.351645 35.430677 \n",
       "\" style=\"fill:none;stroke:#0c5da5;stroke-width:2;\"/>\n",
       "    <path clip-path=\"url(#pffaf1d8bf9)\" d=\"M 291.351645 35.430677 \n",
       "L 291.441726 35.506896 \n",
       "\" style=\"fill:none;stroke:#0c5da5;stroke-width:2;\"/>\n",
       "    <path clip-path=\"url(#pffaf1d8bf9)\" d=\"M 291.441726 35.506896 \n",
       "L 291.524667 35.592959 \n",
       "\" style=\"fill:none;stroke:#0c5da5;stroke-width:2;\"/>\n",
       "    <path clip-path=\"url(#pffaf1d8bf9)\" d=\"M 291.524667 35.592959 \n",
       "L 291.66746 35.77646 \n",
       "\" style=\"fill:none;stroke:#0c5da5;stroke-width:2;\"/>\n",
       "    <path clip-path=\"url(#pffaf1d8bf9)\" d=\"M 291.66746 35.77646 \n",
       "L 291.843401 36.063252 \n",
       "\" style=\"fill:none;stroke:#0c5da5;stroke-width:2;\"/>\n",
       "    <path clip-path=\"url(#pffaf1d8bf9)\" d=\"M 291.843401 36.063252 \n",
       "L 291.993506 36.360081 \n",
       "\" style=\"fill:none;stroke:#0c5da5;stroke-width:2;\"/>\n",
       "    <path clip-path=\"url(#pffaf1d8bf9)\" d=\"M 291.993506 36.360081 \n",
       "L 292.139085 36.693089 \n",
       "\" style=\"fill:none;stroke:#0c5da5;stroke-width:2;\"/>\n",
       "    <path clip-path=\"url(#pffaf1d8bf9)\" d=\"M 292.139085 36.693089 \n",
       "L 292.309674 37.138909 \n",
       "\" style=\"fill:none;stroke:#0c5da5;stroke-width:2;\"/>\n",
       "    <path clip-path=\"url(#pffaf1d8bf9)\" d=\"M 292.309674 37.138909 \n",
       "L 292.464489 37.594534 \n",
       "\" style=\"fill:none;stroke:#0c5da5;stroke-width:2;\"/>\n",
       "    <path clip-path=\"url(#pffaf1d8bf9)\" d=\"M 292.464489 37.594534 \n",
       "L 292.603807 38.045317 \n",
       "\" style=\"fill:none;stroke:#0c5da5;stroke-width:2;\"/>\n",
       "    <path clip-path=\"url(#pffaf1d8bf9)\" d=\"M 292.603807 38.045317 \n",
       "L 292.86232 38.981803 \n",
       "\" style=\"fill:none;stroke:#0c5da5;stroke-width:2;\"/>\n",
       "    <path clip-path=\"url(#pffaf1d8bf9)\" d=\"M 292.86232 38.981803 \n",
       "L 293.090202 39.912307 \n",
       "\" style=\"fill:none;stroke:#0c5da5;stroke-width:2;\"/>\n",
       "    <path clip-path=\"url(#pffaf1d8bf9)\" d=\"M 293.090202 39.912307 \n",
       "L 293.360112 41.137426 \n",
       "\" style=\"fill:none;stroke:#0c5da5;stroke-width:2;\"/>\n",
       "    <path clip-path=\"url(#pffaf1d8bf9)\" d=\"M 293.360112 41.137426 \n",
       "L 293.61434 42.409072 \n",
       "\" style=\"fill:none;stroke:#0c5da5;stroke-width:2;\"/>\n",
       "    <path clip-path=\"url(#pffaf1d8bf9)\" d=\"M 293.61434 42.409072 \n",
       "L 294.177628 45.611418 \n",
       "\" style=\"fill:none;stroke:#0c5da5;stroke-width:2;\"/>\n",
       "    <path clip-path=\"url(#pffaf1d8bf9)\" d=\"M 294.177628 45.611418 \n",
       "L 294.80559 49.757842 \n",
       "\" style=\"fill:none;stroke:#0c5da5;stroke-width:2;\"/>\n",
       "    <path clip-path=\"url(#pffaf1d8bf9)\" d=\"M 294.80559 49.757842 \n",
       "L 305.483775 152.257791 \n",
       "\" style=\"fill:none;stroke:#0c5da5;stroke-width:2;\"/>\n",
       "    <path clip-path=\"url(#pffaf1d8bf9)\" d=\"M 305.483775 152.257791 \n",
       "L 307.627762 168.755835 \n",
       "\" style=\"fill:none;stroke:#0c5da5;stroke-width:2;\"/>\n",
       "    <path clip-path=\"url(#pffaf1d8bf9)\" d=\"M 307.627762 168.755835 \n",
       "L 309.382578 179.855572 \n",
       "\" style=\"fill:none;stroke:#0c5da5;stroke-width:2;\"/>\n",
       "    <path clip-path=\"url(#pffaf1d8bf9)\" d=\"M 309.382578 179.855572 \n",
       "L 310.485532 185.746321 \n",
       "\" style=\"fill:none;stroke:#0c5da5;stroke-width:2;\"/>\n",
       "    <path clip-path=\"url(#pffaf1d8bf9)\" d=\"M 310.485532 185.746321 \n",
       "L 311.531448 190.601442 \n",
       "\" style=\"fill:none;stroke:#0c5da5;stroke-width:2;\"/>\n",
       "    <path clip-path=\"url(#pffaf1d8bf9)\" d=\"M 311.531448 190.601442 \n",
       "L 312.207979 193.385227 \n",
       "\" style=\"fill:none;stroke:#0c5da5;stroke-width:2;\"/>\n",
       "    <path clip-path=\"url(#pffaf1d8bf9)\" d=\"M 312.207979 193.385227 \n",
       "L 312.771521 195.502556 \n",
       "\" style=\"fill:none;stroke:#0c5da5;stroke-width:2;\"/>\n",
       "    <path clip-path=\"url(#pffaf1d8bf9)\" d=\"M 312.771521 195.502556 \n",
       "L 313.388629 197.622241 \n",
       "\" style=\"fill:none;stroke:#0c5da5;stroke-width:2;\"/>\n",
       "    <path clip-path=\"url(#pffaf1d8bf9)\" d=\"M 313.388629 197.622241 \n",
       "L 313.99117 199.502517 \n",
       "\" style=\"fill:none;stroke:#0c5da5;stroke-width:2;\"/>\n",
       "    <path clip-path=\"url(#pffaf1d8bf9)\" d=\"M 313.99117 199.502517 \n",
       "L 314.795512 201.740947 \n",
       "\" style=\"fill:none;stroke:#0c5da5;stroke-width:2;\"/>\n",
       "    <path clip-path=\"url(#pffaf1d8bf9)\" d=\"M 314.795512 201.740947 \n",
       "L 315.733591 203.992881 \n",
       "\" style=\"fill:none;stroke:#0c5da5;stroke-width:2;\"/>\n",
       "    <path clip-path=\"url(#pffaf1d8bf9)\" d=\"M 315.733591 203.992881 \n",
       "L 316.495311 205.565343 \n",
       "\" style=\"fill:none;stroke:#0c5da5;stroke-width:2;\"/>\n",
       "    <path clip-path=\"url(#pffaf1d8bf9)\" d=\"M 316.495311 205.565343 \n",
       "L 317.251973 206.923731 \n",
       "\" style=\"fill:none;stroke:#0c5da5;stroke-width:2;\"/>\n",
       "    <path clip-path=\"url(#pffaf1d8bf9)\" d=\"M 317.251973 206.923731 \n",
       "L 318.080352 208.202751 \n",
       "\" style=\"fill:none;stroke:#0c5da5;stroke-width:2;\"/>\n",
       "    <path clip-path=\"url(#pffaf1d8bf9)\" d=\"M 318.080352 208.202751 \n",
       "L 319.082807 209.495252 \n",
       "\" style=\"fill:none;stroke:#0c5da5;stroke-width:2;\"/>\n",
       "    <path clip-path=\"url(#pffaf1d8bf9)\" d=\"M 319.082807 209.495252 \n",
       "L 320.061675 210.525279 \n",
       "\" style=\"fill:none;stroke:#0c5da5;stroke-width:2;\"/>\n",
       "    <path clip-path=\"url(#pffaf1d8bf9)\" d=\"M 320.061675 210.525279 \n",
       "L 321.158007 211.450408 \n",
       "\" style=\"fill:none;stroke:#0c5da5;stroke-width:2;\"/>\n",
       "    <path clip-path=\"url(#pffaf1d8bf9)\" d=\"M 321.158007 211.450408 \n",
       "L 323.055165 212.602014 \n",
       "\" style=\"fill:none;stroke:#0c5da5;stroke-width:2;\"/>\n",
       "    <path clip-path=\"url(#pffaf1d8bf9)\" d=\"M 323.055165 212.602014 \n",
       "L 324.900015 213.322185 \n",
       "\" style=\"fill:none;stroke:#0c5da5;stroke-width:2;\"/>\n",
       "    <path clip-path=\"url(#pffaf1d8bf9)\" d=\"M 324.900015 213.322185 \n",
       "L 329.450291 214.144543 \n",
       "\" style=\"fill:none;stroke:#0c5da5;stroke-width:2;\"/>\n",
       "    <path clip-path=\"url(#pffaf1d8bf9)\" d=\"M 329.450291 214.144543 \n",
       "L 338.415194 214.428124 \n",
       "\" style=\"fill:none;stroke:#0c5da5;stroke-width:2;\"/>\n",
       "    <path clip-path=\"url(#pffaf1d8bf9)\" d=\"M 338.415194 214.428124 \n",
       "L 344.797378 214.441471 \n",
       "\" style=\"fill:none;stroke:#0c5da5;stroke-width:2;\"/>\n",
       "    <path clip-path=\"url(#pffaf1d8bf9)\" d=\"M 344.797378 214.441471 \n",
       "L 351.4709 214.442626 \n",
       "\" style=\"fill:none;stroke:#0c5da5;stroke-width:2;\"/>\n",
       "    <path clip-path=\"url(#pffaf1d8bf9)\" d=\"M 351.4709 214.442626 \n",
       "L 358.33729 214.442693 \n",
       "\" style=\"fill:none;stroke:#0c5da5;stroke-width:2;\"/>\n",
       "    <path clip-path=\"url(#pffaf1d8bf9)\" d=\"M 358.33729 214.442693 \n",
       "L 366.063267 214.442695 \n",
       "\" style=\"fill:none;stroke:#0c5da5;stroke-width:2;\"/>\n",
       "    <path clip-path=\"url(#pffaf1d8bf9)\" d=\"M 366.063267 214.442695 \n",
       "L 374.09276 214.442695 \n",
       "\" style=\"fill:none;stroke:#0c5da5;stroke-width:2;\"/>\n",
       "    <path clip-path=\"url(#pffaf1d8bf9)\" d=\"M 374.09276 214.442695 \n",
       "L 382.613546 214.442695 \n",
       "\" style=\"fill:none;stroke:#0c5da5;stroke-width:2;\"/>\n",
       "    <path clip-path=\"url(#pffaf1d8bf9)\" d=\"M 382.613546 214.442695 \n",
       "L 389.534681 214.442695 \n",
       "\" style=\"fill:none;stroke:#0c5da5;stroke-width:2;\"/>\n",
       "    <path clip-path=\"url(#pffaf1d8bf9)\" d=\"M 389.534681 214.442695 \n",
       "L 397.555224 214.442695 \n",
       "\" style=\"fill:none;stroke:#0c5da5;stroke-width:2;\"/>\n",
       "    <path clip-path=\"url(#pffaf1d8bf9)\" d=\"M 397.555224 214.442695 \n",
       "L 405.401145 214.442695 \n",
       "\" style=\"fill:none;stroke:#0c5da5;stroke-width:2;\"/>\n",
       "    <path clip-path=\"url(#pffaf1d8bf9)\" d=\"M 405.401145 214.442695 \n",
       "L 414.342158 214.442695 \n",
       "\" style=\"fill:none;stroke:#0c5da5;stroke-width:2;\"/>\n",
       "    <path clip-path=\"url(#pffaf1d8bf9)\" d=\"M 414.342158 214.442695 \n",
       "L 423.177294 214.442695 \n",
       "\" style=\"fill:none;stroke:#0c5da5;stroke-width:2;\"/>\n",
       "    <path clip-path=\"url(#pffaf1d8bf9)\" d=\"M 423.177294 214.442695 \n",
       "L 430.582179 214.442695 \n",
       "\" style=\"fill:none;stroke:#0c5da5;stroke-width:2;\"/>\n",
       "    <path clip-path=\"url(#pffaf1d8bf9)\" d=\"M 430.582179 214.442695 \n",
       "L 437.421001 214.442695 \n",
       "\" style=\"fill:none;stroke:#0c5da5;stroke-width:2;\"/>\n",
       "    <path clip-path=\"url(#pffaf1d8bf9)\" d=\"M 437.421001 214.442695 \n",
       "L 444.201216 214.442695 \n",
       "\" style=\"fill:none;stroke:#0c5da5;stroke-width:2;\"/>\n",
       "    <path clip-path=\"url(#pffaf1d8bf9)\" d=\"M 444.201216 214.442695 \n",
       "L 452.043281 214.442695 \n",
       "\" style=\"fill:none;stroke:#0c5da5;stroke-width:2;\"/>\n",
       "    <path clip-path=\"url(#pffaf1d8bf9)\" d=\"M 452.043281 214.442695 \n",
       "L 459.116229 214.442695 \n",
       "\" style=\"fill:none;stroke:#0c5da5;stroke-width:2;\"/>\n",
       "    <path clip-path=\"url(#pffaf1d8bf9)\" d=\"M 459.116229 214.442695 \n",
       "L 467.692618 214.442695 \n",
       "\" style=\"fill:none;stroke:#0c5da5;stroke-width:2;\"/>\n",
       "    <path clip-path=\"url(#pffaf1d8bf9)\" d=\"M 467.692618 214.442695 \n",
       "L 478.14279 214.442695 \n",
       "\" style=\"fill:none;stroke:#0c5da5;stroke-width:2;\"/>\n",
       "    <path clip-path=\"url(#pffaf1d8bf9)\" d=\"M 478.14279 214.442695 \n",
       "L 487.376494 214.442695 \n",
       "\" style=\"fill:none;stroke:#0c5da5;stroke-width:2;\"/>\n",
       "    <path clip-path=\"url(#pffaf1d8bf9)\" d=\"M 487.376494 214.442695 \n",
       "L 495.538799 214.442695 \n",
       "\" style=\"fill:none;stroke:#0c5da5;stroke-width:2;\"/>\n",
       "    <path clip-path=\"url(#pffaf1d8bf9)\" d=\"M 495.538799 214.442695 \n",
       "L 503.415763 214.442695 \n",
       "\" style=\"fill:none;stroke:#0c5da5;stroke-width:2;\"/>\n",
       "    <path clip-path=\"url(#pffaf1d8bf9)\" d=\"M 503.415763 214.442695 \n",
       "L 510.645322 214.442695 \n",
       "\" style=\"fill:none;stroke:#0c5da5;stroke-width:2;\"/>\n",
       "    <path clip-path=\"url(#pffaf1d8bf9)\" d=\"M 510.645322 214.442695 \n",
       "L 519.039982 214.442695 \n",
       "\" style=\"fill:none;stroke:#0c5da5;stroke-width:2;\"/>\n",
       "    <path clip-path=\"url(#pffaf1d8bf9)\" d=\"M 519.039982 214.442695 \n",
       "L 528.457686 214.442695 \n",
       "\" style=\"fill:none;stroke:#0c5da5;stroke-width:2;\"/>\n",
       "   </g>\n",
       "   <g id=\"patch_3\">\n",
       "    <path d=\"M 278.525455 411.489875 \n",
       "L 278.525455 17.39375 \n",
       "\" style=\"fill:none;stroke:#000000;stroke-linecap:square;stroke-linejoin:miter;\"/>\n",
       "   </g>\n",
       "   <g id=\"patch_4\">\n",
       "    <path d=\"M 553.450909 411.489875 \n",
       "L 553.450909 17.39375 \n",
       "\" style=\"fill:none;\"/>\n",
       "   </g>\n",
       "   <g id=\"patch_5\">\n",
       "    <path d=\"M 3.6 214.442695 \n",
       "L 553.450909 214.442695 \n",
       "\" style=\"fill:none;stroke:#000000;stroke-linecap:square;stroke-linejoin:miter;\"/>\n",
       "   </g>\n",
       "   <g id=\"patch_6\">\n",
       "    <path d=\"M 3.6 17.39375 \n",
       "L 553.450909 17.39375 \n",
       "\" style=\"fill:none;\"/>\n",
       "   </g>\n",
       "  </g>\n",
       " </g>\n",
       " <defs>\n",
       "  <clipPath id=\"pffaf1d8bf9\">\n",
       "   <rect height=\"394.096125\" width=\"549.850909\" x=\"3.6\" y=\"17.39375\"/>\n",
       "  </clipPath>\n",
       " </defs>\n",
       "</svg>\n"
      ],
      "text/plain": [
       "<Figure size 800x600 with 1 Axes>"
      ]
     },
     "metadata": {},
     "output_type": "display_data"
    },
    {
     "name": "stdout",
     "output_type": "stream",
     "text": [
      "Extrema are located at:\n"
     ]
    },
    {
     "data": {
      "text/latex": [
       "$\\displaystyle \\left\\{- \\frac{1}{2}, \\frac{1}{2}\\right\\}$"
      ],
      "text/plain": [
       "FiniteSet(-1/2, 1/2)"
      ]
     },
     "metadata": {},
     "output_type": "display_data"
    }
   ],
   "source": [
    "from sympy import stationary_points, plot\n",
    "\n",
    "equation = 6 * x * E**(-2 * x**2)\n",
    "plot(equation)\n",
    "\n",
    "print(\"Extrema are located at:\")\n",
    "display(stationary_points(equation, x))"
   ]
  },
  {
   "cell_type": "markdown",
   "id": "e61140c6",
   "metadata": {},
   "source": [
    "## Exercise 2.6: second derivative"
   ]
  },
  {
   "cell_type": "markdown",
   "id": "8719eb07",
   "metadata": {},
   "source": [
    "### Exercise 2.6.1 - first and second derivative"
   ]
  },
  {
   "cell_type": "code",
   "execution_count": 35,
   "id": "e46fc1e9",
   "metadata": {},
   "outputs": [
    {
     "name": "stdout",
     "output_type": "stream",
     "text": [
      "The following equation is given:\n"
     ]
    },
    {
     "data": {
      "text/latex": [
       "$\\displaystyle \\log{\\left(2 x \\right)}$"
      ],
      "text/plain": [
       "log(2*x)"
      ]
     },
     "metadata": {},
     "output_type": "display_data"
    },
    {
     "name": "stdout",
     "output_type": "stream",
     "text": [
      "The derivative of this equation is equal to:\n"
     ]
    },
    {
     "data": {
      "text/latex": [
       "$\\displaystyle \\frac{1}{x}$"
      ],
      "text/plain": [
       "1/x"
      ]
     },
     "metadata": {},
     "output_type": "display_data"
    },
    {
     "name": "stdout",
     "output_type": "stream",
     "text": [
      "The derivative of this equation is equal to:\n"
     ]
    },
    {
     "data": {
      "text/latex": [
       "$\\displaystyle - \\frac{1}{x^{2}}$"
      ],
      "text/plain": [
       "-1/x**2"
      ]
     },
     "metadata": {},
     "output_type": "display_data"
    }
   ],
   "source": [
    "display_and_diff(ln(2*x), n=2);"
   ]
  },
  {
   "cell_type": "code",
   "execution_count": 36,
   "id": "8b9a538f",
   "metadata": {},
   "outputs": [
    {
     "name": "stdout",
     "output_type": "stream",
     "text": [
      "The following equation is given:\n"
     ]
    },
    {
     "data": {
      "text/latex": [
       "$\\displaystyle 3 x \\sin{\\left(2 x \\right)}$"
      ],
      "text/plain": [
       "3*x*sin(2*x)"
      ]
     },
     "metadata": {},
     "output_type": "display_data"
    },
    {
     "name": "stdout",
     "output_type": "stream",
     "text": [
      "The derivative of this equation is equal to:\n"
     ]
    },
    {
     "data": {
      "text/latex": [
       "$\\displaystyle 6 x \\cos{\\left(2 x \\right)} + 3 \\sin{\\left(2 x \\right)}$"
      ],
      "text/plain": [
       "6*x*cos(2*x) + 3*sin(2*x)"
      ]
     },
     "metadata": {},
     "output_type": "display_data"
    },
    {
     "name": "stdout",
     "output_type": "stream",
     "text": [
      "The derivative of this equation is equal to:\n"
     ]
    },
    {
     "data": {
      "text/latex": [
       "$\\displaystyle - 12 x \\sin{\\left(2 x \\right)} + 12 \\cos{\\left(2 x \\right)}$"
      ],
      "text/plain": [
       "-12*x*sin(2*x) + 12*cos(2*x)"
      ]
     },
     "metadata": {},
     "output_type": "display_data"
    }
   ],
   "source": [
    "display_and_diff(3*x * sin(2*x), n=2);"
   ]
  },
  {
   "cell_type": "code",
   "execution_count": 37,
   "id": "f90e52c1",
   "metadata": {},
   "outputs": [
    {
     "name": "stdout",
     "output_type": "stream",
     "text": [
      "The following equation is given:\n"
     ]
    },
    {
     "data": {
      "text/latex": [
       "$\\displaystyle 5 x - 1$"
      ],
      "text/plain": [
       "5*x - 1"
      ]
     },
     "metadata": {},
     "output_type": "display_data"
    },
    {
     "name": "stdout",
     "output_type": "stream",
     "text": [
      "The derivative of this equation is equal to:\n"
     ]
    },
    {
     "data": {
      "text/latex": [
       "$\\displaystyle 5$"
      ],
      "text/plain": [
       "5"
      ]
     },
     "metadata": {},
     "output_type": "display_data"
    },
    {
     "name": "stdout",
     "output_type": "stream",
     "text": [
      "The derivative of this equation is equal to:\n"
     ]
    },
    {
     "data": {
      "text/latex": [
       "$\\displaystyle 0$"
      ],
      "text/plain": [
       "0"
      ]
     },
     "metadata": {},
     "output_type": "display_data"
    }
   ],
   "source": [
    "display_and_diff(5*x -1, n=2);"
   ]
  },
  {
   "cell_type": "code",
   "execution_count": 38,
   "id": "a5e50f7a",
   "metadata": {},
   "outputs": [
    {
     "name": "stdout",
     "output_type": "stream",
     "text": [
      "The following equation is given:\n"
     ]
    },
    {
     "data": {
      "text/plain": [
       "4"
      ]
     },
     "metadata": {},
     "output_type": "display_data"
    },
    {
     "name": "stdout",
     "output_type": "stream",
     "text": [
      "The derivative of this equation is equal to:\n"
     ]
    },
    {
     "data": {
      "text/latex": [
       "$\\displaystyle 0$"
      ],
      "text/plain": [
       "0"
      ]
     },
     "metadata": {},
     "output_type": "display_data"
    },
    {
     "name": "stdout",
     "output_type": "stream",
     "text": [
      "The derivative of this equation is equal to:\n"
     ]
    },
    {
     "data": {
      "text/latex": [
       "$\\displaystyle 0$"
      ],
      "text/plain": [
       "0"
      ]
     },
     "metadata": {},
     "output_type": "display_data"
    }
   ],
   "source": [
    "display_and_diff(4, n=2);"
   ]
  },
  {
   "cell_type": "markdown",
   "id": "d7a217ef",
   "metadata": {},
   "source": [
    "### Exercise 2.6.2 - velocity and acceleration"
   ]
  },
  {
   "cell_type": "code",
   "execution_count": 39,
   "id": "6b6cd442",
   "metadata": {},
   "outputs": [
    {
     "name": "stdout",
     "output_type": "stream",
     "text": [
      "The following equation is given:\n"
     ]
    },
    {
     "data": {
      "text/latex": [
       "$\\displaystyle A \\cos{\\left(t ω \\right)}$"
      ],
      "text/plain": [
       "A*cos(t*ω)"
      ]
     },
     "metadata": {},
     "output_type": "display_data"
    },
    {
     "name": "stdout",
     "output_type": "stream",
     "text": [
      "The derivative of this equation is equal to:\n"
     ]
    },
    {
     "data": {
      "text/latex": [
       "$\\displaystyle - A ω \\sin{\\left(t ω \\right)}$"
      ],
      "text/plain": [
       "-A*ω*sin(t*ω)"
      ]
     },
     "metadata": {},
     "output_type": "display_data"
    },
    {
     "name": "stdout",
     "output_type": "stream",
     "text": [
      "The derivative of this equation is equal to:\n"
     ]
    },
    {
     "data": {
      "text/latex": [
       "$\\displaystyle - A ω^{2} \\cos{\\left(t ω \\right)}$"
      ],
      "text/plain": [
       "-A*ω**2*cos(t*ω)"
      ]
     },
     "metadata": {},
     "output_type": "display_data"
    },
    {
     "data": {
      "text/latex": [
       "$\\displaystyle - A ω \\sin{\\left(ω \\right)}$"
      ],
      "text/plain": [
       "-A*ω*sin(ω)"
      ]
     },
     "metadata": {},
     "output_type": "display_data"
    },
    {
     "data": {
      "text/latex": [
       "$\\displaystyle - A ω^{2} \\cos{\\left(ω \\right)}$"
      ],
      "text/plain": [
       "-A*ω**2*cos(ω)"
      ]
     },
     "metadata": {},
     "output_type": "display_data"
    }
   ],
   "source": [
    "A, ω = smp.symbols(\"A ω\")\n",
    "\n",
    "vel, acc = display_and_diff(A * cos(ω * t), symbols=t, n=2)\n",
    "display(vel.subs(t, 1), acc.subs(t, 1))"
   ]
  },
  {
   "cell_type": "code",
   "execution_count": 40,
   "id": "457cb91f",
   "metadata": {},
   "outputs": [
    {
     "name": "stdout",
     "output_type": "stream",
     "text": [
      "The following equation is given:\n"
     ]
    },
    {
     "data": {
      "text/latex": [
       "$\\displaystyle 3 t^{2} + 2 t - 1$"
      ],
      "text/plain": [
       "3*t**2 + 2*t - 1"
      ]
     },
     "metadata": {},
     "output_type": "display_data"
    },
    {
     "name": "stdout",
     "output_type": "stream",
     "text": [
      "The derivative of this equation is equal to:\n"
     ]
    },
    {
     "data": {
      "text/latex": [
       "$\\displaystyle 6 t + 2$"
      ],
      "text/plain": [
       "6*t + 2"
      ]
     },
     "metadata": {},
     "output_type": "display_data"
    },
    {
     "name": "stdout",
     "output_type": "stream",
     "text": [
      "The derivative of this equation is equal to:\n"
     ]
    },
    {
     "data": {
      "text/latex": [
       "$\\displaystyle 6$"
      ],
      "text/plain": [
       "6"
      ]
     },
     "metadata": {},
     "output_type": "display_data"
    },
    {
     "data": {
      "text/latex": [
       "$\\displaystyle 8$"
      ],
      "text/plain": [
       "8"
      ]
     },
     "metadata": {},
     "output_type": "display_data"
    },
    {
     "data": {
      "text/latex": [
       "$\\displaystyle 6$"
      ],
      "text/plain": [
       "6"
      ]
     },
     "metadata": {},
     "output_type": "display_data"
    }
   ],
   "source": [
    "vel, acc = display_and_diff(3*t**2 + 2*t - 1, symbols=t, n=2)\n",
    "display(vel.subs(t, 1), acc.subs(t, 1))"
   ]
  },
  {
   "cell_type": "code",
   "execution_count": 41,
   "id": "ae3e3c6c",
   "metadata": {},
   "outputs": [
    {
     "name": "stdout",
     "output_type": "stream",
     "text": [
      "The following equation is given:\n"
     ]
    },
    {
     "data": {
      "text/latex": [
       "$\\displaystyle \\log{\\left(0.5 t^{3} \\right)}$"
      ],
      "text/plain": [
       "log(0.5*t**3)"
      ]
     },
     "metadata": {},
     "output_type": "display_data"
    },
    {
     "name": "stdout",
     "output_type": "stream",
     "text": [
      "The derivative of this equation is equal to:\n"
     ]
    },
    {
     "data": {
      "text/latex": [
       "$\\displaystyle \\frac{3.0}{t}$"
      ],
      "text/plain": [
       "3.0/t"
      ]
     },
     "metadata": {},
     "output_type": "display_data"
    },
    {
     "name": "stdout",
     "output_type": "stream",
     "text": [
      "The derivative of this equation is equal to:\n"
     ]
    },
    {
     "data": {
      "text/latex": [
       "$\\displaystyle - \\frac{3.0}{t^{2}}$"
      ],
      "text/plain": [
       "-3.0/t**2"
      ]
     },
     "metadata": {},
     "output_type": "display_data"
    },
    {
     "data": {
      "text/latex": [
       "$\\displaystyle 3.0$"
      ],
      "text/plain": [
       "3.00000000000000"
      ]
     },
     "metadata": {},
     "output_type": "display_data"
    },
    {
     "data": {
      "text/latex": [
       "$\\displaystyle -3.0$"
      ],
      "text/plain": [
       "-3.00000000000000"
      ]
     },
     "metadata": {},
     "output_type": "display_data"
    }
   ],
   "source": [
    "vel, acc = display_and_diff(ln(0.5*t**3), symbols=t, n=2)\n",
    "display(vel.subs(t, 1), acc.subs(t, 1))"
   ]
  },
  {
   "cell_type": "markdown",
   "id": "266275af",
   "metadata": {},
   "source": [
    "### Exercise 2.6.3 - fourth derivative\n",
    "\n",
    "This one is probably just here to torture students. Luckily it doesn't take long in Python:"
   ]
  },
  {
   "cell_type": "code",
   "execution_count": 42,
   "id": "a58c2bed",
   "metadata": {},
   "outputs": [
    {
     "name": "stdout",
     "output_type": "stream",
     "text": [
      "The following equation is given:\n"
     ]
    },
    {
     "data": {
      "text/latex": [
       "$\\displaystyle - 7 x^{5} + 4 x^{2} - 23$"
      ],
      "text/plain": [
       "-7*x**5 + 4*x**2 - 23"
      ]
     },
     "metadata": {},
     "output_type": "display_data"
    },
    {
     "name": "stdout",
     "output_type": "stream",
     "text": [
      "The derivative of this equation is equal to:\n"
     ]
    },
    {
     "data": {
      "text/latex": [
       "$\\displaystyle - 35 x^{4} + 8 x$"
      ],
      "text/plain": [
       "-35*x**4 + 8*x"
      ]
     },
     "metadata": {},
     "output_type": "display_data"
    },
    {
     "name": "stdout",
     "output_type": "stream",
     "text": [
      "The derivative of this equation is equal to:\n"
     ]
    },
    {
     "data": {
      "text/latex": [
       "$\\displaystyle 8 - 140 x^{3}$"
      ],
      "text/plain": [
       "8 - 140*x**3"
      ]
     },
     "metadata": {},
     "output_type": "display_data"
    },
    {
     "name": "stdout",
     "output_type": "stream",
     "text": [
      "The derivative of this equation is equal to:\n"
     ]
    },
    {
     "data": {
      "text/latex": [
       "$\\displaystyle - 420 x^{2}$"
      ],
      "text/plain": [
       "-420*x**2"
      ]
     },
     "metadata": {},
     "output_type": "display_data"
    },
    {
     "name": "stdout",
     "output_type": "stream",
     "text": [
      "The derivative of this equation is equal to:\n"
     ]
    },
    {
     "data": {
      "text/latex": [
       "$\\displaystyle - 840 x$"
      ],
      "text/plain": [
       "-840*x"
      ]
     },
     "metadata": {},
     "output_type": "display_data"
    }
   ],
   "source": [
    "display_and_diff(-7*x**5 + 4*x**2 - 23, n=4);"
   ]
  },
  {
   "cell_type": "code",
   "execution_count": 43,
   "id": "45decbda",
   "metadata": {},
   "outputs": [
    {
     "name": "stdout",
     "output_type": "stream",
     "text": [
      "The following equation is given:\n"
     ]
    },
    {
     "data": {
      "text/latex": [
       "$\\displaystyle 15 t^{3} + 2 t$"
      ],
      "text/plain": [
       "15*t**3 + 2*t"
      ]
     },
     "metadata": {},
     "output_type": "display_data"
    },
    {
     "name": "stdout",
     "output_type": "stream",
     "text": [
      "The derivative of this equation is equal to:\n"
     ]
    },
    {
     "data": {
      "text/latex": [
       "$\\displaystyle 45 t^{2} + 2$"
      ],
      "text/plain": [
       "45*t**2 + 2"
      ]
     },
     "metadata": {},
     "output_type": "display_data"
    },
    {
     "name": "stdout",
     "output_type": "stream",
     "text": [
      "The derivative of this equation is equal to:\n"
     ]
    },
    {
     "data": {
      "text/latex": [
       "$\\displaystyle 90 t$"
      ],
      "text/plain": [
       "90*t"
      ]
     },
     "metadata": {},
     "output_type": "display_data"
    },
    {
     "name": "stdout",
     "output_type": "stream",
     "text": [
      "The derivative of this equation is equal to:\n"
     ]
    },
    {
     "data": {
      "text/latex": [
       "$\\displaystyle 90$"
      ],
      "text/plain": [
       "90"
      ]
     },
     "metadata": {},
     "output_type": "display_data"
    },
    {
     "name": "stdout",
     "output_type": "stream",
     "text": [
      "The derivative of this equation is equal to:\n"
     ]
    },
    {
     "data": {
      "text/latex": [
       "$\\displaystyle 0$"
      ],
      "text/plain": [
       "0"
      ]
     },
     "metadata": {},
     "output_type": "display_data"
    }
   ],
   "source": [
    "display_and_diff(15*t**3 + 2*t, n=4);"
   ]
  },
  {
   "cell_type": "code",
   "execution_count": 44,
   "id": "0a9dc3c6",
   "metadata": {},
   "outputs": [
    {
     "name": "stdout",
     "output_type": "stream",
     "text": [
      "The following equation is given:\n"
     ]
    },
    {
     "data": {
      "text/latex": [
       "$\\displaystyle t e^{t}$"
      ],
      "text/plain": [
       "t*exp(t)"
      ]
     },
     "metadata": {},
     "output_type": "display_data"
    },
    {
     "name": "stdout",
     "output_type": "stream",
     "text": [
      "The derivative of this equation is equal to:\n"
     ]
    },
    {
     "data": {
      "text/latex": [
       "$\\displaystyle t e^{t} + e^{t}$"
      ],
      "text/plain": [
       "t*exp(t) + exp(t)"
      ]
     },
     "metadata": {},
     "output_type": "display_data"
    },
    {
     "name": "stdout",
     "output_type": "stream",
     "text": [
      "The derivative of this equation is equal to:\n"
     ]
    },
    {
     "data": {
      "text/latex": [
       "$\\displaystyle t e^{t} + 2 e^{t}$"
      ],
      "text/plain": [
       "t*exp(t) + 2*exp(t)"
      ]
     },
     "metadata": {},
     "output_type": "display_data"
    },
    {
     "name": "stdout",
     "output_type": "stream",
     "text": [
      "The derivative of this equation is equal to:\n"
     ]
    },
    {
     "data": {
      "text/latex": [
       "$\\displaystyle t e^{t} + 3 e^{t}$"
      ],
      "text/plain": [
       "t*exp(t) + 3*exp(t)"
      ]
     },
     "metadata": {},
     "output_type": "display_data"
    },
    {
     "name": "stdout",
     "output_type": "stream",
     "text": [
      "The derivative of this equation is equal to:\n"
     ]
    },
    {
     "data": {
      "text/latex": [
       "$\\displaystyle t e^{t} + 4 e^{t}$"
      ],
      "text/plain": [
       "t*exp(t) + 4*exp(t)"
      ]
     },
     "metadata": {},
     "output_type": "display_data"
    }
   ],
   "source": [
    "display_and_diff(t*E**t, n=4);"
   ]
  },
  {
   "cell_type": "markdown",
   "id": "3bd7db39",
   "metadata": {},
   "source": [
    "## Exercise 2.7: partial derivatives"
   ]
  },
  {
   "cell_type": "markdown",
   "id": "10b7a82c",
   "metadata": {},
   "source": [
    "### Exercise 2.7.1 - diff for x"
   ]
  },
  {
   "cell_type": "code",
   "execution_count": 45,
   "id": "8809b394",
   "metadata": {},
   "outputs": [
    {
     "name": "stdout",
     "output_type": "stream",
     "text": [
      "The following equation is given:\n"
     ]
    },
    {
     "data": {
      "text/latex": [
       "$\\displaystyle 3 x y$"
      ],
      "text/plain": [
       "3*x*y"
      ]
     },
     "metadata": {},
     "output_type": "display_data"
    },
    {
     "name": "stdout",
     "output_type": "stream",
     "text": [
      "The derivative of this equation is equal to:\n"
     ]
    },
    {
     "data": {
      "text/latex": [
       "$\\displaystyle 3 y$"
      ],
      "text/plain": [
       "3*y"
      ]
     },
     "metadata": {},
     "output_type": "display_data"
    }
   ],
   "source": [
    "y, z = smp.symbols(\"y z\")\n",
    "\n",
    "display_and_diff(3*x*y, symbols=x);"
   ]
  },
  {
   "cell_type": "code",
   "execution_count": 46,
   "id": "2dca3bcd",
   "metadata": {},
   "outputs": [
    {
     "name": "stdout",
     "output_type": "stream",
     "text": [
      "The following equation is given:\n"
     ]
    },
    {
     "data": {
      "text/latex": [
       "$\\displaystyle 5 - \\left(- 3 x + y\\right)^{2}$"
      ],
      "text/plain": [
       "5 - (-3*x + y)**2"
      ]
     },
     "metadata": {},
     "output_type": "display_data"
    },
    {
     "name": "stdout",
     "output_type": "stream",
     "text": [
      "The derivative of this equation is equal to:\n"
     ]
    },
    {
     "data": {
      "text/latex": [
       "$\\displaystyle - 18 x + 6 y$"
      ],
      "text/plain": [
       "-18*x + 6*y"
      ]
     },
     "metadata": {},
     "output_type": "display_data"
    }
   ],
   "source": [
    "display_and_diff(5 - (y - 3*x)**2, symbols=x);"
   ]
  },
  {
   "cell_type": "code",
   "execution_count": 47,
   "id": "be8c929e",
   "metadata": {},
   "outputs": [
    {
     "name": "stdout",
     "output_type": "stream",
     "text": [
      "The following equation is given:\n"
     ]
    },
    {
     "data": {
      "text/latex": [
       "$\\displaystyle \\sqrt{x^{2} + y^{2} + z^{2}}$"
      ],
      "text/plain": [
       "sqrt(x**2 + y**2 + z**2)"
      ]
     },
     "metadata": {},
     "output_type": "display_data"
    },
    {
     "name": "stdout",
     "output_type": "stream",
     "text": [
      "The derivative of this equation is equal to:\n"
     ]
    },
    {
     "data": {
      "text/latex": [
       "$\\displaystyle \\frac{x}{\\sqrt{x^{2} + y^{2} + z^{2}}}$"
      ],
      "text/plain": [
       "x/sqrt(x**2 + y**2 + z**2)"
      ]
     },
     "metadata": {},
     "output_type": "display_data"
    }
   ],
   "source": [
    "display_and_diff(root(x**2 + y**2 + z**2, 2), symbols=x);"
   ]
  },
  {
   "cell_type": "code",
   "execution_count": 48,
   "id": "8f993fd1",
   "metadata": {},
   "outputs": [
    {
     "name": "stdout",
     "output_type": "stream",
     "text": [
      "The following equation is given:\n"
     ]
    },
    {
     "data": {
      "text/latex": [
       "$\\displaystyle x^{2} y + x z^{2} - y^{2}$"
      ],
      "text/plain": [
       "x**2*y + x*z**2 - y**2"
      ]
     },
     "metadata": {},
     "output_type": "display_data"
    },
    {
     "name": "stdout",
     "output_type": "stream",
     "text": [
      "The derivative of this equation is equal to:\n"
     ]
    },
    {
     "data": {
      "text/latex": [
       "$\\displaystyle 2 x y + z^{2}$"
      ],
      "text/plain": [
       "2*x*y + z**2"
      ]
     },
     "metadata": {},
     "output_type": "display_data"
    }
   ],
   "source": [
    "display_and_diff(x**2 * y - y**2 + z**2 * x, symbols=x);"
   ]
  },
  {
   "cell_type": "markdown",
   "id": "26e51cd3",
   "metadata": {},
   "source": [
    "### Exercise 2.7.2 - diff for z"
   ]
  },
  {
   "cell_type": "code",
   "execution_count": 49,
   "id": "046d56e0",
   "metadata": {},
   "outputs": [
    {
     "name": "stdout",
     "output_type": "stream",
     "text": [
      "The following equation is given:\n"
     ]
    },
    {
     "data": {
      "text/latex": [
       "$\\displaystyle u \\sin{\\left(v \\right)}$"
      ],
      "text/plain": [
       "u*sin(v)"
      ]
     },
     "metadata": {},
     "output_type": "display_data"
    },
    {
     "name": "stdout",
     "output_type": "stream",
     "text": [
      "The derivative of this equation is equal to:\n"
     ]
    },
    {
     "data": {
      "text/latex": [
       "$\\displaystyle u \\cos{\\left(v \\right)}$"
      ],
      "text/plain": [
       "u*cos(v)"
      ]
     },
     "metadata": {},
     "output_type": "display_data"
    }
   ],
   "source": [
    "u, v, w = smp.symbols(\"u v w\")\n",
    "\n",
    "display_and_diff(u * sin(v), symbols=v);"
   ]
  },
  {
   "cell_type": "code",
   "execution_count": 50,
   "id": "24825352",
   "metadata": {},
   "outputs": [
    {
     "name": "stdout",
     "output_type": "stream",
     "text": [
      "The following equation is given:\n"
     ]
    },
    {
     "data": {
      "text/latex": [
       "$\\displaystyle v \\left(\\frac{u^{2}}{2} + \\frac{v^{2}}{2}\\right)$"
      ],
      "text/plain": [
       "v*(u**2/2 + v**2/2)"
      ]
     },
     "metadata": {},
     "output_type": "display_data"
    },
    {
     "name": "stdout",
     "output_type": "stream",
     "text": [
      "The derivative of this equation is equal to:\n"
     ]
    },
    {
     "data": {
      "text/latex": [
       "$\\displaystyle \\frac{u^{2}}{2} + \\frac{3 v^{2}}{2}$"
      ],
      "text/plain": [
       "u**2/2 + 3*v**2/2"
      ]
     },
     "metadata": {},
     "output_type": "display_data"
    },
    {
     "name": "stdout",
     "output_type": "stream",
     "text": [
      "Simplified, this is equal to:\n"
     ]
    },
    {
     "data": {
      "text/latex": [
       "$\\displaystyle \\frac{u^{2}}{2} + \\frac{3 v^{2}}{2}$"
      ],
      "text/plain": [
       "u**2/2 + 3*v**2/2"
      ]
     },
     "metadata": {},
     "output_type": "display_data"
    }
   ],
   "source": [
    "display_and_diff((u**2 + v**2) / 2*v, symbols=v, simplify=True);"
   ]
  },
  {
   "cell_type": "code",
   "execution_count": 51,
   "id": "9cb01c05",
   "metadata": {},
   "outputs": [
    {
     "name": "stdout",
     "output_type": "stream",
     "text": [
      "The following equation is given:\n"
     ]
    },
    {
     "data": {
      "text/latex": [
       "$\\displaystyle w e^{\\left(u + v\\right)^{2}}$"
      ],
      "text/plain": [
       "w*exp((u + v)**2)"
      ]
     },
     "metadata": {},
     "output_type": "display_data"
    },
    {
     "name": "stdout",
     "output_type": "stream",
     "text": [
      "The derivative of this equation is equal to:\n"
     ]
    },
    {
     "data": {
      "text/latex": [
       "$\\displaystyle w \\left(2 u + 2 v\\right) e^{\\left(u + v\\right)^{2}}$"
      ],
      "text/plain": [
       "w*(2*u + 2*v)*exp((u + v)**2)"
      ]
     },
     "metadata": {},
     "output_type": "display_data"
    },
    {
     "name": "stdout",
     "output_type": "stream",
     "text": [
      "Simplified, this is equal to:\n"
     ]
    },
    {
     "data": {
      "text/latex": [
       "$\\displaystyle 2 w \\left(u + v\\right) e^{\\left(u + v\\right)^{2}}$"
      ],
      "text/plain": [
       "2*w*(u + v)*exp((u + v)**2)"
      ]
     },
     "metadata": {},
     "output_type": "display_data"
    }
   ],
   "source": [
    "display_and_diff(w * E**((u+v)**2), symbols=v, simplify=True);"
   ]
  },
  {
   "cell_type": "markdown",
   "id": "e7b85eca",
   "metadata": {},
   "source": [
    "### Exercise 2.7.3 - f(x,y)"
   ]
  },
  {
   "cell_type": "code",
   "execution_count": 52,
   "id": "b42d9efa",
   "metadata": {},
   "outputs": [
    {
     "name": "stdout",
     "output_type": "stream",
     "text": [
      "The following equation is given:\n"
     ]
    },
    {
     "data": {
      "text/latex": [
       "$\\displaystyle e^{- 3 x} \\cos{\\left(2 y \\right)}$"
      ],
      "text/plain": [
       "exp(-3*x)*cos(2*y)"
      ]
     },
     "metadata": {},
     "output_type": "display_data"
    },
    {
     "name": "stdout",
     "output_type": "stream",
     "text": [
      "The derivative of this equation is equal to:\n"
     ]
    },
    {
     "data": {
      "text/latex": [
       "$\\displaystyle - 3 e^{- 3 x} \\cos{\\left(2 y \\right)}$"
      ],
      "text/plain": [
       "-3*exp(-3*x)*cos(2*y)"
      ]
     },
     "metadata": {},
     "output_type": "display_data"
    }
   ],
   "source": [
    "equation = E**(-3*x) * cos(2*y)\n",
    "\n",
    "derivative_x = display_and_diff(equation, symbols=x);"
   ]
  },
  {
   "cell_type": "code",
   "execution_count": 53,
   "id": "3304c35b",
   "metadata": {},
   "outputs": [
    {
     "name": "stdout",
     "output_type": "stream",
     "text": [
      "The following equation is given:\n"
     ]
    },
    {
     "data": {
      "text/latex": [
       "$\\displaystyle e^{- 3 x} \\cos{\\left(2 y \\right)}$"
      ],
      "text/plain": [
       "exp(-3*x)*cos(2*y)"
      ]
     },
     "metadata": {},
     "output_type": "display_data"
    },
    {
     "name": "stdout",
     "output_type": "stream",
     "text": [
      "The derivative of this equation is equal to:\n"
     ]
    },
    {
     "data": {
      "text/latex": [
       "$\\displaystyle - 2 e^{- 3 x} \\sin{\\left(2 y \\right)}$"
      ],
      "text/plain": [
       "-2*exp(-3*x)*sin(2*y)"
      ]
     },
     "metadata": {},
     "output_type": "display_data"
    }
   ],
   "source": [
    "derivative_y = display_and_diff(equation, symbols=y);"
   ]
  },
  {
   "cell_type": "code",
   "execution_count": 54,
   "id": "2d19c727",
   "metadata": {},
   "outputs": [
    {
     "name": "stdout",
     "output_type": "stream",
     "text": [
      "The following equation is given:\n"
     ]
    },
    {
     "data": {
      "text/latex": [
       "$\\displaystyle - 3 e^{- 3 x} \\cos{\\left(2 y \\right)}$"
      ],
      "text/plain": [
       "-3*exp(-3*x)*cos(2*y)"
      ]
     },
     "metadata": {},
     "output_type": "display_data"
    },
    {
     "name": "stdout",
     "output_type": "stream",
     "text": [
      "The derivative of this equation is equal to:\n"
     ]
    },
    {
     "data": {
      "text/latex": [
       "$\\displaystyle 6 e^{- 3 x} \\sin{\\left(2 y \\right)}$"
      ],
      "text/plain": [
       "6*exp(-3*x)*sin(2*y)"
      ]
     },
     "metadata": {},
     "output_type": "display_data"
    }
   ],
   "source": [
    "display_and_diff(derivative_x, symbols=y);"
   ]
  },
  {
   "cell_type": "code",
   "execution_count": 55,
   "id": "52ef71fe",
   "metadata": {},
   "outputs": [
    {
     "name": "stdout",
     "output_type": "stream",
     "text": [
      "The following equation is given:\n"
     ]
    },
    {
     "data": {
      "text/latex": [
       "$\\displaystyle - 2 e^{- 3 x} \\sin{\\left(2 y \\right)}$"
      ],
      "text/plain": [
       "-2*exp(-3*x)*sin(2*y)"
      ]
     },
     "metadata": {},
     "output_type": "display_data"
    },
    {
     "name": "stdout",
     "output_type": "stream",
     "text": [
      "The derivative of this equation is equal to:\n"
     ]
    },
    {
     "data": {
      "text/latex": [
       "$\\displaystyle 6 e^{- 3 x} \\sin{\\left(2 y \\right)}$"
      ],
      "text/plain": [
       "6*exp(-3*x)*sin(2*y)"
      ]
     },
     "metadata": {},
     "output_type": "display_data"
    }
   ],
   "source": [
    "display_and_diff(derivative_y, symbols=x);"
   ]
  },
  {
   "cell_type": "markdown",
   "id": "780f91b0",
   "metadata": {},
   "source": [
    "### Exercise 2.7.4 - f(x,y)"
   ]
  },
  {
   "cell_type": "code",
   "execution_count": 56,
   "id": "98b78d78",
   "metadata": {},
   "outputs": [
    {
     "name": "stdout",
     "output_type": "stream",
     "text": [
      "The following equation is given:\n"
     ]
    },
    {
     "data": {
      "text/latex": [
       "$\\displaystyle x y \\log{\\left(x + y \\right)}^{2}$"
      ],
      "text/plain": [
       "x*y*log(x + y)**2"
      ]
     },
     "metadata": {},
     "output_type": "display_data"
    },
    {
     "name": "stdout",
     "output_type": "stream",
     "text": [
      "The derivative of this equation is equal to:\n"
     ]
    },
    {
     "data": {
      "text/latex": [
       "$\\displaystyle \\frac{2 x y \\log{\\left(x + y \\right)}}{x + y} + y \\log{\\left(x + y \\right)}^{2}$"
      ],
      "text/plain": [
       "2*x*y*log(x + y)/(x + y) + y*log(x + y)**2"
      ]
     },
     "metadata": {},
     "output_type": "display_data"
    },
    {
     "data": {
      "text/latex": [
       "$\\displaystyle 3.879$"
      ],
      "text/plain": [
       "3.879"
      ]
     },
     "execution_count": 56,
     "metadata": {},
     "output_type": "execute_result"
    }
   ],
   "source": [
    "equation = display_and_diff(x*y * ln(x + y)**2, symbols=x)\n",
    "\n",
    "equation.subs(x, 1).subs(y, 2).evalf(4)"
   ]
  },
  {
   "cell_type": "markdown",
   "id": "89095a18",
   "metadata": {},
   "source": [
    "I get a different solution than the book and I honestly don't see why. I cross-validated it with a graphing calculator. I'm gonna go on a limb and say the answers in the book are wrong (it can't possibly be me right?!)."
   ]
  },
  {
   "cell_type": "markdown",
   "id": "fb30fff8",
   "metadata": {},
   "source": [
    "### Exercise 2.7.5 - f(x,y)"
   ]
  },
  {
   "cell_type": "code",
   "execution_count": 57,
   "id": "886c3045",
   "metadata": {},
   "outputs": [
    {
     "name": "stdout",
     "output_type": "stream",
     "text": [
      "The following equation is given:\n"
     ]
    },
    {
     "data": {
      "text/latex": [
       "$\\displaystyle x y^{2} \\sin{\\left(x^{0.5} y \\right)}$"
      ],
      "text/plain": [
       "x*y**2*sin(x**0.5*y)"
      ]
     },
     "metadata": {},
     "output_type": "display_data"
    },
    {
     "name": "stdout",
     "output_type": "stream",
     "text": [
      "The derivative of this equation is equal to:\n"
     ]
    },
    {
     "data": {
      "text/latex": [
       "$\\displaystyle 0.5 x^{0.5} y^{3} \\cos{\\left(x^{0.5} y \\right)} + y^{2} \\sin{\\left(x^{0.5} y \\right)}$"
      ],
      "text/plain": [
       "0.5*x**0.5*y**3*cos(x**0.5*y) + y**2*sin(x**0.5*y)"
      ]
     },
     "metadata": {},
     "output_type": "display_data"
    },
    {
     "data": {
      "text/latex": [
       "$\\displaystyle -8.256$"
      ],
      "text/plain": [
       "-8.256"
      ]
     },
     "execution_count": 57,
     "metadata": {},
     "output_type": "execute_result"
    }
   ],
   "source": [
    "equation = display_and_diff(x*y**2 * sin(y*x**0.5), symbols=x)\n",
    "\n",
    "equation.subs(x, 4).subs(y, 2).evalf(4)"
   ]
  },
  {
   "cell_type": "markdown",
   "id": "2c766b8d",
   "metadata": {},
   "source": [
    "## Exercise 2.8: Least squares"
   ]
  },
  {
   "cell_type": "code",
   "execution_count": 58,
   "id": "63c189bc",
   "metadata": {},
   "outputs": [
    {
     "data": {
      "text/latex": [
       "$\\displaystyle \\sum_{i=1}^{4} x$"
      ],
      "text/plain": [
       "Sum(x, (i, 1, 4))"
      ]
     },
     "metadata": {},
     "output_type": "display_data"
    },
    {
     "data": {
      "text/latex": [
       "$\\displaystyle 4 x$"
      ],
      "text/plain": [
       "4*x"
      ]
     },
     "metadata": {},
     "output_type": "display_data"
    }
   ],
   "source": [
    "i = smp.symbols(\"i\", integer=True)\n",
    "\n",
    "summation = smp.Sum(x, (i, 1, 4))\n",
    "display(summation, summation.doit())"
   ]
  },
  {
   "cell_type": "code",
   "execution_count": 59,
   "id": "c204451b",
   "metadata": {},
   "outputs": [
    {
     "data": {
      "text/latex": [
       "$\\displaystyle 0$"
      ],
      "text/plain": [
       "0"
      ]
     },
     "execution_count": 59,
     "metadata": {},
     "output_type": "execute_result"
    }
   ],
   "source": [
    "equation = smp.Sum(3*x, (i, 1, 4)) - 3*smp.Sum(x, (i, 1, 4))\n",
    "equation.simplify()"
   ]
  },
  {
   "cell_type": "markdown",
   "id": "29501c13",
   "metadata": {},
   "source": [
    "The result is 0, hence they are equal."
   ]
  },
  {
   "cell_type": "code",
   "execution_count": 60,
   "id": "9290ce0b",
   "metadata": {},
   "outputs": [
    {
     "data": {
      "text/latex": [
       "$\\displaystyle 12.0$"
      ],
      "text/plain": [
       "12.0000000000000"
      ]
     },
     "execution_count": 60,
     "metadata": {},
     "output_type": "execute_result"
    }
   ],
   "source": [
    "summation.subs(x, 3).evalf()"
   ]
  },
  {
   "cell_type": "code",
   "execution_count": 61,
   "id": "890cb3db",
   "metadata": {},
   "outputs": [
    {
     "data": {
      "text/latex": [
       "$\\displaystyle a + b t + c t^{2}$"
      ],
      "text/plain": [
       "a + b*t + c*t**2"
      ]
     },
     "metadata": {},
     "output_type": "display_data"
    },
    {
     "data": {
      "text/latex": [
       "$\\displaystyle 1$"
      ],
      "text/plain": [
       "1"
      ]
     },
     "metadata": {},
     "output_type": "display_data"
    },
    {
     "data": {
      "text/latex": [
       "$\\displaystyle t$"
      ],
      "text/plain": [
       "t"
      ]
     },
     "metadata": {},
     "output_type": "display_data"
    },
    {
     "data": {
      "text/latex": [
       "$\\displaystyle t^{2}$"
      ],
      "text/plain": [
       "t**2"
      ]
     },
     "metadata": {},
     "output_type": "display_data"
    }
   ],
   "source": [
    "a, b, c = smp.symbols(\"a b c\")\n",
    "\n",
    "equation = a + b*t + c*t**2\n",
    "display(equation, smp.diff(equation, a), smp.diff(equation, b), smp.diff(equation, c))"
   ]
  },
  {
   "cell_type": "markdown",
   "id": "bfee6c96",
   "metadata": {},
   "source": [
    "## Exercise 2.9: Taylorstuff"
   ]
  },
  {
   "cell_type": "code",
   "execution_count": 62,
   "id": "0491dc2e",
   "metadata": {
    "tags": []
   },
   "outputs": [
    {
     "data": {
      "text/latex": [
       "$\\displaystyle e^{x}$"
      ],
      "text/plain": [
       "exp(x)"
      ]
     },
     "metadata": {},
     "output_type": "display_data"
    },
    {
     "data": {
      "text/latex": [
       "$\\displaystyle \\frac{x^{3}}{6} + \\frac{x^{2}}{2} + x + 1$"
      ],
      "text/plain": [
       "x**3/6 + x**2/2 + x + 1"
      ]
     },
     "metadata": {},
     "output_type": "display_data"
    },
    {
     "data": {
      "text/latex": [
       "$\\displaystyle \\frac{e \\left(x - 1\\right)^{3}}{6} + \\frac{e \\left(x - 1\\right)^{2}}{2} + e \\left(x - 1\\right) + e$"
      ],
      "text/plain": [
       "E*(x - 1)**3/6 + E*(x - 1)**2/2 + E*(x - 1) + E"
      ]
     },
     "metadata": {},
     "output_type": "display_data"
    }
   ],
   "source": [
    "equation = E**x\n",
    "taylor1 = smp.series(equation, x, 0, 4).removeO()\n",
    "taylor2 = smp.series(equation, x, 1, 4).removeO()\n",
    "display(equation, taylor1, taylor2)"
   ]
  },
  {
   "cell_type": "code",
   "execution_count": 63,
   "id": "7e9abe3e",
   "metadata": {},
   "outputs": [
    {
     "data": {
      "text/latex": [
       "$\\displaystyle 0.0112$"
      ],
      "text/plain": [
       "0.01120"
      ]
     },
     "execution_count": 63,
     "metadata": {},
     "output_type": "execute_result"
    }
   ],
   "source": [
    "equation = ln(1 + x)\n",
    "f1 = equation.subs(x, 0.5)\n",
    "f2 = smp.series(equation, x, 0, 4).removeO().subs(x, 0.5)\n",
    "abs(f1 - f2).evalf(4)"
   ]
  },
  {
   "cell_type": "code",
   "execution_count": 64,
   "id": "32310179",
   "metadata": {},
   "outputs": [
    {
     "data": {
      "text/latex": [
       "$\\displaystyle 0.01164$"
      ],
      "text/plain": [
       "0.01164"
      ]
     },
     "execution_count": 64,
     "metadata": {},
     "output_type": "execute_result"
    }
   ],
   "source": [
    "equation = root(x, 2)\n",
    "f1 = equation.subs(x, 0.5)\n",
    "f2 = smp.series(equation, x, 1, 3).removeO().subs(x, 0.5)\n",
    "abs(f1 - f2).evalf(4)"
   ]
  },
  {
   "cell_type": "code",
   "execution_count": 65,
   "id": "53bcba79",
   "metadata": {},
   "outputs": [
    {
     "data": {
      "text/latex": [
       "$\\displaystyle 14 t^{3} + 8 t^{2} + 3$"
      ],
      "text/plain": [
       "14*t**3 + 8*t**2 + 3"
      ]
     },
     "metadata": {},
     "output_type": "display_data"
    },
    {
     "data": {
      "text/latex": [
       "$\\displaystyle 14 t^{3} + 8 t^{2} + 3$"
      ],
      "text/plain": [
       "14*t**3 + 8*t**2 + 3"
      ]
     },
     "metadata": {},
     "output_type": "display_data"
    }
   ],
   "source": [
    "equation = 14*t**3 + 8*t**2 + 3\n",
    "taylor = smp.series(equation, t, 0, 5)\n",
    "display(equation, taylor)"
   ]
  }
 ],
 "metadata": {
  "kernelspec": {
   "display_name": "Python 3",
   "language": "python",
   "name": "python3"
  },
  "language_info": {
   "codemirror_mode": {
    "name": "ipython",
    "version": 3
   },
   "file_extension": ".py",
   "mimetype": "text/x-python",
   "name": "python",
   "nbconvert_exporter": "python",
   "pygments_lexer": "ipython3",
   "version": "3.8.10"
  }
 },
 "nbformat": 4,
 "nbformat_minor": 5
}
